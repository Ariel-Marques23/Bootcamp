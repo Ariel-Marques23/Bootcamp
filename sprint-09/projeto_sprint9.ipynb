{
 "cells": [
  {
   "cell_type": "markdown",
   "metadata": {},
   "source": [
    "<div class=\"alert alert-block alert-success\">\n",
    "<b> Comentário Geral do revisor: </b> <a class=\"tocSkip\"></a>\n",
    "\n",
    "Tudo certo agora. Porém, destaco  a importância de fazer EDA antes de fazer imputação nos dados. Não sei se você conhece a técnica SMOTE; vale a pena ler sobre na internet pois é comum e utilizada para desbalanceamento. Desejo sucesso na jornada. Parabéns pelo empenho.\n",
    "</div>\n"
   ]
  },
  {
   "cell_type": "markdown",
   "metadata": {},
   "source": [
    "## Realizando importações"
   ]
  },
  {
   "cell_type": "code",
   "execution_count": 1,
   "metadata": {},
   "outputs": [],
   "source": [
    "import pandas as pd\n",
    "import numpy as np\n",
    "from sklearn.metrics import f1_score,roc_auc_score\n",
    "from sklearn.model_selection import train_test_split\n",
    "from sklearn.preprocessing import StandardScaler\n",
    "from sklearn.utils import shuffle\n",
    "from sklearn.linear_model import LogisticRegression\n",
    "from sklearn.tree import DecisionTreeClassifier\n",
    "from sklearn.ensemble import RandomForestClassifier\n"
   ]
  },
  {
   "cell_type": "markdown",
   "metadata": {},
   "source": [
    "## Verificando os dados"
   ]
  },
  {
   "cell_type": "code",
   "execution_count": 2,
   "metadata": {
    "scrolled": false
   },
   "outputs": [
    {
     "name": "stdout",
     "output_type": "stream",
     "text": [
      "<class 'pandas.core.frame.DataFrame'>\n",
      "RangeIndex: 10000 entries, 0 to 9999\n",
      "Data columns (total 14 columns):\n",
      " #   Column           Non-Null Count  Dtype  \n",
      "---  ------           --------------  -----  \n",
      " 0   RowNumber        10000 non-null  int64  \n",
      " 1   CustomerId       10000 non-null  int64  \n",
      " 2   Surname          10000 non-null  object \n",
      " 3   CreditScore      10000 non-null  int64  \n",
      " 4   Geography        10000 non-null  object \n",
      " 5   Gender           10000 non-null  object \n",
      " 6   Age              10000 non-null  int64  \n",
      " 7   Tenure           9091 non-null   float64\n",
      " 8   Balance          10000 non-null  float64\n",
      " 9   NumOfProducts    10000 non-null  int64  \n",
      " 10  HasCrCard        10000 non-null  int64  \n",
      " 11  IsActiveMember   10000 non-null  int64  \n",
      " 12  EstimatedSalary  10000 non-null  float64\n",
      " 13  Exited           10000 non-null  int64  \n",
      "dtypes: float64(3), int64(8), object(3)\n",
      "memory usage: 1.1+ MB\n"
     ]
    }
   ],
   "source": [
    "data =pd.read_csv(\"datasets/Churn.csv\")\n",
    "data.info()"
   ]
  },
  {
   "cell_type": "code",
   "execution_count": 3,
   "metadata": {},
   "outputs": [
    {
     "name": "stdout",
     "output_type": "stream",
     "text": [
      "0\n"
     ]
    }
   ],
   "source": [
    "print(data.duplicated().sum())"
   ]
  },
  {
   "cell_type": "code",
   "execution_count": 4,
   "metadata": {
    "scrolled": true
   },
   "outputs": [
    {
     "name": "stdout",
     "output_type": "stream",
     "text": [
      "   RowNumber  CustomerId   Surname  CreditScore Geography  Gender  Age  \\\n",
      "0          1    15634602  Hargrave          619    France  Female   42   \n",
      "1          2    15647311      Hill          608     Spain  Female   41   \n",
      "2          3    15619304      Onio          502    France  Female   42   \n",
      "3          4    15701354      Boni          699    France  Female   39   \n",
      "4          5    15737888  Mitchell          850     Spain  Female   43   \n",
      "\n",
      "   Tenure    Balance  NumOfProducts  HasCrCard  IsActiveMember  \\\n",
      "0     2.0       0.00              1          1               1   \n",
      "1     1.0   83807.86              1          0               1   \n",
      "2     8.0  159660.80              3          1               0   \n",
      "3     1.0       0.00              2          0               0   \n",
      "4     2.0  125510.82              1          1               1   \n",
      "\n",
      "   EstimatedSalary  Exited  \n",
      "0        101348.88       1  \n",
      "1        112542.58       0  \n",
      "2        113931.57       1  \n",
      "3         93826.63       0  \n",
      "4         79084.10       0  \n"
     ]
    }
   ],
   "source": [
    "print(data.head())"
   ]
  },
  {
   "cell_type": "markdown",
   "metadata": {},
   "source": [
    "## tratando dados"
   ]
  },
  {
   "cell_type": "markdown",
   "metadata": {},
   "source": [
    "### Adequando dados e separando caracteristicas e alvos"
   ]
  },
  {
   "cell_type": "code",
   "execution_count": 5,
   "metadata": {},
   "outputs": [],
   "source": [
    "data['Tenure'] = data['Tenure'].fillna(0)"
   ]
  },
  {
   "cell_type": "markdown",
   "metadata": {},
   "source": [
    "para manter a maior quantidade possivel de dados os valores que estavam ausentes foram subistituidos 0, supondo que os valores auzentes não tenham debito fixo"
   ]
  },
  {
   "cell_type": "code",
   "execution_count": 6,
   "metadata": {},
   "outputs": [],
   "source": [
    "data = pd.get_dummies(data.drop(['Surname'],axis=1),drop_first=True)"
   ]
  },
  {
   "cell_type": "code",
   "execution_count": 7,
   "metadata": {},
   "outputs": [],
   "source": [
    "target=data['Exited']\n",
    "features= data.drop(['RowNumber','Exited'],axis=1)"
   ]
  },
  {
   "cell_type": "markdown",
   "metadata": {},
   "source": [
    "### Verificando desequilibrio"
   ]
  },
  {
   "cell_type": "code",
   "execution_count": 8,
   "metadata": {},
   "outputs": [
    {
     "name": "stdout",
     "output_type": "stream",
     "text": [
      "Exited\n",
      "0    0.7963\n",
      "1    0.2037\n",
      "Name: proportion, dtype: float64\n"
     ]
    }
   ],
   "source": [
    "print(target.value_counts(normalize=True))"
   ]
  },
  {
   "cell_type": "markdown",
   "metadata": {},
   "source": [
    "### Separando grupos de treino, teste e validação"
   ]
  },
  {
   "cell_type": "code",
   "execution_count": 9,
   "metadata": {},
   "outputs": [],
   "source": [
    "features_train, features_valid,target_train,target_valid = train_test_split(features,target,test_size=0.4,random_state=12345)\n",
    "features_valid, features_test,target_valid,target_test = train_test_split(features,target,test_size=0.50,random_state=12345)"
   ]
  },
  {
   "cell_type": "markdown",
   "metadata": {},
   "source": [
    "### Testando diferentes modelos"
   ]
  },
  {
   "cell_type": "code",
   "execution_count": 10,
   "metadata": {
    "scrolled": true
   },
   "outputs": [
    {
     "name": "stdout",
     "output_type": "stream",
     "text": [
      "0.4869689396644056\n"
     ]
    }
   ],
   "source": [
    "model = LogisticRegression(random_state=12345,solver='liblinear',class_weight='balanced')\n",
    "model.fit(features_train,target_train)\n",
    "predicted_test = model.predict(features_test)\n",
    "print(f1_score(target_test,predicted_test))"
   ]
  },
  {
   "cell_type": "code",
   "execution_count": 11,
   "metadata": {
    "scrolled": true
   },
   "outputs": [
    {
     "name": "stdout",
     "output_type": "stream",
     "text": [
      "0.5585480093676815\n"
     ]
    }
   ],
   "source": [
    "model = DecisionTreeClassifier(random_state=12345,max_depth=10)\n",
    "model.fit(features_train,target_train)\n",
    "predicted_test = model.predict(features_test)\n",
    "print(f1_score(target_test,predicted_test))"
   ]
  },
  {
   "cell_type": "code",
   "execution_count": 12,
   "metadata": {},
   "outputs": [
    {
     "name": "stdout",
     "output_type": "stream",
     "text": [
      "0.4414090582314881\n"
     ]
    }
   ],
   "source": [
    "model = RandomForestClassifier(random_state=12345,max_depth=5,n_estimators=100)\n",
    "model.fit(features_train,target_train)\n",
    "predicted_test = model.predict(features_test)\n",
    "print(f1_score(target_test,predicted_test))"
   ]
  },
  {
   "cell_type": "markdown",
   "metadata": {},
   "source": [
    "Dos modelos de testados podemos notar que o modelo com maior eficacia foi o modelo de arvore, apresentando o maior f1_score, indicando um maior equilibrio entre precisão e recall"
   ]
  },
  {
   "cell_type": "markdown",
   "metadata": {},
   "source": [
    "## Corrigindo desequilibrio"
   ]
  },
  {
   "cell_type": "code",
   "execution_count": 13,
   "metadata": {},
   "outputs": [
    {
     "name": "stdout",
     "output_type": "stream",
     "text": [
      "0.4364763169544046\n",
      "\n",
      "Exited\n",
      "1    1196\n",
      "0     480\n",
      "Name: count, dtype: int64\n"
     ]
    }
   ],
   "source": [
    "def downsample(features, target, fraction):\n",
    "    features_zeros = features[target == 0]\n",
    "    features_ones = features[target == 1]\n",
    "    target_zeros = target[target == 0]\n",
    "    target_ones = target[target == 1]\n",
    "\n",
    "    features_downsampled = pd.concat(\n",
    "        [features_zeros.sample(frac=fraction, random_state=12345)]\n",
    "        + [features_ones]\n",
    "    )\n",
    "    target_downsampled = pd.concat(\n",
    "        [target_zeros.sample(frac=fraction, random_state=12345)]\n",
    "        + [target_ones]\n",
    "    )\n",
    "\n",
    "    features_downsampled, target_downsampled = shuffle(\n",
    "        features_downsampled, target_downsampled, random_state=12345\n",
    "    )\n",
    "\n",
    "    return features_downsampled, target_downsampled\n",
    "\n",
    "\n",
    "features_downsampled, target_downsampled = downsample(\n",
    "    features_train, target_train, 0.1\n",
    ")\n",
    "\n",
    "model.fit(features_downsampled, target_downsampled)\n",
    "predicted_valid = model.predict(features_valid)\n",
    "print(f1_score(target_valid,predicted_valid))\n",
    "print()\n",
    "print(target_downsampled.value_counts())"
   ]
  },
  {
   "cell_type": "code",
   "execution_count": 14,
   "metadata": {},
   "outputs": [
    {
     "name": "stdout",
     "output_type": "stream",
     "text": [
      "0.624720536569786\n",
      "\n",
      "Exited\n",
      "1    11960\n",
      "0     4804\n",
      "Name: count, dtype: int64\n"
     ]
    }
   ],
   "source": [
    "def upsample(features,target,repeat):\n",
    "    features_zeros = features[target==0]\n",
    "    features_ones = features[target==1]\n",
    "    target_zeros = target[target==0]\n",
    "    target_ones = target[target==1]\n",
    "    \n",
    "    features_upsampled = pd.concat([features_zeros]+[features_ones]*repeat)\n",
    "    target_upsampled = pd.concat([target_zeros]+[target_ones]*repeat)\n",
    "    \n",
    "    features_upsampled,target_upsampled = shuffle(features_upsampled,target_upsampled, random_state=12345)\n",
    "    \n",
    "    return features_upsampled,target_upsampled\n",
    "\n",
    "\n",
    "features_upsampled, target_upsampled = upsample(features_train, target_train, 10)\n",
    "\n",
    "model = DecisionTreeClassifier(random_state=12345,max_depth=10)\n",
    "model.fit(features_upsampled, target_upsampled)\n",
    "predicted_valid = model.predict(features_valid)\n",
    "print(f1_score(target_valid,predicted_valid))\n",
    "print()\n",
    "print(target_upsampled.value_counts())"
   ]
  },
  {
   "cell_type": "markdown",
   "metadata": {},
   "source": [
    "Foi feito o uso de superamostragem e subamostragem, onde a superamostragem se mostrou mais eficiente, apresentando um f1_score de 0.62"
   ]
  },
  {
   "cell_type": "code",
   "execution_count": 15,
   "metadata": {},
   "outputs": [
    {
     "name": "stdout",
     "output_type": "stream",
     "text": [
      "0.9417372986038643\n"
     ]
    }
   ],
   "source": [
    "probabilit_valid = model.predict_proba(features_valid)\n",
    "probabilities_valid_one = probabilit_valid[:,1]\n",
    "print(roc_auc_score(target_valid,probabilities_valid_one))"
   ]
  },
  {
   "cell_type": "markdown",
   "metadata": {},
   "source": [
    "Podemos notar que o valor roc-auc esta proximo de 1 (0.94), o que indica uma boa performasse ao distinguir classes. Ou seja raramente vai avaliar uma classe negativa como positiva e o mesmo vale para o contrario"
   ]
  },
  {
   "cell_type": "markdown",
   "metadata": {},
   "source": [
    "## Conclusão"
   ]
  },
  {
   "cell_type": "markdown",
   "metadata": {},
   "source": [
    "Validando os modelos e aplicando algumas tecnicas para corrigir o desbalanceamento, notamos que o melhor desempenho veio com a arvore de decisão utilizando uma superamostragem. resultando em um f1 de 0.62, acima do minimo esperado, e um auc-roc de 0.94 um valor proximo de um indicando um bom desempenho"
   ]
  }
 ],
 "metadata": {
  "ExecuteTimeLog": [
   {
    "duration": 302,
    "start_time": "2024-10-16T21:43:06.489Z"
   },
   {
    "duration": 2,
    "start_time": "2024-10-16T21:43:09.210Z"
   },
   {
    "duration": 2,
    "start_time": "2024-10-16T21:43:12.113Z"
   },
   {
    "duration": 38,
    "start_time": "2024-10-16T21:43:40.140Z"
   },
   {
    "duration": 810,
    "start_time": "2024-10-16T21:46:17.992Z"
   },
   {
    "duration": 14,
    "start_time": "2024-10-16T21:46:28.299Z"
   },
   {
    "duration": 34,
    "start_time": "2024-10-16T21:46:48.892Z"
   },
   {
    "duration": 35,
    "start_time": "2024-10-16T21:47:37.028Z"
   },
   {
    "duration": 36,
    "start_time": "2024-10-16T21:47:46.270Z"
   },
   {
    "duration": 4,
    "start_time": "2024-10-16T21:48:30.678Z"
   },
   {
    "duration": 11,
    "start_time": "2024-10-16T21:48:41.671Z"
   },
   {
    "duration": 20,
    "start_time": "2024-10-16T21:48:56.335Z"
   },
   {
    "duration": 524,
    "start_time": "2024-10-16T21:53:15.029Z"
   },
   {
    "duration": 82,
    "start_time": "2024-10-16T21:54:46.224Z"
   },
   {
    "duration": 9,
    "start_time": "2024-10-16T21:54:53.963Z"
   },
   {
    "duration": 3,
    "start_time": "2024-10-16T21:55:19.198Z"
   },
   {
    "duration": 16,
    "start_time": "2024-10-16T21:55:40.766Z"
   },
   {
    "duration": 8,
    "start_time": "2024-10-16T21:55:46.958Z"
   },
   {
    "duration": 31,
    "start_time": "2024-10-16T21:55:50.154Z"
   },
   {
    "duration": 9,
    "start_time": "2024-10-16T21:56:22.964Z"
   },
   {
    "duration": 29,
    "start_time": "2024-10-16T21:56:26.054Z"
   },
   {
    "duration": 4,
    "start_time": "2024-10-16T21:56:43.014Z"
   },
   {
    "duration": 39,
    "start_time": "2024-10-16T21:56:47.480Z"
   },
   {
    "duration": 30,
    "start_time": "2024-10-16T21:57:01.224Z"
   },
   {
    "duration": 30,
    "start_time": "2024-10-16T21:57:28.424Z"
   },
   {
    "duration": 18,
    "start_time": "2024-10-16T21:58:15.432Z"
   },
   {
    "duration": 11,
    "start_time": "2024-10-16T21:58:25.479Z"
   },
   {
    "duration": 23,
    "start_time": "2024-10-16T22:02:46.067Z"
   },
   {
    "duration": 30,
    "start_time": "2024-10-16T22:03:33.617Z"
   },
   {
    "duration": 16,
    "start_time": "2024-10-16T22:03:43.396Z"
   },
   {
    "duration": 70,
    "start_time": "2024-10-16T22:03:55.713Z"
   },
   {
    "duration": 253,
    "start_time": "2024-10-16T22:03:59.181Z"
   },
   {
    "duration": 13,
    "start_time": "2024-10-16T22:04:00.737Z"
   },
   {
    "duration": 3,
    "start_time": "2024-10-16T22:06:50.123Z"
   },
   {
    "duration": 337,
    "start_time": "2024-10-16T22:07:14.642Z"
   },
   {
    "duration": 4,
    "start_time": "2024-10-16T22:13:04.260Z"
   },
   {
    "duration": 37,
    "start_time": "2024-10-16T22:14:26.084Z"
   },
   {
    "duration": 37,
    "start_time": "2024-10-16T22:14:46.745Z"
   },
   {
    "duration": 7,
    "start_time": "2024-10-16T22:16:41.398Z"
   },
   {
    "duration": 4,
    "start_time": "2024-10-16T22:17:07.415Z"
   },
   {
    "duration": 4,
    "start_time": "2024-10-16T22:17:12.907Z"
   },
   {
    "duration": 37,
    "start_time": "2024-10-16T22:17:28.600Z"
   },
   {
    "duration": 94,
    "start_time": "2024-10-16T22:18:02.087Z"
   },
   {
    "duration": 45,
    "start_time": "2024-10-16T22:18:24.048Z"
   },
   {
    "duration": 29,
    "start_time": "2024-10-16T22:18:37.518Z"
   },
   {
    "duration": 159,
    "start_time": "2024-10-16T22:18:39.666Z"
   },
   {
    "duration": 28,
    "start_time": "2024-10-16T22:18:52.770Z"
   },
   {
    "duration": 144,
    "start_time": "2024-10-16T22:19:00.036Z"
   },
   {
    "duration": 28,
    "start_time": "2024-10-16T22:19:36.465Z"
   },
   {
    "duration": 9,
    "start_time": "2024-10-16T22:20:11.428Z"
   },
   {
    "duration": 8,
    "start_time": "2024-10-16T22:20:15.260Z"
   },
   {
    "duration": 8,
    "start_time": "2024-10-16T22:20:22.552Z"
   },
   {
    "duration": 9,
    "start_time": "2024-10-16T22:20:41.523Z"
   },
   {
    "duration": 7,
    "start_time": "2024-10-16T22:28:17.356Z"
   },
   {
    "duration": 6,
    "start_time": "2024-10-16T22:28:20.626Z"
   },
   {
    "duration": 16,
    "start_time": "2024-10-16T22:29:21.314Z"
   },
   {
    "duration": 3,
    "start_time": "2024-10-16T22:29:33.818Z"
   },
   {
    "duration": 15,
    "start_time": "2024-10-16T22:29:38.460Z"
   },
   {
    "duration": 10,
    "start_time": "2024-10-16T22:29:47.118Z"
   },
   {
    "duration": 26,
    "start_time": "2024-10-16T22:31:44.220Z"
   },
   {
    "duration": 3,
    "start_time": "2024-10-16T22:36:26.148Z"
   },
   {
    "duration": 66,
    "start_time": "2024-10-16T22:37:03.260Z"
   },
   {
    "duration": 12,
    "start_time": "2024-10-16T22:37:48.808Z"
   },
   {
    "duration": 14,
    "start_time": "2024-10-16T22:37:52.791Z"
   },
   {
    "duration": 14,
    "start_time": "2024-10-16T22:38:23.819Z"
   },
   {
    "duration": 14,
    "start_time": "2024-10-16T22:38:30.119Z"
   },
   {
    "duration": 3,
    "start_time": "2024-10-16T22:38:50.472Z"
   },
   {
    "duration": 20,
    "start_time": "2024-10-16T22:38:55.070Z"
   },
   {
    "duration": 19,
    "start_time": "2024-10-16T22:38:59.894Z"
   },
   {
    "duration": 118,
    "start_time": "2024-10-16T22:39:16.735Z"
   },
   {
    "duration": 4,
    "start_time": "2024-10-16T22:50:08.754Z"
   },
   {
    "duration": 72,
    "start_time": "2024-10-16T22:51:02.764Z"
   },
   {
    "duration": 9,
    "start_time": "2024-10-16T22:51:28.452Z"
   },
   {
    "duration": 37,
    "start_time": "2024-10-16T22:53:44.565Z"
   },
   {
    "duration": 4,
    "start_time": "2024-10-16T22:53:57.693Z"
   },
   {
    "duration": 37,
    "start_time": "2024-10-16T22:54:03.698Z"
   },
   {
    "duration": 4,
    "start_time": "2024-10-16T22:54:44.526Z"
   },
   {
    "duration": 27,
    "start_time": "2024-10-16T22:54:46.121Z"
   },
   {
    "duration": 4,
    "start_time": "2024-10-16T22:54:50.337Z"
   },
   {
    "duration": 9,
    "start_time": "2024-10-16T22:54:51.219Z"
   },
   {
    "duration": 8,
    "start_time": "2024-10-16T22:54:56.163Z"
   },
   {
    "duration": 10,
    "start_time": "2024-10-16T22:54:58.273Z"
   },
   {
    "duration": 45,
    "start_time": "2024-10-16T22:55:46.942Z"
   },
   {
    "duration": 7,
    "start_time": "2024-10-16T22:56:02.595Z"
   },
   {
    "duration": 25,
    "start_time": "2024-10-16T23:06:25.794Z"
   },
   {
    "duration": 4,
    "start_time": "2024-10-16T23:22:35.468Z"
   },
   {
    "duration": 3,
    "start_time": "2024-10-16T23:52:00.869Z"
   },
   {
    "duration": 53,
    "start_time": "2024-10-16T23:52:36.812Z"
   },
   {
    "duration": 45,
    "start_time": "2024-10-16T23:52:41.282Z"
   },
   {
    "duration": 14,
    "start_time": "2024-10-16T23:53:10.071Z"
   },
   {
    "duration": 13,
    "start_time": "2024-10-16T23:53:41.320Z"
   },
   {
    "duration": 13,
    "start_time": "2024-10-16T23:53:51.650Z"
   },
   {
    "duration": 51,
    "start_time": "2024-10-16T23:53:53.847Z"
   },
   {
    "duration": 5,
    "start_time": "2024-10-16T23:53:54.610Z"
   },
   {
    "duration": 23,
    "start_time": "2024-10-17T00:06:10.536Z"
   },
   {
    "duration": 5,
    "start_time": "2024-10-17T00:06:12.198Z"
   },
   {
    "duration": 825,
    "start_time": "2024-10-17T09:23:24.151Z"
   },
   {
    "duration": 46,
    "start_time": "2024-10-17T09:23:24.978Z"
   },
   {
    "duration": 5,
    "start_time": "2024-10-17T09:23:25.273Z"
   },
   {
    "duration": 11,
    "start_time": "2024-10-17T09:23:25.636Z"
   },
   {
    "duration": 7,
    "start_time": "2024-10-17T09:23:25.841Z"
   },
   {
    "duration": 6,
    "start_time": "2024-10-17T09:23:26.243Z"
   },
   {
    "duration": 10,
    "start_time": "2024-10-17T09:23:26.439Z"
   },
   {
    "duration": 26,
    "start_time": "2024-10-17T09:23:26.636Z"
   },
   {
    "duration": 4,
    "start_time": "2024-10-17T09:23:26.892Z"
   },
   {
    "duration": 241,
    "start_time": "2024-10-17T09:29:14.703Z"
   },
   {
    "duration": 32,
    "start_time": "2024-10-17T09:29:39.880Z"
   },
   {
    "duration": 2,
    "start_time": "2024-10-17T09:30:23.955Z"
   },
   {
    "duration": 120,
    "start_time": "2024-10-17T09:30:27.406Z"
   },
   {
    "duration": 67,
    "start_time": "2024-10-17T09:31:23.698Z"
   },
   {
    "duration": 70,
    "start_time": "2024-10-17T09:31:38.192Z"
   },
   {
    "duration": 61,
    "start_time": "2024-10-17T09:32:32.880Z"
   },
   {
    "duration": 52,
    "start_time": "2024-10-17T09:33:39.455Z"
   },
   {
    "duration": 41,
    "start_time": "2024-10-17T09:33:49.439Z"
   },
   {
    "duration": 52,
    "start_time": "2024-10-17T09:33:55.486Z"
   },
   {
    "duration": 14,
    "start_time": "2024-10-17T09:37:24.017Z"
   },
   {
    "duration": 2,
    "start_time": "2024-10-17T09:37:28.943Z"
   },
   {
    "duration": 14,
    "start_time": "2024-10-17T09:37:31.835Z"
   },
   {
    "duration": 5,
    "start_time": "2024-10-17T09:37:34.087Z"
   },
   {
    "duration": 14,
    "start_time": "2024-10-17T09:37:38.109Z"
   },
   {
    "duration": 6,
    "start_time": "2024-10-17T09:37:39.017Z"
   },
   {
    "duration": 41,
    "start_time": "2024-10-17T09:37:39.319Z"
   },
   {
    "duration": 3,
    "start_time": "2024-10-17T09:37:44.403Z"
   },
   {
    "duration": 24,
    "start_time": "2024-10-17T09:37:44.776Z"
   },
   {
    "duration": 4,
    "start_time": "2024-10-17T09:37:45.086Z"
   },
   {
    "duration": 10,
    "start_time": "2024-10-17T09:37:45.422Z"
   },
   {
    "duration": 5,
    "start_time": "2024-10-17T09:37:45.582Z"
   },
   {
    "duration": 4,
    "start_time": "2024-10-17T09:37:45.911Z"
   },
   {
    "duration": 6,
    "start_time": "2024-10-17T09:37:46.063Z"
   },
   {
    "duration": 16,
    "start_time": "2024-10-17T09:37:46.223Z"
   },
   {
    "duration": 5,
    "start_time": "2024-10-17T09:37:46.367Z"
   },
   {
    "duration": 42,
    "start_time": "2024-10-17T09:37:46.543Z"
   },
   {
    "duration": 8,
    "start_time": "2024-10-17T09:40:51.391Z"
   },
   {
    "duration": 79,
    "start_time": "2024-10-17T09:40:52.567Z"
   },
   {
    "duration": 3,
    "start_time": "2024-10-17T09:41:09.447Z"
   },
   {
    "duration": 15,
    "start_time": "2024-10-17T09:41:13.260Z"
   },
   {
    "duration": 24,
    "start_time": "2024-10-17T09:42:00.028Z"
   },
   {
    "duration": 46,
    "start_time": "2024-10-17T09:43:40.629Z"
   },
   {
    "duration": 6,
    "start_time": "2024-10-17T09:43:42.521Z"
   },
   {
    "duration": 121,
    "start_time": "2024-10-17T09:43:45.345Z"
   },
   {
    "duration": 94,
    "start_time": "2024-10-17T09:45:10.050Z"
   },
   {
    "duration": 785,
    "start_time": "2024-10-17T10:22:02.728Z"
   },
   {
    "duration": 32,
    "start_time": "2024-10-17T10:22:04.008Z"
   },
   {
    "duration": 4,
    "start_time": "2024-10-17T10:22:04.527Z"
   },
   {
    "duration": 11,
    "start_time": "2024-10-17T10:22:04.961Z"
   },
   {
    "duration": 5,
    "start_time": "2024-10-17T10:22:05.165Z"
   },
   {
    "duration": 4,
    "start_time": "2024-10-17T10:22:05.539Z"
   },
   {
    "duration": 6,
    "start_time": "2024-10-17T10:22:05.715Z"
   },
   {
    "duration": 351,
    "start_time": "2024-10-17T10:22:05.915Z"
   },
   {
    "duration": 0,
    "start_time": "2024-10-17T10:22:06.268Z"
   },
   {
    "duration": 116,
    "start_time": "2024-10-17T10:22:06.306Z"
   },
   {
    "duration": 8,
    "start_time": "2024-10-17T10:23:01.628Z"
   },
   {
    "duration": 40,
    "start_time": "2024-10-17T10:23:03.001Z"
   },
   {
    "duration": 19,
    "start_time": "2024-10-17T10:23:04.695Z"
   },
   {
    "duration": 5,
    "start_time": "2024-10-17T10:23:36.113Z"
   },
   {
    "duration": 52,
    "start_time": "2024-10-17T10:23:48.866Z"
   },
   {
    "duration": 40,
    "start_time": "2024-10-17T10:24:16.499Z"
   },
   {
    "duration": 11,
    "start_time": "2024-10-17T10:25:29.377Z"
   },
   {
    "duration": 197,
    "start_time": "2024-10-17T10:26:35.618Z"
   },
   {
    "duration": 365,
    "start_time": "2024-10-17T10:26:45.164Z"
   },
   {
    "duration": 64,
    "start_time": "2024-10-17T10:29:25.063Z"
   },
   {
    "duration": 6,
    "start_time": "2024-10-17T10:31:33.266Z"
   },
   {
    "duration": 23,
    "start_time": "2024-10-17T10:33:44.930Z"
   },
   {
    "duration": 80,
    "start_time": "2024-10-17T10:34:29.201Z"
   },
   {
    "duration": 64,
    "start_time": "2024-10-17T10:34:50.428Z"
   },
   {
    "duration": 73,
    "start_time": "2024-10-17T10:35:08.140Z"
   },
   {
    "duration": 34,
    "start_time": "2024-10-17T10:35:36.451Z"
   },
   {
    "duration": 25,
    "start_time": "2024-10-17T10:35:44.972Z"
   },
   {
    "duration": 7,
    "start_time": "2024-10-17T10:51:00.152Z"
   },
   {
    "duration": 21,
    "start_time": "2024-10-17T10:51:35.233Z"
   },
   {
    "duration": 8,
    "start_time": "2024-10-17T10:51:38.832Z"
   },
   {
    "duration": 6,
    "start_time": "2024-10-17T10:51:44.216Z"
   },
   {
    "duration": 4,
    "start_time": "2024-10-17T11:00:07.164Z"
   },
   {
    "duration": 22,
    "start_time": "2024-10-17T11:05:58.428Z"
   },
   {
    "duration": 61,
    "start_time": "2024-10-17T11:05:59.481Z"
   },
   {
    "duration": 5,
    "start_time": "2024-10-17T11:06:55.192Z"
   },
   {
    "duration": 4,
    "start_time": "2024-10-17T11:07:41.214Z"
   },
   {
    "duration": 5,
    "start_time": "2024-10-17T11:08:16.157Z"
   },
   {
    "duration": 6,
    "start_time": "2024-10-17T11:08:52.472Z"
   },
   {
    "duration": 751,
    "start_time": "2024-10-17T17:39:17.079Z"
   },
   {
    "duration": 32,
    "start_time": "2024-10-17T17:39:17.866Z"
   },
   {
    "duration": 9,
    "start_time": "2024-10-17T17:39:18.234Z"
   },
   {
    "duration": 8,
    "start_time": "2024-10-17T17:39:18.577Z"
   },
   {
    "duration": 4,
    "start_time": "2024-10-17T17:39:19.638Z"
   },
   {
    "duration": 10,
    "start_time": "2024-10-17T17:39:20.237Z"
   },
   {
    "duration": 4,
    "start_time": "2024-10-17T17:39:20.516Z"
   },
   {
    "duration": 5,
    "start_time": "2024-10-17T17:39:21.126Z"
   },
   {
    "duration": 8,
    "start_time": "2024-10-17T17:39:22.277Z"
   },
   {
    "duration": 38,
    "start_time": "2024-10-17T17:39:22.865Z"
   },
   {
    "duration": 35,
    "start_time": "2024-10-17T17:39:23.185Z"
   },
   {
    "duration": 358,
    "start_time": "2024-10-17T17:39:23.519Z"
   },
   {
    "duration": 187,
    "start_time": "2024-10-17T17:39:24.437Z"
   },
   {
    "duration": 61,
    "start_time": "2024-10-17T17:39:24.740Z"
   },
   {
    "duration": 6,
    "start_time": "2024-10-17T17:39:25.387Z"
   },
   {
    "duration": 759,
    "start_time": "2024-10-18T00:30:06.105Z"
   },
   {
    "duration": 33,
    "start_time": "2024-10-18T00:30:06.938Z"
   },
   {
    "duration": 8,
    "start_time": "2024-10-18T00:30:07.290Z"
   },
   {
    "duration": 7,
    "start_time": "2024-10-18T00:30:07.586Z"
   },
   {
    "duration": 5,
    "start_time": "2024-10-18T00:30:08.433Z"
   },
   {
    "duration": 12,
    "start_time": "2024-10-18T00:30:09.264Z"
   },
   {
    "duration": 5,
    "start_time": "2024-10-18T00:30:09.503Z"
   },
   {
    "duration": 5,
    "start_time": "2024-10-18T00:30:10.005Z"
   },
   {
    "duration": 8,
    "start_time": "2024-10-18T00:30:10.773Z"
   },
   {
    "duration": 34,
    "start_time": "2024-10-18T00:30:11.262Z"
   },
   {
    "duration": 34,
    "start_time": "2024-10-18T00:30:11.505Z"
   },
   {
    "duration": 357,
    "start_time": "2024-10-18T00:30:11.759Z"
   },
   {
    "duration": 185,
    "start_time": "2024-10-18T00:30:12.526Z"
   },
   {
    "duration": 62,
    "start_time": "2024-10-18T00:30:12.802Z"
   },
   {
    "duration": 7,
    "start_time": "2024-10-18T00:30:13.323Z"
   },
   {
    "duration": 819,
    "start_time": "2024-10-18T21:49:48.833Z"
   },
   {
    "duration": 30,
    "start_time": "2024-10-18T21:49:49.810Z"
   },
   {
    "duration": 8,
    "start_time": "2024-10-18T21:49:50.744Z"
   },
   {
    "duration": 8,
    "start_time": "2024-10-18T21:49:51.376Z"
   },
   {
    "duration": 4,
    "start_time": "2024-10-18T21:49:55.233Z"
   },
   {
    "duration": 9,
    "start_time": "2024-10-18T21:49:56.185Z"
   },
   {
    "duration": 6,
    "start_time": "2024-10-18T21:49:56.498Z"
   },
   {
    "duration": 5,
    "start_time": "2024-10-18T21:49:56.935Z"
   },
   {
    "duration": 7,
    "start_time": "2024-10-18T21:49:57.385Z"
   },
   {
    "duration": 48,
    "start_time": "2024-10-18T21:49:57.690Z"
   },
   {
    "duration": 34,
    "start_time": "2024-10-18T21:49:57.849Z"
   },
   {
    "duration": 362,
    "start_time": "2024-10-18T21:49:58.014Z"
   },
   {
    "duration": 191,
    "start_time": "2024-10-18T21:49:58.481Z"
   },
   {
    "duration": 65,
    "start_time": "2024-10-18T21:49:58.674Z"
   },
   {
    "duration": 7,
    "start_time": "2024-10-18T21:49:58.979Z"
   }
  ],
  "kernelspec": {
   "display_name": "base",
   "language": "python",
   "name": "python3"
  },
  "language_info": {
   "codemirror_mode": {
    "name": "ipython",
    "version": 3
   },
   "file_extension": ".py",
   "mimetype": "text/x-python",
   "name": "python",
   "nbconvert_exporter": "python",
   "pygments_lexer": "ipython3",
   "version": "3.12.4"
  },
  "toc": {
   "base_numbering": 1,
   "nav_menu": {},
   "number_sections": true,
   "sideBar": true,
   "skip_h1_title": true,
   "title_cell": "Table of Contents",
   "title_sidebar": "Contents",
   "toc_cell": false,
   "toc_position": {},
   "toc_section_display": true,
   "toc_window_display": false
  }
 },
 "nbformat": 4,
 "nbformat_minor": 2
}
