{
 "cells": [
  {
   "cell_type": "markdown",
   "id": "3Xg_RQfnafXz",
   "metadata": {
    "id": "3Xg_RQfnafXz"
   },
   "source": [
    "\n",
    "\n",
    "\n",
    "# Vamos encher o carrinho!"
   ]
  },
  {
   "cell_type": "markdown",
   "id": "mhIvmmkW414q",
   "metadata": {
    "id": "mhIvmmkW414q"
   },
   "source": [
    "# Introdução\n",
    "\n",
    "O Instacart é uma plataforma de entrega de supermercado onde os clientes podem fazer um pedido no supermercado e depois receber sua compra, semelhante ao funcionamento do Uber Eats e do iFood. O conjunto de dados que fornecemos foi modificado a partir do original. Reduzimos o tamanho dele para que seus cálculos sejam executados mais rapidamente e incluímos valores ausentes e duplicados. Também tivemos o cuidado de preservar as distribuições dos dados originais quando fizemos as alterações.\n",
    "\n",
    "Você precisa completar três etapas. Para cada uma delas, escreva uma breve introdução descrevendo como você pretende concluir a etapa e justifique suas decisões em parágrafos explicativos a medida que você avança na solução. Escreva também uma conclusão para resumir suas conclusões e escolhas.\n",
    "\n"
   ]
  },
  {
   "cell_type": "markdown",
   "id": "3MbyzpOQZ5Or",
   "metadata": {
    "id": "3MbyzpOQZ5Or"
   },
   "source": [
    "## Dicionário de dados\n",
    "\n",
    "Há cinco tabelas no conjunto de dados, e você vai precisar usar todas elas para pré-processar seus dados e fazer AED. Abaixo está um dicionário que lista as colunas de cada tabela e descreve os dados contidos nelas.\n",
    "\n",
    "- `instacart_orders.csv`: cada linha corresponde a um pedido no aplicativo da Instacart\n",
    "    - `'order_id'`: é o número que identifica cada pedido de forma exclusiva\n",
    "    - `'user_id'`: é o número de identificação exclusivo da conta de cada cliente\n",
    "    - `'order_number'`: é o número de vezes que o cliente fez um pedido\n",
    "    - `'order_dow'`: é o dia da semana em que o pedido foi feito (0 é domingo)\n",
    "    - `'order_hour_of_day'`: é a hora do dia em que o pedido foi feito\n",
    "    - `'days_since_prior_order'`: é o número de dias desde que o cliente fez seu pedido anterior\n",
    "\n",
    "\n",
    "\n",
    "\n",
    "- `products.csv`: cada linha corresponde a um produto exclusivo que os clientes podem comprar\n",
    "    - `'product_id'`: é o número de identificação unívoco de cada produto\n",
    "    - `'product_name'`: é o nome do produto\n",
    "    - `'aisle_id'`: é o número de identificação exclusivo de cada categoria de corredor do supermercado\n",
    "    - `'department_id'`: é o número de identificação exclusivo de cada categoria de departamento do supermercado\n",
    "\n",
    "\n",
    "\n",
    "\n",
    "-\t`order_products.csv`: cada linha corresponde a um item incluído em um pedido\n",
    "    -\t`'order_id'`: é o número que identifica cada pedido de forma exclusiva\n",
    "    -\t`'product_id'`: é o número de identificação exclusivo de cada produto\n",
    "    -\t`'add_to_cart_order'`: é a ordem sequencial em que cada item foi colocado no carrinho\n",
    "    -\t`'reordered'`: 0 se o cliente nunca comprou o produto antes, 1 se já o comprou\n",
    "\n",
    "\n",
    "\n",
    "\n",
    "-\t`aisles.csv`\n",
    "    -\t`'aisle_id'`: é o número de identificação exclusivo de cada categoria de corredor do supermercado\n",
    "    -\t`'aisle'`: é o nome do corredor\n",
    "\n",
    "\n",
    "\n",
    "-\t`departments.csv`\n",
    "    -\t`'department_id'`: é o número de identificação exclusivo de cada categoria de departamento do supermercado\n",
    "    -\t`'department'`: é o nome do departamento\n"
   ]
  },
  {
   "cell_type": "markdown",
   "id": "n3Ha_cNSZ8lK",
   "metadata": {
    "id": "n3Ha_cNSZ8lK"
   },
   "source": [
    "# Etapa 1. Visão geral dos dados\n",
    "\n",
    "Leia os arquivos de dados (/datasets/instacart_orders.csv, /datasets/products.csv, /datasets/aisles.csv, /datasets/departments.csv e /datasets/order_products.csv) com `pd.read_csv()` usando os parâmetros apropriados para fazer isso corretamente. Verifique as informações para cada DataFrame criado.\n"
   ]
  },
  {
   "cell_type": "markdown",
   "id": "OmlQPLlyaAfR",
   "metadata": {
    "id": "OmlQPLlyaAfR"
   },
   "source": [
    "## Plano de solução\n",
    "\n",
    "Escreva aqui seu plano para a Etapa 2. Visão geral dos dados"
   ]
  },
  {
   "cell_type": "code",
   "execution_count": 3,
   "id": "fbf1adab",
   "metadata": {
    "id": "fbf1adab"
   },
   "outputs": [],
   "source": [
    "# Importe as bibliotecas\n",
    "import pandas as pd"
   ]
  },
  {
   "cell_type": "code",
   "execution_count": 4,
   "id": "ad36396d",
   "metadata": {
    "id": "ad36396d"
   },
   "outputs": [],
   "source": [
    "# leia os conjuntos de dados em DataFrames\n",
    "cart = pd.read_csv('datasets/instacart_orders.csv', sep=\";\")\n",
    "products = pd.read_csv('datasets/products.csv', sep=\";\")\n",
    "aisles = pd.read_csv('datasets/aisles.csv', sep=\";\")\n",
    "departments = pd.read_csv('datasets/departments.csv', sep=\";\")\n",
    "order = pd.read_csv('datasets/order_products.csv', sep=\";\")"
   ]
  },
  {
   "cell_type": "code",
   "execution_count": 5,
   "id": "ad6a1efa",
   "metadata": {
    "id": "ad6a1efa"
   },
   "outputs": [
    {
     "name": "stdout",
     "output_type": "stream",
     "text": [
      "<class 'pandas.core.frame.DataFrame'>\n",
      "RangeIndex: 478967 entries, 0 to 478966\n",
      "Data columns (total 6 columns):\n",
      " #   Column                  Non-Null Count   Dtype  \n",
      "---  ------                  --------------   -----  \n",
      " 0   order_id                478967 non-null  int64  \n",
      " 1   user_id                 478967 non-null  int64  \n",
      " 2   order_number            478967 non-null  int64  \n",
      " 3   order_dow               478967 non-null  int64  \n",
      " 4   order_hour_of_day       478967 non-null  int64  \n",
      " 5   days_since_prior_order  450148 non-null  float64\n",
      "dtypes: float64(1), int64(5)\n",
      "memory usage: 21.9 MB\n",
      "<bound method NDFrame.head of         order_id  user_id  order_number  order_dow  order_hour_of_day  \\\n",
      "0        1515936   183418            11          6                 13   \n",
      "1        1690866   163593             5          5                 12   \n",
      "2        1454967    39980             4          5                 19   \n",
      "3        1768857    82516            56          0                 20   \n",
      "4        3007858   196724             2          4                 12   \n",
      "...          ...      ...           ...        ...                ...   \n",
      "478962   3210681     5617             5          1                 14   \n",
      "478963   3270802   112087             2          3                 13   \n",
      "478964    885349    82944            16          2                 11   \n",
      "478965    216274     4391             3          3                  8   \n",
      "478966   2071924     1730            18          1                 14   \n",
      "\n",
      "        days_since_prior_order  \n",
      "0                         30.0  \n",
      "1                          9.0  \n",
      "2                          2.0  \n",
      "3                         10.0  \n",
      "4                         17.0  \n",
      "...                        ...  \n",
      "478962                     7.0  \n",
      "478963                     6.0  \n",
      "478964                     6.0  \n",
      "478965                     8.0  \n",
      "478966                    15.0  \n",
      "\n",
      "[478967 rows x 6 columns]>\n"
     ]
    }
   ],
   "source": [
    "# imprima as informações sobre o DataFrame\n",
    "cart.info()\n",
    "print(cart.head)"
   ]
  },
  {
   "cell_type": "code",
   "execution_count": 6,
   "id": "5130e05e",
   "metadata": {
    "id": "5130e05e"
   },
   "outputs": [
    {
     "name": "stdout",
     "output_type": "stream",
     "text": [
      "<class 'pandas.core.frame.DataFrame'>\n",
      "RangeIndex: 49694 entries, 0 to 49693\n",
      "Data columns (total 4 columns):\n",
      " #   Column         Non-Null Count  Dtype \n",
      "---  ------         --------------  ----- \n",
      " 0   product_id     49694 non-null  int64 \n",
      " 1   product_name   48436 non-null  object\n",
      " 2   aisle_id       49694 non-null  int64 \n",
      " 3   department_id  49694 non-null  int64 \n",
      "dtypes: int64(3), object(1)\n",
      "memory usage: 1.5+ MB\n",
      "<bound method NDFrame.head of        product_id                                       product_name  \\\n",
      "0               1                         Chocolate Sandwich Cookies   \n",
      "1               2                                   All-Seasons Salt   \n",
      "2               3               Robust Golden Unsweetened Oolong Tea   \n",
      "3               4  Smart Ones Classic Favorites Mini Rigatoni Wit...   \n",
      "4               5                          Green Chile Anytime Sauce   \n",
      "...           ...                                                ...   \n",
      "49689       49690                      HIGH PERFORMANCE ENERGY DRINK   \n",
      "49690       49691                      ORIGINAL PANCAKE & WAFFLE MIX   \n",
      "49691       49692    ORGANIC INSTANT OATMEAL LIGHT MAPLE BROWN SUGAR   \n",
      "49692       49693                             SPRING WATER BODY WASH   \n",
      "49693       49694                            BURRITO- STEAK & CHEESE   \n",
      "\n",
      "       aisle_id  department_id  \n",
      "0            61             19  \n",
      "1           104             13  \n",
      "2            94              7  \n",
      "3            38              1  \n",
      "4             5             13  \n",
      "...         ...            ...  \n",
      "49689        64              7  \n",
      "49690       130             14  \n",
      "49691       130             14  \n",
      "49692       127             11  \n",
      "49693        38              1  \n",
      "\n",
      "[49694 rows x 4 columns]>\n"
     ]
    }
   ],
   "source": [
    "# imprima as informações sobre o DataFrame\n",
    "products.info()\n",
    "print(products.head)"
   ]
  },
  {
   "cell_type": "code",
   "execution_count": 7,
   "id": "d8370c05",
   "metadata": {
    "id": "d8370c05"
   },
   "outputs": [
    {
     "name": "stdout",
     "output_type": "stream",
     "text": [
      "<class 'pandas.core.frame.DataFrame'>\n",
      "RangeIndex: 21 entries, 0 to 20\n",
      "Data columns (total 2 columns):\n",
      " #   Column         Non-Null Count  Dtype \n",
      "---  ------         --------------  ----- \n",
      " 0   department_id  21 non-null     int64 \n",
      " 1   department     21 non-null     object\n",
      "dtypes: int64(1), object(1)\n",
      "memory usage: 468.0+ bytes\n",
      "   department_id department\n",
      "0              1     frozen\n",
      "1              2      other\n",
      "2              3     bakery\n",
      "3              4    produce\n",
      "4              5    alcohol\n"
     ]
    }
   ],
   "source": [
    "# imprima as informações sobre o DataFrame\n",
    "departments.info()\n",
    "print(departments.head())"
   ]
  },
  {
   "cell_type": "code",
   "execution_count": 8,
   "id": "59e2090f",
   "metadata": {
    "id": "59e2090f"
   },
   "outputs": [
    {
     "name": "stdout",
     "output_type": "stream",
     "text": [
      "<class 'pandas.core.frame.DataFrame'>\n",
      "RangeIndex: 4545007 entries, 0 to 4545006\n",
      "Data columns (total 4 columns):\n",
      " #   Column             Dtype  \n",
      "---  ------             -----  \n",
      " 0   order_id           int64  \n",
      " 1   product_id         int64  \n",
      " 2   add_to_cart_order  float64\n",
      " 3   reordered          int64  \n",
      "dtypes: float64(1), int64(3)\n",
      "memory usage: 138.7 MB\n",
      "<bound method NDFrame.head of          order_id  product_id  add_to_cart_order  reordered\n",
      "0         2141543       11440               17.0          0\n",
      "1          567889        1560                1.0          1\n",
      "2         2261212       26683                1.0          1\n",
      "3          491251        8670               35.0          1\n",
      "4         2571142        1940                5.0          1\n",
      "...           ...         ...                ...        ...\n",
      "4545002    577211       15290               12.0          1\n",
      "4545003   1219554       21914                9.0          0\n",
      "4545004    692640       47766                4.0          1\n",
      "4545005    319435         691                8.0          1\n",
      "4545006   1398151       28733                9.0          0\n",
      "\n",
      "[4545007 rows x 4 columns]>\n"
     ]
    }
   ],
   "source": [
    "# imprima as informações sobre o DataFrame\n",
    "order.info()\n",
    "print(order.head)"
   ]
  },
  {
   "cell_type": "code",
   "execution_count": 9,
   "id": "6fc81694",
   "metadata": {
    "id": "6fc81694"
   },
   "outputs": [
    {
     "name": "stdout",
     "output_type": "stream",
     "text": [
      "<class 'pandas.core.frame.DataFrame'>\n",
      "RangeIndex: 134 entries, 0 to 133\n",
      "Data columns (total 2 columns):\n",
      " #   Column    Non-Null Count  Dtype \n",
      "---  ------    --------------  ----- \n",
      " 0   aisle_id  134 non-null    int64 \n",
      " 1   aisle     134 non-null    object\n",
      "dtypes: int64(1), object(1)\n",
      "memory usage: 2.2+ KB\n",
      "<bound method NDFrame.head of      aisle_id                       aisle\n",
      "0           1       prepared soups salads\n",
      "1           2           specialty cheeses\n",
      "2           3         energy granola bars\n",
      "3           4               instant foods\n",
      "4           5  marinades meat preparation\n",
      "..        ...                         ...\n",
      "129       130    hot cereal pancake mixes\n",
      "130       131                   dry pasta\n",
      "131       132                      beauty\n",
      "132       133  muscles joints pain relief\n",
      "133       134  specialty wines champagnes\n",
      "\n",
      "[134 rows x 2 columns]>\n"
     ]
    }
   ],
   "source": [
    "# imprima as informações sobre o DataFrame\n",
    "aisles.info()\n",
    "print(aisles.head)"
   ]
  },
  {
   "cell_type": "markdown",
   "id": "t75BD19oaR5f",
   "metadata": {
    "id": "t75BD19oaR5f"
   },
   "source": [
    "## Conclusões\n",
    "\n",
    "Escreva aqui suas conclusões intermediárias da Etapa 1. Visão geral dos dados"
   ]
  },
  {
   "cell_type": "markdown",
   "id": "5ddc411f",
   "metadata": {},
   "source": []
  },
  {
   "cell_type": "markdown",
   "id": "8RJHqxVmaVsF",
   "metadata": {
    "id": "8RJHqxVmaVsF"
   },
   "source": [
    "# Etapa 2. Preparação de dados\n",
    "\n",
    "Faça o pré-processamento dos dados da seguinte maneira:\n",
    "\n",
    "-\tVerifique e corrija os tipos de dados (por exemplo, certifique-se de que as colunas de ID sejam números inteiros)\n",
    "-\tIdentifique e preencha valores ausentes\n",
    "-\tIdentifique e remova valores duplicados\n",
    "\n",
    "Certifique-se de explicar que tipos de valores ausentes e duplicados você encontrou, como você os preencheu ou removeu, por que escolheu esses métodos e por que você acha que esses valores ausentes e duplicados estavam presentes no conjunto de dados."
   ]
  },
  {
   "cell_type": "markdown",
   "id": "p6poABZQaZYb",
   "metadata": {
    "id": "p6poABZQaZYb"
   },
   "source": [
    "## Plano de solução\n",
    "\n",
    "Escreva aqui seu plano para a Etapa 2. Preparação de dados"
   ]
  },
  {
   "cell_type": "markdown",
   "id": "07357848-dc64-4156-9cc3-01ff4365226d",
   "metadata": {
    "id": "07357848-dc64-4156-9cc3-01ff4365226d"
   },
   "source": [
    "## Encontre e remova valores duplicados (e descreva por que você está fazendo suas escolhas)"
   ]
  },
  {
   "cell_type": "markdown",
   "id": "f179f0a9",
   "metadata": {
    "id": "f179f0a9"
   },
   "source": [
    "### DataFrame `instacart_orders`"
   ]
  },
  {
   "cell_type": "code",
   "execution_count": 10,
   "id": "b99297a5-405a-463d-8535-9adc3da4ad74",
   "metadata": {
    "id": "b99297a5-405a-463d-8535-9adc3da4ad74",
    "scrolled": true
   },
   "outputs": [
    {
     "name": "stdout",
     "output_type": "stream",
     "text": [
      "        order_id  user_id  order_number  order_dow  order_hour_of_day  \\\n",
      "145574    794638    50898            24          3                  2   \n",
      "223105   2160484   107525            16          3                  2   \n",
      "230807   1918001   188546            14          3                  2   \n",
      "266232   1782114   106752             1          3                  2   \n",
      "273805   1112182   202304            84          3                  2   \n",
      "284038   2845099    31189            11          3                  2   \n",
      "311713   1021560    53767             3          3                  2   \n",
      "321100    408114    68324             4          3                  2   \n",
      "323900   1919531   191501            32          3                  2   \n",
      "345917   2232988    82565             1          3                  2   \n",
      "371905    391768    57671            19          3                  2   \n",
      "394347    467134    63189            21          3                  2   \n",
      "411408   1286742   183220            48          3                  2   \n",
      "415163   2282673    86751            49          3                  2   \n",
      "441599   2125197    14050            48          3                  2   \n",
      "\n",
      "        days_since_prior_order  \n",
      "145574                     2.0  \n",
      "223105                    30.0  \n",
      "230807                    16.0  \n",
      "266232                     NaN  \n",
      "273805                     6.0  \n",
      "284038                     7.0  \n",
      "311713                     9.0  \n",
      "321100                    18.0  \n",
      "323900                     7.0  \n",
      "345917                     NaN  \n",
      "371905                    10.0  \n",
      "394347                     2.0  \n",
      "411408                     4.0  \n",
      "415163                     2.0  \n",
      "441599                     3.0  \n"
     ]
    }
   ],
   "source": [
    "# Verificar se há pedidos duplicados\n",
    "print(cart[cart.duplicated()])"
   ]
  },
  {
   "cell_type": "markdown",
   "id": "PEkwUX_gvt5A",
   "metadata": {
    "id": "PEkwUX_gvt5A"
   },
   "source": [
    "Há linhas duplicadas? Se sim, o que elas têm em comum?"
   ]
  },
  {
   "cell_type": "markdown",
   "id": "c430856e",
   "metadata": {},
   "source": [
    "Sim, todos os valores duplicados tem as colunas 'order_dow' e 'order_hour_of_day' com os mesmos valores"
   ]
  },
  {
   "cell_type": "code",
   "execution_count": 11,
   "id": "0d44de5d",
   "metadata": {
    "id": "0d44de5d"
   },
   "outputs": [
    {
     "name": "stdout",
     "output_type": "stream",
     "text": [
      "        order_id  user_id  order_number  order_dow  order_hour_of_day  \\\n",
      "4838     2766110   162084            41          3                  2   \n",
      "5156     2190225   138285            18          3                  2   \n",
      "15506     553049    58599            13          3                  2   \n",
      "18420     382357   120200            19          3                  2   \n",
      "24691     690242    77357             2          3                  2   \n",
      "...          ...      ...           ...        ...                ...   \n",
      "457013   3384021    14881             6          3                  2   \n",
      "458816    910166   164782            18          3                  2   \n",
      "459635   1680532   106435             6          3                  2   \n",
      "468324    222962    54979            59          3                  2   \n",
      "477526   2592344    46860            38          3                  2   \n",
      "\n",
      "        days_since_prior_order  \n",
      "4838                      16.0  \n",
      "5156                      11.0  \n",
      "15506                      7.0  \n",
      "18420                     11.0  \n",
      "24691                      9.0  \n",
      "...                        ...  \n",
      "457013                    30.0  \n",
      "458816                     4.0  \n",
      "459635                    21.0  \n",
      "468324                     3.0  \n",
      "477526                     3.0  \n",
      "\n",
      "[121 rows x 6 columns]\n"
     ]
    }
   ],
   "source": [
    "# Com base nas suas conclusões,\n",
    "\n",
    "# verifique todos os pedidos feitos às 2h da manhã nas quartas-feiras\n",
    "print(cart[(cart['order_hour_of_day']==2)&(cart['order_dow']==3)])"
   ]
  },
  {
   "cell_type": "markdown",
   "id": "vu2OWyoqwOx5",
   "metadata": {
    "id": "vu2OWyoqwOx5"
   },
   "source": [
    "O que esse resultado quer dizer?"
   ]
  },
  {
   "cell_type": "markdown",
   "id": "6aa82400",
   "metadata": {},
   "source": [
    "Algumas das compras realizadas nesse horario foram duplicadas mas não todas "
   ]
  },
  {
   "cell_type": "code",
   "execution_count": 12,
   "id": "480563c7",
   "metadata": {
    "id": "480563c7"
   },
   "outputs": [],
   "source": [
    "# Remova pedidos duplicados\n",
    "cart = cart.drop_duplicates()"
   ]
  },
  {
   "cell_type": "code",
   "execution_count": 13,
   "id": "0b2396a2",
   "metadata": {
    "id": "0b2396a2"
   },
   "outputs": [
    {
     "name": "stdout",
     "output_type": "stream",
     "text": [
      "0\n"
     ]
    }
   ],
   "source": [
    "# Verifique as linhas duplicadas mais uma vez\n",
    "print(cart.duplicated().sum())"
   ]
  },
  {
   "cell_type": "code",
   "execution_count": 14,
   "id": "f6113ef1",
   "metadata": {
    "id": "f6113ef1"
   },
   "outputs": [
    {
     "name": "stdout",
     "output_type": "stream",
     "text": [
      "Empty DataFrame\n",
      "Columns: [order_id, user_id, order_number, order_dow, order_hour_of_day, days_since_prior_order]\n",
      "Index: []\n"
     ]
    }
   ],
   "source": [
    "# Verifique novamente apenas os IDs de pedidos duplicados\n",
    "print(cart[cart['order_id'].duplicated()])"
   ]
  },
  {
   "cell_type": "markdown",
   "id": "5e8905ae",
   "metadata": {
    "id": "5e8905ae"
   },
   "source": [
    "\n",
    "\n",
    "Descreva brevemente suas conclusões e o que você fez com elas."
   ]
  },
  {
   "cell_type": "markdown",
   "id": "1e7ee6f1",
   "metadata": {},
   "source": [
    "algumas compras realizadas dentro de um periodo especifico de tempo foram duplicadas, podemos verificar baseado no dia/hora que o pedido foi realizado, estes foram removidos"
   ]
  },
  {
   "cell_type": "markdown",
   "id": "45e6bc46",
   "metadata": {
    "id": "45e6bc46"
   },
   "source": [
    "### DataFrame `products`"
   ]
  },
  {
   "cell_type": "code",
   "execution_count": 15,
   "id": "5f526b5b-8175-46fa-a0fd-441767d50e64",
   "metadata": {
    "id": "5f526b5b-8175-46fa-a0fd-441767d50e64"
   },
   "outputs": [
    {
     "name": "stdout",
     "output_type": "stream",
     "text": [
      "0\n"
     ]
    }
   ],
   "source": [
    "# Verifique se há linhas completamente duplicadas\n",
    "print(products.duplicated().sum())"
   ]
  },
  {
   "cell_type": "code",
   "execution_count": 16,
   "id": "88daa4f4",
   "metadata": {
    "id": "88daa4f4"
   },
   "outputs": [
    {
     "name": "stdout",
     "output_type": "stream",
     "text": [
      "Empty DataFrame\n",
      "Columns: [product_id, product_name, aisle_id, department_id]\n",
      "Index: []\n"
     ]
    }
   ],
   "source": [
    "# Verifique apenas IDs dos produtos duplicados\n",
    "print(products[products['product_id'].duplicated()])"
   ]
  },
  {
   "cell_type": "code",
   "execution_count": 17,
   "id": "c773f0bf",
   "metadata": {
    "id": "c773f0bf"
   },
   "outputs": [
    {
     "name": "stdout",
     "output_type": "stream",
     "text": [
      "       product_id                                     product_name  aisle_id  \\\n",
      "71             72                                              NaN       100   \n",
      "109           110                                              NaN       100   \n",
      "296           297                                              NaN       100   \n",
      "416           417                                              NaN       100   \n",
      "436           437                                              NaN       100   \n",
      "...           ...                                              ...       ...   \n",
      "49689       49690                    HIGH PERFORMANCE ENERGY DRINK        64   \n",
      "49690       49691                    ORIGINAL PANCAKE & WAFFLE MIX       130   \n",
      "49691       49692  ORGANIC INSTANT OATMEAL LIGHT MAPLE BROWN SUGAR       130   \n",
      "49692       49693                           SPRING WATER BODY WASH       127   \n",
      "49693       49694                          BURRITO- STEAK & CHEESE        38   \n",
      "\n",
      "       department_id  \n",
      "71                21  \n",
      "109               21  \n",
      "296               21  \n",
      "416               21  \n",
      "436               21  \n",
      "...              ...  \n",
      "49689              7  \n",
      "49690             14  \n",
      "49691             14  \n",
      "49692             11  \n",
      "49693              1  \n",
      "\n",
      "[1361 rows x 4 columns]\n"
     ]
    }
   ],
   "source": [
    "# Verifique apenas nomes de produtos duplicados (converta os nomes para minúsculas para uma comparação melhor)\n",
    "print(products[products['product_name'].str.lower().duplicated()])"
   ]
  },
  {
   "cell_type": "code",
   "execution_count": 18,
   "id": "01efd02e",
   "metadata": {
    "id": "01efd02e"
   },
   "outputs": [
    {
     "name": "stdout",
     "output_type": "stream",
     "text": [
      "       product_id                                     product_name  aisle_id  \\\n",
      "2058         2059                                  Biotin 1000 Mcg        47   \n",
      "5455         5456                 Green Tea With Ginseng and Honey        96   \n",
      "5558         5559                           Cream Of Mushroom Soup        69   \n",
      "7558         7559                        Cinnamon Rolls with Icing       105   \n",
      "9037         9038                           American Cheese slices        21   \n",
      "...           ...                                              ...       ...   \n",
      "49689       49690                    HIGH PERFORMANCE ENERGY DRINK        64   \n",
      "49690       49691                    ORIGINAL PANCAKE & WAFFLE MIX       130   \n",
      "49691       49692  ORGANIC INSTANT OATMEAL LIGHT MAPLE BROWN SUGAR       130   \n",
      "49692       49693                           SPRING WATER BODY WASH       127   \n",
      "49693       49694                          BURRITO- STEAK & CHEESE        38   \n",
      "\n",
      "       department_id  \n",
      "2058              11  \n",
      "5455              20  \n",
      "5558              15  \n",
      "7558              13  \n",
      "9037              16  \n",
      "...              ...  \n",
      "49689              7  \n",
      "49690             14  \n",
      "49691             14  \n",
      "49692             11  \n",
      "49693              1  \n",
      "\n",
      "[104 rows x 4 columns]\n"
     ]
    }
   ],
   "source": [
    "# Verifique os nomes de produtos duplicados que não estão faltando\n",
    "print(products[(products['product_name'].str.lower().duplicated())&(~products['product_name'].isna())])"
   ]
  },
  {
   "cell_type": "markdown",
   "id": "9da8d293",
   "metadata": {
    "id": "9da8d293"
   },
   "source": [
    "Descreva brevemente suas conclusões e o que você fez com elas."
   ]
  },
  {
   "cell_type": "markdown",
   "id": "42c40924",
   "metadata": {},
   "source": [
    "existem 104 produtos duplicados e uma grande quantidade de produtos sem nome"
   ]
  },
  {
   "cell_type": "markdown",
   "id": "60f30db1",
   "metadata": {
    "id": "60f30db1"
   },
   "source": [
    "### DataFrame `departments`"
   ]
  },
  {
   "cell_type": "code",
   "execution_count": 19,
   "id": "fb410ad4-0fbf-4b80-bb09-23fdea79afe3",
   "metadata": {
    "id": "fb410ad4-0fbf-4b80-bb09-23fdea79afe3"
   },
   "outputs": [
    {
     "name": "stdout",
     "output_type": "stream",
     "text": [
      "0\n"
     ]
    }
   ],
   "source": [
    "# Verifique se há linhas completamente duplicadas\n",
    "print(departments.duplicated().sum())"
   ]
  },
  {
   "cell_type": "code",
   "execution_count": 20,
   "id": "332b12bb",
   "metadata": {
    "id": "332b12bb"
   },
   "outputs": [
    {
     "name": "stdout",
     "output_type": "stream",
     "text": [
      "0\n",
      "department_id\n",
      "1     1\n",
      "12    1\n",
      "20    1\n",
      "19    1\n",
      "18    1\n",
      "17    1\n",
      "16    1\n",
      "15    1\n",
      "14    1\n",
      "13    1\n",
      "11    1\n",
      "2     1\n",
      "10    1\n",
      "9     1\n",
      "8     1\n",
      "7     1\n",
      "6     1\n",
      "5     1\n",
      "4     1\n",
      "3     1\n",
      "21    1\n",
      "Name: count, dtype: int64\n"
     ]
    }
   ],
   "source": [
    "# Verifique apenas se há IDs dos produtos duplicados\n",
    "print(departments['department_id'].duplicated().sum())\n",
    "print(departments['department_id'].value_counts())"
   ]
  },
  {
   "cell_type": "markdown",
   "id": "bd30d78e",
   "metadata": {
    "id": "bd30d78e"
   },
   "source": [
    "Descreva brevemente suas conclusões e o que você fez com elas."
   ]
  },
  {
   "cell_type": "markdown",
   "id": "0f4c581d",
   "metadata": {},
   "source": [
    "Não existem departamentos repetidos na tabela baseado nos ids"
   ]
  },
  {
   "cell_type": "markdown",
   "id": "889349c1",
   "metadata": {
    "id": "889349c1"
   },
   "source": [
    "### DataFrame `aisles`"
   ]
  },
  {
   "cell_type": "code",
   "execution_count": 21,
   "id": "9da89fb9-4679-40f5-ad0d-c34df753a3f8",
   "metadata": {
    "id": "9da89fb9-4679-40f5-ad0d-c34df753a3f8"
   },
   "outputs": [
    {
     "name": "stdout",
     "output_type": "stream",
     "text": [
      "0\n"
     ]
    }
   ],
   "source": [
    "# Verifique se há linhas completamente duplicadas\n",
    "print(aisles.duplicated().sum())"
   ]
  },
  {
   "cell_type": "code",
   "execution_count": 22,
   "id": "da7c2822",
   "metadata": {
    "id": "da7c2822"
   },
   "outputs": [
    {
     "name": "stdout",
     "output_type": "stream",
     "text": [
      "0\n"
     ]
    }
   ],
   "source": [
    "# Verifique apenas se há IDs dos produtos duplicados\n",
    "print(aisles['aisle_id'].duplicated().sum())"
   ]
  },
  {
   "cell_type": "markdown",
   "id": "ac63826f",
   "metadata": {
    "id": "ac63826f"
   },
   "source": [
    "Descreva brevemente suas conclusões e o que você fez com elas."
   ]
  },
  {
   "cell_type": "markdown",
   "id": "cea49d85",
   "metadata": {},
   "source": [
    "não ha duplicados"
   ]
  },
  {
   "cell_type": "markdown",
   "id": "274cd06a",
   "metadata": {
    "id": "274cd06a"
   },
   "source": [
    "### DataFrame `order_products`"
   ]
  },
  {
   "cell_type": "code",
   "execution_count": 23,
   "id": "52326689-84a8-4b8f-a881-7c68780f62c9",
   "metadata": {
    "id": "52326689-84a8-4b8f-a881-7c68780f62c9"
   },
   "outputs": [
    {
     "name": "stdout",
     "output_type": "stream",
     "text": [
      "0\n"
     ]
    }
   ],
   "source": [
    "# Verifique se há linhas completamente duplicadas\n",
    "print(order.duplicated().sum())"
   ]
  },
  {
   "cell_type": "code",
   "execution_count": 24,
   "id": "7b861391",
   "metadata": {
    "id": "7b861391"
   },
   "outputs": [
    {
     "name": "stdout",
     "output_type": "stream",
     "text": [
      "4094961\n",
      "order_id  product_id  add_to_cart_order  reordered\n",
      "4         10054       5.0                1            1\n",
      "2277733   35233       5.0                1            1\n",
      "2277734   15233       4.0                1            1\n",
      "          11471       2.0                1            1\n",
      "          6374        3.0                1            1\n",
      "                                                     ..\n",
      "1145037   26790       21.0               1            1\n",
      "          27767       10.0               1            1\n",
      "          32086       16.0               0            1\n",
      "          33572       5.0                1            1\n",
      "3421079   30136       1.0                0            1\n",
      "Name: count, Length: 4544171, dtype: int64\n"
     ]
    }
   ],
   "source": [
    "# Verifique mais uma vez se há outros casos complicados de duplicados\n",
    "print(order['order_id'].duplicated().sum())\n",
    "print(order.value_counts())"
   ]
  },
  {
   "cell_type": "markdown",
   "id": "0b890492",
   "metadata": {
    "id": "0b890492"
   },
   "source": [
    "Descreva brevemente suas conclusões e o que você fez com elas."
   ]
  },
  {
   "cell_type": "markdown",
   "id": "7af59bed",
   "metadata": {},
   "source": [
    "A tabela de order_products esta correta uma vez que podem ser adicionados varios produtos a o mesmo pedido"
   ]
  },
  {
   "cell_type": "markdown",
   "id": "1e46de76",
   "metadata": {
    "id": "1e46de76"
   },
   "source": [
    "## Encontre e remova valores ausentes\n",
    "\n",
    "\n",
    "Ao processarmos valores duplicados, observamos que também temos valores ausentes que precisamos investigar nas seguintes colunas:\n",
    "\n",
    "*\tA coluna `'product_name'` da tabela products.\n",
    "*\tA coluna `'days_since_prior_order'` da tabela orders.\n",
    "*\tA coluna `'add_to_cart_order'` da tabela order_products.\n"
   ]
  },
  {
   "cell_type": "markdown",
   "id": "c0aebd78",
   "metadata": {
    "id": "c0aebd78"
   },
   "source": [
    "### DataFrame `products`"
   ]
  },
  {
   "cell_type": "code",
   "execution_count": 25,
   "id": "fe4a8b0f",
   "metadata": {
    "id": "fe4a8b0f"
   },
   "outputs": [
    {
     "name": "stdout",
     "output_type": "stream",
     "text": [
      "       product_id product_name  aisle_id  department_id\n",
      "37             38          NaN       100             21\n",
      "71             72          NaN       100             21\n",
      "109           110          NaN       100             21\n",
      "296           297          NaN       100             21\n",
      "416           417          NaN       100             21\n",
      "...           ...          ...       ...            ...\n",
      "49552       49553          NaN       100             21\n",
      "49574       49575          NaN       100             21\n",
      "49640       49641          NaN       100             21\n",
      "49663       49664          NaN       100             21\n",
      "49668       49669          NaN       100             21\n",
      "\n",
      "[1258 rows x 4 columns]\n"
     ]
    }
   ],
   "source": [
    "# Encontre valores ausentes na coluna 'product_name'\n",
    "print(products[products['product_name'].isna()])"
   ]
  },
  {
   "cell_type": "markdown",
   "id": "-A6x1AbJhjkp",
   "metadata": {
    "id": "-A6x1AbJhjkp"
   },
   "source": [
    "Descreva brevemente suas conclusões."
   ]
  },
  {
   "cell_type": "code",
   "execution_count": 26,
   "id": "e96167bc",
   "metadata": {
    "id": "e96167bc"
   },
   "outputs": [
    {
     "name": "stdout",
     "output_type": "stream",
     "text": [
      "       product_id product_name  aisle_id  department_id\n",
      "37             38          NaN       100             21\n",
      "71             72          NaN       100             21\n",
      "109           110          NaN       100             21\n",
      "296           297          NaN       100             21\n",
      "416           417          NaN       100             21\n",
      "...           ...          ...       ...            ...\n",
      "49552       49553          NaN       100             21\n",
      "49574       49575          NaN       100             21\n",
      "49640       49641          NaN       100             21\n",
      "49663       49664          NaN       100             21\n",
      "49668       49669          NaN       100             21\n",
      "\n",
      "[1258 rows x 4 columns]\n",
      "       product_id product_name  aisle_id  department_id\n",
      "37             38          NaN       100             21\n",
      "71             72          NaN       100             21\n",
      "109           110          NaN       100             21\n",
      "296           297          NaN       100             21\n",
      "416           417          NaN       100             21\n",
      "...           ...          ...       ...            ...\n",
      "49552       49553          NaN       100             21\n",
      "49574       49575          NaN       100             21\n",
      "49640       49641          NaN       100             21\n",
      "49663       49664          NaN       100             21\n",
      "49668       49669          NaN       100             21\n",
      "\n",
      "[1258 rows x 4 columns]\n"
     ]
    }
   ],
   "source": [
    "# Todos os nomes de produtos ausentes estão associados com o corredor de ID 100?\n",
    "print(products[(products['product_name'].isna()) & (products['aisle_id']==100)])\n",
    "print(products[products['aisle_id']==100])"
   ]
  },
  {
   "cell_type": "markdown",
   "id": "WRpIfXRphpSL",
   "metadata": {
    "id": "WRpIfXRphpSL"
   },
   "source": [
    "Descreva brevemente suas conclusões."
   ]
  },
  {
   "cell_type": "markdown",
   "id": "4e805cdc",
   "metadata": {},
   "source": [
    "algo aconteceu onde os produtos do corredor 100 perderam seu nome"
   ]
  },
  {
   "cell_type": "code",
   "execution_count": 27,
   "id": "8fd0a541",
   "metadata": {
    "id": "8fd0a541"
   },
   "outputs": [
    {
     "name": "stdout",
     "output_type": "stream",
     "text": [
      "       product_id product_name  aisle_id  department_id\n",
      "37             38          NaN       100             21\n",
      "71             72          NaN       100             21\n",
      "109           110          NaN       100             21\n",
      "296           297          NaN       100             21\n",
      "416           417          NaN       100             21\n",
      "...           ...          ...       ...            ...\n",
      "49552       49553          NaN       100             21\n",
      "49574       49575          NaN       100             21\n",
      "49640       49641          NaN       100             21\n",
      "49663       49664          NaN       100             21\n",
      "49668       49669          NaN       100             21\n",
      "\n",
      "[1258 rows x 4 columns]\n",
      "       product_id product_name  aisle_id  department_id\n",
      "37             38          NaN       100             21\n",
      "71             72          NaN       100             21\n",
      "109           110          NaN       100             21\n",
      "296           297          NaN       100             21\n",
      "416           417          NaN       100             21\n",
      "...           ...          ...       ...            ...\n",
      "49552       49553          NaN       100             21\n",
      "49574       49575          NaN       100             21\n",
      "49640       49641          NaN       100             21\n",
      "49663       49664          NaN       100             21\n",
      "49668       49669          NaN       100             21\n",
      "\n",
      "[1258 rows x 4 columns]\n"
     ]
    }
   ],
   "source": [
    "# Todos os nomes de produtos ausentes estão associados com o departamento de ID 21?\n",
    "\n",
    "print(products[(products['product_name'].isna()) & (products['department_id']==21)])\n",
    "print(products[products['department_id']==21])"
   ]
  },
  {
   "cell_type": "markdown",
   "id": "qDpdYn1Fht_I",
   "metadata": {
    "id": "qDpdYn1Fht_I"
   },
   "source": [
    "Descreva brevemente suas conclusões."
   ]
  },
  {
   "cell_type": "markdown",
   "id": "0151951d",
   "metadata": {},
   "source": [
    "e o mesmo pode ser dito para o departamento 21"
   ]
  },
  {
   "cell_type": "code",
   "execution_count": 28,
   "id": "325c3464",
   "metadata": {
    "id": "325c3464"
   },
   "outputs": [
    {
     "name": "stdout",
     "output_type": "stream",
     "text": [
      "    department_id department\n",
      "20             21    missing\n",
      "    aisle_id    aisle\n",
      "99       100  missing\n"
     ]
    }
   ],
   "source": [
    "# Use as tabelas department e aisle para verificar os dados do corredor com ID 100 e do departamento com ID 21.\n",
    "print(departments[departments['department_id']==21])\n",
    "print(aisles[aisles['aisle_id']==100])"
   ]
  },
  {
   "cell_type": "markdown",
   "id": "nqhSTUPhhvEJ",
   "metadata": {
    "id": "nqhSTUPhhvEJ"
   },
   "source": [
    "Descreva brevemente suas conclusões."
   ]
  },
  {
   "cell_type": "markdown",
   "id": "dad7251e",
   "metadata": {},
   "source": [
    "esse departamento e esse corredor possivelmente deixaram de existir ou foram cadastrados dessa maneira"
   ]
  },
  {
   "cell_type": "code",
   "execution_count": 29,
   "id": "6b295120",
   "metadata": {
    "id": "6b295120"
   },
   "outputs": [
    {
     "name": "stdout",
     "output_type": "stream",
     "text": [
      "       product_id product_name  aisle_id  department_id\n",
      "37             38      Unknown       100             21\n",
      "71             72      Unknown       100             21\n",
      "109           110      Unknown       100             21\n",
      "296           297      Unknown       100             21\n",
      "416           417      Unknown       100             21\n",
      "...           ...          ...       ...            ...\n",
      "49552       49553      Unknown       100             21\n",
      "49574       49575      Unknown       100             21\n",
      "49640       49641      Unknown       100             21\n",
      "49663       49664      Unknown       100             21\n",
      "49668       49669      Unknown       100             21\n",
      "\n",
      "[1258 rows x 4 columns]\n"
     ]
    }
   ],
   "source": [
    "# Preencha nomes de produtos ausentes com 'Unknown'\n",
    "products['product_name'] = products['product_name'].fillna('Unknown')\n",
    "print(products[products['department_id']==21])"
   ]
  },
  {
   "cell_type": "markdown",
   "id": "fc70e5ad",
   "metadata": {
    "id": "fc70e5ad"
   },
   "source": [
    "Descreva brevemente suas conclusões e o que você fez com elas."
   ]
  },
  {
   "cell_type": "markdown",
   "id": "df473a3f",
   "metadata": {},
   "source": [
    "Localizei os itens que ewstavam vazios e utilizei o metodo \"fillna\" para subistituir Nan por \"Unknown\""
   ]
  },
  {
   "cell_type": "markdown",
   "id": "7eb45c86",
   "metadata": {
    "id": "7eb45c86"
   },
   "source": [
    "### DataFrame `orders`"
   ]
  },
  {
   "cell_type": "code",
   "execution_count": 30,
   "id": "93e41d96",
   "metadata": {
    "id": "93e41d96"
   },
   "outputs": [
    {
     "name": "stdout",
     "output_type": "stream",
     "text": [
      "        order_id  user_id  order_number  order_dow  order_hour_of_day  \\\n",
      "0            NaN      NaN           NaN        NaN                NaN   \n",
      "1            NaN      NaN           NaN        NaN                NaN   \n",
      "2            NaN      NaN           NaN        NaN                NaN   \n",
      "3            NaN      NaN           NaN        NaN                NaN   \n",
      "4            NaN      NaN           NaN        NaN                NaN   \n",
      "...          ...      ...           ...        ...                ...   \n",
      "478962       NaN      NaN           NaN        NaN                NaN   \n",
      "478963       NaN      NaN           NaN        NaN                NaN   \n",
      "478964       NaN      NaN           NaN        NaN                NaN   \n",
      "478965       NaN      NaN           NaN        NaN                NaN   \n",
      "478966       NaN      NaN           NaN        NaN                NaN   \n",
      "\n",
      "        days_since_prior_order  \n",
      "0                          NaN  \n",
      "1                          NaN  \n",
      "2                          NaN  \n",
      "3                          NaN  \n",
      "4                          NaN  \n",
      "...                        ...  \n",
      "478962                     NaN  \n",
      "478963                     NaN  \n",
      "478964                     NaN  \n",
      "478965                     NaN  \n",
      "478966                     NaN  \n",
      "\n",
      "[478952 rows x 6 columns]\n"
     ]
    }
   ],
   "source": [
    "# Encontre os valores ausentes\n",
    "print(cart[cart.isna()])"
   ]
  },
  {
   "cell_type": "code",
   "execution_count": 31,
   "id": "166e5a86",
   "metadata": {
    "id": "166e5a86"
   },
   "outputs": [
    {
     "name": "stdout",
     "output_type": "stream",
     "text": [
      "order_id                  0\n",
      "user_id                   0\n",
      "order_number              0\n",
      "order_dow                 0\n",
      "order_hour_of_day         0\n",
      "days_since_prior_order    0\n",
      "dtype: int64\n"
     ]
    }
   ],
   "source": [
    "# Há valores ausentes para os clientes que não estão fazendo o primeiro pedido?\n",
    "print(cart[cart['order_number']!=1].isna().sum())"
   ]
  },
  {
   "cell_type": "markdown",
   "id": "4e23d089",
   "metadata": {
    "id": "4e23d089"
   },
   "source": [
    "Descreva brevemente suas conclusões e o que você fez com elas."
   ]
  },
  {
   "cell_type": "markdown",
   "id": "69dc9ca4",
   "metadata": {
    "id": "69dc9ca4"
   },
   "source": [
    "### DataFrame `order_products`"
   ]
  },
  {
   "cell_type": "code",
   "execution_count": 32,
   "id": "b8240253",
   "metadata": {
    "id": "b8240253"
   },
   "outputs": [
    {
     "data": {
      "text/plain": [
       "order_id               0\n",
       "product_id             0\n",
       "add_to_cart_order    836\n",
       "reordered              0\n",
       "dtype: int64"
      ]
     },
     "execution_count": 32,
     "metadata": {},
     "output_type": "execute_result"
    }
   ],
   "source": [
    "# Encontre os valores ausentes\n",
    "order.isna().sum()"
   ]
  },
  {
   "cell_type": "code",
   "execution_count": 33,
   "id": "9a78e5ee",
   "metadata": {
    "id": "9a78e5ee"
   },
   "outputs": [
    {
     "name": "stdout",
     "output_type": "stream",
     "text": [
      "1.0\n",
      "64.0\n"
     ]
    }
   ],
   "source": [
    "# Quais são os valores mínimo e máximo dessa coluna?\n",
    "print(order['add_to_cart_order'].min())\n",
    "print(order['add_to_cart_order'].max())"
   ]
  },
  {
   "cell_type": "markdown",
   "id": "-Z2Ja215jW78",
   "metadata": {
    "id": "-Z2Ja215jW78"
   },
   "source": [
    "Descreva brevemente suas conclusões."
   ]
  },
  {
   "cell_type": "code",
   "execution_count": 34,
   "id": "ab9d0c2b",
   "metadata": {
    "id": "ab9d0c2b"
   },
   "outputs": [
    {
     "name": "stdout",
     "output_type": "stream",
     "text": [
      "737        2449164\n",
      "9926       1968313\n",
      "14394      2926893\n",
      "16418      1717990\n",
      "30114      1959075\n",
      "            ...   \n",
      "4505662    1800005\n",
      "4511400    1633337\n",
      "4517562     404157\n",
      "4534112    1673227\n",
      "4535739    1832957\n",
      "Name: order_id, Length: 836, dtype: int64\n"
     ]
    }
   ],
   "source": [
    "# Salve todos os IDs dos pedidos com pelo menos um valor ausente em 'add_to_cart_order'\n",
    "val_ausente = order[order['add_to_cart_order'].isna()]['order_id']\n",
    "print(val_ausente)"
   ]
  },
  {
   "cell_type": "code",
   "execution_count": 35,
   "id": "54c31695",
   "metadata": {
    "id": "54c31695"
   },
   "outputs": [
    {
     "name": "stdout",
     "output_type": "stream",
     "text": [
      "65\n"
     ]
    }
   ],
   "source": [
    "# Todos os pedidos com valores ausentes contêm mais de 64 produtos?\n",
    "# Agrupe os pedidos com dados ausentes por ID de pedido\n",
    "# Conte o número de 'product_id' em cada pedido e verifique o valor mínimo da contagem\n",
    "\n",
    "\n",
    "#print(order.groupby('order_id')['product_id'].count().min())\n",
    "\n",
    "print(order[order['order_id'].isin(val_ausente)].groupby('order_id')['product_id'].count().min())"
   ]
  },
  {
   "cell_type": "markdown",
   "id": "p9V6pddtjglj",
   "metadata": {
    "id": "p9V6pddtjglj"
   },
   "source": [
    "Descreva brevemente suas conclusões."
   ]
  },
  {
   "cell_type": "markdown",
   "id": "1862824b",
   "metadata": {},
   "source": [
    "sim todos os pedidos com valores ausentes contem mais de 64 produtos"
   ]
  },
  {
   "cell_type": "code",
   "execution_count": 36,
   "id": "7a987d08",
   "metadata": {
    "id": "7a987d08"
   },
   "outputs": [
    {
     "data": {
      "text/plain": [
       "order_id             0\n",
       "product_id           0\n",
       "add_to_cart_order    0\n",
       "reordered            0\n",
       "dtype: int64"
      ]
     },
     "execution_count": 36,
     "metadata": {},
     "output_type": "execute_result"
    }
   ],
   "source": [
    "# Substitua valores ausentes na coluna 'add_to_cart_order' por 999 e converta a coluna para o tipo integer\n",
    "order['add_to_cart_order']=order['add_to_cart_order'].fillna(999)\n",
    "order.isna().sum()"
   ]
  },
  {
   "cell_type": "markdown",
   "id": "fea4bcc7",
   "metadata": {
    "id": "fea4bcc7"
   },
   "source": [
    "Descreva brevemente suas conclusões e o que você fez com elas."
   ]
  },
  {
   "cell_type": "markdown",
   "id": "RnplPFY1gSrb",
   "metadata": {
    "id": "RnplPFY1gSrb"
   },
   "source": [
    "## Conclusões\n",
    "\n",
    "Escreva aqui suas conclusões intermediárias da Etapa 2. Preparação de dados"
   ]
  },
  {
   "cell_type": "markdown",
   "id": "UjrOIwTcz3ri",
   "metadata": {
    "id": "UjrOIwTcz3ri"
   },
   "source": [
    "# Etapa 3. Análise de dados\n",
    "\n",
    "Quando os dados estiverem processados ​​e prontos, execute a seguinte análise:"
   ]
  },
  {
   "cell_type": "markdown",
   "id": "turkish-kidney",
   "metadata": {
    "id": "turkish-kidney"
   },
   "source": [
    "# [A] Fácil (é necessário concluir tudo para passar)\n",
    "\n",
    "1.\tVerifique se os valores nas colunas `'order_hour_of_day'` e `'order_dow'` na tabela `orders` fazem sentido (ou seja, os valores da coluna  `'order_hour_of_day'` variam de 0 a 23 e os da `'order_dow'` variam de 0 a 6).\n",
    "2.\tCrie um gráfico que mostre quantas pessoas fazem pedidos a cada hora do dia.\n",
    "3.\tCrie um gráfico que mostre em que dia da semana as pessoas fazem compras.\n",
    "4.\tCrie um gráfico que mostre quanto tempo as pessoas esperam até fazer seu próximo pedido e comente sobre os valores mínimo e máximo.\n"
   ]
  },
  {
   "cell_type": "markdown",
   "id": "short-capability",
   "metadata": {
    "id": "short-capability"
   },
   "source": [
    "### [A1] Verifique se os valores fazem sentido"
   ]
  },
  {
   "cell_type": "code",
   "execution_count": 37,
   "id": "growing-fruit",
   "metadata": {
    "id": "growing-fruit"
   },
   "outputs": [
    {
     "data": {
      "text/plain": [
       "order_hour_of_day\n",
       "0      3180\n",
       "1      1763\n",
       "2       989\n",
       "3       770\n",
       "4       765\n",
       "5      1371\n",
       "6      4215\n",
       "7     13043\n",
       "8     25024\n",
       "9     35896\n",
       "10    40578\n",
       "11    40032\n",
       "12    38034\n",
       "13    39007\n",
       "14    39631\n",
       "15    39789\n",
       "16    38112\n",
       "17    31930\n",
       "18    25510\n",
       "19    19547\n",
       "20    14624\n",
       "21    11019\n",
       "22     8512\n",
       "23     5611\n",
       "Name: count, dtype: int64"
      ]
     },
     "execution_count": 37,
     "metadata": {},
     "output_type": "execute_result"
    }
   ],
   "source": [
    "cart['order_hour_of_day'].value_counts().sort_index()"
   ]
  },
  {
   "cell_type": "code",
   "execution_count": 38,
   "id": "accessory-malaysia",
   "metadata": {
    "id": "accessory-malaysia"
   },
   "outputs": [
    {
     "data": {
      "text/plain": [
       "order_dow\n",
       "0    84090\n",
       "1    82185\n",
       "2    65833\n",
       "3    60897\n",
       "4    59810\n",
       "5    63488\n",
       "6    62649\n",
       "Name: count, dtype: int64"
      ]
     },
     "execution_count": 38,
     "metadata": {},
     "output_type": "execute_result"
    }
   ],
   "source": [
    "cart['order_dow'].value_counts().sort_index()"
   ]
  },
  {
   "cell_type": "markdown",
   "id": "hmR2GNQ6lCsX",
   "metadata": {
    "id": "hmR2GNQ6lCsX"
   },
   "source": [
    "Escreva suas conclusões aqui"
   ]
  },
  {
   "cell_type": "markdown",
   "id": "48217609",
   "metadata": {},
   "source": [
    "os valores estão corretos"
   ]
  },
  {
   "cell_type": "markdown",
   "id": "a6743a70",
   "metadata": {
    "id": "a6743a70"
   },
   "source": [
    "### [A2] Quantas pessoas fazem pedidos a cada hora do dia?"
   ]
  },
  {
   "cell_type": "code",
   "execution_count": 39,
   "id": "a36cca27",
   "metadata": {
    "id": "a36cca27"
   },
   "outputs": [
    {
     "data": {
      "text/plain": [
       "<Axes: xlabel='order_hour_of_day'>"
      ]
     },
     "execution_count": 39,
     "metadata": {},
     "output_type": "execute_result"
    },
    {
     "data": {
      "image/png": "[encoded data removed]",
      "text/plain": [
       "<Figure size 640x480 with 1 Axes>"
      ]
     },
     "metadata": {},
     "output_type": "display_data"
    }
   ],
   "source": [
    "cart.groupby('order_hour_of_day')['order_id'].count().plot(kind='bar')"
   ]
  },
  {
   "cell_type": "markdown",
   "id": "11270eed",
   "metadata": {
    "id": "11270eed"
   },
   "source": [
    "Escreva suas conclusões aqui"
   ]
  },
  {
   "cell_type": "markdown",
   "id": "eab1c330",
   "metadata": {},
   "source": [
    "os pedidos tem um aumento brusco a partir das 6, atingindo seu maior volume entre 10 e 15, e voltam a reduzer apos as 15 de maneira mais gradual "
   ]
  },
  {
   "cell_type": "markdown",
   "id": "documented-command",
   "metadata": {
    "id": "documented-command"
   },
   "source": [
    "### [A3] Em que dia da semana as pessoas compram produtos alimentícios?"
   ]
  },
  {
   "cell_type": "code",
   "execution_count": 40,
   "id": "chief-digit",
   "metadata": {
    "id": "chief-digit"
   },
   "outputs": [
    {
     "data": {
      "text/plain": [
       "<Axes: xlabel='order_dow'>"
      ]
     },
     "execution_count": 40,
     "metadata": {},
     "output_type": "execute_result"
    },
    {
     "data": {
      "image/png": "[encoded data removed]",
      "text/plain": [
       "<Figure size 640x480 with 1 Axes>"
      ]
     },
     "metadata": {},
     "output_type": "display_data"
    }
   ],
   "source": [
    "cart.groupby('order_dow')['order_id'].count().plot(kind='bar')"
   ]
  },
  {
   "cell_type": "markdown",
   "id": "dominant-lightning",
   "metadata": {
    "id": "dominant-lightning"
   },
   "source": [
    "Escreva suas conclusões aqui"
   ]
  },
  {
   "cell_type": "markdown",
   "id": "d78e2178",
   "metadata": {},
   "source": [
    "há um volume de compras maior no domingo e na segunda"
   ]
  },
  {
   "cell_type": "markdown",
   "id": "cutting-concert",
   "metadata": {
    "id": "cutting-concert"
   },
   "source": [
    "### [A4] Quanto tempo as pessoas esperam até fazer outro pedido?"
   ]
  },
  {
   "cell_type": "markdown",
   "id": "discrete-vertex",
   "metadata": {
    "id": "discrete-vertex"
   },
   "source": [
    "Escreva suas conclusões aqui"
   ]
  },
  {
   "cell_type": "code",
   "execution_count": 41,
   "id": "gMOIimGd5VNb",
   "metadata": {
    "id": "gMOIimGd5VNb"
   },
   "outputs": [
    {
     "data": {
      "text/plain": [
       "<Axes: xlabel='days_since_prior_order'>"
      ]
     },
     "execution_count": 41,
     "metadata": {},
     "output_type": "execute_result"
    },
    {
     "data": {
      "image/png": "[encoded data removed]",
      "text/plain": [
       "<Figure size 640x480 with 1 Axes>"
      ]
     },
     "metadata": {},
     "output_type": "display_data"
    }
   ],
   "source": [
    "cart.groupby('days_since_prior_order')['order_id'].count().plot(kind=\"bar\")"
   ]
  },
  {
   "cell_type": "markdown",
   "id": "8d58cd22",
   "metadata": {},
   "source": [
    "uma grande quantidade de pessoas realiza o pedido novamente entre 1 e 7 dias, porem 7 e 30 dias apos a o pedido anterior se destacam no grafico com a maior quantidade de pessoas realizando pedidos apos 7 e 30 dias"
   ]
  },
  {
   "cell_type": "markdown",
   "id": "tight-staff",
   "metadata": {
    "id": "tight-staff"
   },
   "source": [
    "# [B] Médio (é necessário concluir tudo para passar)\n",
    "\n",
    "1.\tHá alguma diferença nas distribuições de `'order_hour_of_day'` nas quartas e sábados? Construa gráficos de barras para ambos os dias no mesmo gráfico e descreva as diferenças que você notou.\n",
    "2.\tConstrua um gráfico de distribuição para o número de pedidos que os clientes fazem (ou seja, quantos clientes fizeram apenas 1 pedido, quantos fizeram apenas 2, quantos apenas 3, etc.)\n",
    "3.\tQuais são os 20 produtos comprados com mais frequência? Exiba os IDs e nomes.\n"
   ]
  },
  {
   "cell_type": "markdown",
   "id": "packed-classic",
   "metadata": {
    "id": "packed-classic"
   },
   "source": [
    "### [B1] Diferenças nas quartas e sábados em `'order_hour_of_day'`. Crie gráficos de barras para ambos os dias e descreva as diferenças."
   ]
  },
  {
   "cell_type": "code",
   "execution_count": 42,
   "id": "d89b8403",
   "metadata": {
    "id": "d89b8403"
   },
   "outputs": [
    {
     "data": {
      "image/png": "[encoded data removed]",
      "text/plain": [
       "<Figure size 640x480 with 1 Axes>"
      ]
     },
     "metadata": {},
     "output_type": "display_data"
    }
   ],
   "source": [
    "import matplotlib.pyplot as plt\n",
    "\n",
    "# Filtra os dados\n",
    "wednesday_orders = cart[cart['order_dow'] == 3]['order_hour_of_day']\n",
    "saturday_orders = cart[cart['order_dow'] == 6]['order_hour_of_day']\n",
    "\n",
    "# Conta a frequência das horas de pedido\n",
    "wednesday_counts = wednesday_orders.value_counts().sort_index()\n",
    "saturday_counts = saturday_orders.value_counts().sort_index()\n",
    "\n",
    "# Configura as cores\n",
    "colors = ['blue', 'green']\n",
    "\n",
    "# Cria a figura e os eixos\n",
    "fig, ax = plt.subplots()\n",
    "\n",
    "# Plota os dados\n",
    "wednesday_counts.plot(kind='bar', ax=ax, color=colors[0], position=0, width=0.4, label='Quarta-feira')\n",
    "saturday_counts.plot(kind='bar', ax=ax, color=colors[1], position=1, width=0.4, label='Sábado')\n",
    "\n",
    "# Adiciona a legenda\n",
    "ax.legend()\n",
    "\n",
    "# Adiciona títulos e rótulos\n",
    "ax.set_title('Distribuição das horas de pedido por dia da semana')\n",
    "ax.set_xlabel('Hora do dia')\n",
    "ax.set_ylabel('Contagem de pedidos')\n",
    "\n",
    "# Mostra o gráfico\n",
    "plt.show()"
   ]
  },
  {
   "cell_type": "markdown",
   "id": "charitable-congo",
   "metadata": {
    "id": "charitable-congo"
   },
   "source": [
    "Escreva suas conclusões aqui"
   ]
  },
  {
   "cell_type": "markdown",
   "id": "746c0621",
   "metadata": {},
   "source": [
    "Não ha uma grande diferença na quantidade  de pedidos entre quata e sabado, com exceção das 12 até as 14 onde sabado tem uma quantidade visivelmente maior de pedidos relizados"
   ]
  },
  {
   "cell_type": "markdown",
   "id": "e3891143",
   "metadata": {
    "id": "e3891143"
   },
   "source": [
    "### [B2] Qual é a distribuição do número de pedidos por cliente?"
   ]
  },
  {
   "cell_type": "code",
   "execution_count": null,
   "id": "d8c26c23",
   "metadata": {
    "id": "d8c26c23"
   },
   "outputs": [
    {
     "data": {
      "text/plain": [
       "<Axes: >"
      ]
     },
     "execution_count": 43,
     "metadata": {},
     "output_type": "execute_result"
    },
    {
     "data": {
      "image/png": "[encoded data removed]",
      "text/plain": [
       "<Figure size 640x480 with 1 Axes>"
      ]
     },
     "metadata": {},
     "output_type": "display_data"
    }
   ],
   "source": [
    "cart.groupby('user_id')['order_id'].count().hist()"
   ]
  },
  {
   "cell_type": "markdown",
   "id": "d2eff7d5",
   "metadata": {
    "id": "d2eff7d5"
   },
   "source": [
    "Escreva suas conclusões aqui"
   ]
  },
  {
   "cell_type": "markdown",
   "id": "784f1069",
   "metadata": {},
   "source": [
    "a maior parte dos clientes realiza menos de 5 pedidos"
   ]
  },
  {
   "cell_type": "markdown",
   "id": "54a0319c",
   "metadata": {
    "id": "54a0319c"
   },
   "source": [
    "### [B3] Quais são os 20 produtos mais populares? Exiba os IDs e nomes."
   ]
  },
  {
   "cell_type": "code",
   "execution_count": null,
   "id": "exterior-arizona",
   "metadata": {
    "id": "exterior-arizona",
    "scrolled": true
   },
   "outputs": [
    {
     "name": "stdout",
     "output_type": "stream",
     "text": [
      "product_id  product_name            \n",
      "24852       Banana                      66050\n",
      "13176       Bag of Organic Bananas      53297\n",
      "21137       Organic Strawberries        37039\n",
      "21903       Organic Baby Spinach        33971\n",
      "47209       Organic Hass Avocado        29773\n",
      "47766       Organic Avocado             24689\n",
      "47626       Large Lemon                 21495\n",
      "16797       Strawberries                20018\n",
      "26209       Limes                       19690\n",
      "27845       Organic Whole Milk          19600\n",
      "27966       Organic Raspberries         19197\n",
      "22935       Organic Yellow Onion        15898\n",
      "24964       Organic Garlic              15292\n",
      "45007       Organic Zucchini            14584\n",
      "39275       Organic Blueberries         13879\n",
      "49683       Cucumber Kirby              13675\n",
      "28204       Organic Fuji Apple          12544\n",
      "5876        Organic Lemon               12232\n",
      "8277        Apple Honeycrisp Organic    11993\n",
      "40706       Organic Grape Tomatoes      11781\n",
      "Name: product_name, dtype: int64\n"
     ]
    }
   ],
   "source": [
    "merge = order.merge(products, on='product_id')\n",
    "print(merge.groupby(['product_id','product_name'])['product_name'].count().sort_values(ascending=False).head(20))"
   ]
  },
  {
   "cell_type": "markdown",
   "id": "7df00f47",
   "metadata": {
    "id": "7df00f47"
   },
   "source": [
    "Escreva suas conclusões aqui"
   ]
  },
  {
   "cell_type": "markdown",
   "id": "gross-theme",
   "metadata": {
    "id": "gross-theme"
   },
   "source": [
    "# [C] Difícil (é necessário concluir pelo menos duas perguntas para passar)\n",
    "\n",
    "1.\tQuantos itens as pessoas normalmente compram em um pedido? Como fica a distribuição?\n",
    "2.\tQuais são os 20 principais itens incluídos mais frequentemente em pedidos repetidos? Exiba os IDs e nomes.\n",
    "3.\tPara cada produto, qual parcela de seus pedidos são repetidos? Crie uma tabela com colunas de ID e nome do produto e a proporção de pedidos repetidos.\n",
    "4.\tPara cada cliente, qual proporção de todos os seus pedidos são repetidos?\n",
    "5.\tQuais são os 20 principais itens que as pessoas colocam nos carrinhos antes de todos os outros? Exiba o ID do produto, nome e o número de vezes que ele foi o primeiro a ser adicionado a um carrinho.\n"
   ]
  },
  {
   "cell_type": "markdown",
   "id": "romantic-deposit",
   "metadata": {
    "id": "romantic-deposit"
   },
   "source": [
    "### [C1] Quantos itens as pessoas normalmente compram em um pedido? Como fica a distribuição?"
   ]
  },
  {
   "cell_type": "code",
   "execution_count": null,
   "id": "virtual-punch",
   "metadata": {
    "id": "virtual-punch",
    "scrolled": false
   },
   "outputs": [
    {
     "data": {
      "text/plain": [
       "<Axes: >"
      ]
     },
     "execution_count": 45,
     "metadata": {},
     "output_type": "execute_result"
    },
    {
     "data": {
      "image/png": "[encoded data removed]",
      "text/plain": [
       "<Figure size 640x480 with 1 Axes>"
      ]
     },
     "metadata": {},
     "output_type": "display_data"
    }
   ],
   "source": [
    "order.groupby(['order_id'])['product_id'].count().value_counts().hist()"
   ]
  },
  {
   "cell_type": "markdown",
   "id": "designed-mortality",
   "metadata": {
    "id": "designed-mortality"
   },
   "source": [
    "Escreva suas conclusões aqui"
   ]
  },
  {
   "cell_type": "markdown",
   "id": "c105621b",
   "metadata": {},
   "source": [
    "a maior parte dos pedidos teram menos de 10 produtos, porem alguns chegaram até mais de 60"
   ]
  },
  {
   "cell_type": "markdown",
   "id": "5e6b5537",
   "metadata": {
    "id": "5e6b5537"
   },
   "source": [
    "### [C2] Quais são os 20 principais itens incluídos com mais frequência em pedidos repetidos? Exiba os IDs e nomes."
   ]
  },
  {
   "cell_type": "code",
   "execution_count": null,
   "id": "9374e55a",
   "metadata": {
    "id": "9374e55a"
   },
   "outputs": [
    {
     "name": "stdout",
     "output_type": "stream",
     "text": [
      "product_id  product_name            \n",
      "24852       Banana                      55763\n",
      "13176       Bag of Organic Bananas      44450\n",
      "21137       Organic Strawberries        28639\n",
      "21903       Organic Baby Spinach        26233\n",
      "47209       Organic Hass Avocado        23629\n",
      "47766       Organic Avocado             18743\n",
      "27845       Organic Whole Milk          16251\n",
      "47626       Large Lemon                 15044\n",
      "27966       Organic Raspberries         14748\n",
      "16797       Strawberries                13945\n",
      "26209       Limes                       13327\n",
      "22935       Organic Yellow Onion        11145\n",
      "24964       Organic Garlic              10411\n",
      "45007       Organic Zucchini            10076\n",
      "49683       Cucumber Kirby               9538\n",
      "28204       Organic Fuji Apple           8989\n",
      "8277        Apple Honeycrisp Organic     8836\n",
      "39275       Organic Blueberries          8799\n",
      "5876        Organic Lemon                8412\n",
      "49235       Organic Half & Half          8389\n",
      "Name: product_name, dtype: int64\n"
     ]
    }
   ],
   "source": [
    "merge = order[order['reordered']==1].merge(products, on='product_id')\n",
    "print(merge.groupby(['product_id','product_name'])['product_name'].count().sort_values(ascending=False).head(20))"
   ]
  }
 ],
 "metadata": {
  "ExecuteTimeLog": [
   {
    "duration": 490,
    "start_time": "2024-07-09T19:53:07.615Z"
   },
   {
    "duration": 4314,
    "start_time": "2024-07-09T19:53:08.138Z"
   },
   {
    "duration": 51,
    "start_time": "2024-07-09T19:53:12.456Z"
   },
   {
    "duration": 8,
    "start_time": "2024-07-09T19:54:35.214Z"
   },
   {
    "duration": 6,
    "start_time": "2024-07-09T19:55:00.223Z"
   },
   {
    "duration": 6,
    "start_time": "2024-07-09T19:55:12.271Z"
   },
   {
    "duration": 3909,
    "start_time": "2024-07-09T19:55:28.621Z"
   },
   {
    "duration": 23,
    "start_time": "2024-07-09T19:55:32.535Z"
   },
   {
    "duration": 1587,
    "start_time": "2024-07-09T19:55:45.692Z"
   },
   {
    "duration": 27,
    "start_time": "2024-07-09T19:55:47.283Z"
   },
   {
    "duration": 23,
    "start_time": "2024-07-09T19:55:47.418Z"
   },
   {
    "duration": 144,
    "start_time": "2024-07-09T19:55:49.266Z"
   },
   {
    "duration": 18,
    "start_time": "2024-07-09T19:56:04.712Z"
   },
   {
    "duration": 18,
    "start_time": "2024-07-09T19:56:07.703Z"
   },
   {
    "duration": 16,
    "start_time": "2024-07-09T19:56:09.318Z"
   },
   {
    "duration": 26,
    "start_time": "2024-07-09T19:58:33.375Z"
   },
   {
    "duration": 20,
    "start_time": "2024-07-09T19:58:44.845Z"
   },
   {
    "duration": 157,
    "start_time": "2024-07-09T19:59:33.423Z"
   },
   {
    "duration": 161,
    "start_time": "2024-07-09T20:03:26.223Z"
   },
   {
    "duration": 164,
    "start_time": "2024-07-09T20:03:56.725Z"
   },
   {
    "duration": 182,
    "start_time": "2024-07-09T20:04:31.084Z"
   },
   {
    "duration": 278,
    "start_time": "2024-07-09T20:06:06.536Z"
   },
   {
    "duration": 156,
    "start_time": "2024-07-09T20:06:11.893Z"
   },
   {
    "duration": 810,
    "start_time": "2024-07-09T20:08:12.471Z"
   },
   {
    "duration": 149,
    "start_time": "2024-07-09T20:08:28.125Z"
   },
   {
    "duration": 7,
    "start_time": "2024-07-09T20:08:42.837Z"
   },
   {
    "duration": 85,
    "start_time": "2024-07-09T20:08:50.895Z"
   },
   {
    "duration": 76,
    "start_time": "2024-07-09T20:08:59.521Z"
   },
   {
    "duration": 6,
    "start_time": "2024-07-09T20:09:06.399Z"
   },
   {
    "duration": 665,
    "start_time": "2024-07-09T20:10:16.157Z"
   },
   {
    "duration": 698,
    "start_time": "2024-07-09T20:10:39.685Z"
   },
   {
    "duration": 11,
    "start_time": "2024-07-09T20:12:03.716Z"
   },
   {
    "duration": 80,
    "start_time": "2024-07-09T20:14:25.472Z"
   },
   {
    "duration": 85,
    "start_time": "2024-07-09T20:14:29.506Z"
   },
   {
    "duration": 10,
    "start_time": "2024-07-09T20:15:20.870Z"
   },
   {
    "duration": 6,
    "start_time": "2024-07-09T20:15:34.474Z"
   },
   {
    "duration": 14,
    "start_time": "2024-07-09T20:15:42.910Z"
   },
   {
    "duration": 10,
    "start_time": "2024-07-09T20:15:55.901Z"
   },
   {
    "duration": 804,
    "start_time": "2024-07-09T20:16:53.614Z"
   },
   {
    "duration": 802,
    "start_time": "2024-07-09T20:17:12.173Z"
   },
   {
    "duration": 848,
    "start_time": "2024-07-09T20:17:44.534Z"
   },
   {
    "duration": 760,
    "start_time": "2024-07-09T20:17:53.556Z"
   },
   {
    "duration": 658,
    "start_time": "2024-07-09T20:18:13.992Z"
   },
   {
    "duration": 658,
    "start_time": "2024-07-09T20:18:37.542Z"
   },
   {
    "duration": 666,
    "start_time": "2024-07-09T20:18:46.973Z"
   },
   {
    "duration": 11,
    "start_time": "2024-07-09T20:20:05.496Z"
   },
   {
    "duration": 198,
    "start_time": "2024-07-09T20:22:21.025Z"
   },
   {
    "duration": 516,
    "start_time": "2024-07-09T20:22:21.737Z"
   },
   {
    "duration": 19,
    "start_time": "2024-07-09T20:22:48.874Z"
   },
   {
    "duration": 151,
    "start_time": "2024-07-09T20:22:59.365Z"
   },
   {
    "duration": 195,
    "start_time": "2024-07-09T20:23:31.921Z"
   },
   {
    "duration": 168,
    "start_time": "2024-07-09T20:23:35.451Z"
   },
   {
    "duration": 165,
    "start_time": "2024-07-09T20:25:04.815Z"
   },
   {
    "duration": 178,
    "start_time": "2024-07-09T20:28:18.240Z"
   },
   {
    "duration": 176,
    "start_time": "2024-07-09T20:28:20.829Z"
   },
   {
    "duration": 33,
    "start_time": "2024-07-09T20:29:06.501Z"
   },
   {
    "duration": 45,
    "start_time": "2024-07-09T20:29:18.527Z"
   },
   {
    "duration": 23,
    "start_time": "2024-07-09T20:32:11.750Z"
   },
   {
    "duration": 92,
    "start_time": "2024-07-09T20:32:57.701Z"
   },
   {
    "duration": 19,
    "start_time": "2024-07-09T20:33:09.982Z"
   },
   {
    "duration": 453,
    "start_time": "2024-07-09T20:33:21.222Z"
   },
   {
    "duration": 1552,
    "start_time": "2024-07-09T20:33:21.679Z"
   },
   {
    "duration": 30,
    "start_time": "2024-07-09T20:33:23.234Z"
   },
   {
    "duration": 42,
    "start_time": "2024-07-09T20:33:23.269Z"
   },
   {
    "duration": 17,
    "start_time": "2024-07-09T20:33:23.318Z"
   },
   {
    "duration": 16,
    "start_time": "2024-07-09T20:33:23.339Z"
   },
   {
    "duration": 48,
    "start_time": "2024-07-09T20:33:23.358Z"
   },
   {
    "duration": 207,
    "start_time": "2024-07-09T20:33:23.409Z"
   },
   {
    "duration": 14,
    "start_time": "2024-07-09T20:33:23.619Z"
   },
   {
    "duration": 6,
    "start_time": "2024-07-09T20:33:23.640Z"
   },
   {
    "duration": 0,
    "start_time": "2024-07-09T20:33:23.650Z"
   },
   {
    "duration": 0,
    "start_time": "2024-07-09T20:33:23.652Z"
   },
   {
    "duration": 0,
    "start_time": "2024-07-09T20:33:23.691Z"
   },
   {
    "duration": 0,
    "start_time": "2024-07-09T20:33:23.694Z"
   },
   {
    "duration": 0,
    "start_time": "2024-07-09T20:33:23.696Z"
   },
   {
    "duration": 0,
    "start_time": "2024-07-09T20:33:23.698Z"
   },
   {
    "duration": 0,
    "start_time": "2024-07-09T20:33:23.700Z"
   },
   {
    "duration": 0,
    "start_time": "2024-07-09T20:33:23.702Z"
   },
   {
    "duration": 0,
    "start_time": "2024-07-09T20:33:23.705Z"
   },
   {
    "duration": 0,
    "start_time": "2024-07-09T20:33:23.707Z"
   },
   {
    "duration": 0,
    "start_time": "2024-07-09T20:33:23.709Z"
   },
   {
    "duration": 0,
    "start_time": "2024-07-09T20:33:23.711Z"
   },
   {
    "duration": 0,
    "start_time": "2024-07-09T20:33:23.713Z"
   },
   {
    "duration": 0,
    "start_time": "2024-07-09T20:33:23.716Z"
   },
   {
    "duration": 0,
    "start_time": "2024-07-09T20:33:23.718Z"
   },
   {
    "duration": 0,
    "start_time": "2024-07-09T20:33:23.721Z"
   },
   {
    "duration": 0,
    "start_time": "2024-07-09T20:33:23.724Z"
   },
   {
    "duration": 1,
    "start_time": "2024-07-09T20:33:23.725Z"
   },
   {
    "duration": 0,
    "start_time": "2024-07-09T20:33:23.727Z"
   },
   {
    "duration": 0,
    "start_time": "2024-07-09T20:33:23.728Z"
   },
   {
    "duration": 0,
    "start_time": "2024-07-09T20:33:23.731Z"
   },
   {
    "duration": 57,
    "start_time": "2024-07-09T20:33:23.733Z"
   },
   {
    "duration": 0,
    "start_time": "2024-07-09T20:33:23.792Z"
   },
   {
    "duration": 0,
    "start_time": "2024-07-09T20:33:23.795Z"
   },
   {
    "duration": 0,
    "start_time": "2024-07-09T20:33:23.797Z"
   },
   {
    "duration": 3,
    "start_time": "2024-07-09T20:33:46.300Z"
   },
   {
    "duration": 1495,
    "start_time": "2024-07-09T20:33:46.308Z"
   },
   {
    "duration": 22,
    "start_time": "2024-07-09T20:33:47.806Z"
   },
   {
    "duration": 22,
    "start_time": "2024-07-09T20:33:47.832Z"
   },
   {
    "duration": 44,
    "start_time": "2024-07-09T20:33:47.857Z"
   },
   {
    "duration": 18,
    "start_time": "2024-07-09T20:33:47.904Z"
   },
   {
    "duration": 19,
    "start_time": "2024-07-09T20:33:47.925Z"
   },
   {
    "duration": 171,
    "start_time": "2024-07-09T20:33:47.989Z"
   },
   {
    "duration": 12,
    "start_time": "2024-07-09T20:33:48.164Z"
   },
   {
    "duration": 202,
    "start_time": "2024-07-09T20:33:48.192Z"
   },
   {
    "duration": 184,
    "start_time": "2024-07-09T20:33:48.397Z"
   },
   {
    "duration": 51,
    "start_time": "2024-07-09T20:33:48.584Z"
   },
   {
    "duration": 29,
    "start_time": "2024-07-09T20:33:54.472Z"
   },
   {
    "duration": 9,
    "start_time": "2024-07-09T20:34:03.184Z"
   },
   {
    "duration": 125,
    "start_time": "2024-07-09T20:34:23.879Z"
   },
   {
    "duration": 21,
    "start_time": "2024-07-09T20:35:00.036Z"
   },
   {
    "duration": 6,
    "start_time": "2024-07-09T20:35:47.634Z"
   },
   {
    "duration": 6,
    "start_time": "2024-07-09T20:35:55.241Z"
   },
   {
    "duration": 6,
    "start_time": "2024-07-09T20:36:03.966Z"
   },
   {
    "duration": 138,
    "start_time": "2024-07-09T20:37:17.229Z"
   },
   {
    "duration": 22,
    "start_time": "2024-07-09T20:37:24.826Z"
   },
   {
    "duration": 39,
    "start_time": "2024-07-09T20:37:36.813Z"
   },
   {
    "duration": 1057,
    "start_time": "2024-07-09T20:37:50.538Z"
   },
   {
    "duration": 34,
    "start_time": "2024-07-09T20:38:00.064Z"
   },
   {
    "duration": 24,
    "start_time": "2024-07-09T20:38:48.733Z"
   },
   {
    "duration": 79,
    "start_time": "2024-07-09T20:38:53.924Z"
   },
   {
    "duration": 44,
    "start_time": "2024-07-09T20:40:43.827Z"
   },
   {
    "duration": 5,
    "start_time": "2024-07-09T20:51:53.941Z"
   },
   {
    "duration": 4,
    "start_time": "2024-07-09T20:52:25.612Z"
   },
   {
    "duration": 7,
    "start_time": "2024-07-09T20:55:10.249Z"
   },
   {
    "duration": 6,
    "start_time": "2024-07-09T20:57:17.621Z"
   },
   {
    "duration": 73,
    "start_time": "2024-07-09T20:57:41.147Z"
   },
   {
    "duration": 75,
    "start_time": "2024-07-09T20:57:44.600Z"
   },
   {
    "duration": 8,
    "start_time": "2024-07-09T20:58:26.393Z"
   },
   {
    "duration": 75,
    "start_time": "2024-07-09T20:59:16.576Z"
   },
   {
    "duration": 5,
    "start_time": "2024-07-09T20:59:22.100Z"
   },
   {
    "duration": 1454,
    "start_time": "2024-07-09T20:59:58.816Z"
   },
   {
    "duration": 23,
    "start_time": "2024-07-09T21:00:45.524Z"
   },
   {
    "duration": 6,
    "start_time": "2024-07-09T21:01:08.307Z"
   },
   {
    "duration": 22,
    "start_time": "2024-07-09T21:01:12.807Z"
   },
   {
    "duration": 3965,
    "start_time": "2024-07-09T21:01:20.859Z"
   },
   {
    "duration": 682,
    "start_time": "2024-07-09T21:29:50.734Z"
   },
   {
    "duration": 420,
    "start_time": "2024-07-09T21:30:02.560Z"
   },
   {
    "duration": 3948,
    "start_time": "2024-07-09T21:30:31.161Z"
   },
   {
    "duration": 3724,
    "start_time": "2024-07-09T21:30:50.295Z"
   },
   {
    "duration": 3986,
    "start_time": "2024-07-09T21:31:06.245Z"
   },
   {
    "duration": 22,
    "start_time": "2024-07-09T21:32:53.554Z"
   },
   {
    "duration": 22,
    "start_time": "2024-07-09T21:32:56.340Z"
   },
   {
    "duration": 22,
    "start_time": "2024-07-09T21:32:59.002Z"
   },
   {
    "duration": 3814,
    "start_time": "2024-07-09T21:33:07.167Z"
   },
   {
    "duration": 173,
    "start_time": "2024-07-09T21:33:19.362Z"
   },
   {
    "duration": 4941,
    "start_time": "2024-07-09T21:33:29.080Z"
   },
   {
    "duration": 40,
    "start_time": "2024-07-09T21:33:49.235Z"
   },
   {
    "duration": 3942,
    "start_time": "2024-07-09T21:34:10.853Z"
   },
   {
    "duration": 13,
    "start_time": "2024-07-09T21:36:44.482Z"
   },
   {
    "duration": 19,
    "start_time": "2024-07-09T21:36:55.811Z"
   },
   {
    "duration": 73,
    "start_time": "2024-07-09T21:37:20.906Z"
   },
   {
    "duration": 75,
    "start_time": "2024-07-09T21:37:31.384Z"
   },
   {
    "duration": 93,
    "start_time": "2024-07-09T21:37:42.379Z"
   },
   {
    "duration": 83,
    "start_time": "2024-07-09T21:37:55.169Z"
   },
   {
    "duration": 13,
    "start_time": "2024-07-09T21:38:08.721Z"
   },
   {
    "duration": 4,
    "start_time": "2024-07-09T21:39:05.932Z"
   },
   {
    "duration": 25,
    "start_time": "2024-07-09T21:39:26.422Z"
   },
   {
    "duration": 15,
    "start_time": "2024-07-09T21:39:32.257Z"
   },
   {
    "duration": 13,
    "start_time": "2024-07-09T21:40:54.229Z"
   },
   {
    "duration": 15,
    "start_time": "2024-07-09T21:42:10.371Z"
   },
   {
    "duration": 20,
    "start_time": "2024-07-09T21:42:26.577Z"
   },
   {
    "duration": 32,
    "start_time": "2024-07-09T21:43:08.076Z"
   },
   {
    "duration": 35,
    "start_time": "2024-07-09T21:43:13.089Z"
   },
   {
    "duration": 20,
    "start_time": "2024-07-09T21:43:25.819Z"
   },
   {
    "duration": 27,
    "start_time": "2024-07-09T21:50:36.021Z"
   },
   {
    "duration": 28,
    "start_time": "2024-07-09T21:50:41.453Z"
   },
   {
    "duration": 24,
    "start_time": "2024-07-09T21:50:51.366Z"
   },
   {
    "duration": 86,
    "start_time": "2024-07-09T21:51:58.583Z"
   },
   {
    "duration": 88,
    "start_time": "2024-07-09T21:52:23.189Z"
   },
   {
    "duration": 77,
    "start_time": "2024-07-09T21:52:56.602Z"
   },
   {
    "duration": 28,
    "start_time": "2024-07-09T21:53:06.741Z"
   },
   {
    "duration": 75,
    "start_time": "2024-07-09T21:53:15.748Z"
   },
   {
    "duration": 27,
    "start_time": "2024-07-09T21:53:37.195Z"
   },
   {
    "duration": 99,
    "start_time": "2024-07-09T21:53:44.733Z"
   },
   {
    "duration": 10,
    "start_time": "2024-07-09T21:54:22.254Z"
   },
   {
    "duration": 9,
    "start_time": "2024-07-09T22:00:37.899Z"
   },
   {
    "duration": 15,
    "start_time": "2024-07-09T22:01:01.575Z"
   },
   {
    "duration": 23,
    "start_time": "2024-07-09T22:02:41.696Z"
   },
   {
    "duration": 23,
    "start_time": "2024-07-09T22:03:17.471Z"
   },
   {
    "duration": 297,
    "start_time": "2024-07-09T22:03:39.142Z"
   },
   {
    "duration": 7,
    "start_time": "2024-07-09T22:05:24.005Z"
   },
   {
    "duration": 34,
    "start_time": "2024-07-09T22:49:27.159Z"
   },
   {
    "duration": 22,
    "start_time": "2024-07-09T22:50:49.663Z"
   },
   {
    "duration": 22,
    "start_time": "2024-07-09T22:51:03.455Z"
   },
   {
    "duration": 790,
    "start_time": "2024-07-09T22:51:10.551Z"
   },
   {
    "duration": 284,
    "start_time": "2024-07-09T22:51:28.466Z"
   },
   {
    "duration": 314,
    "start_time": "2024-07-10T01:34:01.464Z"
   },
   {
    "duration": 22,
    "start_time": "2024-07-10T01:34:17.459Z"
   },
   {
    "duration": 488,
    "start_time": "2024-07-10T01:34:31.282Z"
   },
   {
    "duration": 1706,
    "start_time": "2024-07-10T01:34:31.774Z"
   },
   {
    "duration": 33,
    "start_time": "2024-07-10T01:34:33.483Z"
   },
   {
    "duration": 20,
    "start_time": "2024-07-10T01:34:33.520Z"
   },
   {
    "duration": 15,
    "start_time": "2024-07-10T01:34:33.543Z"
   },
   {
    "duration": 46,
    "start_time": "2024-07-10T01:34:33.562Z"
   },
   {
    "duration": 17,
    "start_time": "2024-07-10T01:34:33.611Z"
   },
   {
    "duration": 215,
    "start_time": "2024-07-10T01:34:33.631Z"
   },
   {
    "duration": 15,
    "start_time": "2024-07-10T01:34:33.850Z"
   },
   {
    "duration": 208,
    "start_time": "2024-07-10T01:34:33.872Z"
   },
   {
    "duration": 169,
    "start_time": "2024-07-10T01:34:34.083Z"
   },
   {
    "duration": 59,
    "start_time": "2024-07-10T01:34:34.256Z"
   },
   {
    "duration": 22,
    "start_time": "2024-07-10T01:34:34.318Z"
   },
   {
    "duration": 6,
    "start_time": "2024-07-10T01:34:34.343Z"
   },
   {
    "duration": 65,
    "start_time": "2024-07-10T01:34:34.352Z"
   },
   {
    "duration": 36,
    "start_time": "2024-07-10T01:34:34.420Z"
   },
   {
    "duration": 6,
    "start_time": "2024-07-10T01:34:34.459Z"
   },
   {
    "duration": 37,
    "start_time": "2024-07-10T01:34:34.468Z"
   },
   {
    "duration": 8,
    "start_time": "2024-07-10T01:34:34.508Z"
   },
   {
    "duration": 6,
    "start_time": "2024-07-10T01:34:34.519Z"
   },
   {
    "duration": 1394,
    "start_time": "2024-07-10T01:34:34.529Z"
   },
   {
    "duration": 3884,
    "start_time": "2024-07-10T01:34:35.927Z"
   },
   {
    "duration": 7,
    "start_time": "2024-07-10T01:34:39.815Z"
   },
   {
    "duration": 0,
    "start_time": "2024-07-10T01:34:39.825Z"
   },
   {
    "duration": 0,
    "start_time": "2024-07-10T01:34:39.827Z"
   },
   {
    "duration": 0,
    "start_time": "2024-07-10T01:34:39.830Z"
   },
   {
    "duration": 0,
    "start_time": "2024-07-10T01:34:39.832Z"
   },
   {
    "duration": 0,
    "start_time": "2024-07-10T01:34:39.833Z"
   },
   {
    "duration": 0,
    "start_time": "2024-07-10T01:34:39.835Z"
   },
   {
    "duration": 0,
    "start_time": "2024-07-10T01:34:39.837Z"
   },
   {
    "duration": 0,
    "start_time": "2024-07-10T01:34:39.840Z"
   },
   {
    "duration": 0,
    "start_time": "2024-07-10T01:34:39.842Z"
   },
   {
    "duration": 0,
    "start_time": "2024-07-10T01:34:39.845Z"
   },
   {
    "duration": 0,
    "start_time": "2024-07-10T01:34:39.850Z"
   },
   {
    "duration": 26,
    "start_time": "2024-07-10T01:34:42.798Z"
   },
   {
    "duration": 60,
    "start_time": "2024-07-10T01:35:03.375Z"
   },
   {
    "duration": 10,
    "start_time": "2024-07-10T01:35:09.602Z"
   },
   {
    "duration": 20,
    "start_time": "2024-07-10T01:35:43.736Z"
   },
   {
    "duration": 291,
    "start_time": "2024-07-10T01:35:57.773Z"
   },
   {
    "duration": 28,
    "start_time": "2024-07-10T01:36:31.844Z"
   },
   {
    "duration": 284,
    "start_time": "2024-07-10T01:36:35.934Z"
   },
   {
    "duration": 16,
    "start_time": "2024-07-10T01:37:18.713Z"
   },
   {
    "duration": 19,
    "start_time": "2024-07-10T01:37:23.052Z"
   },
   {
    "duration": 25,
    "start_time": "2024-07-10T01:37:36.342Z"
   },
   {
    "duration": 6,
    "start_time": "2024-07-10T01:37:38.119Z"
   },
   {
    "duration": 10,
    "start_time": "2024-07-10T01:37:40.081Z"
   },
   {
    "duration": 16,
    "start_time": "2024-07-10T01:38:06.335Z"
   },
   {
    "duration": 280,
    "start_time": "2024-07-10T01:39:20.399Z"
   },
   {
    "duration": 8,
    "start_time": "2024-07-10T01:39:31.001Z"
   },
   {
    "duration": 114,
    "start_time": "2024-07-10T01:40:10.240Z"
   },
   {
    "duration": 120,
    "start_time": "2024-07-10T01:40:24.700Z"
   },
   {
    "duration": 16,
    "start_time": "2024-07-10T01:40:31.369Z"
   },
   {
    "duration": 4828,
    "start_time": "2024-07-10T01:43:24.688Z"
   },
   {
    "duration": 56,
    "start_time": "2024-07-10T01:43:32.818Z"
   },
   {
    "duration": 10,
    "start_time": "2024-07-10T01:44:25.159Z"
   },
   {
    "duration": 26,
    "start_time": "2024-07-10T01:45:27.748Z"
   },
   {
    "duration": 422,
    "start_time": "2024-07-10T01:45:38.487Z"
   },
   {
    "duration": 7,
    "start_time": "2024-07-10T01:46:07.875Z"
   },
   {
    "duration": 36,
    "start_time": "2024-07-10T01:46:33.683Z"
   },
   {
    "duration": 22,
    "start_time": "2024-07-10T01:46:40.693Z"
   },
   {
    "duration": 3,
    "start_time": "2024-07-10T01:47:09.618Z"
   },
   {
    "duration": 26,
    "start_time": "2024-07-10T01:47:15.422Z"
   },
   {
    "duration": 23,
    "start_time": "2024-07-10T01:47:25.084Z"
   },
   {
    "duration": 6,
    "start_time": "2024-07-10T01:49:36.377Z"
   },
   {
    "duration": 6,
    "start_time": "2024-07-10T01:51:14.938Z"
   },
   {
    "duration": 134,
    "start_time": "2024-07-10T01:51:27.997Z"
   },
   {
    "duration": 128,
    "start_time": "2024-07-10T01:51:45.119Z"
   },
   {
    "duration": 478,
    "start_time": "2024-07-10T01:51:59.907Z"
   },
   {
    "duration": 478,
    "start_time": "2024-07-10T01:52:30.004Z"
   },
   {
    "duration": 467,
    "start_time": "2024-07-10T01:52:55.060Z"
   },
   {
    "duration": 938,
    "start_time": "2024-07-10T01:53:10.880Z"
   },
   {
    "duration": 761,
    "start_time": "2024-07-10T01:54:05.660Z"
   },
   {
    "duration": 1039,
    "start_time": "2024-07-10T01:54:20.513Z"
   },
   {
    "duration": 0,
    "start_time": "2024-07-10T01:57:16.615Z"
   },
   {
    "duration": 6,
    "start_time": "2024-07-10T01:57:51.367Z"
   },
   {
    "duration": 11,
    "start_time": "2024-07-10T01:58:30.092Z"
   },
   {
    "duration": 6,
    "start_time": "2024-07-10T01:58:36.388Z"
   },
   {
    "duration": 39,
    "start_time": "2024-07-10T01:58:43.317Z"
   },
   {
    "duration": 78,
    "start_time": "2024-07-10T02:00:55.940Z"
   },
   {
    "duration": 78,
    "start_time": "2024-07-10T02:01:34.324Z"
   },
   {
    "duration": 67,
    "start_time": "2024-07-10T02:02:08.097Z"
   },
   {
    "duration": 29,
    "start_time": "2024-07-10T02:02:27.422Z"
   },
   {
    "duration": 56,
    "start_time": "2024-07-10T02:02:48.294Z"
   },
   {
    "duration": 15,
    "start_time": "2024-07-10T02:03:57.087Z"
   },
   {
    "duration": 25,
    "start_time": "2024-07-10T02:04:06.360Z"
   },
   {
    "duration": 17,
    "start_time": "2024-07-10T02:05:55.982Z"
   },
   {
    "duration": 504,
    "start_time": "2024-07-10T02:06:10.288Z"
   },
   {
    "duration": 18,
    "start_time": "2024-07-10T02:06:27.323Z"
   },
   {
    "duration": 18,
    "start_time": "2024-07-10T02:06:35.184Z"
   },
   {
    "duration": 17,
    "start_time": "2024-07-10T02:06:39.938Z"
   },
   {
    "duration": 96,
    "start_time": "2024-07-10T02:07:11.017Z"
   },
   {
    "duration": 12,
    "start_time": "2024-07-10T02:07:32.539Z"
   },
   {
    "duration": 12,
    "start_time": "2024-07-10T02:07:40.520Z"
   },
   {
    "duration": 23,
    "start_time": "2024-07-10T02:07:50.886Z"
   },
   {
    "duration": 22,
    "start_time": "2024-07-10T02:07:54.485Z"
   },
   {
    "duration": 12,
    "start_time": "2024-07-10T02:08:15.112Z"
   },
   {
    "duration": 23,
    "start_time": "2024-07-10T02:08:22.811Z"
   },
   {
    "duration": 12,
    "start_time": "2024-07-10T02:08:32.687Z"
   },
   {
    "duration": 12,
    "start_time": "2024-07-10T02:09:02.024Z"
   },
   {
    "duration": 4056,
    "start_time": "2024-07-10T02:09:46.513Z"
   },
   {
    "duration": 1055,
    "start_time": "2024-07-10T02:10:02.904Z"
   },
   {
    "duration": 322,
    "start_time": "2024-07-10T02:11:43.257Z"
   },
   {
    "duration": 22,
    "start_time": "2024-07-10T02:12:22.449Z"
   },
   {
    "duration": 22,
    "start_time": "2024-07-10T02:12:41.350Z"
   },
   {
    "duration": 463,
    "start_time": "2024-07-10T02:12:58.227Z"
   },
   {
    "duration": 1735,
    "start_time": "2024-07-10T02:12:58.694Z"
   },
   {
    "duration": 24,
    "start_time": "2024-07-10T02:13:00.432Z"
   },
   {
    "duration": 41,
    "start_time": "2024-07-10T02:13:00.460Z"
   },
   {
    "duration": 16,
    "start_time": "2024-07-10T02:13:00.504Z"
   },
   {
    "duration": 16,
    "start_time": "2024-07-10T02:13:00.523Z"
   },
   {
    "duration": 16,
    "start_time": "2024-07-10T02:13:00.542Z"
   },
   {
    "duration": 187,
    "start_time": "2024-07-10T02:13:00.602Z"
   },
   {
    "duration": 19,
    "start_time": "2024-07-10T02:13:00.792Z"
   },
   {
    "duration": 199,
    "start_time": "2024-07-10T02:13:00.817Z"
   },
   {
    "duration": 199,
    "start_time": "2024-07-10T02:13:01.019Z"
   },
   {
    "duration": 48,
    "start_time": "2024-07-10T02:13:01.220Z"
   },
   {
    "duration": 45,
    "start_time": "2024-07-10T02:13:01.271Z"
   },
   {
    "duration": 8,
    "start_time": "2024-07-10T02:13:01.319Z"
   },
   {
    "duration": 38,
    "start_time": "2024-07-10T02:13:01.330Z"
   },
   {
    "duration": 63,
    "start_time": "2024-07-10T02:13:01.371Z"
   },
   {
    "duration": 6,
    "start_time": "2024-07-10T02:13:01.437Z"
   },
   {
    "duration": 7,
    "start_time": "2024-07-10T02:13:01.447Z"
   },
   {
    "duration": 44,
    "start_time": "2024-07-10T02:13:01.457Z"
   },
   {
    "duration": 6,
    "start_time": "2024-07-10T02:13:01.504Z"
   },
   {
    "duration": 1367,
    "start_time": "2024-07-10T02:13:01.513Z"
   },
   {
    "duration": 3854,
    "start_time": "2024-07-10T02:13:02.883Z"
   },
   {
    "duration": 8,
    "start_time": "2024-07-10T02:13:06.741Z"
   },
   {
    "duration": 0,
    "start_time": "2024-07-10T02:13:06.754Z"
   },
   {
    "duration": 0,
    "start_time": "2024-07-10T02:13:06.759Z"
   },
   {
    "duration": 0,
    "start_time": "2024-07-10T02:13:06.764Z"
   },
   {
    "duration": 0,
    "start_time": "2024-07-10T02:13:06.767Z"
   },
   {
    "duration": 1,
    "start_time": "2024-07-10T02:13:06.805Z"
   },
   {
    "duration": 0,
    "start_time": "2024-07-10T02:13:06.807Z"
   },
   {
    "duration": 0,
    "start_time": "2024-07-10T02:13:06.813Z"
   },
   {
    "duration": 0,
    "start_time": "2024-07-10T02:13:06.815Z"
   },
   {
    "duration": 0,
    "start_time": "2024-07-10T02:13:06.818Z"
   },
   {
    "duration": 0,
    "start_time": "2024-07-10T02:13:06.819Z"
   },
   {
    "duration": 0,
    "start_time": "2024-07-10T02:13:06.821Z"
   },
   {
    "duration": 0,
    "start_time": "2024-07-10T02:13:06.825Z"
   },
   {
    "duration": 0,
    "start_time": "2024-07-10T02:13:06.827Z"
   },
   {
    "duration": 0,
    "start_time": "2024-07-10T02:13:06.830Z"
   },
   {
    "duration": 0,
    "start_time": "2024-07-10T02:13:06.831Z"
   },
   {
    "duration": 0,
    "start_time": "2024-07-10T02:13:06.833Z"
   },
   {
    "duration": 9356,
    "start_time": "2024-07-10T02:13:26.245Z"
   },
   {
    "duration": 326,
    "start_time": "2024-07-10T02:13:44.145Z"
   },
   {
    "duration": 228,
    "start_time": "2024-07-10T02:13:52.693Z"
   },
   {
    "duration": 289,
    "start_time": "2024-07-10T02:14:17.805Z"
   },
   {
    "duration": 224,
    "start_time": "2024-07-10T02:14:23.722Z"
   },
   {
    "duration": 356,
    "start_time": "2024-07-10T02:14:48.221Z"
   },
   {
    "duration": 199,
    "start_time": "2024-07-10T02:15:34.615Z"
   },
   {
    "duration": 20,
    "start_time": "2024-07-10T02:18:17.275Z"
   },
   {
    "duration": 6,
    "start_time": "2024-07-10T02:19:00.358Z"
   },
   {
    "duration": 440,
    "start_time": "2024-07-10T02:19:10.704Z"
   },
   {
    "duration": 318,
    "start_time": "2024-07-10T14:38:53.079Z"
   },
   {
    "duration": 28,
    "start_time": "2024-07-10T14:39:05.665Z"
   },
   {
    "duration": 503,
    "start_time": "2024-07-10T14:39:16.294Z"
   },
   {
    "duration": 2280,
    "start_time": "2024-07-10T14:39:16.801Z"
   },
   {
    "duration": 35,
    "start_time": "2024-07-10T14:39:19.084Z"
   },
   {
    "duration": 33,
    "start_time": "2024-07-10T14:39:19.132Z"
   },
   {
    "duration": 20,
    "start_time": "2024-07-10T14:39:19.173Z"
   },
   {
    "duration": 42,
    "start_time": "2024-07-10T14:39:19.197Z"
   },
   {
    "duration": 20,
    "start_time": "2024-07-10T14:39:19.242Z"
   },
   {
    "duration": 290,
    "start_time": "2024-07-10T14:39:19.266Z"
   },
   {
    "duration": 23,
    "start_time": "2024-07-10T14:39:19.563Z"
   },
   {
    "duration": 274,
    "start_time": "2024-07-10T14:39:19.589Z"
   },
   {
    "duration": 238,
    "start_time": "2024-07-10T14:39:19.867Z"
   },
   {
    "duration": 73,
    "start_time": "2024-07-10T14:39:20.108Z"
   },
   {
    "duration": 45,
    "start_time": "2024-07-10T14:39:20.187Z"
   },
   {
    "duration": 9,
    "start_time": "2024-07-10T14:39:20.242Z"
   },
   {
    "duration": 78,
    "start_time": "2024-07-10T14:39:20.254Z"
   },
   {
    "duration": 50,
    "start_time": "2024-07-10T14:39:20.336Z"
   },
   {
    "duration": 6,
    "start_time": "2024-07-10T14:39:20.390Z"
   },
   {
    "duration": 33,
    "start_time": "2024-07-10T14:39:20.400Z"
   },
   {
    "duration": 7,
    "start_time": "2024-07-10T14:39:20.437Z"
   },
   {
    "duration": 7,
    "start_time": "2024-07-10T14:39:20.448Z"
   },
   {
    "duration": 1583,
    "start_time": "2024-07-10T14:39:20.460Z"
   },
   {
    "duration": 4643,
    "start_time": "2024-07-10T14:39:22.046Z"
   },
   {
    "duration": 10,
    "start_time": "2024-07-10T14:39:26.693Z"
   },
   {
    "duration": 0,
    "start_time": "2024-07-10T14:39:26.707Z"
   },
   {
    "duration": 0,
    "start_time": "2024-07-10T14:39:26.709Z"
   },
   {
    "duration": 0,
    "start_time": "2024-07-10T14:39:26.713Z"
   },
   {
    "duration": 0,
    "start_time": "2024-07-10T14:39:26.735Z"
   },
   {
    "duration": 0,
    "start_time": "2024-07-10T14:39:26.738Z"
   },
   {
    "duration": 0,
    "start_time": "2024-07-10T14:39:26.741Z"
   },
   {
    "duration": 0,
    "start_time": "2024-07-10T14:39:26.743Z"
   },
   {
    "duration": 0,
    "start_time": "2024-07-10T14:39:26.745Z"
   },
   {
    "duration": 0,
    "start_time": "2024-07-10T14:39:26.747Z"
   },
   {
    "duration": 0,
    "start_time": "2024-07-10T14:39:26.750Z"
   },
   {
    "duration": 0,
    "start_time": "2024-07-10T14:39:26.752Z"
   },
   {
    "duration": 0,
    "start_time": "2024-07-10T14:39:26.754Z"
   },
   {
    "duration": 0,
    "start_time": "2024-07-10T14:39:26.757Z"
   },
   {
    "duration": 0,
    "start_time": "2024-07-10T14:39:26.760Z"
   },
   {
    "duration": 0,
    "start_time": "2024-07-10T14:39:26.763Z"
   },
   {
    "duration": 0,
    "start_time": "2024-07-10T14:39:26.765Z"
   },
   {
    "duration": 0,
    "start_time": "2024-07-10T14:39:26.771Z"
   },
   {
    "duration": 0,
    "start_time": "2024-07-10T14:39:26.773Z"
   },
   {
    "duration": 0,
    "start_time": "2024-07-10T14:39:26.776Z"
   },
   {
    "duration": 4527,
    "start_time": "2024-07-10T14:39:36.007Z"
   },
   {
    "duration": 944,
    "start_time": "2024-07-10T14:39:54.140Z"
   },
   {
    "duration": 211,
    "start_time": "2024-07-10T14:40:04.558Z"
   },
   {
    "duration": 229,
    "start_time": "2024-07-10T14:41:02.885Z"
   },
   {
    "duration": 248,
    "start_time": "2024-07-10T14:43:06.018Z"
   },
   {
    "duration": 41,
    "start_time": "2024-07-10T14:43:37.419Z"
   },
   {
    "duration": 307,
    "start_time": "2024-07-10T14:43:51.921Z"
   },
   {
    "duration": 424,
    "start_time": "2024-07-10T14:44:04.631Z"
   },
   {
    "duration": 331,
    "start_time": "2024-07-10T14:44:27.576Z"
   },
   {
    "duration": 383,
    "start_time": "2024-07-10T14:44:38.039Z"
   },
   {
    "duration": 455,
    "start_time": "2024-07-10T14:45:36.933Z"
   },
   {
    "duration": 496,
    "start_time": "2024-07-10T14:48:23.284Z"
   },
   {
    "duration": 20,
    "start_time": "2024-07-10T14:50:13.802Z"
   },
   {
    "duration": 120,
    "start_time": "2024-07-10T14:50:36.018Z"
   },
   {
    "duration": 38,
    "start_time": "2024-07-10T14:50:58.795Z"
   },
   {
    "duration": 461,
    "start_time": "2024-07-10T14:51:10.835Z"
   },
   {
    "duration": 48,
    "start_time": "2024-07-10T14:51:20.529Z"
   },
   {
    "duration": 72,
    "start_time": "2024-07-10T14:51:24.123Z"
   },
   {
    "duration": 68,
    "start_time": "2024-07-10T14:53:52.439Z"
   },
   {
    "duration": 84,
    "start_time": "2024-07-10T14:54:00.979Z"
   },
   {
    "duration": 660,
    "start_time": "2024-07-10T14:54:21.362Z"
   },
   {
    "duration": 77,
    "start_time": "2024-07-10T14:54:27.459Z"
   },
   {
    "duration": 144,
    "start_time": "2024-07-10T14:54:35.939Z"
   },
   {
    "duration": 78,
    "start_time": "2024-07-10T14:54:43.235Z"
   },
   {
    "duration": 6,
    "start_time": "2024-07-10T14:54:53.455Z"
   },
   {
    "duration": 74,
    "start_time": "2024-07-10T14:54:59.243Z"
   },
   {
    "duration": 78,
    "start_time": "2024-07-10T14:55:25.540Z"
   },
   {
    "duration": 257,
    "start_time": "2024-07-10T14:56:01.590Z"
   },
   {
    "duration": 784,
    "start_time": "2024-07-10T14:57:57.301Z"
   },
   {
    "duration": 698,
    "start_time": "2024-07-10T14:58:09.535Z"
   },
   {
    "duration": 700,
    "start_time": "2024-07-10T15:00:23.688Z"
   },
   {
    "duration": 845,
    "start_time": "2024-07-10T15:00:32.420Z"
   },
   {
    "duration": 878,
    "start_time": "2024-07-10T15:00:51.610Z"
   },
   {
    "duration": 1091,
    "start_time": "2024-07-10T15:01:17.028Z"
   },
   {
    "duration": 1105,
    "start_time": "2024-07-10T15:01:44.958Z"
   },
   {
    "duration": 1092,
    "start_time": "2024-07-10T15:01:59.189Z"
   },
   {
    "duration": 364,
    "start_time": "2024-07-10T15:02:32.097Z"
   },
   {
    "duration": 276,
    "start_time": "2024-07-10T15:02:36.224Z"
   },
   {
    "duration": 343,
    "start_time": "2024-07-10T15:02:39.510Z"
   },
   {
    "duration": 15,
    "start_time": "2024-07-10T15:02:45.188Z"
   },
   {
    "duration": 12,
    "start_time": "2024-07-10T15:02:47.829Z"
   },
   {
    "duration": 15,
    "start_time": "2024-07-10T15:04:03.069Z"
   },
   {
    "duration": 23,
    "start_time": "2024-07-10T15:05:01.138Z"
   },
   {
    "duration": 70,
    "start_time": "2024-07-10T15:05:06.182Z"
   },
   {
    "duration": 65,
    "start_time": "2024-07-10T15:05:16.262Z"
   },
   {
    "duration": 73,
    "start_time": "2024-07-10T15:05:29.960Z"
   },
   {
    "duration": 16,
    "start_time": "2024-07-10T15:05:35.817Z"
   },
   {
    "duration": 16,
    "start_time": "2024-07-10T15:05:46.287Z"
   },
   {
    "duration": 18,
    "start_time": "2024-07-10T15:05:54.382Z"
   },
   {
    "duration": 14,
    "start_time": "2024-07-10T15:05:56.687Z"
   },
   {
    "duration": 704,
    "start_time": "2024-07-10T15:07:02.506Z"
   },
   {
    "duration": 400,
    "start_time": "2024-07-10T15:07:40.032Z"
   },
   {
    "duration": 658,
    "start_time": "2024-07-10T15:08:12.780Z"
   },
   {
    "duration": 1481,
    "start_time": "2024-07-10T15:08:19.912Z"
   },
   {
    "duration": 2774,
    "start_time": "2024-07-10T15:10:07.118Z"
   },
   {
    "duration": 2835,
    "start_time": "2024-07-10T15:10:19.054Z"
   },
   {
    "duration": 3082,
    "start_time": "2024-07-10T15:10:23.168Z"
   },
   {
    "duration": 3173,
    "start_time": "2024-07-10T15:10:47.336Z"
   },
   {
    "duration": 1876,
    "start_time": "2024-07-10T15:10:57.007Z"
   },
   {
    "duration": 308,
    "start_time": "2024-07-10T15:12:54.563Z"
   },
   {
    "duration": 466,
    "start_time": "2024-07-10T15:13:04.645Z"
   },
   {
    "duration": 1754,
    "start_time": "2024-07-10T15:13:05.115Z"
   },
   {
    "duration": 23,
    "start_time": "2024-07-10T15:13:06.872Z"
   },
   {
    "duration": 40,
    "start_time": "2024-07-10T15:13:06.900Z"
   },
   {
    "duration": 16,
    "start_time": "2024-07-10T15:13:06.943Z"
   },
   {
    "duration": 17,
    "start_time": "2024-07-10T15:13:06.962Z"
   },
   {
    "duration": 53,
    "start_time": "2024-07-10T15:13:06.982Z"
   },
   {
    "duration": 183,
    "start_time": "2024-07-10T15:13:07.038Z"
   },
   {
    "duration": 13,
    "start_time": "2024-07-10T15:13:07.230Z"
   },
   {
    "duration": 201,
    "start_time": "2024-07-10T15:13:07.250Z"
   },
   {
    "duration": 165,
    "start_time": "2024-07-10T15:13:07.454Z"
   },
   {
    "duration": 45,
    "start_time": "2024-07-10T15:13:07.630Z"
   },
   {
    "duration": 21,
    "start_time": "2024-07-10T15:13:07.678Z"
   },
   {
    "duration": 33,
    "start_time": "2024-07-10T15:13:07.702Z"
   },
   {
    "duration": 42,
    "start_time": "2024-07-10T15:13:07.740Z"
   },
   {
    "duration": 62,
    "start_time": "2024-07-10T15:13:07.785Z"
   },
   {
    "duration": 5,
    "start_time": "2024-07-10T15:13:07.851Z"
   },
   {
    "duration": 7,
    "start_time": "2024-07-10T15:13:07.859Z"
   },
   {
    "duration": 13,
    "start_time": "2024-07-10T15:13:07.868Z"
   },
   {
    "duration": 5,
    "start_time": "2024-07-10T15:13:07.894Z"
   },
   {
    "duration": 1331,
    "start_time": "2024-07-10T15:13:07.931Z"
   },
   {
    "duration": 3828,
    "start_time": "2024-07-10T15:13:09.265Z"
   },
   {
    "duration": 7,
    "start_time": "2024-07-10T15:13:13.096Z"
   },
   {
    "duration": 0,
    "start_time": "2024-07-10T15:13:13.107Z"
   },
   {
    "duration": 0,
    "start_time": "2024-07-10T15:13:13.109Z"
   },
   {
    "duration": 0,
    "start_time": "2024-07-10T15:13:13.130Z"
   },
   {
    "duration": 0,
    "start_time": "2024-07-10T15:13:13.132Z"
   },
   {
    "duration": 0,
    "start_time": "2024-07-10T15:13:13.134Z"
   },
   {
    "duration": 0,
    "start_time": "2024-07-10T15:13:13.136Z"
   },
   {
    "duration": 0,
    "start_time": "2024-07-10T15:13:13.137Z"
   },
   {
    "duration": 0,
    "start_time": "2024-07-10T15:13:13.140Z"
   },
   {
    "duration": 0,
    "start_time": "2024-07-10T15:13:13.142Z"
   },
   {
    "duration": 0,
    "start_time": "2024-07-10T15:13:13.144Z"
   },
   {
    "duration": 0,
    "start_time": "2024-07-10T15:13:13.148Z"
   },
   {
    "duration": 0,
    "start_time": "2024-07-10T15:13:13.149Z"
   },
   {
    "duration": 0,
    "start_time": "2024-07-10T15:13:13.151Z"
   },
   {
    "duration": 0,
    "start_time": "2024-07-10T15:13:13.154Z"
   },
   {
    "duration": 0,
    "start_time": "2024-07-10T15:13:13.155Z"
   },
   {
    "duration": 0,
    "start_time": "2024-07-10T15:13:13.158Z"
   },
   {
    "duration": 0,
    "start_time": "2024-07-10T15:13:13.160Z"
   },
   {
    "duration": 0,
    "start_time": "2024-07-10T15:13:13.161Z"
   },
   {
    "duration": 0,
    "start_time": "2024-07-10T15:13:13.163Z"
   },
   {
    "duration": 0,
    "start_time": "2024-07-10T15:13:13.165Z"
   },
   {
    "duration": 0,
    "start_time": "2024-07-10T15:13:13.168Z"
   },
   {
    "duration": 0,
    "start_time": "2024-07-10T15:13:13.170Z"
   },
   {
    "duration": 782,
    "start_time": "2024-07-10T15:13:31.482Z"
   },
   {
    "duration": 86,
    "start_time": "2024-07-10T15:13:42.216Z"
   },
   {
    "duration": 79,
    "start_time": "2024-07-10T15:13:49.281Z"
   },
   {
    "duration": 22,
    "start_time": "2024-07-10T15:14:14.428Z"
   },
   {
    "duration": 246,
    "start_time": "2024-07-10T15:14:29.138Z"
   },
   {
    "duration": 15,
    "start_time": "2024-07-10T15:14:46.047Z"
   },
   {
    "duration": 17,
    "start_time": "2024-07-10T15:15:05.641Z"
   },
   {
    "duration": 511,
    "start_time": "2024-07-10T15:15:12.876Z"
   },
   {
    "duration": 522,
    "start_time": "2024-07-10T15:15:31.214Z"
   },
   {
    "duration": 1091,
    "start_time": "2024-07-10T15:16:02.544Z"
   },
   {
    "duration": 1225,
    "start_time": "2024-07-10T15:16:54.193Z"
   },
   {
    "duration": 1814,
    "start_time": "2024-07-10T15:17:27.769Z"
   },
   {
    "duration": 324,
    "start_time": "2024-07-10T22:07:30.488Z"
   },
   {
    "duration": 0,
    "start_time": "2024-07-10T22:07:30.815Z"
   },
   {
    "duration": 530,
    "start_time": "2024-07-10T22:07:34.480Z"
   },
   {
    "duration": 1826,
    "start_time": "2024-07-10T22:07:35.018Z"
   },
   {
    "duration": 25,
    "start_time": "2024-07-10T22:07:36.847Z"
   },
   {
    "duration": 35,
    "start_time": "2024-07-10T22:07:36.877Z"
   },
   {
    "duration": 21,
    "start_time": "2024-07-10T22:07:36.915Z"
   },
   {
    "duration": 17,
    "start_time": "2024-07-10T22:07:36.938Z"
   },
   {
    "duration": 51,
    "start_time": "2024-07-10T22:07:36.959Z"
   },
   {
    "duration": 207,
    "start_time": "2024-07-10T22:07:37.013Z"
   },
   {
    "duration": 13,
    "start_time": "2024-07-10T22:07:37.223Z"
   },
   {
    "duration": 228,
    "start_time": "2024-07-10T22:07:37.238Z"
   },
   {
    "duration": 184,
    "start_time": "2024-07-10T22:07:37.469Z"
   },
   {
    "duration": 61,
    "start_time": "2024-07-10T22:07:37.656Z"
   },
   {
    "duration": 30,
    "start_time": "2024-07-10T22:07:37.719Z"
   },
   {
    "duration": 6,
    "start_time": "2024-07-10T22:07:37.758Z"
   },
   {
    "duration": 60,
    "start_time": "2024-07-10T22:07:37.767Z"
   },
   {
    "duration": 39,
    "start_time": "2024-07-10T22:07:37.829Z"
   },
   {
    "duration": 6,
    "start_time": "2024-07-10T22:07:37.871Z"
   },
   {
    "duration": 7,
    "start_time": "2024-07-10T22:07:37.903Z"
   },
   {
    "duration": 10,
    "start_time": "2024-07-10T22:07:37.914Z"
   },
   {
    "duration": 6,
    "start_time": "2024-07-10T22:07:37.935Z"
   },
   {
    "duration": 7,
    "start_time": "2024-07-10T22:07:37.944Z"
   },
   {
    "duration": 0,
    "start_time": "2024-07-10T22:07:37.954Z"
   },
   {
    "duration": 0,
    "start_time": "2024-07-10T22:07:37.956Z"
   },
   {
    "duration": 0,
    "start_time": "2024-07-10T22:07:37.958Z"
   },
   {
    "duration": 0,
    "start_time": "2024-07-10T22:07:37.961Z"
   },
   {
    "duration": 0,
    "start_time": "2024-07-10T22:07:37.964Z"
   },
   {
    "duration": 0,
    "start_time": "2024-07-10T22:07:37.966Z"
   },
   {
    "duration": 0,
    "start_time": "2024-07-10T22:07:38.001Z"
   },
   {
    "duration": 0,
    "start_time": "2024-07-10T22:07:38.002Z"
   },
   {
    "duration": 0,
    "start_time": "2024-07-10T22:07:38.003Z"
   },
   {
    "duration": 0,
    "start_time": "2024-07-10T22:07:38.004Z"
   },
   {
    "duration": 0,
    "start_time": "2024-07-10T22:07:38.008Z"
   },
   {
    "duration": 0,
    "start_time": "2024-07-10T22:07:38.013Z"
   },
   {
    "duration": 0,
    "start_time": "2024-07-10T22:07:38.014Z"
   },
   {
    "duration": 0,
    "start_time": "2024-07-10T22:07:38.016Z"
   },
   {
    "duration": 0,
    "start_time": "2024-07-10T22:07:38.018Z"
   },
   {
    "duration": 0,
    "start_time": "2024-07-10T22:07:38.019Z"
   },
   {
    "duration": 0,
    "start_time": "2024-07-10T22:07:38.021Z"
   },
   {
    "duration": 0,
    "start_time": "2024-07-10T22:07:38.023Z"
   },
   {
    "duration": 0,
    "start_time": "2024-07-10T22:07:38.024Z"
   },
   {
    "duration": 0,
    "start_time": "2024-07-10T22:07:38.026Z"
   },
   {
    "duration": 0,
    "start_time": "2024-07-10T22:07:38.028Z"
   },
   {
    "duration": 0,
    "start_time": "2024-07-10T22:07:38.029Z"
   },
   {
    "duration": 0,
    "start_time": "2024-07-10T22:07:38.031Z"
   },
   {
    "duration": 0,
    "start_time": "2024-07-10T22:07:38.032Z"
   },
   {
    "duration": 0,
    "start_time": "2024-07-10T22:07:38.034Z"
   },
   {
    "duration": 3,
    "start_time": "2024-07-10T22:08:35.232Z"
   },
   {
    "duration": 1618,
    "start_time": "2024-07-10T22:08:35.239Z"
   },
   {
    "duration": 23,
    "start_time": "2024-07-10T22:08:36.859Z"
   },
   {
    "duration": 40,
    "start_time": "2024-07-10T22:08:36.885Z"
   },
   {
    "duration": 15,
    "start_time": "2024-07-10T22:08:36.932Z"
   },
   {
    "duration": 17,
    "start_time": "2024-07-10T22:08:36.951Z"
   },
   {
    "duration": 45,
    "start_time": "2024-07-10T22:08:36.972Z"
   },
   {
    "duration": 188,
    "start_time": "2024-07-10T22:08:37.020Z"
   },
   {
    "duration": 15,
    "start_time": "2024-07-10T22:08:37.211Z"
   },
   {
    "duration": 199,
    "start_time": "2024-07-10T22:08:37.230Z"
   },
   {
    "duration": 155,
    "start_time": "2024-07-10T22:08:37.431Z"
   },
   {
    "duration": 52,
    "start_time": "2024-07-10T22:08:37.590Z"
   },
   {
    "duration": 23,
    "start_time": "2024-07-10T22:08:37.648Z"
   },
   {
    "duration": 33,
    "start_time": "2024-07-10T22:08:37.674Z"
   },
   {
    "duration": 38,
    "start_time": "2024-07-10T22:08:37.711Z"
   },
   {
    "duration": 58,
    "start_time": "2024-07-10T22:08:37.752Z"
   },
   {
    "duration": 6,
    "start_time": "2024-07-10T22:08:37.813Z"
   },
   {
    "duration": 8,
    "start_time": "2024-07-10T22:08:37.822Z"
   },
   {
    "duration": 7,
    "start_time": "2024-07-10T22:08:37.833Z"
   },
   {
    "duration": 5,
    "start_time": "2024-07-10T22:08:37.843Z"
   },
   {
    "duration": 1386,
    "start_time": "2024-07-10T22:08:37.851Z"
   },
   {
    "duration": 3915,
    "start_time": "2024-07-10T22:08:39.240Z"
   },
   {
    "duration": 14,
    "start_time": "2024-07-10T22:08:43.158Z"
   },
   {
    "duration": 45,
    "start_time": "2024-07-10T22:08:43.176Z"
   },
   {
    "duration": 20,
    "start_time": "2024-07-10T22:08:43.227Z"
   },
   {
    "duration": 10,
    "start_time": "2024-07-10T22:08:43.250Z"
   },
   {
    "duration": 39,
    "start_time": "2024-07-10T22:08:43.264Z"
   },
   {
    "duration": 57,
    "start_time": "2024-07-10T22:08:43.306Z"
   },
   {
    "duration": 51,
    "start_time": "2024-07-10T22:08:43.365Z"
   },
   {
    "duration": 35,
    "start_time": "2024-07-10T22:08:43.421Z"
   },
   {
    "duration": 83,
    "start_time": "2024-07-10T22:08:43.459Z"
   },
   {
    "duration": 21,
    "start_time": "2024-07-10T22:08:43.545Z"
   },
   {
    "duration": 67,
    "start_time": "2024-07-10T22:08:43.569Z"
   },
   {
    "duration": 79,
    "start_time": "2024-07-10T22:08:43.640Z"
   },
   {
    "duration": 16,
    "start_time": "2024-07-10T22:08:43.723Z"
   },
   {
    "duration": 12,
    "start_time": "2024-07-10T22:08:43.743Z"
   },
   {
    "duration": 37,
    "start_time": "2024-07-10T22:08:43.764Z"
   },
   {
    "duration": 0,
    "start_time": "2024-07-10T22:08:43.804Z"
   },
   {
    "duration": 0,
    "start_time": "2024-07-10T22:08:43.806Z"
   },
   {
    "duration": 0,
    "start_time": "2024-07-10T22:08:43.807Z"
   },
   {
    "duration": 0,
    "start_time": "2024-07-10T22:08:43.809Z"
   },
   {
    "duration": 0,
    "start_time": "2024-07-10T22:08:43.810Z"
   },
   {
    "duration": 0,
    "start_time": "2024-07-10T22:08:43.828Z"
   },
   {
    "duration": 0,
    "start_time": "2024-07-10T22:08:43.830Z"
   },
   {
    "duration": 0,
    "start_time": "2024-07-10T22:08:43.831Z"
   },
   {
    "duration": 4500,
    "start_time": "2024-07-10T22:08:51.833Z"
   },
   {
    "duration": 253,
    "start_time": "2024-07-10T22:08:56.336Z"
   },
   {
    "duration": 404,
    "start_time": "2024-07-10T22:08:56.593Z"
   },
   {
    "duration": 465,
    "start_time": "2024-07-10T22:08:57.000Z"
   },
   {
    "duration": 299,
    "start_time": "2024-07-10T22:08:57.469Z"
   },
   {
    "duration": 2163,
    "start_time": "2024-07-10T22:08:57.772Z"
   },
   {
    "duration": 728,
    "start_time": "2024-07-10T22:08:59.941Z"
   },
   {
    "duration": 1318,
    "start_time": "2024-07-10T22:09:00.672Z"
   },
   {
    "duration": 315,
    "start_time": "2024-07-15T18:11:43.311Z"
   },
   {
    "duration": 476,
    "start_time": "2024-07-15T18:17:12.470Z"
   },
   {
    "duration": 1760,
    "start_time": "2024-07-15T18:17:12.949Z"
   },
   {
    "duration": 30,
    "start_time": "2024-07-15T18:17:14.714Z"
   },
   {
    "duration": 22,
    "start_time": "2024-07-15T18:17:14.749Z"
   },
   {
    "duration": 56,
    "start_time": "2024-07-15T18:17:14.774Z"
   },
   {
    "duration": 18,
    "start_time": "2024-07-15T18:17:14.833Z"
   },
   {
    "duration": 54,
    "start_time": "2024-07-15T18:17:14.855Z"
   },
   {
    "duration": 223,
    "start_time": "2024-07-15T18:17:14.912Z"
   },
   {
    "duration": 14,
    "start_time": "2024-07-15T18:17:15.139Z"
   },
   {
    "duration": 224,
    "start_time": "2024-07-15T18:17:15.159Z"
   },
   {
    "duration": 186,
    "start_time": "2024-07-15T18:17:15.386Z"
   },
   {
    "duration": 61,
    "start_time": "2024-07-15T18:17:15.576Z"
   },
   {
    "duration": 22,
    "start_time": "2024-07-15T18:17:15.642Z"
   },
   {
    "duration": 7,
    "start_time": "2024-07-15T18:17:15.667Z"
   },
   {
    "duration": 70,
    "start_time": "2024-07-15T18:17:15.676Z"
   },
   {
    "duration": 58,
    "start_time": "2024-07-15T18:17:15.750Z"
   },
   {
    "duration": 6,
    "start_time": "2024-07-15T18:17:15.811Z"
   },
   {
    "duration": 7,
    "start_time": "2024-07-15T18:17:15.820Z"
   },
   {
    "duration": 6,
    "start_time": "2024-07-15T18:17:15.830Z"
   },
   {
    "duration": 6,
    "start_time": "2024-07-15T18:17:15.839Z"
   },
   {
    "duration": 1392,
    "start_time": "2024-07-15T18:17:15.848Z"
   },
   {
    "duration": 3856,
    "start_time": "2024-07-15T18:17:17.243Z"
   },
   {
    "duration": 14,
    "start_time": "2024-07-15T18:17:21.102Z"
   },
   {
    "duration": 19,
    "start_time": "2024-07-15T18:17:21.119Z"
   },
   {
    "duration": 20,
    "start_time": "2024-07-15T18:17:21.141Z"
   },
   {
    "duration": 50,
    "start_time": "2024-07-15T18:17:21.164Z"
   },
   {
    "duration": 15,
    "start_time": "2024-07-15T18:17:21.218Z"
   },
   {
    "duration": 91,
    "start_time": "2024-07-15T18:17:21.242Z"
   },
   {
    "duration": 23,
    "start_time": "2024-07-15T18:17:21.337Z"
   },
   {
    "duration": 61,
    "start_time": "2024-07-15T18:17:21.364Z"
   },
   {
    "duration": 54,
    "start_time": "2024-07-15T18:17:21.428Z"
   },
   {
    "duration": 24,
    "start_time": "2024-07-15T18:17:21.508Z"
   },
   {
    "duration": 40,
    "start_time": "2024-07-15T18:17:21.535Z"
   },
   {
    "duration": 82,
    "start_time": "2024-07-15T18:17:21.577Z"
   },
   {
    "duration": 12,
    "start_time": "2024-07-15T18:17:21.663Z"
   },
   {
    "duration": 41,
    "start_time": "2024-07-15T18:17:21.678Z"
   },
   {
    "duration": 4329,
    "start_time": "2024-07-15T18:17:21.722Z"
   },
   {
    "duration": 216,
    "start_time": "2024-07-15T18:17:26.054Z"
   },
   {
    "duration": 391,
    "start_time": "2024-07-15T18:17:26.273Z"
   },
   {
    "duration": 455,
    "start_time": "2024-07-15T18:17:26.668Z"
   },
   {
    "duration": 280,
    "start_time": "2024-07-15T18:17:27.127Z"
   },
   {
    "duration": 2037,
    "start_time": "2024-07-15T18:17:27.411Z"
   },
   {
    "duration": 770,
    "start_time": "2024-07-15T18:17:30.234Z"
   },
   {
    "duration": 747,
    "start_time": "2024-07-15T18:17:54.327Z"
   },
   {
    "duration": 605,
    "start_time": "2024-07-15T18:18:14.545Z"
   },
   {
    "duration": 541,
    "start_time": "2024-07-15T18:18:30.343Z"
   },
   {
    "duration": 524,
    "start_time": "2024-07-15T18:18:42.708Z"
   },
   {
    "duration": 525,
    "start_time": "2024-07-15T18:19:19.121Z"
   },
   {
    "duration": 534,
    "start_time": "2024-07-15T18:19:33.574Z"
   },
   {
    "duration": 544,
    "start_time": "2024-07-15T18:20:15.655Z"
   },
   {
    "duration": 568,
    "start_time": "2024-07-15T18:20:36.560Z"
   },
   {
    "duration": 18,
    "start_time": "2024-07-15T18:21:08.137Z"
   },
   {
    "duration": 137,
    "start_time": "2024-07-15T18:21:56.406Z"
   },
   {
    "duration": 537,
    "start_time": "2024-07-15T18:22:02.296Z"
   },
   {
    "duration": 26,
    "start_time": "2024-07-15T18:22:09.512Z"
   },
   {
    "duration": 580,
    "start_time": "2024-07-15T18:22:16.185Z"
   },
   {
    "duration": 545,
    "start_time": "2024-07-15T18:22:25.697Z"
   },
   {
    "duration": 533,
    "start_time": "2024-07-15T18:22:46.346Z"
   },
   {
    "duration": 530,
    "start_time": "2024-07-15T18:22:55.004Z"
   },
   {
    "duration": 538,
    "start_time": "2024-07-15T18:23:06.244Z"
   },
   {
    "duration": 510,
    "start_time": "2024-07-15T18:23:17.448Z"
   },
   {
    "duration": 547,
    "start_time": "2024-07-15T18:23:27.240Z"
   },
   {
    "duration": 554,
    "start_time": "2024-07-15T18:23:55.273Z"
   }
  ],
  "colab": {
   "provenance": []
  },
  "kernelspec": {
   "display_name": "base",
   "language": "python",
   "name": "python3"
  },
  "language_info": {
   "codemirror_mode": {
    "name": "ipython",
    "version": 3
   },
   "file_extension": ".py",
   "mimetype": "text/x-python",
   "name": "python",
   "nbconvert_exporter": "python",
   "pygments_lexer": "ipython3",
   "version": "3.12.4"
  },
  "toc": {
   "base_numbering": 1,
   "nav_menu": {},
   "number_sections": true,
   "sideBar": true,
   "skip_h1_title": true,
   "title_cell": "Table of Contents",
   "title_sidebar": "Contents",
   "toc_cell": false,
   "toc_position": {},
   "toc_section_display": true,
   "toc_window_display": false
  }
 },
 "nbformat": 4,
 "nbformat_minor": 5
}
