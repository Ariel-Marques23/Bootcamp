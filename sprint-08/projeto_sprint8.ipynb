{
 "cells": [
  {
   "cell_type": "markdown",
   "metadata": {},
   "source": [
    "## importando requisitos"
   ]
  },
  {
   "cell_type": "code",
   "execution_count": 12,
   "metadata": {},
   "outputs": [],
   "source": [
    "import pandas as pd\n",
    "import numpy as np\n",
    "\n",
    "from sklearn.model_selection import train_test_split\n",
    "from sklearn.tree import DecisionTreeClassifier\n",
    "from sklearn.ensemble import RandomForestClassifier\n",
    "from sklearn.linear_model import LogisticRegression\n",
    "from sklearn.model_selection import GridSearchCV\n",
    "from sklearn.preprocessing import StandardScaler"
   ]
  },
  {
   "cell_type": "markdown",
   "metadata": {},
   "source": [
    "### lendo e verificando dados"
   ]
  },
  {
   "cell_type": "code",
   "execution_count": 13,
   "metadata": {
    "scrolled": false
   },
   "outputs": [
    {
     "name": "stdout",
     "output_type": "stream",
     "text": [
      "<class 'pandas.core.frame.DataFrame'>\n",
      "RangeIndex: 3214 entries, 0 to 3213\n",
      "Data columns (total 5 columns):\n",
      " #   Column    Non-Null Count  Dtype  \n",
      "---  ------    --------------  -----  \n",
      " 0   calls     3214 non-null   float64\n",
      " 1   minutes   3214 non-null   float64\n",
      " 2   messages  3214 non-null   float64\n",
      " 3   mb_used   3214 non-null   float64\n",
      " 4   is_ultra  3214 non-null   int64  \n",
      "dtypes: float64(4), int64(1)\n",
      "memory usage: 125.7 KB\n",
      "\n",
      "   calls  minutes  messages   mb_used  is_ultra\n",
      "0   40.0   311.90      83.0  19915.42         0\n",
      "1   85.0   516.75      56.0  22696.96         0\n",
      "2   77.0   467.66      86.0  21060.45         0\n",
      "3  106.0   745.53      81.0   8437.39         1\n",
      "4   66.0   418.74       1.0  14502.75         0\n",
      "\n",
      "calls       0\n",
      "minutes     0\n",
      "messages    0\n",
      "mb_used     0\n",
      "is_ultra    0\n",
      "dtype: int64\n"
     ]
    }
   ],
   "source": [
    "df = pd.read_csv('datasets/users_behavior.csv')\n",
    "df.info()\n",
    "print()\n",
    "print(df.head())\n",
    "print()\n",
    "print(df.isna().sum())"
   ]
  },
  {
   "cell_type": "markdown",
   "metadata": {},
   "source": [
    "### separando treinamento validação e teste e definindo features e target"
   ]
  },
  {
   "cell_type": "code",
   "execution_count": 14,
   "metadata": {},
   "outputs": [],
   "source": [
    "df_train, df_temp= train_test_split(df, test_size=0.4, random_state=12345)\n",
    "df_valid, df_test= train_test_split(df_temp,test_size=0.5,random_state =12345)"
   ]
  },
  {
   "cell_type": "code",
   "execution_count": 15,
   "metadata": {},
   "outputs": [
    {
     "name": "stdout",
     "output_type": "stream",
     "text": [
      "(1928, 5)\n",
      "(643, 5)\n",
      "(643, 5)\n"
     ]
    }
   ],
   "source": [
    "print(df_train.shape)\n",
    "print(df_valid.shape)\n",
    "print(df_test.shape)"
   ]
  },
  {
   "cell_type": "code",
   "execution_count": 16,
   "metadata": {},
   "outputs": [],
   "source": [
    "def set_fet_targ(df):\n",
    "    features = df.drop(['is_ultra'],axis=1)\n",
    "    target = df['is_ultra']\n",
    "    return features,target\n",
    "\n",
    "fet_train,targ_train = set_fet_targ(df_train)\n",
    "fet_valid,targ_valid = set_fet_targ(df_valid)\n",
    "fet_test,targ_test   = set_fet_targ(df_test)\n",
    "\n"
   ]
  },
  {
   "cell_type": "markdown",
   "metadata": {},
   "source": [
    "## Testando modelos"
   ]
  },
  {
   "cell_type": "markdown",
   "metadata": {},
   "source": [
    "### Decision Tree"
   ]
  },
  {
   "cell_type": "code",
   "execution_count": 17,
   "metadata": {},
   "outputs": [
    {
     "name": "stdout",
     "output_type": "stream",
     "text": [
      "profundidade:  1\n",
      "acuracia train 0.7577800829875518\n",
      "acuracia valid 0.7542768273716952\n",
      "\n",
      "profundidade:  2\n",
      "acuracia train 0.7878630705394191\n",
      "acuracia valid 0.7822706065318819\n",
      "\n",
      "profundidade:  3\n",
      "acuracia train 0.8075726141078838\n",
      "acuracia valid 0.7853810264385692\n",
      "\n",
      "profundidade:  4\n",
      "acuracia train 0.8106846473029046\n",
      "acuracia valid 0.7791601866251944\n",
      "\n",
      "profundidade:  5\n",
      "acuracia train 0.8200207468879668\n",
      "acuracia valid 0.7791601866251944\n",
      "\n",
      "acuracia modelo test 0.7838258164852255\n"
     ]
    }
   ],
   "source": [
    "for i in range(1,6):\n",
    "    model = DecisionTreeClassifier(random_state=12345, max_depth=i)\n",
    "    model.fit(fet_train,targ_train)\n",
    "    print('profundidade: ',i)\n",
    "    print('acuracia train',model.score(fet_train,targ_train))\n",
    "    print('acuracia valid',model.score(fet_valid,targ_valid))\n",
    "    print()\n",
    "\n",
    "print('acuracia modelo test',model.score(fet_test,targ_test))\n"
   ]
  },
  {
   "cell_type": "markdown",
   "metadata": {},
   "source": [
    "No modelo de arvore de decisão, podemos perceber que a partir da profundidade 2 ja possui uma acuracia de 0.77 no conjunto de validação, acima do minimo esperado (0.75), ao realizar o teste de acuracia no modelo de teste obtivemos uma acuracia de 0.78, maior do que o minimo esperado."
   ]
  },
  {
   "cell_type": "code",
   "execution_count": 18,
   "metadata": {},
   "outputs": [
    {
     "name": "stdout",
     "output_type": "stream",
     "text": [
      "acuracia modelo train, alterando samples 0.9258298755186722\n",
      "acuracia modelo test, alterando samples 0.7527216174183515\n"
     ]
    }
   ],
   "source": [
    "model = DecisionTreeClassifier(random_state=12345, min_samples_leaf=3)\n",
    "model.fit(fet_train,targ_train)\n",
    "print('acuracia modelo train, alterando samples',model.score(fet_train,targ_train))\n",
    "print('acuracia modelo test, alterando samples',model.score(fet_test,targ_test))"
   ]
  },
  {
   "cell_type": "code",
   "execution_count": 19,
   "metadata": {},
   "outputs": [
    {
     "name": "stdout",
     "output_type": "stream",
     "text": [
      "acuracia modelo train, alterando split 0.9761410788381742\n",
      "acuracia modelo test, alterando split 0.7325038880248833\n"
     ]
    }
   ],
   "source": [
    "model = DecisionTreeClassifier(random_state=12345, min_samples_split=4)\n",
    "model.fit(fet_train,targ_train)\n",
    "print('acuracia modelo train, alterando split',model.score(fet_train,targ_train))\n",
    "print('acuracia modelo test, alterando split',model.score(fet_test,targ_test))"
   ]
  },
  {
   "cell_type": "code",
   "execution_count": 20,
   "metadata": {},
   "outputs": [
    {
     "name": "stdout",
     "output_type": "stream",
     "text": [
      "acuracia modelo train, alterando samples e split 0.9491701244813278\n",
      "acuracia modelo test, alterando samples e split 0.7589424572317263\n"
     ]
    }
   ],
   "source": [
    "model = DecisionTreeClassifier(random_state=12345, min_samples_leaf=2, min_samples_split=4)\n",
    "model.fit(fet_train,targ_train)\n",
    "print('acuracia modelo train, alterando samples e split',model.score(fet_train,targ_train))\n",
    "print('acuracia modelo test, alterando samples e split',model.score(fet_test,targ_test))"
   ]
  },
  {
   "cell_type": "markdown",
   "metadata": {},
   "source": [
    "A alteração dos demais paramentros se mostrou menos eficiente com uma queda na acuracia, onde alterando apenas o split obtivemos um resultado menor do que o minimo esperado"
   ]
  },
  {
   "cell_type": "markdown",
   "metadata": {},
   "source": [
    "### Random Forest"
   ]
  },
  {
   "cell_type": "code",
   "execution_count": 21,
   "metadata": {},
   "outputs": [
    {
     "name": "stdout",
     "output_type": "stream",
     "text": [
      "Melhores hiperparâmetros: {'max_depth': None, 'min_samples_split': 2, 'n_estimators': 4}\n"
     ]
    },
    {
     "data": {
      "text/plain": [
       "0.7729393468118196"
      ]
     },
     "execution_count": 21,
     "metadata": {},
     "output_type": "execute_result"
    }
   ],
   "source": [
    "model = RandomForestClassifier(random_state=12345)\n",
    "\n",
    "param_grid = {\n",
    "    'n_estimators': [1, 2, 3, 4, 5],\n",
    "    'max_depth': [None,1,2,3],\n",
    "    'min_samples_split': [2, 3, 4]\n",
    "}\n",
    "grid_search = GridSearchCV(estimator=model, param_grid=param_grid, cv=5, scoring='accuracy')\n",
    "\n",
    "grid_search.fit(fet_train, targ_train)\n",
    "print(\"Melhores hiperparâmetros:\", grid_search.best_params_)\n",
    "\n",
    "grid_search.score(fet_test, targ_test)"
   ]
  },
  {
   "cell_type": "markdown",
   "metadata": {},
   "source": [
    "Podemos perceber o mesmo padrão do modelo de decisão porem, com uma acuracia no modelo de teste da floresta menor do que o da arvore de decisão"
   ]
  },
  {
   "cell_type": "markdown",
   "metadata": {},
   "source": [
    "### Logistic Regression"
   ]
  },
  {
   "cell_type": "code",
   "execution_count": 22,
   "metadata": {
    "scrolled": true
   },
   "outputs": [
    {
     "name": "stdout",
     "output_type": "stream",
     "text": [
      "acuracia train 0.7531120331950207\n",
      "acuracia valid 0.7573872472783826\n",
      "\n",
      "acuracia test 0.7418351477449455\n"
     ]
    }
   ],
   "source": [
    "scaler = StandardScaler()\n",
    "\n",
    "fet_train = scaler.fit_transform(fet_train)\n",
    "fet_valid = scaler.fit_transform(fet_valid)\n",
    "fet_test = scaler.fit_transform(fet_test)\n",
    "\n",
    "model = LogisticRegression(random_state=12345, solver='liblinear')\n",
    "model.fit(fet_train,targ_train)\n",
    "print('acuracia train',model.score(fet_train,targ_train))\n",
    "print('acuracia valid',model.score(fet_valid,targ_valid))\n",
    "\n",
    "print()\n",
    "print('acuracia test',model.score(fet_test,targ_test))"
   ]
  },
  {
   "cell_type": "markdown",
   "metadata": {},
   "source": [
    "No modelo de Regressão Logistica podemos notar que a acuracia do conjunto de teste foi menor do que o minimo especificado"
   ]
  },
  {
   "cell_type": "markdown",
   "metadata": {},
   "source": [
    "## Conclusão"
   ]
  },
  {
   "cell_type": "markdown",
   "metadata": {},
   "source": [
    "Os modelos que apresentaram melhor resultado foram o de arvore de decisão e o de floresta respectivamente 0.78 e 0.77, o modelo de regressão logistica foi o menos eficiente com 0.74"
   ]
  }
 ],
 "metadata": {
  "ExecuteTimeLog": [
   {
    "duration": 750,
    "start_time": "2024-10-02T21:15:10.047Z"
   },
   {
    "duration": 531,
    "start_time": "2024-10-02T21:15:37.970Z"
   },
   {
    "duration": 21,
    "start_time": "2024-10-02T21:16:15.210Z"
   },
   {
    "duration": 12,
    "start_time": "2024-10-02T21:16:23.291Z"
   },
   {
    "duration": 16,
    "start_time": "2024-10-02T21:16:43.006Z"
   },
   {
    "duration": 3,
    "start_time": "2024-10-02T21:23:39.962Z"
   },
   {
    "duration": 7,
    "start_time": "2024-10-02T21:24:00.450Z"
   },
   {
    "duration": 6,
    "start_time": "2024-10-02T21:24:11.483Z"
   },
   {
    "duration": 3,
    "start_time": "2024-10-02T21:24:46.313Z"
   },
   {
    "duration": 16,
    "start_time": "2024-10-02T21:26:29.099Z"
   },
   {
    "duration": 5,
    "start_time": "2024-10-02T21:26:42.776Z"
   },
   {
    "duration": 75,
    "start_time": "2024-10-02T21:26:52.531Z"
   },
   {
    "duration": 8,
    "start_time": "2024-10-02T21:26:59.342Z"
   },
   {
    "duration": 11,
    "start_time": "2024-10-02T21:27:18.131Z"
   },
   {
    "duration": 7,
    "start_time": "2024-10-02T21:27:35.274Z"
   },
   {
    "duration": 5,
    "start_time": "2024-10-02T21:27:47.707Z"
   },
   {
    "duration": 4,
    "start_time": "2024-10-02T21:31:34.759Z"
   },
   {
    "duration": 6,
    "start_time": "2024-10-02T21:32:29.406Z"
   },
   {
    "duration": 12,
    "start_time": "2024-10-02T21:33:12.210Z"
   },
   {
    "duration": 14,
    "start_time": "2024-10-02T21:33:43.134Z"
   },
   {
    "duration": 9,
    "start_time": "2024-10-02T21:33:48.321Z"
   },
   {
    "duration": 7,
    "start_time": "2024-10-02T21:33:59.790Z"
   },
   {
    "duration": 4,
    "start_time": "2024-10-02T21:40:27.762Z"
   },
   {
    "duration": 7,
    "start_time": "2024-10-02T21:40:45.334Z"
   },
   {
    "duration": 5,
    "start_time": "2024-10-02T21:40:59.236Z"
   },
   {
    "duration": 4,
    "start_time": "2024-10-02T21:43:15.649Z"
   },
   {
    "duration": 28,
    "start_time": "2024-10-02T22:01:14.060Z"
   },
   {
    "duration": 57,
    "start_time": "2024-10-02T22:02:39.077Z"
   },
   {
    "duration": 17,
    "start_time": "2024-10-02T22:02:49.302Z"
   },
   {
    "duration": 4,
    "start_time": "2024-10-02T22:03:06.340Z"
   },
   {
    "duration": 19,
    "start_time": "2024-10-02T22:03:07.012Z"
   },
   {
    "duration": 2,
    "start_time": "2024-10-02T22:03:23.244Z"
   },
   {
    "duration": 10,
    "start_time": "2024-10-02T22:06:25.838Z"
   },
   {
    "duration": 13,
    "start_time": "2024-10-02T22:07:05.692Z"
   },
   {
    "duration": 37,
    "start_time": "2024-10-02T22:11:45.241Z"
   },
   {
    "duration": 78,
    "start_time": "2024-10-02T22:11:53.871Z"
   },
   {
    "duration": 36,
    "start_time": "2024-10-02T22:12:06.154Z"
   },
   {
    "duration": 79,
    "start_time": "2024-10-02T22:12:19.998Z"
   },
   {
    "duration": 35,
    "start_time": "2024-10-02T22:27:05.788Z"
   },
   {
    "duration": 9,
    "start_time": "2024-10-02T22:37:40.017Z"
   },
   {
    "duration": 22,
    "start_time": "2024-10-02T22:38:05.974Z"
   },
   {
    "duration": 82,
    "start_time": "2024-10-02T22:38:19.718Z"
   },
   {
    "duration": 13,
    "start_time": "2024-10-02T22:55:06.223Z"
   },
   {
    "duration": 3,
    "start_time": "2024-10-02T22:55:14.636Z"
   },
   {
    "duration": 13,
    "start_time": "2024-10-02T22:57:07.699Z"
   },
   {
    "duration": 14,
    "start_time": "2024-10-02T22:57:54.397Z"
   },
   {
    "duration": 8,
    "start_time": "2024-10-02T22:57:55.019Z"
   },
   {
    "duration": 3,
    "start_time": "2024-10-02T22:57:55.343Z"
   },
   {
    "duration": 5,
    "start_time": "2024-10-02T22:57:55.661Z"
   },
   {
    "duration": 35,
    "start_time": "2024-10-02T22:57:56.592Z"
   },
   {
    "duration": 82,
    "start_time": "2024-10-02T22:57:57.314Z"
   },
   {
    "duration": 13,
    "start_time": "2024-10-02T22:57:57.659Z"
   },
   {
    "duration": 2123,
    "start_time": "2024-10-02T23:00:09.331Z"
   },
   {
    "duration": 83,
    "start_time": "2024-10-02T23:00:19.830Z"
   },
   {
    "duration": 77,
    "start_time": "2024-10-02T23:01:20.728Z"
   },
   {
    "duration": 81,
    "start_time": "2024-10-02T23:01:28.682Z"
   },
   {
    "duration": 766,
    "start_time": "2024-10-04T12:10:58.421Z"
   },
   {
    "duration": 24,
    "start_time": "2024-10-04T12:10:59.189Z"
   },
   {
    "duration": 6,
    "start_time": "2024-10-04T12:10:59.659Z"
   },
   {
    "duration": 3,
    "start_time": "2024-10-04T12:10:59.827Z"
   },
   {
    "duration": 5,
    "start_time": "2024-10-04T12:10:59.983Z"
   },
   {
    "duration": 36,
    "start_time": "2024-10-04T12:11:00.468Z"
   },
   {
    "duration": 84,
    "start_time": "2024-10-04T12:11:00.964Z"
   },
   {
    "duration": 20,
    "start_time": "2024-10-04T12:11:01.476Z"
   },
   {
    "duration": 30,
    "start_time": "2024-10-04T12:14:41.603Z"
   },
   {
    "duration": 82,
    "start_time": "2024-10-04T12:15:24.808Z"
   },
   {
    "duration": 168,
    "start_time": "2024-10-04T21:17:36.559Z"
   },
   {
    "duration": 822,
    "start_time": "2024-10-04T21:17:57.404Z"
   },
   {
    "duration": 24,
    "start_time": "2024-10-04T21:17:58.228Z"
   },
   {
    "duration": 6,
    "start_time": "2024-10-04T21:17:58.253Z"
   },
   {
    "duration": 3,
    "start_time": "2024-10-04T21:17:58.261Z"
   },
   {
    "duration": 5,
    "start_time": "2024-10-04T21:17:58.265Z"
   },
   {
    "duration": 61,
    "start_time": "2024-10-04T21:17:58.271Z"
   },
   {
    "duration": 87,
    "start_time": "2024-10-04T21:17:58.334Z"
   },
   {
    "duration": 17,
    "start_time": "2024-10-04T21:17:58.423Z"
   },
   {
    "duration": 43,
    "start_time": "2024-10-04T21:18:38.253Z"
   },
   {
    "duration": 42,
    "start_time": "2024-10-04T21:18:54.141Z"
   },
   {
    "duration": 41,
    "start_time": "2024-10-04T21:19:23.030Z"
   },
   {
    "duration": 54,
    "start_time": "2024-10-04T21:20:26.025Z"
   },
   {
    "duration": 67,
    "start_time": "2024-10-04T21:21:03.989Z"
   },
   {
    "duration": 62,
    "start_time": "2024-10-04T21:22:48.278Z"
   },
   {
    "duration": 16,
    "start_time": "2024-10-04T21:30:50.370Z"
   },
   {
    "duration": 15,
    "start_time": "2024-10-04T21:31:02.384Z"
   },
   {
    "duration": 45,
    "start_time": "2024-10-04T21:31:12.609Z"
   },
   {
    "duration": 14,
    "start_time": "2024-10-04T21:31:37.113Z"
   },
   {
    "duration": 817,
    "start_time": "2024-10-05T04:36:15.486Z"
   },
   {
    "duration": 43,
    "start_time": "2024-10-05T04:36:16.306Z"
   },
   {
    "duration": 5,
    "start_time": "2024-10-05T04:36:16.352Z"
   },
   {
    "duration": 3,
    "start_time": "2024-10-05T04:36:16.360Z"
   },
   {
    "duration": 5,
    "start_time": "2024-10-05T04:36:16.365Z"
   },
   {
    "duration": 35,
    "start_time": "2024-10-05T04:36:16.371Z"
   },
   {
    "duration": 33,
    "start_time": "2024-10-05T04:36:16.409Z"
   },
   {
    "duration": 16,
    "start_time": "2024-10-05T04:36:16.444Z"
   },
   {
    "duration": 16,
    "start_time": "2024-10-05T04:36:16.462Z"
   },
   {
    "duration": 8,
    "start_time": "2024-10-05T04:36:16.480Z"
   },
   {
    "duration": 41,
    "start_time": "2024-10-05T04:36:16.490Z"
   },
   {
    "duration": 102,
    "start_time": "2024-10-05T04:36:31.971Z"
   },
   {
    "duration": 240,
    "start_time": "2024-10-05T04:38:06.005Z"
   },
   {
    "duration": 3,
    "start_time": "2024-10-05T04:38:22.447Z"
   },
   {
    "duration": 26,
    "start_time": "2024-10-05T04:38:29.381Z"
   },
   {
    "duration": 2327,
    "start_time": "2024-10-05T04:38:53.510Z"
   },
   {
    "duration": 2408,
    "start_time": "2024-10-05T04:40:10.319Z"
   },
   {
    "duration": 2426,
    "start_time": "2024-10-05T04:40:33.717Z"
   },
   {
    "duration": 2427,
    "start_time": "2024-10-05T04:40:41.437Z"
   },
   {
    "duration": 2658,
    "start_time": "2024-10-05T04:41:02.732Z"
   },
   {
    "duration": 2401,
    "start_time": "2024-10-05T04:41:41.205Z"
   },
   {
    "duration": 2518,
    "start_time": "2024-10-05T04:42:05.382Z"
   },
   {
    "duration": 2373,
    "start_time": "2024-10-05T04:42:16.909Z"
   },
   {
    "duration": 2493,
    "start_time": "2024-10-05T04:42:30.325Z"
   },
   {
    "duration": 7,
    "start_time": "2024-10-05T04:43:20.061Z"
   },
   {
    "duration": 3,
    "start_time": "2024-10-05T04:43:54.894Z"
   },
   {
    "duration": 18,
    "start_time": "2024-10-05T04:44:38.444Z"
   },
   {
    "duration": 7,
    "start_time": "2024-10-05T04:45:02.877Z"
   },
   {
    "duration": 4,
    "start_time": "2024-10-05T04:45:09.006Z"
   },
   {
    "duration": 4,
    "start_time": "2024-10-05T04:45:12.317Z"
   },
   {
    "duration": 24,
    "start_time": "2024-10-05T04:45:13.966Z"
   },
   {
    "duration": 4,
    "start_time": "2024-10-05T04:45:43.778Z"
   },
   {
    "duration": 20,
    "start_time": "2024-10-05T04:45:43.784Z"
   },
   {
    "duration": 6,
    "start_time": "2024-10-05T04:45:43.806Z"
   },
   {
    "duration": 4,
    "start_time": "2024-10-05T04:45:43.815Z"
   },
   {
    "duration": 6,
    "start_time": "2024-10-05T04:45:43.821Z"
   },
   {
    "duration": 37,
    "start_time": "2024-10-05T04:45:43.829Z"
   },
   {
    "duration": 15,
    "start_time": "2024-10-05T04:45:43.868Z"
   },
   {
    "duration": 17,
    "start_time": "2024-10-05T04:45:43.885Z"
   },
   {
    "duration": 35,
    "start_time": "2024-10-05T04:45:43.904Z"
   },
   {
    "duration": 2383,
    "start_time": "2024-10-05T04:45:43.942Z"
   },
   {
    "duration": 14,
    "start_time": "2024-10-05T04:45:46.327Z"
   },
   {
    "duration": 235,
    "start_time": "2024-10-05T04:48:24.848Z"
   },
   {
    "duration": 12,
    "start_time": "2024-10-05T04:48:42.027Z"
   },
   {
    "duration": 13,
    "start_time": "2024-10-05T04:49:10.470Z"
   },
   {
    "duration": 22,
    "start_time": "2024-10-05T04:49:15.183Z"
   },
   {
    "duration": 4,
    "start_time": "2024-10-05T04:49:50.550Z"
   },
   {
    "duration": 30,
    "start_time": "2024-10-05T04:49:53.063Z"
   },
   {
    "duration": 13,
    "start_time": "2024-10-05T04:50:01.279Z"
   },
   {
    "duration": 9,
    "start_time": "2024-10-05T04:52:07.603Z"
   }
  ],
  "kernelspec": {
   "display_name": "base",
   "language": "python",
   "name": "python3"
  },
  "language_info": {
   "codemirror_mode": {
    "name": "ipython",
    "version": 3
   },
   "file_extension": ".py",
   "mimetype": "text/x-python",
   "name": "python",
   "nbconvert_exporter": "python",
   "pygments_lexer": "ipython3",
   "version": "3.12.4"
  },
  "toc": {
   "base_numbering": 1,
   "nav_menu": {},
   "number_sections": true,
   "sideBar": true,
   "skip_h1_title": true,
   "title_cell": "Table of Contents",
   "title_sidebar": "Contents",
   "toc_cell": false,
   "toc_position": {},
   "toc_section_display": true,
   "toc_window_display": false
  }
 },
 "nbformat": 4,
 "nbformat_minor": 2
}
