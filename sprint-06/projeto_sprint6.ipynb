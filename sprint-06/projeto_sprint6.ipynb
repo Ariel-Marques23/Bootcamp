{
 "cells": [
  {
   "cell_type": "markdown",
   "metadata": {},
   "source": [
    "# Analise de dados loja Ice, projeto integrado 1"
   ]
  },
  {
   "cell_type": "markdown",
   "metadata": {},
   "source": [
    "Buscando identificar padrões de jogos de sucesso"
   ]
  },
  {
   "cell_type": "markdown",
   "metadata": {},
   "source": [
    "### Bibiliotecas"
   ]
  },
  {
   "cell_type": "code",
   "execution_count": 26,
   "metadata": {},
   "outputs": [],
   "source": [
    "import pandas as pd\n",
    "import numpy as np\n",
    "import matplotlib.pyplot as plt\n",
    "import seaborn as sns\n",
    "from scipy import stats as st"
   ]
  },
  {
   "cell_type": "markdown",
   "metadata": {},
   "source": [
    "### Carregando dados"
   ]
  },
  {
   "cell_type": "code",
   "execution_count": 27,
   "metadata": {
    "scrolled": false
   },
   "outputs": [
    {
     "name": "stdout",
     "output_type": "stream",
     "text": [
      "<class 'pandas.core.frame.DataFrame'>\n",
      "RangeIndex: 16715 entries, 0 to 16714\n",
      "Data columns (total 11 columns):\n",
      " #   Column           Non-Null Count  Dtype  \n",
      "---  ------           --------------  -----  \n",
      " 0   Name             16713 non-null  object \n",
      " 1   Platform         16715 non-null  object \n",
      " 2   Year_of_Release  16446 non-null  float64\n",
      " 3   Genre            16713 non-null  object \n",
      " 4   NA_sales         16715 non-null  float64\n",
      " 5   EU_sales         16715 non-null  float64\n",
      " 6   JP_sales         16715 non-null  float64\n",
      " 7   Other_sales      16715 non-null  float64\n",
      " 8   Critic_Score     8137 non-null   float64\n",
      " 9   User_Score       10014 non-null  object \n",
      " 10  Rating           9949 non-null   object \n",
      "dtypes: float64(6), object(5)\n",
      "memory usage: 1.4+ MB\n"
     ]
    },
    {
     "data": {
      "text/html": [
       "<div>\n",
       "<style scoped>\n",
       "    .dataframe tbody tr th:only-of-type {\n",
       "        vertical-align: middle;\n",
       "    }\n",
       "\n",
       "    .dataframe tbody tr th {\n",
       "        vertical-align: top;\n",
       "    }\n",
       "\n",
       "    .dataframe thead th {\n",
       "        text-align: right;\n",
       "    }\n",
       "</style>\n",
       "<table border=\"1\" class=\"dataframe\">\n",
       "  <thead>\n",
       "    <tr style=\"text-align: right;\">\n",
       "      <th></th>\n",
       "      <th>Name</th>\n",
       "      <th>Platform</th>\n",
       "      <th>Year_of_Release</th>\n",
       "      <th>Genre</th>\n",
       "      <th>NA_sales</th>\n",
       "      <th>EU_sales</th>\n",
       "      <th>JP_sales</th>\n",
       "      <th>Other_sales</th>\n",
       "      <th>Critic_Score</th>\n",
       "      <th>User_Score</th>\n",
       "      <th>Rating</th>\n",
       "    </tr>\n",
       "  </thead>\n",
       "  <tbody>\n",
       "    <tr>\n",
       "      <th>0</th>\n",
       "      <td>Wii Sports</td>\n",
       "      <td>Wii</td>\n",
       "      <td>2006.0</td>\n",
       "      <td>Sports</td>\n",
       "      <td>41.36</td>\n",
       "      <td>28.96</td>\n",
       "      <td>3.77</td>\n",
       "      <td>8.45</td>\n",
       "      <td>76.0</td>\n",
       "      <td>8</td>\n",
       "      <td>E</td>\n",
       "    </tr>\n",
       "    <tr>\n",
       "      <th>1</th>\n",
       "      <td>Super Mario Bros.</td>\n",
       "      <td>NES</td>\n",
       "      <td>1985.0</td>\n",
       "      <td>Platform</td>\n",
       "      <td>29.08</td>\n",
       "      <td>3.58</td>\n",
       "      <td>6.81</td>\n",
       "      <td>0.77</td>\n",
       "      <td>NaN</td>\n",
       "      <td>NaN</td>\n",
       "      <td>NaN</td>\n",
       "    </tr>\n",
       "    <tr>\n",
       "      <th>2</th>\n",
       "      <td>Mario Kart Wii</td>\n",
       "      <td>Wii</td>\n",
       "      <td>2008.0</td>\n",
       "      <td>Racing</td>\n",
       "      <td>15.68</td>\n",
       "      <td>12.76</td>\n",
       "      <td>3.79</td>\n",
       "      <td>3.29</td>\n",
       "      <td>82.0</td>\n",
       "      <td>8.3</td>\n",
       "      <td>E</td>\n",
       "    </tr>\n",
       "    <tr>\n",
       "      <th>3</th>\n",
       "      <td>Wii Sports Resort</td>\n",
       "      <td>Wii</td>\n",
       "      <td>2009.0</td>\n",
       "      <td>Sports</td>\n",
       "      <td>15.61</td>\n",
       "      <td>10.93</td>\n",
       "      <td>3.28</td>\n",
       "      <td>2.95</td>\n",
       "      <td>80.0</td>\n",
       "      <td>8</td>\n",
       "      <td>E</td>\n",
       "    </tr>\n",
       "    <tr>\n",
       "      <th>4</th>\n",
       "      <td>Pokemon Red/Pokemon Blue</td>\n",
       "      <td>GB</td>\n",
       "      <td>1996.0</td>\n",
       "      <td>Role-Playing</td>\n",
       "      <td>11.27</td>\n",
       "      <td>8.89</td>\n",
       "      <td>10.22</td>\n",
       "      <td>1.00</td>\n",
       "      <td>NaN</td>\n",
       "      <td>NaN</td>\n",
       "      <td>NaN</td>\n",
       "    </tr>\n",
       "    <tr>\n",
       "      <th>5</th>\n",
       "      <td>Tetris</td>\n",
       "      <td>GB</td>\n",
       "      <td>1989.0</td>\n",
       "      <td>Puzzle</td>\n",
       "      <td>23.20</td>\n",
       "      <td>2.26</td>\n",
       "      <td>4.22</td>\n",
       "      <td>0.58</td>\n",
       "      <td>NaN</td>\n",
       "      <td>NaN</td>\n",
       "      <td>NaN</td>\n",
       "    </tr>\n",
       "    <tr>\n",
       "      <th>6</th>\n",
       "      <td>New Super Mario Bros.</td>\n",
       "      <td>DS</td>\n",
       "      <td>2006.0</td>\n",
       "      <td>Platform</td>\n",
       "      <td>11.28</td>\n",
       "      <td>9.14</td>\n",
       "      <td>6.50</td>\n",
       "      <td>2.88</td>\n",
       "      <td>89.0</td>\n",
       "      <td>8.5</td>\n",
       "      <td>E</td>\n",
       "    </tr>\n",
       "    <tr>\n",
       "      <th>7</th>\n",
       "      <td>Wii Play</td>\n",
       "      <td>Wii</td>\n",
       "      <td>2006.0</td>\n",
       "      <td>Misc</td>\n",
       "      <td>13.96</td>\n",
       "      <td>9.18</td>\n",
       "      <td>2.93</td>\n",
       "      <td>2.84</td>\n",
       "      <td>58.0</td>\n",
       "      <td>6.6</td>\n",
       "      <td>E</td>\n",
       "    </tr>\n",
       "    <tr>\n",
       "      <th>8</th>\n",
       "      <td>New Super Mario Bros. Wii</td>\n",
       "      <td>Wii</td>\n",
       "      <td>2009.0</td>\n",
       "      <td>Platform</td>\n",
       "      <td>14.44</td>\n",
       "      <td>6.94</td>\n",
       "      <td>4.70</td>\n",
       "      <td>2.24</td>\n",
       "      <td>87.0</td>\n",
       "      <td>8.4</td>\n",
       "      <td>E</td>\n",
       "    </tr>\n",
       "    <tr>\n",
       "      <th>9</th>\n",
       "      <td>Duck Hunt</td>\n",
       "      <td>NES</td>\n",
       "      <td>1984.0</td>\n",
       "      <td>Shooter</td>\n",
       "      <td>26.93</td>\n",
       "      <td>0.63</td>\n",
       "      <td>0.28</td>\n",
       "      <td>0.47</td>\n",
       "      <td>NaN</td>\n",
       "      <td>NaN</td>\n",
       "      <td>NaN</td>\n",
       "    </tr>\n",
       "  </tbody>\n",
       "</table>\n",
       "</div>"
      ],
      "text/plain": [
       "                        Name Platform  Year_of_Release         Genre  \\\n",
       "0                 Wii Sports      Wii           2006.0        Sports   \n",
       "1          Super Mario Bros.      NES           1985.0      Platform   \n",
       "2             Mario Kart Wii      Wii           2008.0        Racing   \n",
       "3          Wii Sports Resort      Wii           2009.0        Sports   \n",
       "4   Pokemon Red/Pokemon Blue       GB           1996.0  Role-Playing   \n",
       "5                     Tetris       GB           1989.0        Puzzle   \n",
       "6      New Super Mario Bros.       DS           2006.0      Platform   \n",
       "7                   Wii Play      Wii           2006.0          Misc   \n",
       "8  New Super Mario Bros. Wii      Wii           2009.0      Platform   \n",
       "9                  Duck Hunt      NES           1984.0       Shooter   \n",
       "\n",
       "   NA_sales  EU_sales  JP_sales  Other_sales  Critic_Score User_Score Rating  \n",
       "0     41.36     28.96      3.77         8.45          76.0          8      E  \n",
       "1     29.08      3.58      6.81         0.77           NaN        NaN    NaN  \n",
       "2     15.68     12.76      3.79         3.29          82.0        8.3      E  \n",
       "3     15.61     10.93      3.28         2.95          80.0          8      E  \n",
       "4     11.27      8.89     10.22         1.00           NaN        NaN    NaN  \n",
       "5     23.20      2.26      4.22         0.58           NaN        NaN    NaN  \n",
       "6     11.28      9.14      6.50         2.88          89.0        8.5      E  \n",
       "7     13.96      9.18      2.93         2.84          58.0        6.6      E  \n",
       "8     14.44      6.94      4.70         2.24          87.0        8.4      E  \n",
       "9     26.93      0.63      0.28         0.47           NaN        NaN    NaN  "
      ]
     },
     "execution_count": 27,
     "metadata": {},
     "output_type": "execute_result"
    }
   ],
   "source": [
    "df = pd.read_csv('datasets/games.csv')\n",
    "df.info()\n",
    "df.head(10)"
   ]
  },
  {
   "cell_type": "markdown",
   "metadata": {},
   "source": [
    "### preparando os dados"
   ]
  },
  {
   "cell_type": "code",
   "execution_count": 28,
   "metadata": {},
   "outputs": [
    {
     "data": {
      "text/plain": [
       "Index(['name', 'platform', 'year_of_release', 'genre', 'na_sales', 'eu_sales',\n",
       "       'jp_sales', 'other_sales', 'critic_score', 'user_score', 'rating'],\n",
       "      dtype='object')"
      ]
     },
     "execution_count": 28,
     "metadata": {},
     "output_type": "execute_result"
    }
   ],
   "source": [
    "'''\n",
    "c_name=df.columns\n",
    "c_name = [name.lower() for name in c_name]\n",
    "df.columns = c_name\n",
    "df.columns\n",
    "'''\n",
    "df.columns = [name.lower() for name in df.columns]\n",
    "df.columns"
   ]
  },
  {
   "cell_type": "code",
   "execution_count": 29,
   "metadata": {},
   "outputs": [],
   "source": [
    "#converte a coluna user_score em float\n",
    "df['user_score'] = pd.to_numeric(df['user_score'], errors = 'coerce')\n",
    "\n",
    "#converte todas as colunas object em string\n",
    "tb_changed = df.select_dtypes(include='object').columns\n",
    "df[tb_changed] = df[tb_changed].astype('string')"
   ]
  },
  {
   "cell_type": "code",
   "execution_count": 30,
   "metadata": {},
   "outputs": [
    {
     "name": "stdout",
     "output_type": "stream",
     "text": [
      "0\n"
     ]
    }
   ],
   "source": [
    "print(df.duplicated().sum())"
   ]
  },
  {
   "cell_type": "code",
   "execution_count": 31,
   "metadata": {
    "scrolled": true
   },
   "outputs": [
    {
     "data": {
      "text/plain": [
       "0        74.09\n",
       "1        39.47\n",
       "2        32.23\n",
       "3        29.82\n",
       "4        30.38\n",
       "         ...  \n",
       "16710     0.01\n",
       "16711     0.01\n",
       "16712     0.01\n",
       "16713     0.01\n",
       "16714     0.01\n",
       "Name: total_sales, Length: 16715, dtype: float64"
      ]
     },
     "execution_count": 31,
     "metadata": {},
     "output_type": "execute_result"
    }
   ],
   "source": [
    "#criando coluna total_sales com a soma de todas as vendas (na,eu,jp)\n",
    "df['total_sales']=df['na_sales']+df['eu_sales']+df['jp_sales']\n",
    "df['total_sales']"
   ]
  },
  {
   "cell_type": "markdown",
   "metadata": {},
   "source": [
    "<div class=\"alert alert-success\">\n",
    "<strong>Comentário do revisor v1</strong>\n",
    "\n",
    "Vendas totais calculadas.\n",
    "\n",
    "</div>\n"
   ]
  },
  {
   "cell_type": "code",
   "execution_count": 32,
   "metadata": {},
   "outputs": [],
   "source": [
    "df['user_score'] = df['user_score'].fillna(df['user_score'].mean())"
   ]
  },
  {
   "cell_type": "markdown",
   "metadata": {},
   "source": [
    "### Analise"
   ]
  },
  {
   "cell_type": "code",
   "execution_count": 33,
   "metadata": {},
   "outputs": [
    {
     "data": {
      "image/png": "[encoded data removed]",
      "text/plain": [
       "<Figure size 1200x600 with 1 Axes>"
      ]
     },
     "metadata": {},
     "output_type": "display_data"
    }
   ],
   "source": [
    "\n",
    "plt.figure(figsize=(12, 6))  # Aumenta o tamanho da figura para ajustar o espaçamento\n",
    "ax = df[['platform', 'year_of_release']].groupby('year_of_release').count().plot(kind='bar', ax=plt.gca())\n",
    "\n",
    "# Ajusta o espaçamento entre os pontos do eixo X\n",
    "ax.set_xticks(ax.get_xticks())  # Define a posição dos ticks no eixo X\n",
    "ax.set_xticklabels(ax.get_xticklabels(), ha='right', rotation=65, fontsize=11)  # Ajusta a rotação e o alinhamento dos rótulos\n",
    "\n",
    "plt.tight_layout()\n",
    "\n",
    "plt.show()"
   ]
  },
  {
   "cell_type": "code",
   "execution_count": 34,
   "metadata": {
    "scrolled": false
   },
   "outputs": [
    {
     "name": "stdout",
     "output_type": "stream",
     "text": [
      "          total_sales\n",
      "platform             \n",
      "PS2           1062.33\n",
      "X360           885.66\n",
      "Wii            828.44\n",
      "PS3            803.97\n",
      "DS             746.86\n"
     ]
    }
   ],
   "source": [
    "#filtra as 5 plataformas com mais vendas ao longo dos anos\n",
    "top5 = df[['total_sales','platform']].groupby('platform').sum().sort_values(by='total_sales',ascending=False).head(5)\n",
    "top5_plat=top5.index.to_numpy()\n",
    "\n",
    "print(top5)\n",
    "\n"
   ]
  },
  {
   "cell_type": "code",
   "execution_count": 35,
   "metadata": {
    "scrolled": false
   },
   "outputs": [
    {
     "name": "stdout",
     "output_type": "stream",
     "text": [
      "   platform  year_of_release  total_sales\n",
      "0        DS           1985.0         0.02\n",
      "1        DS           2004.0        15.91\n",
      "2        DS           2005.0       119.34\n",
      "3        DS           2006.0       111.64\n",
      "4        DS           2007.0       135.85\n",
      "5        DS           2008.0       134.37\n",
      "6        DS           2009.0       110.99\n",
      "7        DS           2010.0        79.48\n",
      "8        DS           2011.0        24.30\n",
      "9        DS           2012.0        10.42\n",
      "10       DS           2013.0         1.42\n",
      "11      PS2           2000.0        35.59\n",
      "12      PS2           2001.0       149.65\n",
      "13      PS2           2002.0       183.66\n",
      "14      PS2           2003.0       163.62\n",
      "15      PS2           2004.0       171.96\n",
      "16      PS2           2005.0       141.51\n",
      "17      PS2           2006.0        89.18\n",
      "18      PS2           2007.0        52.30\n",
      "19      PS2           2008.0        34.59\n",
      "20      PS2           2009.0        16.24\n",
      "21      PS2           2010.0         4.44\n",
      "22      PS2           2011.0         0.35\n",
      "23      PS3           2006.0        17.30\n",
      "24      PS3           2007.0        62.48\n",
      "25      PS3           2008.0       101.78\n",
      "26      PS3           2009.0       113.08\n",
      "27      PS3           2010.0       121.36\n",
      "28      PS3           2011.0       135.22\n",
      "29      PS3           2012.0        90.87\n",
      "30      PS3           2013.0        95.85\n",
      "31      PS3           2014.0        40.88\n",
      "32      PS3           2015.0        14.70\n",
      "33      PS3           2016.0         3.23\n",
      "34      Wii           2006.0       123.63\n",
      "35      Wii           2007.0       139.22\n",
      "36      Wii           2008.0       156.33\n",
      "37      Wii           2009.0       189.43\n",
      "38      Wii           2010.0       117.73\n",
      "39      Wii           2011.0        54.37\n",
      "40      Wii           2012.0        20.22\n",
      "41      Wii           2013.0         7.87\n",
      "42      Wii           2014.0         3.45\n",
      "43      Wii           2015.0         1.05\n",
      "44      Wii           2016.0         0.17\n",
      "45     X360           2005.0         7.61\n",
      "46     X360           2006.0        47.20\n",
      "47     X360           2007.0        86.68\n",
      "48     X360           2008.0       122.56\n",
      "49     X360           2009.0       109.26\n",
      "50     X360           2010.0       155.80\n",
      "51     X360           2011.0       131.11\n",
      "52     X360           2012.0        91.45\n",
      "53     X360           2013.0        80.82\n",
      "54     X360           2014.0        31.61\n",
      "55     X360           2015.0        10.86\n",
      "56     X360           2016.0         1.40\n"
     ]
    },
    {
     "data": {
      "image/png": "[encoded data removed]",
      "text/plain": [
       "<Figure size 1500x800 with 1 Axes>"
      ]
     },
     "metadata": {},
     "output_type": "display_data"
    }
   ],
   "source": [
    "#selecionando apenas o top5 em vendas\n",
    "df_filtered = df[df['platform'].isin(top5_plat)]\n",
    "df_grouped = df_filtered.groupby(['platform', 'year_of_release']).sum().reset_index()\n",
    "\n",
    "#organizando exibição\n",
    "df_grouped_sorted = df_grouped.sort_values(by=['platform', 'year_of_release'], ascending=[True, True])\n",
    "\n",
    "print(df_grouped_sorted[['platform','year_of_release','total_sales']])\n",
    "\n",
    "# tamanho do gráfico\n",
    "plt.figure(figsize=(15, 8))\n",
    "\n",
    "# Gráfico de dispersão para variação de total_sales por platform e year_of_release\n",
    "sns.barplot(data=df_grouped_sorted, x='year_of_release', y='total_sales',hue='platform')\n",
    "\n",
    "plt.xticks(rotation=45)\n",
    "plt.xlabel('Year of Release')\n",
    "plt.ylabel('Total Sales')\n",
    "plt.title('Total te vendas por ano para cada plataforma')\n",
    "\n",
    "plt.show()"
   ]
  },
  {
   "cell_type": "markdown",
   "metadata": {},
   "source": [
    "Das 5 plataformas selecionadas DS e PS2 não tem mais vendas, sendo que DS teve vendas por 11 anos e o PS2 po 12anos\n",
    "As demais plataformas apresentam vendas ainda ate 2016"
   ]
  },
  {
   "cell_type": "markdown",
   "metadata": {},
   "source": [
    "Vamos utilizar os dados posteriores a 2010 (2011-2016) por demonstrarem melhor a realidade atual uma vez que as vendas dos jogos é afetado com lançamento de novas plataformas, o que torna plataformas muito antigas irrelevantes"
   ]
  },
  {
   "cell_type": "code",
   "execution_count": 36,
   "metadata": {},
   "outputs": [
    {
     "name": "stdout",
     "output_type": "stream",
     "text": [
      "['PS3' 'X360' 'PS4' '3DS' 'XOne']\n",
      "   platform  year_of_release  total_sales\n",
      "0       3DS           2011.0        58.80\n",
      "1       3DS           2012.0        48.77\n",
      "2       3DS           2013.0        53.97\n",
      "3       3DS           2014.0        41.75\n",
      "4       3DS           2015.0        26.75\n",
      "5       3DS           2016.0        14.50\n",
      "6       PS3           2011.0       135.22\n",
      "7       PS3           2012.0        90.87\n",
      "8       PS3           2013.0        95.85\n",
      "9       PS3           2014.0        40.88\n",
      "10      PS3           2015.0        14.70\n",
      "11      PS3           2016.0         3.23\n",
      "12      PS4           2013.0        22.12\n",
      "13      PS4           2014.0        84.22\n",
      "14      PS4           2015.0       100.44\n",
      "15      PS4           2016.0        59.01\n",
      "16     X360           2011.0       131.11\n",
      "17     X360           2012.0        91.45\n",
      "18     X360           2013.0        80.82\n",
      "19     X360           2014.0        31.61\n",
      "20     X360           2015.0        10.86\n",
      "21     X360           2016.0         1.40\n",
      "22     XOne           2013.0        17.21\n",
      "23     XOne           2014.0        49.26\n",
      "24     XOne           2015.0        54.67\n",
      "25     XOne           2016.0        23.91\n"
     ]
    }
   ],
   "source": [
    "# Filtra o DataFrame para incluir apenas as linhas onde 'year_of_release' é maior que 2010\n",
    "df_above = df[df['year_of_release'] > 2010]\n",
    "\n",
    "# Filtra as 5 plataformas com mais vendas após 2010\n",
    "top5_att = df_above[['total_sales', 'platform']].groupby('platform').sum().sort_values(by='total_sales', ascending=False).head(5)\n",
    "top5_plat_att = top5_att.index.to_numpy()\n",
    "\n",
    "print(top5_plat_att)\n",
    "\n",
    "# Selecionando apenas o top 5 em vendas depois de 2010\n",
    "df_filtered = df_above[df_above['platform'].isin(top5_plat_att)]\n",
    "\n",
    "# Agrupa por 'platform' e 'year_of_release' e calcula as vendas totais\n",
    "df_grouped = df_filtered.groupby(['platform', 'year_of_release']).sum().reset_index()\n",
    "\n",
    "# Organiza a exibição por 'platform' e 'year_of_release'\n",
    "df_grouped_sorted = df_grouped.sort_values(by=['platform', 'year_of_release'], ascending=[True, True])\n",
    "\n",
    "print(df_grouped_sorted[['platform', 'year_of_release', 'total_sales']])"
   ]
  },
  {
   "cell_type": "markdown",
   "metadata": {},
   "source": [
    "Plataformas ques estão liderando as vendas (2010-2016) PS3, X360, PS4, 3DS, XOne\n",
    "\n",
    "As plataformas x360, PS3 e 3DS apresentam uma queda ao longo dos anos possivelmento por estarem se tornando desatualizados\n",
    "\n",
    "No entanto as vendas tem aumentado para XOne e PS4, que mostram um historico de vendas muito bom nos modelos anteriores (ps2,ps3 e x360). Estas se mostram com um grande potencial para lucro"
   ]
  },
  {
   "cell_type": "code",
   "execution_count": 37,
   "metadata": {
    "scrolled": false
   },
   "outputs": [
    {
     "data": {
      "image/png": "[encoded data removed]",
      "text/plain": [
       "<Figure size 640x480 with 1 Axes>"
      ]
     },
     "metadata": {},
     "output_type": "display_data"
    }
   ],
   "source": [
    "\n",
    "#Criar o boxplot\n",
    "sns.boxplot(x='platform', y='total_sales', data=df_grouped)\n",
    "\n",
    "plt.title('Vendas Globais por Plataforma')\n",
    "plt.xlabel('Plataforma')\n",
    "plt.ylabel('Vendas Globais')\n",
    "\n",
    "# exibir o gráfico\n",
    "plt.xticks(rotation=45)\n",
    "plt.show()"
   ]
  },
  {
   "cell_type": "markdown",
   "metadata": {},
   "source": [
    "As diferenças nas vendas são significativas? E quanto às vendas médias em várias plataformas? Descreva suas descobertas.\n",
    "\n",
    "Sim as plataformas PS3 e X360 tem uma quantidade muito maior de vendas no periodo.\n",
    "\n",
    "A media das plataformas XOne e 3DS se mostram bem a baixo das demais.\n",
    "\n",
    "Apesar do XOne e do PS4 terem vendas no mesmo periodo a quantidade de vendas do PS4 foi bem maior .\n",
    "\n"
   ]
  },
  {
   "cell_type": "code",
   "execution_count": 38,
   "metadata": {},
   "outputs": [],
   "source": [
    "df_XOne = df_above[df_above['platform']=='XOne'].copy()\n",
    "df_XOne['user_score_adjusted'] = df_XOne['user_score'] * 10"
   ]
  },
  {
   "cell_type": "code",
   "execution_count": 39,
   "metadata": {},
   "outputs": [
    {
     "data": {
      "image/png": "[encoded data removed]",
      "text/plain": [
       "<Figure size 640x480 with 1 Axes>"
      ]
     },
     "metadata": {},
     "output_type": "display_data"
    }
   ],
   "source": [
    "#Criar grafico de dispersão\n",
    "sns.scatterplot(x='user_score_adjusted', y='total_sales', data=df_XOne)\n",
    "sns.scatterplot(x='critic_score', y='total_sales', data=df_XOne)\n",
    "# exibir o gráfico\n",
    "plt.xticks(rotation=45)\n",
    "plt.title('Xone')\n",
    "plt.show()"
   ]
  },
  {
   "cell_type": "markdown",
   "metadata": {},
   "source": [
    "Quanto maior o score tanto de usuarios quanto criticos maior a quantidade de vendas"
   ]
  },
  {
   "cell_type": "code",
   "execution_count": 40,
   "metadata": {},
   "outputs": [],
   "source": [
    "df_PS4 = df_above[df_above['platform']=='PS4'].copy()\n",
    "\n",
    "df_PS4['user_score_adjusted'] = df_PS4['user_score'] * 10\n",
    "\n",
    "df_PS3 = df_above[df_above['platform']=='PS3'].copy()\n",
    "\n",
    "df_PS3['user_score_adjusted'] = df_PS3['user_score'] * 10"
   ]
  },
  {
   "cell_type": "code",
   "execution_count": 41,
   "metadata": {},
   "outputs": [
    {
     "data": {
      "image/png": "[encoded data removed]",
      "text/plain": [
       "<Figure size 640x480 with 1 Axes>"
      ]
     },
     "metadata": {},
     "output_type": "display_data"
    }
   ],
   "source": [
    "#Criar grafico de dispersão\n",
    "sns.scatterplot(x='user_score_adjusted', y='total_sales', data=df_PS4)\n",
    "sns.scatterplot(x='critic_score', y='total_sales', data=df_PS4)\n",
    "# exibir o gráfico\n",
    "plt.xticks(rotation=45)\n",
    "plt.title('PS4')\n",
    "plt.show()"
   ]
  },
  {
   "cell_type": "code",
   "execution_count": 42,
   "metadata": {},
   "outputs": [
    {
     "data": {
      "image/png": "[encoded data removed]",
      "text/plain": [
       "<Figure size 640x480 with 1 Axes>"
      ]
     },
     "metadata": {},
     "output_type": "display_data"
    }
   ],
   "source": [
    "#Criar grafico de dispersão\n",
    "sns.scatterplot(x='user_score_adjusted', y='total_sales', data=df_PS3)\n",
    "sns.scatterplot(x='critic_score', y='total_sales', data=df_PS3)\n",
    "# exibir o gráfico\n",
    "plt.xticks(rotation=45)\n",
    "plt.title('PS3')\n",
    "plt.show()"
   ]
  },
  {
   "cell_type": "markdown",
   "metadata": {},
   "source": [
    "O padrão se repere para outras plataformas"
   ]
  },
  {
   "cell_type": "code",
   "execution_count": 43,
   "metadata": {},
   "outputs": [
    {
     "name": "stdout",
     "output_type": "stream",
     "text": [
      "              total_sales  critic_score    user_score\n",
      "genre                                                \n",
      "Action            1559.57      125929.0  23874.345968\n",
      "Sports            1196.76       85930.0  16548.882411\n",
      "Shooter            948.34       66251.0   9349.593399\n",
      "Role-Playing       874.93       53545.0  11040.709816\n",
      "Platform           776.68       33825.0   6402.521212\n",
      "Misc               728.12       34842.0  12334.635455\n",
      "Racing             652.57       50429.0   8842.228037\n",
      "Fighting           411.17       28310.0   6119.970751\n",
      "Simulation         359.24       24154.0   6223.449394\n",
      "Puzzle             230.19       15103.0   4138.920843\n",
      "Adventure          221.10       21102.0   9286.321252\n",
      "Strategy           163.38       21770.0   4919.317154\n"
     ]
    }
   ],
   "source": [
    "x=df[['genre','total_sales','critic_score','user_score']].groupby('genre').sum().sort_values(by='total_sales',ascending=False)\n",
    "print(x)"
   ]
  },
  {
   "cell_type": "code",
   "execution_count": 44,
   "metadata": {},
   "outputs": [
    {
     "name": "stdout",
     "output_type": "stream",
     "text": [
      "Coeficiente de correlação: 0.948352076025337\n",
      "Coeficiente de correlação: 0.879292423959734\n"
     ]
    }
   ],
   "source": [
    "pearson_corr_scipy, _ = st.pearsonr(x['total_sales'], x['critic_score'])\n",
    "print(f\"Coeficiente de correlação: {pearson_corr_scipy}\")\n",
    "pearson_corr_scipy, _ = st.pearsonr(x['total_sales'], x['user_score'])\n",
    "print(f\"Coeficiente de correlação: {pearson_corr_scipy}\")"
   ]
  },
  {
   "cell_type": "markdown",
   "metadata": {},
   "source": [
    "Podemos notar que a um correlação entre o numero de vendas e os ratings, quanto maior os ratings maior o numero de vendas podemos notar isso tanto com as plataformas quanto com os generos mais vendidos\n",
    "\n",
    "Ao calcular a correlação podemos notar que ambas são corelações fortes e positivas, o que implica que ao uma aumentar a outra também aumenta"
   ]
  },
  {
   "cell_type": "markdown",
   "metadata": {},
   "source": [
    "Os generos com o maior numero de vendas também são os que tem o maior score entre os criticos e os usuarios"
   ]
  },
  {
   "cell_type": "code",
   "execution_count": 45,
   "metadata": {},
   "outputs": [
    {
     "name": "stdout",
     "output_type": "stream",
     "text": [
      "          na_sales                                             rating\n",
      "platform                                                             \n",
      "X360        602.47  EMMMMMMMMMMMMMMMMMME10+MMEMMEMMTETMMMEMMEME10+...\n",
      "PS2         583.84  MMEMETEETEMTETETTTTETEEEMTETE10+MEEEMETE10+TTE...\n",
      "Wii         496.90  EEEEEEETEE10+E10+EEEE10+TE10+EEE10+TETE10+EE10...\n",
      "PS3         393.49  MMMMEMMMEMTMTMEMMMMEMTMTMETMMMMETMETMTE10+MEME...\n",
      "DS          382.40  EEEEEEEEE10+EEEEE10+EEEE10+EE10+E10+EEEEE10+EE...\n",
      "['X360' 'PS2' 'Wii' 'PS3' 'DS']\n",
      "          na_sales\n",
      "genre             \n",
      "Action      879.01\n",
      "Sports      684.43\n",
      "Shooter     592.24\n",
      "Platform    445.50\n",
      "Misc        407.27\n",
      "['Action' 'Sports' 'Shooter' 'Platform' 'Misc']\n"
     ]
    },
    {
     "data": {
      "image/png": "[encoded data removed]",
      "text/plain": [
       "<Figure size 640x480 with 1 Axes>"
      ]
     },
     "metadata": {},
     "output_type": "display_data"
    },
    {
     "data": {
      "image/png": "[encoded data removed]",
      "text/plain": [
       "<Figure size 640x480 with 1 Axes>"
      ]
     },
     "metadata": {},
     "output_type": "display_data"
    }
   ],
   "source": [
    "na_p = df[['platform','na_sales','rating']].groupby(['platform']).sum().sort_values(by='na_sales',ascending=False)\n",
    "print(na_p.head(5))\n",
    "print(na_p.head(5).index.to_numpy())\n",
    "\n",
    "na_g=df[['genre','na_sales']].groupby(['genre']).sum().sort_values(by='na_sales',ascending=False)\n",
    "print(na_g.head(5))\n",
    "print(na_g.head(5).index.to_numpy())\n",
    "\n",
    "na_p.head(10).plot(kind='bar')\n",
    "plt.title(\"Top 10 plataformas\")\n",
    "na_g.head(10).plot(kind='bar')\n",
    "plt.title(\"Top 10 generos\")\n",
    "\n",
    "plt.show()"
   ]
  },
  {
   "cell_type": "code",
   "execution_count": 46,
   "metadata": {},
   "outputs": [
    {
     "name": "stdout",
     "output_type": "stream",
     "text": [
      "          eu_sales\n",
      "platform          \n",
      "PS2         339.29\n",
      "PS3         330.29\n",
      "X360        270.76\n",
      "Wii         262.21\n",
      "PS          213.61\n",
      "['PS2' 'PS3' 'X360' 'Wii' 'PS']\n",
      "         eu_sales\n",
      "genre            \n",
      "Action     519.13\n",
      "Sports     376.79\n",
      "Shooter    317.34\n",
      "Racing     236.51\n",
      "Misc       212.74\n",
      "['Action' 'Sports' 'Shooter' 'Racing' 'Misc']\n"
     ]
    },
    {
     "data": {
      "image/png": "[encoded data removed]",
      "text/plain": [
       "<Figure size 640x480 with 1 Axes>"
      ]
     },
     "metadata": {},
     "output_type": "display_data"
    },
    {
     "data": {
      "image/png": "[encoded data removed]",
      "text/plain": [
       "<Figure size 640x480 with 1 Axes>"
      ]
     },
     "metadata": {},
     "output_type": "display_data"
    }
   ],
   "source": [
    "eu_p = df[['platform','eu_sales']].groupby(['platform']).sum().sort_values(by='eu_sales',ascending=False)\n",
    "print(eu_p.head(5))\n",
    "print(eu_p.head(5).index.to_numpy())\n",
    "\n",
    "eu_g  = df[['genre','eu_sales']].groupby(['genre']).sum().sort_values(by='eu_sales',ascending=False)\n",
    "print(eu_g.head(5))\n",
    "print(eu_g.head(5).index.to_numpy())\n",
    "eu_p.head(10).plot(kind='bar')\n",
    "plt.title(\"Top 10 plataformas\")\n",
    "eu_g.head(10).plot(kind='bar')\n",
    "plt.title(\"Top 10 generos\")\n",
    "\n",
    "plt.show()"
   ]
  },
  {
   "cell_type": "code",
   "execution_count": 47,
   "metadata": {},
   "outputs": [
    {
     "name": "stdout",
     "output_type": "stream",
     "text": [
      "          jp_sales\n",
      "platform          \n",
      "DS          175.57\n",
      "PS          139.82\n",
      "PS2         139.20\n",
      "SNES        116.55\n",
      "3DS         100.67\n",
      "['DS' 'PS' 'PS2' 'SNES' '3DS']\n",
      "              jp_sales\n",
      "genre                 \n",
      "Role-Playing    355.41\n",
      "Action          161.43\n",
      "Sports          135.54\n",
      "Platform        130.83\n",
      "Misc            108.11\n",
      "['Role-Playing' 'Action' 'Sports' 'Platform' 'Misc']\n"
     ]
    },
    {
     "data": {
      "image/png": "[encoded data removed]",
      "text/plain": [
       "<Figure size 640x480 with 1 Axes>"
      ]
     },
     "metadata": {},
     "output_type": "display_data"
    },
    {
     "data": {
      "image/png": "[encoded data removed]",
      "text/plain": [
       "<Figure size 640x480 with 1 Axes>"
      ]
     },
     "metadata": {},
     "output_type": "display_data"
    }
   ],
   "source": [
    "jp_p = df[['platform','jp_sales']].groupby(['platform']).sum().sort_values(by='jp_sales',ascending=False)\n",
    "print(jp_p.head(5))\n",
    "print(jp_p.head(5).index.to_numpy())\n",
    "\n",
    "jp_g = df[['genre','jp_sales']].groupby(['genre']).sum().sort_values(by='jp_sales',ascending=False)\n",
    "print(jp_g.head(5))\n",
    "print(jp_g.head(5).index.to_numpy())\n",
    "\n",
    "jp_p.head(10).plot(kind=\"bar\")\n",
    "plt.title(\"Top 10 plataformas\")\n",
    "\n",
    "jp_g.head(10).plot(kind=\"bar\")\n",
    "plt.title(\"Top 10 generos\")\n",
    "\n",
    "plt.show()"
   ]
  },
  {
   "cell_type": "markdown",
   "metadata": {},
   "source": [
    "\n",
    "As plataformas com maior numero de vendas em NA foram: \n",
    "X360, PS2, Wii, PS3, DS\n",
    "\n",
    "Os generos com maior numero de vendas foram:\n",
    "Action, Sports, Shooter, Platform, Misc\n",
    "\n",
    "As plataformas com maior numero de vendas em EU foram: \n",
    "PS2, PS3, X360, Wii, PS\n",
    "\n",
    "Os generos com maior numero de vendas foram:\n",
    "Action, Sports, Shooter, Racing, Misc\n",
    "\n",
    "As plataformas com maior numero de vendas em JP foram: \n",
    "DS, PS, PS2, SNES, 3DS\n",
    "\n",
    "Os generos com maior numero de vendas foram:\n",
    "Role-Playing, Action, Sports, Platform, Misc\n",
    "\n",
    "O grande difenrencial vem do japão com a primeira posição nos generos mais jogados sendo Role-Playing"
   ]
  },
  {
   "cell_type": "code",
   "execution_count": 48,
   "metadata": {},
   "outputs": [
    {
     "name": "stdout",
     "output_type": "stream",
     "text": [
      "        na_sales  eu_sales  jp_sales\n",
      "rating                              \n",
      "AO          1.26      0.61      0.00\n",
      "E        1292.99    710.25    198.11\n",
      "E10+      353.32    188.52     40.20\n",
      "EC          1.53      0.11      0.00\n",
      "K-A         2.56      0.27      1.46\n",
      "M         748.48    483.97     64.24\n",
      "RP          0.00      0.08      0.00\n",
      "T         759.75    427.03    151.40\n"
     ]
    },
    {
     "data": {
      "image/png": "[encoded data removed]",
      "text/plain": [
       "<Figure size 640x480 with 1 Axes>"
      ]
     },
     "metadata": {},
     "output_type": "display_data"
    }
   ],
   "source": [
    "na_eu_jp_rating = df[['rating','na_sales','eu_sales','jp_sales']].groupby('rating').sum()\n",
    "print(na_eu_jp_rating)\n",
    "na_eu_jp_rating.plot(kind='bar')\n",
    "plt.title('Vendas por rating')\n",
    "plt.show()"
   ]
  },
  {
   "cell_type": "markdown",
   "metadata": {},
   "source": [
    "Os ratings afetam as vendas\n",
    "Na o rating RP tem 0 vendas e os EC, K-A, AO apresentam bem menos vendas do que os demais\n",
    "\n",
    "EU os ratings AO, EC, K-A e RP apresentam vendas bem menores do que os demais\n",
    "\n",
    "Jp os ratings AO, EC e RP tem um total de 0 vendas\n"
   ]
  },
  {
   "cell_type": "markdown",
   "metadata": {},
   "source": [
    "### teste de hipoteses"
   ]
  },
  {
   "cell_type": "markdown",
   "metadata": {},
   "source": [
    "HIpotese nula: As classificações médias dos usuários das plataformas Xbox One e PC são as mesmas.\n",
    "\n",
    "Hipotese alternativa: elas não são as memas"
   ]
  },
  {
   "cell_type": "code",
   "execution_count": 49,
   "metadata": {},
   "outputs": [
    {
     "name": "stdout",
     "output_type": "stream",
     "text": [
      "valor-p: [3.32964826e-05]\n",
      "Rejeitamos a hipótese nula\n"
     ]
    }
   ],
   "source": [
    "cla_xone = df[df['platform']=='XOne'][['user_score']]\n",
    "cla_pc = df[df['platform']=='PC'][['user_score']]\n",
    "\n",
    "alpha = 0.05 \n",
    "\n",
    "results = st.ttest_ind(cla_xone, cla_pc)\n",
    "\n",
    "print('valor-p:', results.pvalue)\n",
    "\n",
    "if results.pvalue < alpha:\n",
    "    print(\"Rejeitamos a hipótese nula\")\n",
    "else:\n",
    "    print(\"Não podemos rejeitar a hipótese nula\")"
   ]
  },
  {
   "cell_type": "markdown",
   "metadata": {},
   "source": [
    "Hipotese nula: As classificações médias de usuários para os gêneros Action (ação) e Sports (esportes) são diferentes.\n",
    "\n",
    "Hipotese alternativa: não são diferentes"
   ]
  },
  {
   "cell_type": "code",
   "execution_count": 50,
   "metadata": {},
   "outputs": [
    {
     "name": "stdout",
     "output_type": "stream",
     "text": [
      "[0.18372589]\n",
      "Não podemos rejeitar a hipótese nula\n"
     ]
    }
   ],
   "source": [
    "act = df[df['genre']=='Action'][['user_score']]\n",
    "spo = df[df['genre']=='Sports'][['user_score']]\n",
    "\n",
    "res = st.ttest_ind(act,spo)\n",
    "print(res.pvalue)\n",
    "\n",
    "if res.pvalue < alpha:\n",
    "    print(\"Rejeitamos a hipótese nula\")\n",
    "else:\n",
    "    print(\"Não podemos rejeitar a hipótese nula\")"
   ]
  },
  {
   "cell_type": "markdown",
   "metadata": {},
   "source": [
    "### Conclusão"
   ]
  },
  {
   "cell_type": "markdown",
   "metadata": {},
   "source": [
    "É possivel verificar um maior peso de vendas baseados em algumas caracteristicas como genero, rating, plataforma e tambem podemos identificar diferentes comportamentos regionais, onde cada região demonstra maior interesse por derminados generos e plataf"
   ]
  }
 ],
 "metadata": {
  "ExecuteTimeLog": [
   {
    "duration": 504,
    "start_time": "2024-08-29T23:56:18.435Z"
   },
   {
    "duration": 17,
    "start_time": "2024-08-29T23:56:32.108Z"
   },
   {
    "duration": 48,
    "start_time": "2024-08-29T23:56:40.841Z"
   },
   {
    "duration": 3,
    "start_time": "2024-08-30T00:00:12.473Z"
   },
   {
    "duration": 42,
    "start_time": "2024-08-30T00:00:21.133Z"
   },
   {
    "duration": 4,
    "start_time": "2024-08-30T00:38:13.968Z"
   },
   {
    "duration": 3,
    "start_time": "2024-08-30T00:38:55.089Z"
   },
   {
    "duration": 4,
    "start_time": "2024-08-30T00:39:11.570Z"
   },
   {
    "duration": 198,
    "start_time": "2024-08-30T00:39:35.422Z"
   },
   {
    "duration": 13,
    "start_time": "2024-08-30T00:39:59.594Z"
   },
   {
    "duration": 12,
    "start_time": "2024-08-30T00:41:17.816Z"
   },
   {
    "duration": 10,
    "start_time": "2024-08-30T00:41:51.441Z"
   },
   {
    "duration": 3,
    "start_time": "2024-08-30T00:42:00.465Z"
   },
   {
    "duration": 16,
    "start_time": "2024-08-30T00:42:42.792Z"
   },
   {
    "duration": 4,
    "start_time": "2024-08-30T00:44:19.282Z"
   },
   {
    "duration": 113,
    "start_time": "2024-08-30T00:44:58.086Z"
   },
   {
    "duration": 2,
    "start_time": "2024-08-30T00:45:05.241Z"
   },
   {
    "duration": 526,
    "start_time": "2024-08-30T00:46:02.217Z"
   },
   {
    "duration": 7,
    "start_time": "2024-08-30T00:46:57.014Z"
   },
   {
    "duration": 5,
    "start_time": "2024-08-30T00:47:02.001Z"
   },
   {
    "duration": 5,
    "start_time": "2024-08-30T00:48:15.576Z"
   },
   {
    "duration": 5,
    "start_time": "2024-08-30T00:49:33.437Z"
   },
   {
    "duration": 3,
    "start_time": "2024-08-30T00:50:42.930Z"
   },
   {
    "duration": 4,
    "start_time": "2024-08-30T00:50:48.022Z"
   },
   {
    "duration": 3,
    "start_time": "2024-08-30T00:50:56.767Z"
   },
   {
    "duration": 4,
    "start_time": "2024-08-30T00:51:02.749Z"
   },
   {
    "duration": 4,
    "start_time": "2024-08-30T00:51:09.684Z"
   },
   {
    "duration": 7,
    "start_time": "2024-08-30T00:52:36.430Z"
   },
   {
    "duration": 3,
    "start_time": "2024-08-30T00:53:11.450Z"
   },
   {
    "duration": 3,
    "start_time": "2024-08-30T00:53:25.973Z"
   },
   {
    "duration": 5,
    "start_time": "2024-08-30T00:55:37.573Z"
   },
   {
    "duration": 347,
    "start_time": "2024-08-30T00:56:09.719Z"
   },
   {
    "duration": 5,
    "start_time": "2024-08-30T00:56:15.382Z"
   },
   {
    "duration": 11,
    "start_time": "2024-08-30T00:56:24.815Z"
   },
   {
    "duration": 71,
    "start_time": "2024-08-30T00:56:32.277Z"
   },
   {
    "duration": 43,
    "start_time": "2024-08-30T00:56:39.741Z"
   },
   {
    "duration": 44,
    "start_time": "2024-08-30T00:57:17.034Z"
   },
   {
    "duration": 43,
    "start_time": "2024-08-30T00:57:50.774Z"
   },
   {
    "duration": 11,
    "start_time": "2024-08-30T00:58:08.425Z"
   },
   {
    "duration": 43,
    "start_time": "2024-08-30T00:58:32.609Z"
   },
   {
    "duration": 10,
    "start_time": "2024-08-30T00:59:55.635Z"
   },
   {
    "duration": 4,
    "start_time": "2024-08-30T01:00:05.447Z"
   },
   {
    "duration": 6,
    "start_time": "2024-08-30T01:01:04.712Z"
   },
   {
    "duration": 11,
    "start_time": "2024-08-30T01:01:13.879Z"
   },
   {
    "duration": 6,
    "start_time": "2024-08-30T01:01:33.843Z"
   },
   {
    "duration": 5,
    "start_time": "2024-08-30T01:01:41.666Z"
   },
   {
    "duration": 5,
    "start_time": "2024-08-30T01:01:48.817Z"
   },
   {
    "duration": 5,
    "start_time": "2024-08-30T01:02:09.246Z"
   },
   {
    "duration": 6,
    "start_time": "2024-08-30T01:02:14.654Z"
   },
   {
    "duration": 5,
    "start_time": "2024-08-30T01:03:47.016Z"
   },
   {
    "duration": 5,
    "start_time": "2024-08-30T01:03:57.744Z"
   },
   {
    "duration": 9,
    "start_time": "2024-08-30T01:05:20.498Z"
   },
   {
    "duration": 13,
    "start_time": "2024-08-30T01:05:25.171Z"
   },
   {
    "duration": 12,
    "start_time": "2024-08-30T01:05:46.752Z"
   },
   {
    "duration": 41,
    "start_time": "2024-08-30T01:07:13.833Z"
   },
   {
    "duration": 94,
    "start_time": "2024-08-30T01:26:27.851Z"
   },
   {
    "duration": 38,
    "start_time": "2024-08-30T01:27:17.160Z"
   },
   {
    "duration": 39,
    "start_time": "2024-08-30T01:27:26.576Z"
   },
   {
    "duration": 2,
    "start_time": "2024-08-30T01:27:41.230Z"
   },
   {
    "duration": 42,
    "start_time": "2024-08-30T01:27:42.184Z"
   },
   {
    "duration": 4,
    "start_time": "2024-08-30T01:27:42.603Z"
   },
   {
    "duration": 14,
    "start_time": "2024-08-30T01:27:42.878Z"
   },
   {
    "duration": 5,
    "start_time": "2024-08-30T01:27:43.167Z"
   },
   {
    "duration": 44,
    "start_time": "2024-08-30T01:28:22.862Z"
   },
   {
    "duration": 40,
    "start_time": "2024-08-30T01:28:32.816Z"
   },
   {
    "duration": 9,
    "start_time": "2024-08-30T01:28:47.548Z"
   },
   {
    "duration": 10,
    "start_time": "2024-08-30T01:28:53.375Z"
   },
   {
    "duration": 11,
    "start_time": "2024-08-30T01:29:04.027Z"
   },
   {
    "duration": 3,
    "start_time": "2024-08-30T01:31:04.840Z"
   },
   {
    "duration": 6,
    "start_time": "2024-08-30T01:31:15.877Z"
   },
   {
    "duration": 16,
    "start_time": "2024-08-30T01:32:07.806Z"
   },
   {
    "duration": 213,
    "start_time": "2024-08-30T01:32:44.536Z"
   },
   {
    "duration": 10,
    "start_time": "2024-08-30T01:33:11.578Z"
   },
   {
    "duration": 10,
    "start_time": "2024-08-30T01:33:34.696Z"
   },
   {
    "duration": 167,
    "start_time": "2024-08-30T05:47:47.027Z"
   },
   {
    "duration": 5,
    "start_time": "2024-08-30T05:47:55.091Z"
   },
   {
    "duration": 319,
    "start_time": "2024-08-30T05:48:00.841Z"
   },
   {
    "duration": 61,
    "start_time": "2024-08-30T05:48:01.523Z"
   },
   {
    "duration": 5,
    "start_time": "2024-08-30T05:48:02.122Z"
   },
   {
    "duration": 14,
    "start_time": "2024-08-30T05:48:02.372Z"
   },
   {
    "duration": 7,
    "start_time": "2024-08-30T05:48:02.570Z"
   },
   {
    "duration": 11,
    "start_time": "2024-08-30T05:48:02.747Z"
   },
   {
    "duration": 3,
    "start_time": "2024-08-30T05:48:02.909Z"
   },
   {
    "duration": 4,
    "start_time": "2024-08-30T05:48:07.763Z"
   },
   {
    "duration": 12,
    "start_time": "2024-08-30T05:48:15.283Z"
   },
   {
    "duration": 4,
    "start_time": "2024-08-30T05:49:20.381Z"
   },
   {
    "duration": 278,
    "start_time": "2024-08-30T05:49:49.723Z"
   },
   {
    "duration": 4,
    "start_time": "2024-08-30T05:50:04.158Z"
   },
   {
    "duration": 11,
    "start_time": "2024-08-30T05:50:10.564Z"
   },
   {
    "duration": 10,
    "start_time": "2024-08-30T05:50:26.412Z"
   },
   {
    "duration": 12,
    "start_time": "2024-08-30T05:50:41.043Z"
   },
   {
    "duration": 16,
    "start_time": "2024-08-30T05:50:57.756Z"
   },
   {
    "duration": 25,
    "start_time": "2024-08-30T05:51:09.492Z"
   },
   {
    "duration": 11,
    "start_time": "2024-08-30T05:51:16.412Z"
   },
   {
    "duration": 17,
    "start_time": "2024-08-30T05:52:13.501Z"
   },
   {
    "duration": 12,
    "start_time": "2024-08-30T05:52:21.308Z"
   },
   {
    "duration": 17,
    "start_time": "2024-08-30T05:52:33.180Z"
   },
   {
    "duration": 11,
    "start_time": "2024-08-30T05:52:37.198Z"
   },
   {
    "duration": 12,
    "start_time": "2024-08-30T05:52:56.005Z"
   },
   {
    "duration": 9,
    "start_time": "2024-08-30T05:53:04.044Z"
   },
   {
    "duration": 14,
    "start_time": "2024-08-30T05:54:03.358Z"
   },
   {
    "duration": 213,
    "start_time": "2024-08-30T05:54:25.317Z"
   },
   {
    "duration": 16,
    "start_time": "2024-08-30T05:54:35.350Z"
   },
   {
    "duration": 12,
    "start_time": "2024-08-30T05:55:00.381Z"
   },
   {
    "duration": 17,
    "start_time": "2024-08-30T05:55:12.036Z"
   },
   {
    "duration": 14,
    "start_time": "2024-08-30T05:55:32.134Z"
   },
   {
    "duration": 15,
    "start_time": "2024-08-30T05:55:37.463Z"
   },
   {
    "duration": 13,
    "start_time": "2024-08-30T05:55:52.376Z"
   },
   {
    "duration": 13,
    "start_time": "2024-08-30T05:56:32.486Z"
   },
   {
    "duration": 14,
    "start_time": "2024-08-30T05:56:47.949Z"
   },
   {
    "duration": 17,
    "start_time": "2024-08-30T05:58:52.721Z"
   },
   {
    "duration": 15,
    "start_time": "2024-08-30T05:59:11.533Z"
   },
   {
    "duration": 15,
    "start_time": "2024-08-30T06:01:03.911Z"
   },
   {
    "duration": 19,
    "start_time": "2024-08-30T06:01:26.065Z"
   },
   {
    "duration": 18,
    "start_time": "2024-08-30T06:01:35.082Z"
   },
   {
    "duration": 18,
    "start_time": "2024-08-30T06:01:42.446Z"
   },
   {
    "duration": 14,
    "start_time": "2024-08-30T06:01:52.099Z"
   },
   {
    "duration": 18,
    "start_time": "2024-08-30T06:02:32.935Z"
   },
   {
    "duration": 17,
    "start_time": "2024-08-30T06:02:48.918Z"
   },
   {
    "duration": 15,
    "start_time": "2024-08-30T06:03:00.008Z"
   },
   {
    "duration": 21,
    "start_time": "2024-08-30T06:03:15.032Z"
   },
   {
    "duration": 14,
    "start_time": "2024-08-30T06:03:36.216Z"
   },
   {
    "duration": 15,
    "start_time": "2024-08-30T06:04:01.480Z"
   },
   {
    "duration": 16,
    "start_time": "2024-08-30T06:04:24.270Z"
   },
   {
    "duration": 14,
    "start_time": "2024-08-30T06:04:41.791Z"
   },
   {
    "duration": 21,
    "start_time": "2024-08-30T06:05:10.072Z"
   },
   {
    "duration": 14,
    "start_time": "2024-08-30T06:05:20.893Z"
   },
   {
    "duration": 15,
    "start_time": "2024-08-30T06:05:53.703Z"
   },
   {
    "duration": 14,
    "start_time": "2024-08-30T06:07:20.568Z"
   },
   {
    "duration": 19,
    "start_time": "2024-08-30T06:07:41.738Z"
   },
   {
    "duration": 18,
    "start_time": "2024-08-30T06:07:55.962Z"
   },
   {
    "duration": 13,
    "start_time": "2024-08-30T06:08:05.392Z"
   },
   {
    "duration": 14,
    "start_time": "2024-08-30T06:08:48.168Z"
   },
   {
    "duration": 14,
    "start_time": "2024-08-30T06:09:13.990Z"
   },
   {
    "duration": 15,
    "start_time": "2024-08-30T06:09:29.308Z"
   },
   {
    "duration": 16,
    "start_time": "2024-08-30T06:10:42.588Z"
   },
   {
    "duration": 14,
    "start_time": "2024-08-30T06:10:53.502Z"
   },
   {
    "duration": 19,
    "start_time": "2024-08-30T06:11:04.692Z"
   },
   {
    "duration": 16,
    "start_time": "2024-08-30T06:11:11.477Z"
   },
   {
    "duration": 19,
    "start_time": "2024-08-30T06:11:27.606Z"
   },
   {
    "duration": 13,
    "start_time": "2024-08-30T06:15:02.862Z"
   },
   {
    "duration": 17,
    "start_time": "2024-08-30T06:15:43.245Z"
   },
   {
    "duration": 17,
    "start_time": "2024-08-30T06:15:47.382Z"
   },
   {
    "duration": 13,
    "start_time": "2024-08-30T06:16:08.461Z"
   },
   {
    "duration": 12,
    "start_time": "2024-08-30T06:16:26.521Z"
   },
   {
    "duration": 13,
    "start_time": "2024-08-30T06:17:00.211Z"
   },
   {
    "duration": 14,
    "start_time": "2024-08-30T06:17:15.262Z"
   },
   {
    "duration": 23,
    "start_time": "2024-08-30T06:17:24.271Z"
   },
   {
    "duration": 395,
    "start_time": "2024-08-30T19:05:27.088Z"
   },
   {
    "duration": 69,
    "start_time": "2024-08-30T19:05:27.622Z"
   },
   {
    "duration": 6,
    "start_time": "2024-08-30T19:05:28.094Z"
   },
   {
    "duration": 13,
    "start_time": "2024-08-30T19:05:28.352Z"
   },
   {
    "duration": 8,
    "start_time": "2024-08-30T19:05:28.581Z"
   },
   {
    "duration": 17,
    "start_time": "2024-08-30T19:05:28.789Z"
   },
   {
    "duration": 22,
    "start_time": "2024-08-30T19:05:28.997Z"
   },
   {
    "duration": 92,
    "start_time": "2024-08-30T19:06:30.014Z"
   },
   {
    "duration": 109,
    "start_time": "2024-08-30T19:06:42.943Z"
   },
   {
    "duration": 3,
    "start_time": "2024-08-30T19:07:06.063Z"
   },
   {
    "duration": 3,
    "start_time": "2024-08-30T19:07:10.637Z"
   },
   {
    "duration": 8,
    "start_time": "2024-08-30T19:07:15.119Z"
   },
   {
    "duration": 313,
    "start_time": "2024-08-30T19:07:33.979Z"
   },
   {
    "duration": 63,
    "start_time": "2024-08-30T19:07:42.272Z"
   },
   {
    "duration": 17,
    "start_time": "2024-08-30T19:07:56.815Z"
   },
   {
    "duration": 18,
    "start_time": "2024-08-30T19:08:07.259Z"
   },
   {
    "duration": 11,
    "start_time": "2024-08-30T19:08:20.142Z"
   },
   {
    "duration": 12,
    "start_time": "2024-08-30T19:08:26.238Z"
   },
   {
    "duration": 12,
    "start_time": "2024-08-30T19:08:36.139Z"
   },
   {
    "duration": 12,
    "start_time": "2024-08-30T19:08:54.618Z"
   },
   {
    "duration": 447,
    "start_time": "2024-08-30T19:09:20.072Z"
   },
   {
    "duration": 11,
    "start_time": "2024-08-30T19:09:26.919Z"
   },
   {
    "duration": 10,
    "start_time": "2024-08-30T19:09:36.463Z"
   },
   {
    "duration": 12,
    "start_time": "2024-08-30T19:09:42.226Z"
   },
   {
    "duration": 47,
    "start_time": "2024-08-30T19:09:50.498Z"
   },
   {
    "duration": 11,
    "start_time": "2024-08-30T19:10:02.313Z"
   },
   {
    "duration": 9,
    "start_time": "2024-08-30T19:10:40.528Z"
   },
   {
    "duration": 2,
    "start_time": "2024-08-30T19:12:47.272Z"
   },
   {
    "duration": 10,
    "start_time": "2024-08-30T19:13:17.511Z"
   },
   {
    "duration": 8,
    "start_time": "2024-08-30T19:13:40.956Z"
   },
   {
    "duration": 10,
    "start_time": "2024-08-30T19:14:04.264Z"
   },
   {
    "duration": 11,
    "start_time": "2024-08-30T19:16:35.108Z"
   },
   {
    "duration": 25,
    "start_time": "2024-08-30T19:16:44.264Z"
   },
   {
    "duration": 34,
    "start_time": "2024-08-30T19:17:50.634Z"
   },
   {
    "duration": 29,
    "start_time": "2024-08-30T19:18:05.518Z"
   },
   {
    "duration": 51,
    "start_time": "2024-08-30T19:18:47.234Z"
   },
   {
    "duration": 31,
    "start_time": "2024-08-30T19:20:50.146Z"
   },
   {
    "duration": 46,
    "start_time": "2024-08-30T19:23:20.949Z"
   },
   {
    "duration": 29,
    "start_time": "2024-08-30T19:23:35.667Z"
   },
   {
    "duration": 28,
    "start_time": "2024-08-30T19:24:35.829Z"
   },
   {
    "duration": 21,
    "start_time": "2024-08-30T19:29:44.295Z"
   },
   {
    "duration": 6,
    "start_time": "2024-08-30T19:31:31.233Z"
   },
   {
    "duration": 20,
    "start_time": "2024-08-30T19:31:39.507Z"
   },
   {
    "duration": 62,
    "start_time": "2024-08-30T19:32:52.479Z"
   },
   {
    "duration": 58,
    "start_time": "2024-08-30T19:33:09.478Z"
   },
   {
    "duration": 9,
    "start_time": "2024-08-30T19:33:14.912Z"
   },
   {
    "duration": 13,
    "start_time": "2024-08-30T19:33:25.884Z"
   },
   {
    "duration": 35,
    "start_time": "2024-08-30T19:33:33.395Z"
   },
   {
    "duration": 16,
    "start_time": "2024-08-30T19:38:32.683Z"
   },
   {
    "duration": 13,
    "start_time": "2024-08-30T19:38:51.462Z"
   },
   {
    "duration": 9,
    "start_time": "2024-08-30T19:40:26.007Z"
   },
   {
    "duration": 9,
    "start_time": "2024-08-30T19:40:37.042Z"
   },
   {
    "duration": 8,
    "start_time": "2024-08-30T19:40:56.214Z"
   },
   {
    "duration": 11,
    "start_time": "2024-08-30T19:40:57.256Z"
   },
   {
    "duration": 47,
    "start_time": "2024-08-30T19:42:04.361Z"
   },
   {
    "duration": 42,
    "start_time": "2024-08-30T19:42:17.415Z"
   },
   {
    "duration": 6,
    "start_time": "2024-08-30T19:42:31.536Z"
   },
   {
    "duration": 10,
    "start_time": "2024-08-30T19:42:37.409Z"
   },
   {
    "duration": 40,
    "start_time": "2024-08-30T19:42:44.194Z"
   },
   {
    "duration": 11,
    "start_time": "2024-08-30T19:43:02.569Z"
   },
   {
    "duration": 9,
    "start_time": "2024-08-30T19:43:14.144Z"
   },
   {
    "duration": 7,
    "start_time": "2024-08-30T19:43:30.947Z"
   },
   {
    "duration": 10,
    "start_time": "2024-08-30T19:44:12.375Z"
   },
   {
    "duration": 294,
    "start_time": "2024-08-30T21:26:38.184Z"
   },
   {
    "duration": 65,
    "start_time": "2024-08-30T21:26:38.646Z"
   },
   {
    "duration": 4,
    "start_time": "2024-08-30T21:26:39.054Z"
   },
   {
    "duration": 13,
    "start_time": "2024-08-30T21:26:39.285Z"
   },
   {
    "duration": 8,
    "start_time": "2024-08-30T21:26:39.497Z"
   },
   {
    "duration": 11,
    "start_time": "2024-08-30T21:26:39.720Z"
   },
   {
    "duration": 8,
    "start_time": "2024-08-30T21:26:39.923Z"
   },
   {
    "duration": 178,
    "start_time": "2024-08-30T21:26:40.156Z"
   },
   {
    "duration": 2,
    "start_time": "2024-08-30T21:26:47.340Z"
   },
   {
    "duration": 41,
    "start_time": "2024-08-30T21:26:47.831Z"
   },
   {
    "duration": 4,
    "start_time": "2024-08-30T21:26:48.324Z"
   },
   {
    "duration": 13,
    "start_time": "2024-08-30T21:26:48.590Z"
   },
   {
    "duration": 6,
    "start_time": "2024-08-30T21:26:48.831Z"
   },
   {
    "duration": 9,
    "start_time": "2024-08-30T21:26:49.094Z"
   },
   {
    "duration": 9,
    "start_time": "2024-08-30T21:26:49.331Z"
   },
   {
    "duration": 14,
    "start_time": "2024-08-30T21:26:49.600Z"
   },
   {
    "duration": 20,
    "start_time": "2024-08-30T21:27:55.394Z"
   },
   {
    "duration": 19,
    "start_time": "2024-08-30T21:30:17.218Z"
   },
   {
    "duration": 20,
    "start_time": "2024-08-30T21:30:22.760Z"
   },
   {
    "duration": 14,
    "start_time": "2024-08-30T21:31:22.144Z"
   },
   {
    "duration": 13,
    "start_time": "2024-08-30T21:42:13.985Z"
   },
   {
    "duration": 5,
    "start_time": "2024-08-30T21:42:34.896Z"
   },
   {
    "duration": 18,
    "start_time": "2024-08-30T21:42:40.120Z"
   },
   {
    "duration": 11,
    "start_time": "2024-08-30T21:43:49.187Z"
   },
   {
    "duration": 9,
    "start_time": "2024-08-30T21:44:32.419Z"
   },
   {
    "duration": 8,
    "start_time": "2024-08-30T21:44:43.113Z"
   },
   {
    "duration": 8,
    "start_time": "2024-08-30T21:44:48.889Z"
   },
   {
    "duration": 16,
    "start_time": "2024-08-30T21:44:49.536Z"
   },
   {
    "duration": 17,
    "start_time": "2024-08-30T21:46:06.537Z"
   },
   {
    "duration": 17,
    "start_time": "2024-08-30T21:50:14.731Z"
   },
   {
    "duration": 20,
    "start_time": "2024-08-30T21:50:40.730Z"
   },
   {
    "duration": 23,
    "start_time": "2024-08-30T21:50:56.933Z"
   },
   {
    "duration": 16,
    "start_time": "2024-08-30T21:51:04.420Z"
   },
   {
    "duration": 16,
    "start_time": "2024-08-30T21:53:13.605Z"
   },
   {
    "duration": 2306,
    "start_time": "2024-08-30T22:27:49.414Z"
   },
   {
    "duration": 541,
    "start_time": "2024-08-30T22:29:21.334Z"
   },
   {
    "duration": 442,
    "start_time": "2024-08-30T22:29:35.045Z"
   },
   {
    "duration": 172,
    "start_time": "2024-08-30T22:30:05.413Z"
   },
   {
    "duration": 157,
    "start_time": "2024-08-30T22:30:24.606Z"
   },
   {
    "duration": 151,
    "start_time": "2024-08-30T22:30:41.854Z"
   },
   {
    "duration": 8,
    "start_time": "2024-08-30T22:31:08.186Z"
   },
   {
    "duration": 149,
    "start_time": "2024-08-30T22:31:19.832Z"
   },
   {
    "duration": 222,
    "start_time": "2024-08-30T22:31:28.935Z"
   },
   {
    "duration": 140,
    "start_time": "2024-08-30T22:32:32.143Z"
   },
   {
    "duration": 135,
    "start_time": "2024-08-30T22:37:55.908Z"
   },
   {
    "duration": 141,
    "start_time": "2024-08-30T22:38:25.359Z"
   },
   {
    "duration": 279,
    "start_time": "2024-08-30T22:40:50.734Z"
   },
   {
    "duration": 298,
    "start_time": "2024-08-30T22:40:56.171Z"
   },
   {
    "duration": 398,
    "start_time": "2024-08-30T22:41:04.123Z"
   },
   {
    "duration": 364,
    "start_time": "2024-08-30T22:41:24.157Z"
   },
   {
    "duration": 276,
    "start_time": "2024-08-30T22:41:44.017Z"
   },
   {
    "duration": 281,
    "start_time": "2024-08-30T22:41:51.018Z"
   },
   {
    "duration": 138,
    "start_time": "2024-08-30T22:41:56.780Z"
   },
   {
    "duration": 186,
    "start_time": "2024-08-30T22:42:24.329Z"
   },
   {
    "duration": 284,
    "start_time": "2024-08-30T22:42:38.480Z"
   },
   {
    "duration": 179,
    "start_time": "2024-08-30T22:43:02.410Z"
   },
   {
    "duration": 189,
    "start_time": "2024-08-30T22:43:15.535Z"
   },
   {
    "duration": 200,
    "start_time": "2024-08-30T22:43:26.410Z"
   },
   {
    "duration": 412,
    "start_time": "2024-08-30T22:43:35.526Z"
   },
   {
    "duration": 194,
    "start_time": "2024-08-30T22:44:00.884Z"
   },
   {
    "duration": 163,
    "start_time": "2024-08-30T22:44:08.050Z"
   },
   {
    "duration": 139,
    "start_time": "2024-08-30T22:47:39.283Z"
   },
   {
    "duration": 266,
    "start_time": "2024-08-30T22:49:57.324Z"
   },
   {
    "duration": 230,
    "start_time": "2024-08-30T22:50:07.510Z"
   },
   {
    "duration": 182,
    "start_time": "2024-08-30T22:56:18.156Z"
   },
   {
    "duration": 5,
    "start_time": "2024-08-30T22:56:30.488Z"
   },
   {
    "duration": 18,
    "start_time": "2024-08-30T22:56:34.917Z"
   },
   {
    "duration": 12,
    "start_time": "2024-08-30T23:01:59.561Z"
   },
   {
    "duration": 12,
    "start_time": "2024-08-30T23:06:02.858Z"
   },
   {
    "duration": 12,
    "start_time": "2024-08-30T23:06:49.642Z"
   },
   {
    "duration": 58,
    "start_time": "2024-08-30T23:27:25.719Z"
   },
   {
    "duration": 148,
    "start_time": "2024-08-30T23:27:52.444Z"
   },
   {
    "duration": 18,
    "start_time": "2024-08-30T23:28:08.894Z"
   },
   {
    "duration": 1781,
    "start_time": "2024-08-30T23:28:13.428Z"
   },
   {
    "duration": 165,
    "start_time": "2024-08-30T23:28:54.362Z"
   },
   {
    "duration": 12,
    "start_time": "2024-08-30T23:29:04.186Z"
   },
   {
    "duration": 186,
    "start_time": "2024-08-30T23:29:07.095Z"
   },
   {
    "duration": 26,
    "start_time": "2024-08-30T23:29:22.415Z"
   },
   {
    "duration": 151,
    "start_time": "2024-08-30T23:29:25.745Z"
   },
   {
    "duration": 143,
    "start_time": "2024-08-30T23:30:33.368Z"
   },
   {
    "duration": 15,
    "start_time": "2024-08-30T23:31:15.432Z"
   },
   {
    "duration": 5,
    "start_time": "2024-08-30T23:31:21.549Z"
   },
   {
    "duration": 20,
    "start_time": "2024-08-30T23:31:33.933Z"
   },
   {
    "duration": 5,
    "start_time": "2024-08-30T23:33:46.345Z"
   },
   {
    "duration": 5,
    "start_time": "2024-08-30T23:36:25.949Z"
   },
   {
    "duration": 18,
    "start_time": "2024-08-30T23:47:11.086Z"
   },
   {
    "duration": 158,
    "start_time": "2024-08-30T23:48:38.853Z"
   },
   {
    "duration": 25,
    "start_time": "2024-08-30T23:49:00.365Z"
   },
   {
    "duration": 6,
    "start_time": "2024-08-30T23:49:16.842Z"
   },
   {
    "duration": 6,
    "start_time": "2024-08-31T00:06:06.562Z"
   },
   {
    "duration": 4,
    "start_time": "2024-08-31T00:07:13.526Z"
   },
   {
    "duration": 145,
    "start_time": "2024-08-31T00:07:16.081Z"
   },
   {
    "duration": 155,
    "start_time": "2024-08-31T00:07:28.154Z"
   },
   {
    "duration": 7,
    "start_time": "2024-08-31T00:26:00.055Z"
   },
   {
    "duration": 140,
    "start_time": "2024-08-31T00:26:12.838Z"
   },
   {
    "duration": 150,
    "start_time": "2024-08-31T00:26:38.455Z"
   },
   {
    "duration": 10,
    "start_time": "2024-08-31T00:28:23.705Z"
   },
   {
    "duration": 27,
    "start_time": "2024-08-31T00:28:49.849Z"
   },
   {
    "duration": 12,
    "start_time": "2024-08-31T00:29:02.648Z"
   },
   {
    "duration": 12,
    "start_time": "2024-08-31T00:56:06.696Z"
   },
   {
    "duration": 13,
    "start_time": "2024-08-31T00:56:53.052Z"
   },
   {
    "duration": 12,
    "start_time": "2024-08-31T00:57:13.507Z"
   },
   {
    "duration": 13,
    "start_time": "2024-08-31T01:05:04.070Z"
   },
   {
    "duration": 382,
    "start_time": "2024-08-31T01:05:18.946Z"
   },
   {
    "duration": 32,
    "start_time": "2024-08-31T01:05:36.132Z"
   },
   {
    "duration": 14,
    "start_time": "2024-08-31T01:05:42.089Z"
   },
   {
    "duration": 18,
    "start_time": "2024-08-31T01:06:14.289Z"
   },
   {
    "duration": 13,
    "start_time": "2024-08-31T01:06:24.913Z"
   },
   {
    "duration": 14,
    "start_time": "2024-08-31T01:06:45.166Z"
   },
   {
    "duration": 11,
    "start_time": "2024-08-31T01:06:58.557Z"
   },
   {
    "duration": 14,
    "start_time": "2024-08-31T01:08:00.044Z"
   },
   {
    "duration": 18,
    "start_time": "2024-08-31T01:08:24.611Z"
   },
   {
    "duration": 14,
    "start_time": "2024-08-31T01:08:40.707Z"
   },
   {
    "duration": 12,
    "start_time": "2024-08-31T01:09:00.963Z"
   },
   {
    "duration": 101,
    "start_time": "2024-08-31T01:09:06.324Z"
   },
   {
    "duration": 9,
    "start_time": "2024-08-31T01:09:11.571Z"
   },
   {
    "duration": 8,
    "start_time": "2024-08-31T01:09:20.306Z"
   },
   {
    "duration": 13,
    "start_time": "2024-08-31T01:09:33.670Z"
   },
   {
    "duration": 13,
    "start_time": "2024-08-31T01:09:57.218Z"
   },
   {
    "duration": 12,
    "start_time": "2024-08-31T01:10:06.047Z"
   },
   {
    "duration": 12,
    "start_time": "2024-08-31T01:10:37.130Z"
   },
   {
    "duration": 13,
    "start_time": "2024-08-31T01:11:00.493Z"
   },
   {
    "duration": 12,
    "start_time": "2024-08-31T01:11:26.283Z"
   },
   {
    "duration": 12,
    "start_time": "2024-08-31T01:11:29.206Z"
   },
   {
    "duration": 13,
    "start_time": "2024-08-31T01:11:29.539Z"
   },
   {
    "duration": 13,
    "start_time": "2024-08-31T01:11:30.103Z"
   },
   {
    "duration": 13,
    "start_time": "2024-08-31T01:14:19.186Z"
   },
   {
    "duration": 10,
    "start_time": "2024-08-31T01:14:30.035Z"
   },
   {
    "duration": 12,
    "start_time": "2024-08-31T01:14:36.227Z"
   },
   {
    "duration": 12,
    "start_time": "2024-08-31T01:14:41.123Z"
   },
   {
    "duration": 5,
    "start_time": "2024-08-31T01:15:16.077Z"
   },
   {
    "duration": 13,
    "start_time": "2024-08-31T01:15:20.339Z"
   },
   {
    "duration": 12,
    "start_time": "2024-08-31T01:15:34.492Z"
   },
   {
    "duration": 12,
    "start_time": "2024-08-31T01:15:45.516Z"
   },
   {
    "duration": 10,
    "start_time": "2024-08-31T01:15:52.013Z"
   },
   {
    "duration": 11,
    "start_time": "2024-08-31T01:16:26.812Z"
   },
   {
    "duration": 12,
    "start_time": "2024-08-31T01:16:28.925Z"
   },
   {
    "duration": 12,
    "start_time": "2024-08-31T01:16:33.588Z"
   },
   {
    "duration": 2490,
    "start_time": "2024-08-31T04:06:39.853Z"
   },
   {
    "duration": 56,
    "start_time": "2024-08-31T04:06:42.345Z"
   },
   {
    "duration": 4,
    "start_time": "2024-08-31T04:06:42.403Z"
   },
   {
    "duration": 13,
    "start_time": "2024-08-31T04:06:42.410Z"
   },
   {
    "duration": 7,
    "start_time": "2024-08-31T04:06:42.425Z"
   },
   {
    "duration": 10,
    "start_time": "2024-08-31T04:06:42.433Z"
   },
   {
    "duration": 29,
    "start_time": "2024-08-31T04:06:42.445Z"
   },
   {
    "duration": 14,
    "start_time": "2024-08-31T04:06:42.476Z"
   },
   {
    "duration": 15,
    "start_time": "2024-08-31T04:06:42.491Z"
   },
   {
    "duration": 141,
    "start_time": "2024-08-31T04:06:42.570Z"
   },
   {
    "duration": 5,
    "start_time": "2024-08-31T04:06:42.938Z"
   },
   {
    "duration": 132,
    "start_time": "2024-08-31T04:06:43.115Z"
   },
   {
    "duration": 7,
    "start_time": "2024-08-31T04:06:43.450Z"
   },
   {
    "duration": 118,
    "start_time": "2024-08-31T04:06:43.611Z"
   },
   {
    "duration": 126,
    "start_time": "2024-08-31T04:06:43.778Z"
   },
   {
    "duration": 12,
    "start_time": "2024-08-31T04:06:44.105Z"
   },
   {
    "duration": 12,
    "start_time": "2024-08-31T04:06:44.450Z"
   },
   {
    "duration": 12,
    "start_time": "2024-08-31T04:06:44.630Z"
   },
   {
    "duration": 11,
    "start_time": "2024-08-31T04:06:44.819Z"
   },
   {
    "duration": 12,
    "start_time": "2024-08-31T04:07:18.725Z"
   },
   {
    "duration": 12,
    "start_time": "2024-08-31T04:07:19.035Z"
   },
   {
    "duration": 12,
    "start_time": "2024-08-31T04:07:19.299Z"
   },
   {
    "duration": 14,
    "start_time": "2024-08-31T04:08:21.727Z"
   },
   {
    "duration": 13,
    "start_time": "2024-08-31T04:09:08.541Z"
   },
   {
    "duration": 14,
    "start_time": "2024-08-31T04:10:42.774Z"
   },
   {
    "duration": 286,
    "start_time": "2024-08-31T04:11:46.384Z"
   },
   {
    "duration": 14,
    "start_time": "2024-08-31T04:11:52.821Z"
   },
   {
    "duration": 417,
    "start_time": "2024-08-31T04:15:49.014Z"
   },
   {
    "duration": 48,
    "start_time": "2024-08-31T04:16:05.532Z"
   },
   {
    "duration": 18,
    "start_time": "2024-08-31T04:16:10.535Z"
   },
   {
    "duration": 4,
    "start_time": "2024-08-31T04:16:23.295Z"
   },
   {
    "duration": 16,
    "start_time": "2024-08-31T04:17:15.774Z"
   },
   {
    "duration": 13,
    "start_time": "2024-08-31T04:17:28.675Z"
   },
   {
    "duration": 11,
    "start_time": "2024-08-31T04:18:21.363Z"
   },
   {
    "duration": 9,
    "start_time": "2024-08-31T04:19:02.885Z"
   },
   {
    "duration": 14,
    "start_time": "2024-08-31T04:19:18.744Z"
   },
   {
    "duration": 17,
    "start_time": "2024-08-31T04:44:27.654Z"
   },
   {
    "duration": 19,
    "start_time": "2024-08-31T04:45:39.610Z"
   },
   {
    "duration": 7,
    "start_time": "2024-08-31T04:45:53.863Z"
   },
   {
    "duration": 22,
    "start_time": "2024-08-31T04:46:08.045Z"
   },
   {
    "duration": 12,
    "start_time": "2024-08-31T04:47:15.441Z"
   },
   {
    "duration": 9,
    "start_time": "2024-08-31T04:48:05.746Z"
   },
   {
    "duration": 10,
    "start_time": "2024-08-31T04:48:21.295Z"
   },
   {
    "duration": 10,
    "start_time": "2024-08-31T04:48:32.976Z"
   },
   {
    "duration": 11,
    "start_time": "2024-08-31T04:48:38.601Z"
   },
   {
    "duration": 122,
    "start_time": "2024-08-31T04:50:11.852Z"
   },
   {
    "duration": 33,
    "start_time": "2024-08-31T04:50:21.018Z"
   },
   {
    "duration": 33,
    "start_time": "2024-08-31T04:50:38.146Z"
   },
   {
    "duration": 39,
    "start_time": "2024-08-31T04:50:49.641Z"
   },
   {
    "duration": 3,
    "start_time": "2024-08-31T04:51:10.560Z"
   },
   {
    "duration": 3,
    "start_time": "2024-08-31T04:51:15.001Z"
   },
   {
    "duration": 11,
    "start_time": "2024-08-31T04:51:22.448Z"
   },
   {
    "duration": 10,
    "start_time": "2024-08-31T04:51:30.272Z"
   },
   {
    "duration": 11,
    "start_time": "2024-08-31T04:51:39.135Z"
   },
   {
    "duration": 9,
    "start_time": "2024-08-31T04:52:28.531Z"
   },
   {
    "duration": 8,
    "start_time": "2024-08-31T04:53:51.091Z"
   },
   {
    "duration": 2,
    "start_time": "2024-08-31T04:54:47.330Z"
   },
   {
    "duration": 8,
    "start_time": "2024-08-31T04:56:32.932Z"
   },
   {
    "duration": 8,
    "start_time": "2024-08-31T04:56:49.278Z"
   },
   {
    "duration": 9,
    "start_time": "2024-08-31T04:57:37.979Z"
   },
   {
    "duration": 12,
    "start_time": "2024-08-31T04:59:54.068Z"
   },
   {
    "duration": 17,
    "start_time": "2024-08-31T05:00:05.730Z"
   },
   {
    "duration": 16,
    "start_time": "2024-08-31T05:00:24.331Z"
   },
   {
    "duration": 4,
    "start_time": "2024-08-31T05:04:25.508Z"
   },
   {
    "duration": 10,
    "start_time": "2024-08-31T05:04:28.957Z"
   },
   {
    "duration": 8,
    "start_time": "2024-08-31T05:04:29.149Z"
   },
   {
    "duration": 17,
    "start_time": "2024-08-31T05:04:29.326Z"
   },
   {
    "duration": 16,
    "start_time": "2024-08-31T05:04:29.852Z"
   },
   {
    "duration": 132,
    "start_time": "2024-08-31T05:04:30.223Z"
   },
   {
    "duration": 5,
    "start_time": "2024-08-31T05:04:30.596Z"
   },
   {
    "duration": 140,
    "start_time": "2024-08-31T05:04:30.772Z"
   },
   {
    "duration": 8,
    "start_time": "2024-08-31T05:04:31.141Z"
   },
   {
    "duration": 127,
    "start_time": "2024-08-31T05:04:31.324Z"
   },
   {
    "duration": 141,
    "start_time": "2024-08-31T05:04:31.507Z"
   },
   {
    "duration": 13,
    "start_time": "2024-08-31T05:04:31.876Z"
   },
   {
    "duration": 14,
    "start_time": "2024-08-31T05:04:32.255Z"
   },
   {
    "duration": 13,
    "start_time": "2024-08-31T05:04:32.444Z"
   },
   {
    "duration": 13,
    "start_time": "2024-08-31T05:04:32.637Z"
   },
   {
    "duration": 12,
    "start_time": "2024-08-31T05:04:32.997Z"
   },
   {
    "duration": 9,
    "start_time": "2024-08-31T05:04:33.805Z"
   },
   {
    "duration": 11,
    "start_time": "2024-08-31T05:04:34.045Z"
   },
   {
    "duration": 9,
    "start_time": "2024-08-31T05:05:33.847Z"
   },
   {
    "duration": 8,
    "start_time": "2024-08-31T05:06:27.438Z"
   },
   {
    "duration": 334,
    "start_time": "2024-08-31T05:07:45.550Z"
   },
   {
    "duration": 10,
    "start_time": "2024-08-31T05:08:11.030Z"
   },
   {
    "duration": 13,
    "start_time": "2024-08-31T05:08:22.925Z"
   },
   {
    "duration": 44,
    "start_time": "2024-08-31T05:08:53.335Z"
   },
   {
    "duration": 10,
    "start_time": "2024-08-31T05:10:36.503Z"
   },
   {
    "duration": 10,
    "start_time": "2024-08-31T05:12:09.655Z"
   },
   {
    "duration": 9,
    "start_time": "2024-08-31T16:25:23.502Z"
   },
   {
    "duration": 2453,
    "start_time": "2024-08-31T16:57:05.169Z"
   },
   {
    "duration": 59,
    "start_time": "2024-08-31T16:57:07.626Z"
   },
   {
    "duration": 5,
    "start_time": "2024-08-31T16:57:07.712Z"
   },
   {
    "duration": 14,
    "start_time": "2024-08-31T16:57:12.234Z"
   },
   {
    "duration": 14,
    "start_time": "2024-08-31T16:57:42.024Z"
   },
   {
    "duration": 16,
    "start_time": "2024-08-31T16:58:00.169Z"
   },
   {
    "duration": 25,
    "start_time": "2024-08-31T16:59:05.653Z"
   },
   {
    "duration": 25,
    "start_time": "2024-08-31T16:59:23.153Z"
   },
   {
    "duration": 26,
    "start_time": "2024-08-31T16:59:38.467Z"
   },
   {
    "duration": 10,
    "start_time": "2024-08-31T17:02:52.890Z"
   },
   {
    "duration": 15,
    "start_time": "2024-08-31T17:03:03.834Z"
   },
   {
    "duration": 13,
    "start_time": "2024-08-31T17:03:37.362Z"
   },
   {
    "duration": 12,
    "start_time": "2024-08-31T17:04:38.465Z"
   },
   {
    "duration": 129,
    "start_time": "2024-08-31T17:05:23.354Z"
   },
   {
    "duration": 239,
    "start_time": "2024-08-31T17:05:33.074Z"
   },
   {
    "duration": 282,
    "start_time": "2024-08-31T17:06:02.554Z"
   },
   {
    "duration": 527,
    "start_time": "2024-08-31T17:06:02.837Z"
   },
   {
    "duration": 0,
    "start_time": "2024-08-31T17:06:03.365Z"
   },
   {
    "duration": 42,
    "start_time": "2024-08-31T17:06:03.433Z"
   },
   {
    "duration": 15,
    "start_time": "2024-08-31T17:06:03.820Z"
   },
   {
    "duration": 5,
    "start_time": "2024-08-31T17:06:04.214Z"
   },
   {
    "duration": 138,
    "start_time": "2024-08-31T17:06:04.339Z"
   },
   {
    "duration": 6,
    "start_time": "2024-08-31T17:06:04.601Z"
   },
   {
    "duration": 44,
    "start_time": "2024-08-31T17:06:04.737Z"
   },
   {
    "duration": 43,
    "start_time": "2024-08-31T17:06:04.857Z"
   },
   {
    "duration": 30,
    "start_time": "2024-08-31T17:06:05.115Z"
   },
   {
    "duration": 13,
    "start_time": "2024-08-31T17:06:05.496Z"
   },
   {
    "duration": 12,
    "start_time": "2024-08-31T17:06:05.601Z"
   },
   {
    "duration": 12,
    "start_time": "2024-08-31T17:06:05.738Z"
   },
   {
    "duration": 11,
    "start_time": "2024-08-31T17:06:05.996Z"
   },
   {
    "duration": 8,
    "start_time": "2024-08-31T17:06:06.641Z"
   },
   {
    "duration": 5,
    "start_time": "2024-08-31T17:06:06.778Z"
   },
   {
    "duration": 9,
    "start_time": "2024-08-31T17:06:06.953Z"
   },
   {
    "duration": 3,
    "start_time": "2024-08-31T17:06:20.619Z"
   },
   {
    "duration": 38,
    "start_time": "2024-08-31T17:06:20.947Z"
   },
   {
    "duration": 5,
    "start_time": "2024-08-31T17:06:21.243Z"
   },
   {
    "duration": 13,
    "start_time": "2024-08-31T17:06:21.409Z"
   },
   {
    "duration": 12,
    "start_time": "2024-08-31T17:06:21.578Z"
   },
   {
    "duration": 6,
    "start_time": "2024-08-31T17:06:21.922Z"
   },
   {
    "duration": 3,
    "start_time": "2024-08-31T17:06:22.258Z"
   },
   {
    "duration": 234,
    "start_time": "2024-08-31T17:06:22.595Z"
   },
   {
    "duration": 9,
    "start_time": "2024-08-31T17:06:22.922Z"
   },
   {
    "duration": 14,
    "start_time": "2024-08-31T17:06:23.105Z"
   },
   {
    "duration": 15,
    "start_time": "2024-08-31T17:06:23.783Z"
   },
   {
    "duration": 132,
    "start_time": "2024-08-31T17:06:24.317Z"
   },
   {
    "duration": 5,
    "start_time": "2024-08-31T17:06:24.858Z"
   },
   {
    "duration": 129,
    "start_time": "2024-08-31T17:06:25.051Z"
   },
   {
    "duration": 7,
    "start_time": "2024-08-31T17:06:25.454Z"
   },
   {
    "duration": 123,
    "start_time": "2024-08-31T17:06:25.626Z"
   },
   {
    "duration": 124,
    "start_time": "2024-08-31T17:06:25.818Z"
   },
   {
    "duration": 12,
    "start_time": "2024-08-31T17:06:26.210Z"
   },
   {
    "duration": 13,
    "start_time": "2024-08-31T17:06:26.842Z"
   },
   {
    "duration": 12,
    "start_time": "2024-08-31T17:06:27.042Z"
   },
   {
    "duration": 12,
    "start_time": "2024-08-31T17:06:27.251Z"
   },
   {
    "duration": 12,
    "start_time": "2024-08-31T17:06:28.123Z"
   },
   {
    "duration": 8,
    "start_time": "2024-08-31T17:06:29.932Z"
   },
   {
    "duration": 3,
    "start_time": "2024-08-31T17:06:30.122Z"
   },
   {
    "duration": 10,
    "start_time": "2024-08-31T17:06:30.321Z"
   },
   {
    "duration": 726,
    "start_time": "2024-08-31T17:07:02.306Z"
   },
   {
    "duration": 237,
    "start_time": "2024-08-31T17:07:10.515Z"
   },
   {
    "duration": 10,
    "start_time": "2024-08-31T17:07:19.987Z"
   },
   {
    "duration": 235,
    "start_time": "2024-08-31T17:07:29.586Z"
   },
   {
    "duration": 116,
    "start_time": "2024-08-31T17:09:30.565Z"
   },
   {
    "duration": 163,
    "start_time": "2024-08-31T17:09:36.107Z"
   },
   {
    "duration": 42,
    "start_time": "2024-08-31T17:10:02.608Z"
   },
   {
    "duration": 232,
    "start_time": "2024-08-31T17:10:32.656Z"
   },
   {
    "duration": 235,
    "start_time": "2024-08-31T17:12:11.520Z"
   },
   {
    "duration": 19,
    "start_time": "2024-08-31T17:13:09.276Z"
   },
   {
    "duration": 245,
    "start_time": "2024-08-31T17:13:14.215Z"
   },
   {
    "duration": 30,
    "start_time": "2024-08-31T17:13:24.173Z"
   },
   {
    "duration": 238,
    "start_time": "2024-08-31T17:14:02.173Z"
   },
   {
    "duration": 235,
    "start_time": "2024-08-31T17:14:26.590Z"
   },
   {
    "duration": 254,
    "start_time": "2024-08-31T17:14:31.949Z"
   },
   {
    "duration": 235,
    "start_time": "2024-08-31T17:14:42.632Z"
   },
   {
    "duration": 257,
    "start_time": "2024-08-31T17:14:47.446Z"
   },
   {
    "duration": 235,
    "start_time": "2024-08-31T17:14:54.045Z"
   },
   {
    "duration": 235,
    "start_time": "2024-08-31T17:15:06.008Z"
   },
   {
    "duration": 242,
    "start_time": "2024-08-31T17:15:11.014Z"
   },
   {
    "duration": 234,
    "start_time": "2024-08-31T17:15:23.233Z"
   },
   {
    "duration": 241,
    "start_time": "2024-08-31T17:16:31.506Z"
   },
   {
    "duration": 235,
    "start_time": "2024-08-31T17:16:39.640Z"
   },
   {
    "duration": 242,
    "start_time": "2024-08-31T17:16:45.342Z"
   },
   {
    "duration": 560,
    "start_time": "2024-08-31T17:18:16.191Z"
   },
   {
    "duration": 373,
    "start_time": "2024-08-31T17:18:46.989Z"
   },
   {
    "duration": 381,
    "start_time": "2024-08-31T17:18:53.553Z"
   },
   {
    "duration": 390,
    "start_time": "2024-08-31T17:18:58.935Z"
   },
   {
    "duration": 401,
    "start_time": "2024-08-31T17:19:07.673Z"
   },
   {
    "duration": 370,
    "start_time": "2024-08-31T17:19:40.299Z"
   },
   {
    "duration": 375,
    "start_time": "2024-08-31T17:19:46.692Z"
   },
   {
    "duration": 402,
    "start_time": "2024-08-31T17:19:56.461Z"
   },
   {
    "duration": 390,
    "start_time": "2024-08-31T17:20:06.047Z"
   },
   {
    "duration": 380,
    "start_time": "2024-08-31T17:20:17.080Z"
   },
   {
    "duration": 352,
    "start_time": "2024-08-31T17:20:23.015Z"
   },
   {
    "duration": 386,
    "start_time": "2024-08-31T17:20:29.567Z"
   },
   {
    "duration": 397,
    "start_time": "2024-08-31T17:20:37.962Z"
   },
   {
    "duration": 246,
    "start_time": "2024-08-31T17:22:09.466Z"
   },
   {
    "duration": 125,
    "start_time": "2024-08-31T17:22:39.170Z"
   },
   {
    "duration": 284,
    "start_time": "2024-08-31T17:24:58.482Z"
   },
   {
    "duration": 338,
    "start_time": "2024-08-31T17:25:55.322Z"
   },
   {
    "duration": 348,
    "start_time": "2024-08-31T17:26:53.881Z"
   },
   {
    "duration": 133,
    "start_time": "2024-08-31T17:29:05.715Z"
   },
   {
    "duration": 219,
    "start_time": "2024-08-31T17:30:12.154Z"
   },
   {
    "duration": 237,
    "start_time": "2024-08-31T17:31:04.564Z"
   },
   {
    "duration": 219,
    "start_time": "2024-08-31T17:31:19.436Z"
   },
   {
    "duration": 244,
    "start_time": "2024-08-31T17:32:37.693Z"
   },
   {
    "duration": 229,
    "start_time": "2024-08-31T17:32:44.119Z"
   },
   {
    "duration": 320,
    "start_time": "2024-08-31T17:35:06.462Z"
   },
   {
    "duration": 145,
    "start_time": "2024-08-31T17:35:23.567Z"
   },
   {
    "duration": 162,
    "start_time": "2024-08-31T17:36:12.616Z"
   },
   {
    "duration": 210,
    "start_time": "2024-08-31T18:08:18.037Z"
   },
   {
    "duration": 307,
    "start_time": "2024-08-31T18:08:44.892Z"
   },
   {
    "duration": 25,
    "start_time": "2024-08-31T18:09:20.722Z"
   },
   {
    "duration": 240,
    "start_time": "2024-08-31T18:09:40.670Z"
   },
   {
    "duration": 217,
    "start_time": "2024-08-31T18:11:06.808Z"
   },
   {
    "duration": 250,
    "start_time": "2024-08-31T18:11:26.978Z"
   },
   {
    "duration": 259,
    "start_time": "2024-08-31T18:12:49.152Z"
   },
   {
    "duration": 262,
    "start_time": "2024-08-31T18:14:05.567Z"
   },
   {
    "duration": 306,
    "start_time": "2024-08-31T18:14:33.873Z"
   },
   {
    "duration": 247,
    "start_time": "2024-08-31T18:15:20.645Z"
   },
   {
    "duration": 248,
    "start_time": "2024-08-31T18:15:25.961Z"
   },
   {
    "duration": 171,
    "start_time": "2024-08-31T18:16:05.530Z"
   },
   {
    "duration": 173,
    "start_time": "2024-08-31T18:21:07.594Z"
   },
   {
    "duration": 131,
    "start_time": "2024-08-31T18:21:18.474Z"
   },
   {
    "duration": 167,
    "start_time": "2024-08-31T18:21:27.753Z"
   },
   {
    "duration": 15,
    "start_time": "2024-08-31T18:21:50.213Z"
   },
   {
    "duration": 2497,
    "start_time": "2024-09-01T04:13:28.726Z"
   },
   {
    "duration": 3,
    "start_time": "2024-09-01T04:13:32.132Z"
   },
   {
    "duration": 63,
    "start_time": "2024-09-01T04:13:32.137Z"
   },
   {
    "duration": 4,
    "start_time": "2024-09-01T04:13:32.202Z"
   },
   {
    "duration": 13,
    "start_time": "2024-09-01T04:13:32.208Z"
   },
   {
    "duration": 12,
    "start_time": "2024-09-01T04:13:32.224Z"
   },
   {
    "duration": 7,
    "start_time": "2024-09-01T04:13:32.237Z"
   },
   {
    "duration": 3,
    "start_time": "2024-09-01T04:13:32.246Z"
   },
   {
    "duration": 430,
    "start_time": "2024-09-01T04:13:32.251Z"
   },
   {
    "duration": 9,
    "start_time": "2024-09-01T04:13:32.683Z"
   },
   {
    "duration": 244,
    "start_time": "2024-09-01T04:13:32.693Z"
   },
   {
    "duration": 18,
    "start_time": "2024-09-01T04:13:32.940Z"
   },
   {
    "duration": 138,
    "start_time": "2024-09-01T04:13:32.959Z"
   },
   {
    "duration": 11,
    "start_time": "2024-09-01T04:13:33.098Z"
   },
   {
    "duration": 197,
    "start_time": "2024-09-01T04:13:33.112Z"
   },
   {
    "duration": 7,
    "start_time": "2024-09-01T04:13:33.310Z"
   },
   {
    "duration": 138,
    "start_time": "2024-09-01T04:13:33.318Z"
   },
   {
    "duration": 140,
    "start_time": "2024-09-01T04:13:33.458Z"
   },
   {
    "duration": 17,
    "start_time": "2024-09-01T04:13:33.600Z"
   },
   {
    "duration": 259,
    "start_time": "2024-09-01T04:13:33.620Z"
   },
   {
    "duration": 270,
    "start_time": "2024-09-01T04:13:33.881Z"
   },
   {
    "duration": 276,
    "start_time": "2024-09-01T04:13:34.152Z"
   },
   {
    "duration": 158,
    "start_time": "2024-09-01T04:13:34.430Z"
   },
   {
    "duration": 18,
    "start_time": "2024-09-01T04:13:34.591Z"
   },
   {
    "duration": 9,
    "start_time": "2024-09-01T04:13:34.610Z"
   },
   {
    "duration": 582,
    "start_time": "2024-09-01T04:25:50.961Z"
   },
   {
    "duration": 9,
    "start_time": "2024-09-01T04:26:44.838Z"
   },
   {
    "duration": 159,
    "start_time": "2024-09-01T16:21:20.041Z"
   },
   {
    "duration": 14,
    "start_time": "2024-09-01T16:21:27.990Z"
   },
   {
    "duration": 2473,
    "start_time": "2024-09-01T16:21:38.521Z"
   },
   {
    "duration": 63,
    "start_time": "2024-09-01T16:21:40.996Z"
   },
   {
    "duration": 4,
    "start_time": "2024-09-01T16:21:41.061Z"
   },
   {
    "duration": 13,
    "start_time": "2024-09-01T16:21:41.067Z"
   },
   {
    "duration": 12,
    "start_time": "2024-09-01T16:21:41.081Z"
   },
   {
    "duration": 6,
    "start_time": "2024-09-01T16:21:41.095Z"
   },
   {
    "duration": 3,
    "start_time": "2024-09-01T16:21:41.123Z"
   },
   {
    "duration": 445,
    "start_time": "2024-09-01T16:21:41.128Z"
   },
   {
    "duration": 8,
    "start_time": "2024-09-01T16:21:41.575Z"
   },
   {
    "duration": 394,
    "start_time": "2024-09-01T16:21:41.587Z"
   },
   {
    "duration": 77,
    "start_time": "2024-09-01T16:21:41.983Z"
   },
   {
    "duration": 133,
    "start_time": "2024-09-01T16:21:42.062Z"
   },
   {
    "duration": 5,
    "start_time": "2024-09-01T16:21:42.197Z"
   },
   {
    "duration": 142,
    "start_time": "2024-09-01T16:21:42.205Z"
   },
   {
    "duration": 7,
    "start_time": "2024-09-01T16:21:42.349Z"
   },
   {
    "duration": 137,
    "start_time": "2024-09-01T16:21:42.357Z"
   },
   {
    "duration": 137,
    "start_time": "2024-09-01T16:21:42.496Z"
   },
   {
    "duration": 12,
    "start_time": "2024-09-01T16:21:42.634Z"
   },
   {
    "duration": 266,
    "start_time": "2024-09-01T16:21:42.647Z"
   },
   {
    "duration": 268,
    "start_time": "2024-09-01T16:21:42.915Z"
   },
   {
    "duration": 270,
    "start_time": "2024-09-01T16:21:43.185Z"
   },
   {
    "duration": 167,
    "start_time": "2024-09-01T16:21:43.457Z"
   },
   {
    "duration": 9,
    "start_time": "2024-09-01T16:21:43.625Z"
   },
   {
    "duration": 9,
    "start_time": "2024-09-01T16:21:43.635Z"
   },
   {
    "duration": 9,
    "start_time": "2024-09-01T16:22:08.693Z"
   },
   {
    "duration": 610,
    "start_time": "2024-09-01T16:25:36.054Z"
   },
   {
    "duration": 551,
    "start_time": "2024-09-01T16:25:52.978Z"
   },
   {
    "duration": 156,
    "start_time": "2024-09-01T22:39:54.821Z"
   },
   {
    "duration": 14,
    "start_time": "2024-09-01T22:40:09.458Z"
   },
   {
    "duration": 2434,
    "start_time": "2024-09-01T22:40:17.142Z"
   },
   {
    "duration": 61,
    "start_time": "2024-09-01T22:40:19.579Z"
   },
   {
    "duration": 3,
    "start_time": "2024-09-01T22:40:19.643Z"
   },
   {
    "duration": 14,
    "start_time": "2024-09-01T22:40:19.649Z"
   },
   {
    "duration": 12,
    "start_time": "2024-09-01T22:40:19.664Z"
   },
   {
    "duration": 10,
    "start_time": "2024-09-01T22:40:19.677Z"
   },
   {
    "duration": 3,
    "start_time": "2024-09-01T22:40:19.689Z"
   },
   {
    "duration": 461,
    "start_time": "2024-09-01T22:40:19.694Z"
   },
   {
    "duration": 9,
    "start_time": "2024-09-01T22:40:20.156Z"
   },
   {
    "duration": 617,
    "start_time": "2024-09-01T22:40:20.169Z"
   },
   {
    "duration": 16,
    "start_time": "2024-09-01T22:40:20.788Z"
   },
   {
    "duration": 139,
    "start_time": "2024-09-01T22:40:20.805Z"
   },
   {
    "duration": 5,
    "start_time": "2024-09-01T22:40:20.945Z"
   },
   {
    "duration": 147,
    "start_time": "2024-09-01T22:40:20.952Z"
   },
   {
    "duration": 8,
    "start_time": "2024-09-01T22:40:21.102Z"
   },
   {
    "duration": 142,
    "start_time": "2024-09-01T22:40:21.112Z"
   },
   {
    "duration": 143,
    "start_time": "2024-09-01T22:40:21.256Z"
   },
   {
    "duration": 15,
    "start_time": "2024-09-01T22:40:21.401Z"
   },
   {
    "duration": 10,
    "start_time": "2024-09-01T22:40:21.418Z"
   },
   {
    "duration": 273,
    "start_time": "2024-09-01T22:40:21.431Z"
   },
   {
    "duration": 260,
    "start_time": "2024-09-01T22:40:21.706Z"
   },
   {
    "duration": 337,
    "start_time": "2024-09-01T22:40:21.967Z"
   },
   {
    "duration": 159,
    "start_time": "2024-09-01T22:40:22.306Z"
   },
   {
    "duration": 8,
    "start_time": "2024-09-01T22:40:22.467Z"
   },
   {
    "duration": 17,
    "start_time": "2024-09-01T22:40:22.476Z"
   },
   {
    "duration": 85,
    "start_time": "2024-09-01T22:41:27.965Z"
   },
   {
    "duration": 18,
    "start_time": "2024-09-01T22:41:47.968Z"
   },
   {
    "duration": 10,
    "start_time": "2024-09-01T22:42:44.860Z"
   },
   {
    "duration": 7,
    "start_time": "2024-09-01T22:43:29.795Z"
   }
  ],
  "kernelspec": {
   "display_name": "base",
   "language": "python",
   "name": "python3"
  },
  "language_info": {
   "codemirror_mode": {
    "name": "ipython",
    "version": 3
   },
   "file_extension": ".py",
   "mimetype": "text/x-python",
   "name": "python",
   "nbconvert_exporter": "python",
   "pygments_lexer": "ipython3",
   "version": "3.12.4"
  },
  "toc": {
   "base_numbering": 1,
   "nav_menu": {},
   "number_sections": true,
   "sideBar": true,
   "skip_h1_title": true,
   "title_cell": "Table of Contents",
   "title_sidebar": "Contents",
   "toc_cell": false,
   "toc_position": {},
   "toc_section_display": true,
   "toc_window_display": false
  }
 },
 "nbformat": 4,
 "nbformat_minor": 2
}
