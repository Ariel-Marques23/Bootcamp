{
 "cells": [
  {
   "cell_type": "markdown",
   "metadata": {
    "id": "E0vqbgi9ay0H"
   },
   "source": [
    "# Se liga na música"
   ]
  },
  {
   "cell_type": "markdown",
   "metadata": {
    "id": "fhq_eyov_Zcs"
   },
   "source": [
    "# Conteúdo <a id='back'></a>\n",
    "\n",
    "* [Introdução](#intro)\n",
    "* [Etapa 1. Visão geral dos dados](#data_review)\n",
    "    * [Conclusões](#data_review_conclusions)\n",
    "* [Etapa 2. Pré-processamento de dados](#data_preprocessing)\n",
    "    * [2.1 Estilo do cabeçalho](#header_style)\n",
    "    * [2.2 Valores ausentes](#missing_values)\n",
    "    * [2.3 Duplicados](#duplicates)\n",
    "    * [2.4 Conclusões](#data_preprocessing_conclusions)\n",
    "* [Etapa 3. Teste da hipótese](#hypothesis)\n",
    "    * [3.1 Hipótese 1: atividade dos usuários nas duas cidades](#activity)\n",
    "* [Conclusões](#end)"
   ]
  },
  {
   "cell_type": "markdown",
   "metadata": {
    "id": "VUC88oWjTJw2"
   },
   "source": [
    "## Introdução <a id='intro'></a>\n",
    "O trabalho de um analista é analisar dados para obter percepções valiosas dos dados e tomar decisões fundamentadas neles. Esse processo consiste em várias etapas, como visão geral dos dados, pré-processamento dos dados e testes de hipóteses.\n",
    "\n",
    "Sempre que fazemos uma pesquisa, precisamos formular uma hipótese que depois poderemos testar. Às vezes nós aceitamos essas hipóteses; outras vezes, nós as rejeitamos. Para fazer as escolhas certas, um negócio deve ser capaz de entender se está fazendo as suposições certas ou não.\n",
    "\n",
    "Neste projeto, você vai comparar as preferências musicais dos habitantes de Springfild e Shelbyville. Você vai estudar os dados de um serviço de streaming de música online para testar a hipótese apresentada abaixo e comparar o comportamento dos usuários dessas duas cidades.\n",
    "\n",
    "### Objetivo:\n",
    "Teste a hipótese:\n",
    "1. A atividade dos usuários é diferente dependendo do dia da semana e da cidade.\n",
    "\n",
    "\n",
    "### Etapas\n",
    "Os dados sobre o comportamento do usuário são armazenados no arquivo `/datasets/music_project_en.csv`. Não há informações sobre a qualidade dos dados, então será necessário examiná-los antes de testar a hipótese.\n",
    "\n",
    "Primeiro, você avaliará a qualidade dos dados e verá se seus problemas são significativos. Depois, durante o pré-processamento dos dados, você tentará tratar dos problemas mais críticos.\n",
    "\n",
    "O seu projeto consistirá em três etapas:\n",
    " 1. Visão geral dos dados\n",
    " 2. Pré-processamento de dados\n",
    " 3. Teste da hipótese\n",
    "\n",
    "\n",
    "\n",
    "\n",
    "\n",
    "\n"
   ]
  },
  {
   "cell_type": "markdown",
   "metadata": {
    "id": "hDt6pg-Rw-1U"
   },
   "source": [
    "[Voltar ao Índice](#back)"
   ]
  },
  {
   "cell_type": "markdown",
   "metadata": {
    "id": "Ml1hmfXC_Zcs"
   },
   "source": [
    "## Etapa 1. Visão geral dos dados <a id='data_review'></a>\n",
    "\n",
    "Abra os dados e examine-os."
   ]
  },
  {
   "cell_type": "markdown",
   "metadata": {
    "id": "57eAOGIz_Zcs"
   },
   "source": [
    "Você precisará da `pandas`, então, importe-a."
   ]
  },
  {
   "cell_type": "code",
   "execution_count": 7,
   "metadata": {
    "id": "AXN7PHPN_Zcs"
   },
   "outputs": [],
   "source": [
    "# importando pandas\n",
    "import pandas as pd"
   ]
  },
  {
   "cell_type": "markdown",
   "metadata": {
    "id": "SG23P8tt_Zcs"
   },
   "source": [
    "Leia o arquivo `music_project_en.csv` da pasta `/datasets/` e salve-o na variável `df`:"
   ]
  },
  {
   "cell_type": "code",
   "execution_count": 8,
   "metadata": {
    "id": "fFVu7vqh_Zct"
   },
   "outputs": [],
   "source": [
    "# lendo o arquivo e armazenando em df\n",
    "df = pd.read_csv(\"datasets/music_project_en.csv\")"
   ]
  },
  {
   "cell_type": "markdown",
   "metadata": {
    "id": "rDoOMd3uTqnZ"
   },
   "source": [
    "Imprima as primeiras 10 linhas da tabela:"
   ]
  },
  {
   "cell_type": "code",
   "execution_count": 9,
   "metadata": {
    "id": "oWTVX3gW_Zct"
   },
   "outputs": [
    {
     "data": {
      "text/html": [
       "<div>\n",
       "<style scoped>\n",
       "    .dataframe tbody tr th:only-of-type {\n",
       "        vertical-align: middle;\n",
       "    }\n",
       "\n",
       "    .dataframe tbody tr th {\n",
       "        vertical-align: top;\n",
       "    }\n",
       "\n",
       "    .dataframe thead th {\n",
       "        text-align: right;\n",
       "    }\n",
       "</style>\n",
       "<table border=\"1\" class=\"dataframe\">\n",
       "  <thead>\n",
       "    <tr style=\"text-align: right;\">\n",
       "      <th></th>\n",
       "      <th>userID</th>\n",
       "      <th>Track</th>\n",
       "      <th>artist</th>\n",
       "      <th>genre</th>\n",
       "      <th>City</th>\n",
       "      <th>time</th>\n",
       "      <th>Day</th>\n",
       "    </tr>\n",
       "  </thead>\n",
       "  <tbody>\n",
       "    <tr>\n",
       "      <th>0</th>\n",
       "      <td>FFB692EC</td>\n",
       "      <td>Kamigata To Boots</td>\n",
       "      <td>The Mass Missile</td>\n",
       "      <td>rock</td>\n",
       "      <td>Shelbyville</td>\n",
       "      <td>20:28:33</td>\n",
       "      <td>Wednesday</td>\n",
       "    </tr>\n",
       "    <tr>\n",
       "      <th>1</th>\n",
       "      <td>55204538</td>\n",
       "      <td>Delayed Because of Accident</td>\n",
       "      <td>Andreas Rönnberg</td>\n",
       "      <td>rock</td>\n",
       "      <td>Springfield</td>\n",
       "      <td>14:07:09</td>\n",
       "      <td>Friday</td>\n",
       "    </tr>\n",
       "    <tr>\n",
       "      <th>2</th>\n",
       "      <td>20EC38</td>\n",
       "      <td>Funiculì funiculà</td>\n",
       "      <td>Mario Lanza</td>\n",
       "      <td>pop</td>\n",
       "      <td>Shelbyville</td>\n",
       "      <td>20:58:07</td>\n",
       "      <td>Wednesday</td>\n",
       "    </tr>\n",
       "    <tr>\n",
       "      <th>3</th>\n",
       "      <td>A3DD03C9</td>\n",
       "      <td>Dragons in the Sunset</td>\n",
       "      <td>Fire + Ice</td>\n",
       "      <td>folk</td>\n",
       "      <td>Shelbyville</td>\n",
       "      <td>08:37:09</td>\n",
       "      <td>Monday</td>\n",
       "    </tr>\n",
       "    <tr>\n",
       "      <th>4</th>\n",
       "      <td>E2DC1FAE</td>\n",
       "      <td>Soul People</td>\n",
       "      <td>Space Echo</td>\n",
       "      <td>dance</td>\n",
       "      <td>Springfield</td>\n",
       "      <td>08:34:34</td>\n",
       "      <td>Monday</td>\n",
       "    </tr>\n",
       "    <tr>\n",
       "      <th>5</th>\n",
       "      <td>842029A1</td>\n",
       "      <td>Chains</td>\n",
       "      <td>Obladaet</td>\n",
       "      <td>rusrap</td>\n",
       "      <td>Shelbyville</td>\n",
       "      <td>13:09:41</td>\n",
       "      <td>Friday</td>\n",
       "    </tr>\n",
       "    <tr>\n",
       "      <th>6</th>\n",
       "      <td>4CB90AA5</td>\n",
       "      <td>True</td>\n",
       "      <td>Roman Messer</td>\n",
       "      <td>dance</td>\n",
       "      <td>Springfield</td>\n",
       "      <td>13:00:07</td>\n",
       "      <td>Wednesday</td>\n",
       "    </tr>\n",
       "    <tr>\n",
       "      <th>7</th>\n",
       "      <td>F03E1C1F</td>\n",
       "      <td>Feeling This Way</td>\n",
       "      <td>Polina Griffith</td>\n",
       "      <td>dance</td>\n",
       "      <td>Springfield</td>\n",
       "      <td>20:47:49</td>\n",
       "      <td>Wednesday</td>\n",
       "    </tr>\n",
       "    <tr>\n",
       "      <th>8</th>\n",
       "      <td>8FA1D3BE</td>\n",
       "      <td>L’estate</td>\n",
       "      <td>Julia Dalia</td>\n",
       "      <td>ruspop</td>\n",
       "      <td>Springfield</td>\n",
       "      <td>09:17:40</td>\n",
       "      <td>Friday</td>\n",
       "    </tr>\n",
       "    <tr>\n",
       "      <th>9</th>\n",
       "      <td>E772D5C0</td>\n",
       "      <td>Pessimist</td>\n",
       "      <td>NaN</td>\n",
       "      <td>dance</td>\n",
       "      <td>Shelbyville</td>\n",
       "      <td>21:20:49</td>\n",
       "      <td>Wednesday</td>\n",
       "    </tr>\n",
       "  </tbody>\n",
       "</table>\n",
       "</div>"
      ],
      "text/plain": [
       "     userID                        Track            artist   genre  \\\n",
       "0  FFB692EC            Kamigata To Boots  The Mass Missile    rock   \n",
       "1  55204538  Delayed Because of Accident  Andreas Rönnberg    rock   \n",
       "2    20EC38            Funiculì funiculà       Mario Lanza     pop   \n",
       "3  A3DD03C9        Dragons in the Sunset        Fire + Ice    folk   \n",
       "4  E2DC1FAE                  Soul People        Space Echo   dance   \n",
       "5  842029A1                       Chains          Obladaet  rusrap   \n",
       "6  4CB90AA5                         True      Roman Messer   dance   \n",
       "7  F03E1C1F             Feeling This Way   Polina Griffith   dance   \n",
       "8  8FA1D3BE                     L’estate       Julia Dalia  ruspop   \n",
       "9  E772D5C0                    Pessimist               NaN   dance   \n",
       "\n",
       "        City        time        Day  \n",
       "0  Shelbyville  20:28:33  Wednesday  \n",
       "1  Springfield  14:07:09     Friday  \n",
       "2  Shelbyville  20:58:07  Wednesday  \n",
       "3  Shelbyville  08:37:09     Monday  \n",
       "4  Springfield  08:34:34     Monday  \n",
       "5  Shelbyville  13:09:41     Friday  \n",
       "6  Springfield  13:00:07  Wednesday  \n",
       "7  Springfield  20:47:49  Wednesday  \n",
       "8  Springfield  09:17:40     Friday  \n",
       "9  Shelbyville  21:20:49  Wednesday  "
      ]
     },
     "execution_count": 9,
     "metadata": {},
     "output_type": "execute_result"
    }
   ],
   "source": [
    "# obtenha as 10 primeiras 10 linhas da tabela df\n",
    "df.head(10)"
   ]
  },
  {
   "cell_type": "markdown",
   "metadata": {
    "id": "EO73Kwic_Zct"
   },
   "source": [
    "Obtenha informações gerais sobre a tabela usando um comando. Você conhece o método para exibir informações gerais que precisamos obter."
   ]
  },
  {
   "cell_type": "code",
   "execution_count": 10,
   "metadata": {
    "id": "DSf2kIb-_Zct"
   },
   "outputs": [
    {
     "name": "stdout",
     "output_type": "stream",
     "text": [
      "<class 'pandas.core.frame.DataFrame'>\n",
      "RangeIndex: 65079 entries, 0 to 65078\n",
      "Data columns (total 7 columns):\n",
      " #   Column    Non-Null Count  Dtype \n",
      "---  ------    --------------  ----- \n",
      " 0     userID  65079 non-null  object\n",
      " 1   Track     63736 non-null  object\n",
      " 2   artist    57512 non-null  object\n",
      " 3   genre     63881 non-null  object\n",
      " 4     City    65079 non-null  object\n",
      " 5   time      65079 non-null  object\n",
      " 6   Day       65079 non-null  object\n",
      "dtypes: object(7)\n",
      "memory usage: 3.5+ MB\n"
     ]
    }
   ],
   "source": [
    "# obtendo informações gerais sobre os nossos dados\n",
    "df.info()"
   ]
  },
  {
   "cell_type": "markdown",
   "metadata": {
    "id": "TaQ2Iwbr_Zct"
   },
   "source": [
    "Aqui estão as nossas observações sobre a tabela. Ela contém sete colunas. Elas armazenam o mesmo tipo de dado: `object`.\n",
    "\n",
    "De acordo com a documentação:\n",
    "- `' userID'` — identificação do usuário\n",
    "- `'Track'` — título da música\n",
    "- `'artist'` — nome do artista\n",
    "- `'genre'` — gênero da música\n",
    "- `'City'` — cidade do usuário\n",
    "- `'time'` — o tempo exato que a música foi reproduzida\n",
    "- `'Day'` — dia da semana\n",
    "\n",
    "Podemos ver três problemas de estilo nos cabeçalhos da tabela:\n",
    "1. Alguns cabeçalhos são escritos em letras maiúsculas, outros estão em minúsculas.\n",
    "2. Alguns cabeçalhos contêm espaços.\n",
    "3. `Detecte o problema e o descreva aqui`.\n",
    "\n",
    "\n"
   ]
  },
  {
   "cell_type": "markdown",
   "metadata": {},
   "source": [
    "3.\n",
    "userID, letras maiusculas e espaço\n",
    "Track, letras maiusculas\n",
    "City, letras maiusculas e espaços no inicio e no fim\n",
    "Day, letras maiusculas"
   ]
  },
  {
   "cell_type": "markdown",
   "metadata": {
    "id": "MCB6-dXG_Zct"
   },
   "source": [
    "### Escreva suas observações. Aqui estão algumas perguntas que podem ajudar: <a id='data_review_conclusions'></a>\n",
    "\n",
    "`1.   Que tipo de dados temos nas linhas? E como podemos entender as colunas?`\n",
    "\n",
    "`2.   Esses dados são suficientes para responder à nossa hipótese ou precisamos de mais dados?`\n",
    "\n",
    "`3.   Você notou algum problema nos dados, como valores ausentes, duplicados ou tipos de dados errados`"
   ]
  },
  {
   "cell_type": "markdown",
   "metadata": {},
   "source": [
    "1 - Temos objetos, e as colunas seriam strings\n",
    "\n",
    "2 - Sim pois apresentam uma vez ques estamos interessados em saber o comportamento do usuario baseado no dia da semana e na cidade\n",
    "\n",
    "3 - Avaliando os dados acima não ha erros porem não foram feitas analises buscando por estes ainda"
   ]
  },
  {
   "cell_type": "markdown",
   "metadata": {
    "id": "3eL__vcwViOi"
   },
   "source": [
    "[Voltar ao Índice](#back)"
   ]
  },
  {
   "cell_type": "markdown",
   "metadata": {
    "id": "SjYF6Ub9_Zct"
   },
   "source": [
    "## Etapa 2. Pré-processamento de dados <a id='data_preprocessing'></a>\n",
    "\n",
    "O objetivo aqui é preparar os dados para a análise.\n",
    "O primeiro passo é resolver todos os problemas com o cabeçalho. E então podemos passar para os valores ausentes e duplicados. Vamos começar.\n",
    "\n",
    "Corrija a formatação nos cabeçalhos da tabela.\n"
   ]
  },
  {
   "cell_type": "markdown",
   "metadata": {
    "id": "dIaKXr29_Zct"
   },
   "source": [
    "### Estilo do cabeçalho <a id='header_style'></a>\n",
    "Imprima os cabeçalhos da tabela (os nomes das colunas):"
   ]
  },
  {
   "cell_type": "code",
   "execution_count": 11,
   "metadata": {
    "id": "oKOTdF_Q_Zct"
   },
   "outputs": [
    {
     "name": "stdout",
     "output_type": "stream",
     "text": [
      "Index(['  userID', 'Track', 'artist', 'genre', '  City  ', 'time', 'Day'], dtype='object')\n"
     ]
    }
   ],
   "source": [
    "# imprima os nomes das colunas\n",
    "print(df.columns)"
   ]
  },
  {
   "cell_type": "markdown",
   "metadata": {
    "id": "zj5534cv_Zct"
   },
   "source": [
    "Mude os cabeçalhos da tabela conforme as boas práticas de estilo:\n",
    "* Todos os caracteres precisam estar com letras minúsculas\n",
    "* Exclua espaços\n",
    "* Se o nome tiver várias palavras, use snake_case"
   ]
  },
  {
   "cell_type": "markdown",
   "metadata": {
    "id": "Xu0zkfe5zNJe"
   },
   "source": [
    "Anteriormente, você aprendeu sobre uma maneira automatizada de renomear colunas. Vamos usá-la agora. Use o ciclo for para percorrer os nomes das colunas e transformar todos os caracteres em letras minúsculas. Após fazer isso, imprima os cabeçalhos da tabela novamente:"
   ]
  },
  {
   "cell_type": "code",
   "execution_count": 12,
   "metadata": {
    "id": "6I_RwwMhzM4e"
   },
   "outputs": [
    {
     "name": "stdout",
     "output_type": "stream",
     "text": [
      "Index(['  userid', 'track', 'artist', 'genre', '  city  ', 'time', 'day'], dtype='object')\n"
     ]
    }
   ],
   "source": [
    "# Percorrendo os cabeçalhos e convertendo tudo em minúsculos\n",
    "new_name=[]\n",
    "for d in df.columns:\n",
    "    new_name.append(d.lower())\n",
    "df.columns = new_name\n",
    "\n",
    "print(df.columns)"
   ]
  },
  {
   "cell_type": "markdown",
   "metadata": {
    "id": "pweIRxjSzPYW"
   },
   "source": [
    "Agora, usando a mesma abordagem, exclua os espaços no início e no final de cada nome de coluna e imprima os nomes das colunas novamente:"
   ]
  },
  {
   "cell_type": "code",
   "execution_count": 13,
   "metadata": {
    "id": "vVQXbFyJzSYl"
   },
   "outputs": [
    {
     "name": "stdout",
     "output_type": "stream",
     "text": [
      "Index(['userid', 'track', 'artist', 'genre', 'city', 'time', 'day'], dtype='object')\n"
     ]
    }
   ],
   "source": [
    "# Percorrendo os cabeçalhos e removendo os espaços\n",
    "new_name=[]\n",
    "for d in df.columns:\n",
    "    new_name.append(d.strip())\n",
    "\n",
    "df.columns=new_name\n",
    "print(df.columns)"
   ]
  },
  {
   "cell_type": "markdown",
   "metadata": {
    "id": "yCb8MW1JzURd"
   },
   "source": [
    "Precisamos aplicar a regra de sublinhado no lugar de espaço à coluna `userid`. Deveria ser `user_id`. Renomeie essa coluna e imprima os nomes de todas as colunas quando terminar."
   ]
  },
  {
   "cell_type": "code",
   "execution_count": 14,
   "metadata": {
    "id": "ISlFqs5y_Zct"
   },
   "outputs": [
    {
     "name": "stdout",
     "output_type": "stream",
     "text": [
      "Index(['user_id', 'track', 'artist', 'genre', 'city', 'time', 'day'], dtype='object')\n"
     ]
    }
   ],
   "source": [
    "# Renomeando a coluna \"userid\"\n",
    "col = {'userid':'user_id'}\n",
    "\n",
    "df=df.rename(columns=col)\n",
    "print(df.columns)"
   ]
  },
  {
   "cell_type": "markdown",
   "metadata": {
    "id": "1dqbh00J_Zct"
   },
   "source": [
    "Verifique o resultado. Imprima os cabeçalhos novamente:"
   ]
  },
  {
   "cell_type": "code",
   "execution_count": 15,
   "metadata": {
    "id": "d4NOAmTW_Zct"
   },
   "outputs": [
    {
     "name": "stdout",
     "output_type": "stream",
     "text": [
      "Index(['user_id', 'track', 'artist', 'genre', 'city', 'time', 'day'], dtype='object')\n"
     ]
    }
   ],
   "source": [
    "# verificando o resultado: a lista de cabeçalhos\n",
    "print(df.columns)"
   ]
  },
  {
   "cell_type": "markdown",
   "metadata": {
    "id": "xYJk6ksJVpOl"
   },
   "source": [
    "[Voltar ao Índice](#back)"
   ]
  },
  {
   "cell_type": "markdown",
   "metadata": {
    "id": "5ISfbcfY_Zct"
   },
   "source": [
    "### Valores Ausentes <a id='missing_values'></a>\n",
    " Primeiro, encontre a quantidade de valores ausentes na tabela. Você precisa usar dois métodos em sequência para obter o número de valores ausentes."
   ]
  },
  {
   "cell_type": "code",
   "execution_count": 16,
   "metadata": {
    "id": "RskX29qr_Zct"
   },
   "outputs": [
    {
     "name": "stdout",
     "output_type": "stream",
     "text": [
      "user_id       0\n",
      "track      1343\n",
      "artist     7567\n",
      "genre      1198\n",
      "city          0\n",
      "time          0\n",
      "day           0\n",
      "dtype: int64\n"
     ]
    }
   ],
   "source": [
    "# calculando o número de valores ausentes\n",
    "n_def = df.isna().sum()\n",
    "print(n_def)"
   ]
  },
  {
   "cell_type": "markdown",
   "metadata": {
    "id": "qubhgnlO_Zct"
   },
   "source": [
    "Nem todos os valores ausentes afetam a pesquisa. Por exemplo, os valores ausentes em `track` e `artist` não são críticos. Você pode simplesmente substituí-los por valores padrão, como a string `'unknown'`.\n",
    "\n",
    "Mas valores ausentes em `'genre'` podem afetar a comparação de preferências musicais de Springfield e Shelbyville. Na vida real, seria útil descobrir as razões pelas quais os dados estão ausentes e tentar corrigi-los. Mas nós não temos essa possibilidade neste projeto. Então, você terá que:\n",
    "* Preencha esses valores ausentes com um valor padrão\n",
    "* Avalie em que medida os valores ausentes podem afetar sua análise"
   ]
  },
  {
   "cell_type": "markdown",
   "metadata": {
    "id": "fSv2laPA_Zct"
   },
   "source": [
    "Substitua os valores ausentes nas colunas `'track'`, `'artist'` e `'genre'` pela string `'unknown'`. Como mostramos nas lições anteriores, a melhor maneira de fazer isso é criar uma lista para armazenar os nomes das colunas nas quais precisamos fazer a substituição. Em seguida, use essa lista e percorra as colunas nas quais a substituição seja necessária e faça a substituição."
   ]
  },
  {
   "cell_type": "code",
   "execution_count": 17,
   "metadata": {
    "id": "KplB5qWs_Zct"
   },
   "outputs": [],
   "source": [
    "# percorrendo os cabeçalhos e substituindo valores ausentes por 'unknown'\n",
    "list = ['track','artist','genre']\n",
    "for l in list:\n",
    "    df[l]=df[l].fillna('unknown')"
   ]
  },
  {
   "cell_type": "markdown",
   "metadata": {
    "id": "Ilsm-MZo_Zct"
   },
   "source": [
    "Agora verifique o resultado para ter certeza de que o conjunto de dados não contenha valores ausentes após a substituição. Para fazer isso, conte os valores ausentes novamente."
   ]
  },
  {
   "cell_type": "code",
   "execution_count": 18,
   "metadata": {
    "id": "Tq4nYRX4_Zct"
   },
   "outputs": [
    {
     "name": "stdout",
     "output_type": "stream",
     "text": [
      "user_id    0\n",
      "track      0\n",
      "artist     0\n",
      "genre      0\n",
      "city       0\n",
      "time       0\n",
      "day        0\n",
      "dtype: int64\n"
     ]
    }
   ],
   "source": [
    "# contando os valores ausentes\n",
    "n_def = df.isna().sum()\n",
    "print(n_def)"
   ]
  },
  {
   "cell_type": "markdown",
   "metadata": {
    "id": "74ZIBmq9VrsK"
   },
   "source": [
    "[Voltar ao Índice](#back)"
   ]
  },
  {
   "cell_type": "markdown",
   "metadata": {
    "id": "BWKRtBJ3_Zct"
   },
   "source": [
    "### Duplicados <a id='duplicates'></a>\n",
    "Encontre o número de duplicados explícitos na tabela. Lembre-se de que você precisa aplicar dois métodos em sequência para obter o número de duplicados explícitos."
   ]
  },
  {
   "cell_type": "code",
   "execution_count": 19,
   "metadata": {
    "id": "36eES_S0_Zct"
   },
   "outputs": [
    {
     "name": "stdout",
     "output_type": "stream",
     "text": [
      "3826\n"
     ]
    }
   ],
   "source": [
    "# contando duplicados explícitos\n",
    "dup=df.duplicated().sum()\n",
    "print(dup)"
   ]
  },
  {
   "cell_type": "markdown",
   "metadata": {
    "id": "Ot25h6XR_Zct"
   },
   "source": [
    "Agora descarte todos os duplicados. Para fazer isso, chame o método que faz exatamente isso."
   ]
  },
  {
   "cell_type": "code",
   "execution_count": 20,
   "metadata": {
    "id": "exFHq6tt_Zct"
   },
   "outputs": [],
   "source": [
    "# removendo duplicados explícitos\n",
    "df = df.drop_duplicates().reset_index(drop=True)"
   ]
  },
  {
   "cell_type": "markdown",
   "metadata": {
    "id": "Im2YwBEG_Zct"
   },
   "source": [
    "Agora vamos verificar se descartamos todos os duplicados. Conte duplicados explícitos mais uma vez para ter certeza de que você removeu todos eles:"
   ]
  },
  {
   "cell_type": "code",
   "execution_count": 21,
   "metadata": {
    "id": "-8PuNWQ0_Zct"
   },
   "outputs": [
    {
     "name": "stdout",
     "output_type": "stream",
     "text": [
      "0\n"
     ]
    }
   ],
   "source": [
    "# verificando duplicados novamente\n",
    "\n",
    "dup=df.duplicated().sum()\n",
    "print(dup)"
   ]
  },
  {
   "cell_type": "markdown",
   "metadata": {
    "id": "QlFBsxAr_Zct"
   },
   "source": [
    "Agora queremos nos livrar dos duplicados implícitos na coluna `genre`. Por exemplo, o nome de um gênero pode ser escrito de maneiras diferentes. Alguns erros afetarão também o resultado."
   ]
  },
  {
   "cell_type": "markdown",
   "metadata": {
    "id": "eSjWwsOh_Zct"
   },
   "source": [
    "Para fazer isso, vamos começar imprimindo uma lista de nomes de gênero únicos, ordenados em ordem alfabética: Para fazer isso:\n",
    "* Extraia a coluna `genre` do DataFrame\n",
    "* Chame o método que retornará todos os valores únicos na coluna extraída\n"
   ]
  },
  {
   "cell_type": "code",
   "execution_count": 22,
   "metadata": {
    "id": "JIUcqzZN_Zct"
   },
   "outputs": [
    {
     "name": "stdout",
     "output_type": "stream",
     "text": [
      "['rock' 'pop' 'folk' 'dance' 'rusrap' 'ruspop' 'world' 'electronic'\n",
      " 'unknown' 'alternative' 'children' 'rnb' 'hip' 'jazz' 'postrock' 'latin'\n",
      " 'classical' 'metal' 'reggae' 'triphop' 'blues' 'instrumental' 'rusrock'\n",
      " 'dnb' 'türk' 'post' 'country' 'psychedelic' 'conjazz' 'indie'\n",
      " 'posthardcore' 'local' 'avantgarde' 'punk' 'videogame' 'techno' 'house'\n",
      " 'christmas' 'melodic' 'caucasian' 'reggaeton' 'soundtrack' 'singer' 'ska'\n",
      " 'salsa' 'ambient' 'film' 'western' 'rap' 'beats' \"hard'n'heavy\"\n",
      " 'progmetal' 'minimal' 'tropical' 'contemporary' 'new' 'soul' 'holiday'\n",
      " 'german' 'jpop' 'spiritual' 'urban' 'gospel' 'nujazz' 'folkmetal'\n",
      " 'trance' 'miscellaneous' 'anime' 'hardcore' 'progressive' 'korean'\n",
      " 'numetal' 'vocal' 'estrada' 'tango' 'loungeelectronic' 'classicmetal'\n",
      " 'dubstep' 'club' 'deep' 'southern' 'black' 'folkrock' 'fitness' 'french'\n",
      " 'disco' 'religious' 'hiphop' 'drum' 'extrememetal' 'türkçe'\n",
      " 'experimental' 'easy' 'metalcore' 'modern' 'argentinetango' 'old' 'swing'\n",
      " 'breaks' 'eurofolk' 'stonerrock' 'industrial' 'funk' 'middle' 'variété'\n",
      " 'other' 'adult' 'christian' 'thrash' 'gothic' 'international' 'muslim'\n",
      " 'relax' 'schlager' 'caribbean' 'nu' 'breakbeat' 'comedy' 'chill' 'newage'\n",
      " 'specialty' 'uzbek' 'k-pop' 'balkan' 'chinese' 'meditative' 'dub' 'power'\n",
      " 'death' 'grime' 'arabesk' 'romance' 'flamenco' 'leftfield' 'european'\n",
      " 'tech' 'newwave' 'dancehall' 'mpb' 'piano' 'top' 'bigroom' 'opera'\n",
      " 'celtic' 'tradjazz' 'acoustic' 'epicmetal' 'hip-hop' 'historisch'\n",
      " 'downbeat' 'downtempo' 'africa' 'audiobook' 'jewish' 'sängerportrait'\n",
      " 'deutschrock' 'eastern' 'action' 'future' 'electropop' 'folklore'\n",
      " 'bollywood' 'marschmusik' 'rnr' 'karaoke' 'indian' 'rancheras'\n",
      " 'afrikaans' 'rhythm' 'sound' 'deutschspr' 'trip' 'lovers' 'choral'\n",
      " 'dancepop' 'retro' 'smooth' 'mexican' 'brazilian' 'ïîï' 'mood' 'surf'\n",
      " 'gangsta' 'inspirational' 'idm' 'ethnic' 'bluegrass' 'broadway'\n",
      " 'animated' 'americana' 'karadeniz' 'rockabilly' 'colombian' 'self' 'hop'\n",
      " 'sertanejo' 'japanese' 'canzone' 'lounge' 'sport' 'ragga' 'traditional'\n",
      " 'gitarre' 'frankreich' 'emo' 'laiko' 'cantopop' 'glitch' 'documentary'\n",
      " 'oceania' 'popeurodance' 'dark' 'vi' 'grunge' 'hardstyle' 'samba'\n",
      " 'garage' 'art' 'folktronica' 'entehno' 'mediterranean' 'chamber' 'cuban'\n",
      " 'taraftar' 'gypsy' 'hardtechno' 'shoegazing' 'bossa' 'latino' 'worldbeat'\n",
      " 'malaysian' 'baile' 'ghazal' 'arabic' 'popelectronic' 'acid' 'kayokyoku'\n",
      " 'neoklassik' 'tribal' 'tanzorchester' 'native' 'independent' 'cantautori'\n",
      " 'handsup' 'punjabi' 'synthpop' 'rave' 'französisch' 'quebecois' 'speech'\n",
      " 'soulful' 'jam' 'ram' 'horror' 'orchestral' 'neue' 'roots' 'slow'\n",
      " 'jungle' 'indipop' 'axé' 'fado' 'showtunes' 'arena' 'irish' 'mandopop'\n",
      " 'forró' 'dirty' 'regional']\n"
     ]
    }
   ],
   "source": [
    "# visualizando nomes de gêneros únicos\n",
    "print(df['genre'].unique())"
   ]
  },
  {
   "cell_type": "markdown",
   "metadata": {
    "id": "qej-Qmuo_Zct"
   },
   "source": [
    "Olhe a lista e encontre duplicados implícitos do gênero `hiphop`. Esses podem ser nomes escritos incorretamente, ou nomes alternativos para o mesmo gênero.\n",
    "\n",
    "Você verá os seguintes duplicados implícitos:\n",
    "* `hip`\n",
    "* `hop`\n",
    "* `hip-hop`\n",
    "\n",
    "Para se livrar deles, crie uma função `replace_wrong_genres()` com dois parâmetros:\n",
    "* `wrong_genres=` — essa é uma lista que contém todos os valores que você precisa substituir\n",
    "* `correct_genre=` — essa é uma string que você vai usar para a substituição\n",
    "\n",
    "Como resultado, a função deve corrigir os nomes na coluna `'genre'` da tabela `df`, isto é, substituindo cada valor da lista `wrong_genres` por valores de `correct_genre`.\n",
    "\n",
    "Dentro do corpo da função, use um ciclo `'for'` para percorrer a lista de gêneros errados, extrair a coluna `'genre'` e aplicar o método `replace` para fazer as correções."
   ]
  },
  {
   "cell_type": "code",
   "execution_count": 23,
   "metadata": {
    "id": "ErNDkmns_Zct"
   },
   "outputs": [],
   "source": [
    "# função para substituir duplicados implícitos\n",
    "\n",
    "\n",
    "def replace_wrong_genres():\n",
    "    wrong_genres = ['hip','hop','hip-hop']\n",
    "    correct_genre = df['genre']\n",
    "    \n",
    "    for w in wrong_genres:\n",
    "        correct_genre.replace(w,'hiphop')\n",
    "        \n",
    "        \n",
    "    df['genre']=correct_genre"
   ]
  },
  {
   "cell_type": "markdown",
   "metadata": {},
   "source": [
    "\n",
    "<div class=\"alert alert-block alert-danger\">\n",
    "<b> Comentário do revisor: </b> <a class=\"tocSkip\"></a>\n",
    "Loop em python sofre de ineficiência. Dica: user df[coluna].replace\n",
    "</div>"
   ]
  },
  {
   "cell_type": "markdown",
   "metadata": {
    "id": "aDoBJxbA_Zct"
   },
   "source": [
    "Agora, chame a função `replace_wrong_genres()` e passe argumentos apropriados para que ela limpe duplicados implícitos (`hip`, `hop` e `hip-hop`) substituindo-os por `hiphop`:"
   ]
  },
  {
   "cell_type": "code",
   "execution_count": 24,
   "metadata": {
    "id": "YN5i2hpmSo09"
   },
   "outputs": [],
   "source": [
    "# removendo duplicados implícitos\n",
    "replace_wrong_genres()"
   ]
  },
  {
   "cell_type": "markdown",
   "metadata": {
    "id": "zQKF16_RG15m"
   },
   "source": [
    "Certifique-se que os nomes duplicados foram removidos. Imprima a lista de valores únicos da coluna `'genre'` mais uma vez:"
   ]
  },
  {
   "cell_type": "code",
   "execution_count": 25,
   "metadata": {
    "id": "wvixALnFG15m"
   },
   "outputs": [
    {
     "name": "stdout",
     "output_type": "stream",
     "text": [
      "['rock' 'pop' 'folk' 'dance' 'rusrap' 'ruspop' 'world' 'electronic'\n",
      " 'unknown' 'alternative' 'children' 'rnb' 'hip' 'jazz' 'postrock' 'latin'\n",
      " 'classical' 'metal' 'reggae' 'triphop' 'blues' 'instrumental' 'rusrock'\n",
      " 'dnb' 'türk' 'post' 'country' 'psychedelic' 'conjazz' 'indie'\n",
      " 'posthardcore' 'local' 'avantgarde' 'punk' 'videogame' 'techno' 'house'\n",
      " 'christmas' 'melodic' 'caucasian' 'reggaeton' 'soundtrack' 'singer' 'ska'\n",
      " 'salsa' 'ambient' 'film' 'western' 'rap' 'beats' \"hard'n'heavy\"\n",
      " 'progmetal' 'minimal' 'tropical' 'contemporary' 'new' 'soul' 'holiday'\n",
      " 'german' 'jpop' 'spiritual' 'urban' 'gospel' 'nujazz' 'folkmetal'\n",
      " 'trance' 'miscellaneous' 'anime' 'hardcore' 'progressive' 'korean'\n",
      " 'numetal' 'vocal' 'estrada' 'tango' 'loungeelectronic' 'classicmetal'\n",
      " 'dubstep' 'club' 'deep' 'southern' 'black' 'folkrock' 'fitness' 'french'\n",
      " 'disco' 'religious' 'hiphop' 'drum' 'extrememetal' 'türkçe'\n",
      " 'experimental' 'easy' 'metalcore' 'modern' 'argentinetango' 'old' 'swing'\n",
      " 'breaks' 'eurofolk' 'stonerrock' 'industrial' 'funk' 'middle' 'variété'\n",
      " 'other' 'adult' 'christian' 'thrash' 'gothic' 'international' 'muslim'\n",
      " 'relax' 'schlager' 'caribbean' 'nu' 'breakbeat' 'comedy' 'chill' 'newage'\n",
      " 'specialty' 'uzbek' 'k-pop' 'balkan' 'chinese' 'meditative' 'dub' 'power'\n",
      " 'death' 'grime' 'arabesk' 'romance' 'flamenco' 'leftfield' 'european'\n",
      " 'tech' 'newwave' 'dancehall' 'mpb' 'piano' 'top' 'bigroom' 'opera'\n",
      " 'celtic' 'tradjazz' 'acoustic' 'epicmetal' 'hip-hop' 'historisch'\n",
      " 'downbeat' 'downtempo' 'africa' 'audiobook' 'jewish' 'sängerportrait'\n",
      " 'deutschrock' 'eastern' 'action' 'future' 'electropop' 'folklore'\n",
      " 'bollywood' 'marschmusik' 'rnr' 'karaoke' 'indian' 'rancheras'\n",
      " 'afrikaans' 'rhythm' 'sound' 'deutschspr' 'trip' 'lovers' 'choral'\n",
      " 'dancepop' 'retro' 'smooth' 'mexican' 'brazilian' 'ïîï' 'mood' 'surf'\n",
      " 'gangsta' 'inspirational' 'idm' 'ethnic' 'bluegrass' 'broadway'\n",
      " 'animated' 'americana' 'karadeniz' 'rockabilly' 'colombian' 'self' 'hop'\n",
      " 'sertanejo' 'japanese' 'canzone' 'lounge' 'sport' 'ragga' 'traditional'\n",
      " 'gitarre' 'frankreich' 'emo' 'laiko' 'cantopop' 'glitch' 'documentary'\n",
      " 'oceania' 'popeurodance' 'dark' 'vi' 'grunge' 'hardstyle' 'samba'\n",
      " 'garage' 'art' 'folktronica' 'entehno' 'mediterranean' 'chamber' 'cuban'\n",
      " 'taraftar' 'gypsy' 'hardtechno' 'shoegazing' 'bossa' 'latino' 'worldbeat'\n",
      " 'malaysian' 'baile' 'ghazal' 'arabic' 'popelectronic' 'acid' 'kayokyoku'\n",
      " 'neoklassik' 'tribal' 'tanzorchester' 'native' 'independent' 'cantautori'\n",
      " 'handsup' 'punjabi' 'synthpop' 'rave' 'französisch' 'quebecois' 'speech'\n",
      " 'soulful' 'jam' 'ram' 'horror' 'orchestral' 'neue' 'roots' 'slow'\n",
      " 'jungle' 'indipop' 'axé' 'fado' 'showtunes' 'arena' 'irish' 'mandopop'\n",
      " 'forró' 'dirty' 'regional']\n"
     ]
    }
   ],
   "source": [
    "# verificando valores duplicados\n",
    "print(df['genre'].unique())"
   ]
  },
  {
   "cell_type": "markdown",
   "metadata": {
    "id": "ALgNbvF3VtPA"
   },
   "source": [
    "[Voltar ao Índice](#back)"
   ]
  },
  {
   "cell_type": "markdown",
   "metadata": {
    "id": "jz6a9-7HQUDd"
   },
   "source": [
    "### Suas observações <a id='data_preprocessing_conclusions'></a>\n",
    "\n",
    "` Descreva brevemente o que você reparou ao analisar duplicados, bem como a abordagem que usou para eliminá-los e os resultados que alcançou.`"
   ]
  },
  {
   "cell_type": "markdown",
   "metadata": {},
   "source": [
    "Existia um numero razoavel de duplicados, que foram detectados pela função propria para isso, e corrigidos da mesma maneira. Contudo ainda existam duplicados porém por erro de digitação, para corrigilos foi necessaro criar uma função que fosse capaz de subistituir todos "
   ]
  },
  {
   "cell_type": "markdown",
   "metadata": {
    "id": "eK1es74rVujj"
   },
   "source": [
    "[Voltar ao Índice](#back)"
   ]
  },
  {
   "cell_type": "markdown",
   "metadata": {
    "id": "WttZHXH0SqKk"
   },
   "source": [
    "## Etapa 3. Teste da hipótese <a id='hypothesis'></a>"
   ]
  },
  {
   "cell_type": "markdown",
   "metadata": {
    "id": "Im936VVi_Zcu"
   },
   "source": [
    "### Hipótese: comparação do comportamento dos usuários nas duas cidades <a id='activity'></a>"
   ]
  },
  {
   "cell_type": "markdown",
   "metadata": {
    "id": "nwt_MuaL_Zcu"
   },
   "source": [
    "A hipótese afirma que existem diferenças no consumo de música pelos usuários em Springfield e em Shelbyville. Para testar a hipótese, use os dados dos três dias da semana: segunda-feira (Monday), quarta-feira (Wednesday) e sexta-feira (Friday).\n",
    "\n",
    "* Agrupe os usuários por cidade.\n",
    "* Compare o número de músicas tocadas por cada grupo na segunda, quarta e sexta.\n"
   ]
  },
  {
   "cell_type": "markdown",
   "metadata": {
    "id": "8Dw_YMmT_Zcu"
   },
   "source": [
    "Execute cada cálculo separadamente.\n",
    "\n",
    "O primeiro passo é avaliar a atividade dos usuários em cada cidade. Não se esqueça das etapas \"divisão-aplicação-combinação\" sobre as quais falamos anteriormente na lição. Agora seu objetivo é agrupar os dados por cidade, aplicar o método de contagem apropriado durante a etapa de aplicação e então encontrar o número de músicas tocadas por cada grupo, especificando a coluna para a qual você quer obter a contagem.\n",
    "\n",
    "Veja um exemplo de como o resultado final deve ser:\n",
    "`df.groupby(by='....')['column'].method()` Execute cada cálculo separadamente.\n",
    "\n",
    "Para avaliar a atividade dos usuários em cada cidade, agrupe os dados por cidade e encontre o número de músicas reproduzidas em cada grupo.\n",
    "\n"
   ]
  },
  {
   "cell_type": "code",
   "execution_count": 26,
   "metadata": {
    "id": "0_Qs96oh_Zcu"
   },
   "outputs": [
    {
     "name": "stdout",
     "output_type": "stream",
     "text": [
      "Shelbyville: 18512\n",
      "Springfield: 42741\n"
     ]
    }
   ],
   "source": [
    "# Contando as músicas tocadas em cada cidade\n",
    "res = df.groupby('city')['track'].count()\n",
    "print(\"Shelbyville:\",res['Shelbyville'])\n",
    "print(\"Springfield:\",res['Springfield'])"
   ]
  },
  {
   "cell_type": "markdown",
   "metadata": {
    "id": "t_Qx-3NewAnK"
   },
   "source": [
    "`Comente sobre suas observações aqui`"
   ]
  },
  {
   "cell_type": "markdown",
   "metadata": {
    "id": "dzli3w8o_Zcu"
   },
   "source": [
    "Agora vamos agrupar os dados por dia da semana e encontrar a quantidade de músicas tocadas na segunda, quarta e sexta-feira. Use a mesma abordagem que antes, mas agora precisamos agrupar os dados de uma forma diferente.\n"
   ]
  },
  {
   "cell_type": "code",
   "execution_count": 27,
   "metadata": {
    "id": "uZMKjiJz_Zcu"
   },
   "outputs": [
    {
     "name": "stdout",
     "output_type": "stream",
     "text": [
      "Friday: 21840\n",
      "Monday: 21354\n",
      "Wednesday: 18059\n"
     ]
    }
   ],
   "source": [
    "# Calculando as músicas escutadas em cada um desses três dias\n",
    "res_day=df.groupby(['day'])['track'].count()\n",
    "print(\"Friday:\",res_day['Friday'])\n",
    "print(\"Monday:\",res_day['Monday'])\n",
    "print(\"Wednesday:\",res_day['Wednesday'])\n",
    "\n",
    "#res_test=df.groupby(['day','city'])['track'].count()\n",
    "#print(\"\\n\",res_test['Friday'])\n",
    "#x=res_test['Friday']\n",
    "#print(x['Springfield'])"
   ]
  },
  {
   "cell_type": "markdown",
   "metadata": {
    "id": "cC2tNrlL_Zcu"
   },
   "source": [
    "`Comente sobre suas observações aqui`"
   ]
  },
  {
   "cell_type": "markdown",
   "metadata": {
    "id": "POzs8bGa_Zcu"
   },
   "source": [
    "Você acabou de aprender como contar entradas agrupando-as por cidade ou por dia. E agora você precisa escrever uma função que possa contar entradas simultaneamente com base em ambos os critérios.\n",
    "\n",
    "Crie a função `number_tracks()` para calcular o número de músicas tocadas em um determinado dia **e** em uma determinada cidade. A função deve aceitar dois parâmetros:\n",
    "\n",
    "- `day`: um dia da semana pelo qual precisamos filtrar os dados. Por exemplo, `'Monday'`.\n",
    "- `city`: uma cidade pela qual precisamos filtrar os dados. Por exemplo, `'Springfield'`.\n",
    "\n",
    "Dentro da função, você vai aplicar uma filtragem consecutiva com indexação lógica.\n",
    "\n",
    "Primeiro, filtre os dados por dia e então filtre a tabela resultante por cidade.\n",
    "\n",
    "Depois de filtrar os dados usando os dois critérios, conte o número de valores na coluna 'user_id' da tabela resultante. O resultado da contagem representará o número de entradas que você quer encontrar. Armazene o resultado em uma nova variável e imprima-o."
   ]
  },
  {
   "cell_type": "code",
   "execution_count": 28,
   "metadata": {
    "id": "Nz3GdQB1_Zcu"
   },
   "outputs": [],
   "source": [
    "# Declare a função number_tracks() com dois parâmetros: day= e city=.\n",
    "\n",
    "    # Armazene as linhas do DataFrame em que o valor na coluna 'day' é igual ao parâmetro day=\n",
    "\n",
    "    # Filtre as linhas em que o valor na coluna 'city' é igual ao parâmetro city=\n",
    "\n",
    "    # Extraia a coluna 'user_id' da tabela filtrada e aplique o método count()\n",
    "\n",
    "    # Retorne o número dos valores da coluna 'user_id'\n",
    "def number_tracks(day,city):\n",
    "    result = df.groupby(['day','city'])['user_id'].count()\n",
    "    result_day = result[day]\n",
    "    result_city = result_day[city]\n",
    "    print(\"dia:\",day,\" cidade:\",city,\" \\nvalor:\",result_city)\n",
    "\n"
   ]
  },
  {
   "cell_type": "markdown",
   "metadata": {
    "id": "ytf7xFrFJQ2r"
   },
   "source": [
    "Chame a função `number_tracks()` seis vezes, mudando os valores dos parâmetros, para que você possa recuperar os dados de ambas as cidades para cada um dos três dias."
   ]
  },
  {
   "cell_type": "code",
   "execution_count": 29,
   "metadata": {
    "id": "rJcRATNQ_Zcu"
   },
   "outputs": [
    {
     "name": "stdout",
     "output_type": "stream",
     "text": [
      "dia: Monday  cidade: Springfield  \n",
      "valor: 15740\n"
     ]
    }
   ],
   "source": [
    "# a quantidade de músicas tocadas em Springfield na segunda-feira\n",
    "number_tracks('Monday','Springfield')"
   ]
  },
  {
   "cell_type": "code",
   "execution_count": 30,
   "metadata": {
    "id": "hq_ncZ5T_Zcu"
   },
   "outputs": [
    {
     "name": "stdout",
     "output_type": "stream",
     "text": [
      "dia: Monday  cidade: Shelbyville  \n",
      "valor: 5614\n"
     ]
    }
   ],
   "source": [
    "# a quantidade de músicas tocadas em Shelbyville na segunda-feira\n",
    "number_tracks('Monday','Shelbyville')"
   ]
  },
  {
   "cell_type": "code",
   "execution_count": 31,
   "metadata": {
    "id": "_NTy2VPU_Zcu"
   },
   "outputs": [
    {
     "name": "stdout",
     "output_type": "stream",
     "text": [
      "dia: Wednesday  cidade: Springfield  \n",
      "valor: 11056\n"
     ]
    }
   ],
   "source": [
    "# a quantidade de músicas tocadas em Springfield na quarta-feira\n",
    "number_tracks('Wednesday','Springfield')"
   ]
  },
  {
   "cell_type": "code",
   "execution_count": 32,
   "metadata": {
    "id": "j2y3TAwo_Zcu"
   },
   "outputs": [
    {
     "name": "stdout",
     "output_type": "stream",
     "text": [
      "dia: Wednesday  cidade: Shelbyville  \n",
      "valor: 7003\n"
     ]
    }
   ],
   "source": [
    "# a quantidade de músicas tocadas em Shelbyville na quarta-feira\n",
    "number_tracks('Wednesday','Shelbyville')"
   ]
  },
  {
   "cell_type": "code",
   "execution_count": 33,
   "metadata": {
    "id": "vYDw5u_K_Zcu"
   },
   "outputs": [
    {
     "name": "stdout",
     "output_type": "stream",
     "text": [
      "dia: Friday  cidade: Springfield  \n",
      "valor: 15945\n"
     ]
    }
   ],
   "source": [
    "# a quantidade de músicas tocadas em Springfield na sexta-feira\n",
    "number_tracks('Friday','Springfield')"
   ]
  },
  {
   "cell_type": "code",
   "execution_count": 34,
   "metadata": {
    "id": "8_yzFtW3_Zcu"
   },
   "outputs": [
    {
     "name": "stdout",
     "output_type": "stream",
     "text": [
      "dia: Friday  cidade: Shelbyville  \n",
      "valor: 5895\n"
     ]
    }
   ],
   "source": [
    "# a quantidade de músicas tocadas em Shelbyville na sexta-feira\n",
    "number_tracks('Friday','Shelbyville')"
   ]
  },
  {
   "cell_type": "markdown",
   "metadata": {
    "id": "-EgPIHYu_Zcu"
   },
   "source": [
    "**Conclusões**\n",
    "\n",
    "`Comente sobre se a terceira hipótese está correta ou deve ser rejeitada. Explique seu raciocínio.`"
   ]
  },
  {
   "cell_type": "markdown",
   "metadata": {
    "id": "p7nFQajCVw5B"
   },
   "source": [
    "[Voltar ao Índice](#back)"
   ]
  },
  {
   "cell_type": "markdown",
   "metadata": {
    "id": "ykKQ0N65_Zcv"
   },
   "source": [
    "# Conclusões <a id='end'></a>"
   ]
  },
  {
   "cell_type": "markdown",
   "metadata": {
    "id": "tjUwbHb3_Zcv"
   },
   "source": [
    "`Resuma suas conclusões sobre a hipótese aqui`"
   ]
  },
  {
   "cell_type": "markdown",
   "metadata": {},
   "source": [
    "A hipótese se mostrou verdadeira, uma vez que houve variação entre os dias e as cidades, ou seja a atividade dos usuarios depende do dia da semnada e da cidade"
   ]
  },
  {
   "cell_type": "markdown",
   "metadata": {
    "id": "azLHu64yOIp7"
   },
   "source": [
    "### Importante\n",
    "Em projetos de pesquisas reais, o teste estatístico de hipóteses é mais preciso e quantitativo. Observe também que conclusões sobre uma cidade inteira nem sempre podem ser tiradas a partir de dados de apenas uma fonte.\n",
    "\n",
    "Você aprenderá mais sobre testes de hipóteses no sprint sobre a análise estatística de dados."
   ]
  },
  {
   "cell_type": "markdown",
   "metadata": {
    "id": "Ju4AHDSgV1FE"
   },
   "source": [
    "[Voltar ao Índice](#back)"
   ]
  }
 ],
 "metadata": {
  "ExecuteTimeLog": [
   {
    "duration": 470,
    "start_time": "2024-06-18T19:19:19.524Z"
   },
   {
    "duration": 6,
    "start_time": "2024-06-18T19:19:21.848Z"
   },
   {
    "duration": 186,
    "start_time": "2024-06-18T19:19:58.433Z"
   },
   {
    "duration": 25,
    "start_time": "2024-06-18T19:20:04.011Z"
   },
   {
    "duration": 33,
    "start_time": "2024-06-18T19:20:18.758Z"
   },
   {
    "duration": 387,
    "start_time": "2024-06-18T19:21:58.046Z"
   },
   {
    "duration": 34,
    "start_time": "2024-06-18T19:22:04.772Z"
   },
   {
    "duration": 4,
    "start_time": "2024-06-18T19:24:53.519Z"
   },
   {
    "duration": 5,
    "start_time": "2024-06-18T19:29:14.029Z"
   },
   {
    "duration": 370,
    "start_time": "2024-06-18T19:29:49.081Z"
   },
   {
    "duration": 8,
    "start_time": "2024-06-18T19:30:55.288Z"
   },
   {
    "duration": 724,
    "start_time": "2024-06-18T19:31:37.600Z"
   },
   {
    "duration": 63,
    "start_time": "2024-06-18T19:32:09.419Z"
   },
   {
    "duration": 6,
    "start_time": "2024-06-18T19:32:28.611Z"
   },
   {
    "duration": 63,
    "start_time": "2024-06-18T19:32:52.126Z"
   },
   {
    "duration": 5,
    "start_time": "2024-06-18T19:34:23.579Z"
   },
   {
    "duration": 5,
    "start_time": "2024-06-18T19:34:41.558Z"
   },
   {
    "duration": 7,
    "start_time": "2024-06-18T19:35:04.479Z"
   },
   {
    "duration": 6,
    "start_time": "2024-06-18T19:35:17.617Z"
   },
   {
    "duration": 6,
    "start_time": "2024-06-18T19:35:54.261Z"
   },
   {
    "duration": 63,
    "start_time": "2024-06-18T19:36:40.411Z"
   },
   {
    "duration": 6,
    "start_time": "2024-06-18T19:37:18.609Z"
   },
   {
    "duration": 7,
    "start_time": "2024-06-18T19:37:21.152Z"
   },
   {
    "duration": 5,
    "start_time": "2024-06-18T19:38:14.486Z"
   },
   {
    "duration": 7,
    "start_time": "2024-06-18T19:38:28.350Z"
   },
   {
    "duration": 24,
    "start_time": "2024-06-18T19:40:13.827Z"
   },
   {
    "duration": 16,
    "start_time": "2024-06-18T19:40:39.976Z"
   },
   {
    "duration": 12,
    "start_time": "2024-06-18T19:40:47.730Z"
   },
   {
    "duration": 21,
    "start_time": "2024-06-18T19:40:59.081Z"
   },
   {
    "duration": 11,
    "start_time": "2024-06-18T19:41:45.029Z"
   },
   {
    "duration": 5,
    "start_time": "2024-06-18T19:43:16.162Z"
   },
   {
    "duration": 26,
    "start_time": "2024-06-18T19:44:08.321Z"
   },
   {
    "duration": 16,
    "start_time": "2024-06-18T19:48:12.802Z"
   },
   {
    "duration": 26,
    "start_time": "2024-06-18T19:48:15.128Z"
   },
   {
    "duration": 12,
    "start_time": "2024-06-18T19:50:53.327Z"
   },
   {
    "duration": 20,
    "start_time": "2024-06-18T19:51:11.682Z"
   },
   {
    "duration": 23,
    "start_time": "2024-06-18T19:51:25.537Z"
   },
   {
    "duration": 19,
    "start_time": "2024-06-18T19:51:53.975Z"
   },
   {
    "duration": 40,
    "start_time": "2024-06-18T19:51:56.398Z"
   },
   {
    "duration": 29,
    "start_time": "2024-06-18T19:55:15.880Z"
   },
   {
    "duration": 26,
    "start_time": "2024-06-18T19:55:18.084Z"
   },
   {
    "duration": 79,
    "start_time": "2024-06-18T19:56:09.350Z"
   },
   {
    "duration": 30,
    "start_time": "2024-06-18T19:56:30.943Z"
   },
   {
    "duration": 194,
    "start_time": "2024-06-18T19:57:18.166Z"
   },
   {
    "duration": 15,
    "start_time": "2024-06-18T19:57:22.304Z"
   },
   {
    "duration": 39,
    "start_time": "2024-06-18T19:57:28.235Z"
   },
   {
    "duration": 5,
    "start_time": "2024-06-18T19:57:33.978Z"
   },
   {
    "duration": 6,
    "start_time": "2024-06-18T19:57:38.275Z"
   },
   {
    "duration": 5,
    "start_time": "2024-06-18T19:57:40.955Z"
   },
   {
    "duration": 9,
    "start_time": "2024-06-18T19:57:43.975Z"
   },
   {
    "duration": 5,
    "start_time": "2024-06-18T19:57:47.626Z"
   },
   {
    "duration": 26,
    "start_time": "2024-06-18T19:57:50.497Z"
   },
   {
    "duration": 27,
    "start_time": "2024-06-18T19:58:21.092Z"
   },
   {
    "duration": 27,
    "start_time": "2024-06-18T19:58:23.879Z"
   },
   {
    "duration": 76,
    "start_time": "2024-06-18T19:58:44.773Z"
   },
   {
    "duration": 95,
    "start_time": "2024-06-18T20:00:48.110Z"
   },
   {
    "duration": 84,
    "start_time": "2024-06-18T20:00:55.242Z"
   },
   {
    "duration": 320,
    "start_time": "2024-06-19T02:03:12.391Z"
   },
   {
    "duration": 26,
    "start_time": "2024-06-19T02:03:21.260Z"
   },
   {
    "duration": 453,
    "start_time": "2024-06-19T02:04:40.146Z"
   },
   {
    "duration": 207,
    "start_time": "2024-06-19T02:04:40.603Z"
   },
   {
    "duration": 30,
    "start_time": "2024-06-19T02:04:40.812Z"
   },
   {
    "duration": 36,
    "start_time": "2024-06-19T02:04:40.847Z"
   },
   {
    "duration": 35,
    "start_time": "2024-06-19T02:04:40.888Z"
   },
   {
    "duration": 6,
    "start_time": "2024-06-19T02:04:40.926Z"
   },
   {
    "duration": 7,
    "start_time": "2024-06-19T02:04:40.936Z"
   },
   {
    "duration": 11,
    "start_time": "2024-06-19T02:04:40.947Z"
   },
   {
    "duration": 6,
    "start_time": "2024-06-19T02:04:40.961Z"
   },
   {
    "duration": 70,
    "start_time": "2024-06-19T02:04:40.969Z"
   },
   {
    "duration": 21,
    "start_time": "2024-06-19T02:04:41.041Z"
   },
   {
    "duration": 59,
    "start_time": "2024-06-19T02:04:41.064Z"
   },
   {
    "duration": 115,
    "start_time": "2024-06-19T02:04:41.126Z"
   },
   {
    "duration": 106,
    "start_time": "2024-06-19T02:04:41.246Z"
   },
   {
    "duration": 84,
    "start_time": "2024-06-19T02:04:41.356Z"
   },
   {
    "duration": 7,
    "start_time": "2024-06-19T02:04:43.781Z"
   },
   {
    "duration": 11,
    "start_time": "2024-06-19T02:04:56.030Z"
   },
   {
    "duration": 501,
    "start_time": "2024-06-19T17:37:47.997Z"
   },
   {
    "duration": 192,
    "start_time": "2024-06-19T17:37:48.502Z"
   },
   {
    "duration": 34,
    "start_time": "2024-06-19T17:37:48.697Z"
   },
   {
    "duration": 33,
    "start_time": "2024-06-19T17:37:48.735Z"
   },
   {
    "duration": 5,
    "start_time": "2024-06-19T17:37:48.772Z"
   },
   {
    "duration": 6,
    "start_time": "2024-06-19T17:37:48.780Z"
   },
   {
    "duration": 44,
    "start_time": "2024-06-19T17:37:48.789Z"
   },
   {
    "duration": 11,
    "start_time": "2024-06-19T17:37:48.837Z"
   },
   {
    "duration": 4,
    "start_time": "2024-06-19T17:37:48.852Z"
   },
   {
    "duration": 27,
    "start_time": "2024-06-19T17:37:48.859Z"
   },
   {
    "duration": 58,
    "start_time": "2024-06-19T17:37:48.889Z"
   },
   {
    "duration": 26,
    "start_time": "2024-06-19T17:37:48.949Z"
   },
   {
    "duration": 104,
    "start_time": "2024-06-19T17:37:48.978Z"
   },
   {
    "duration": 93,
    "start_time": "2024-06-19T17:37:49.087Z"
   },
   {
    "duration": 78,
    "start_time": "2024-06-19T17:37:49.183Z"
   },
   {
    "duration": 10,
    "start_time": "2024-06-19T17:37:49.264Z"
   },
   {
    "duration": 5,
    "start_time": "2024-06-19T17:37:49.278Z"
   },
   {
    "duration": 352,
    "start_time": "2024-06-19T17:37:53.826Z"
   },
   {
    "duration": 4,
    "start_time": "2024-06-19T17:38:07.500Z"
   },
   {
    "duration": 33,
    "start_time": "2024-06-19T17:38:10.210Z"
   },
   {
    "duration": 4,
    "start_time": "2024-06-19T17:38:17.487Z"
   },
   {
    "duration": 457,
    "start_time": "2024-06-19T17:38:19.619Z"
   },
   {
    "duration": 5,
    "start_time": "2024-06-19T17:39:21.928Z"
   },
   {
    "duration": 29,
    "start_time": "2024-06-19T17:39:23.738Z"
   },
   {
    "duration": 11,
    "start_time": "2024-06-19T17:39:45.423Z"
   },
   {
    "duration": 4,
    "start_time": "2024-06-19T17:40:44.735Z"
   },
   {
    "duration": 5,
    "start_time": "2024-06-19T17:41:11.281Z"
   },
   {
    "duration": 46,
    "start_time": "2024-06-19T17:41:13.745Z"
   },
   {
    "duration": 5,
    "start_time": "2024-06-19T17:41:37.304Z"
   },
   {
    "duration": 701,
    "start_time": "2024-06-19T17:41:39.286Z"
   },
   {
    "duration": 8,
    "start_time": "2024-06-19T17:42:26.717Z"
   },
   {
    "duration": 4,
    "start_time": "2024-06-19T17:42:37.225Z"
   },
   {
    "duration": 134,
    "start_time": "2024-06-19T17:42:39.168Z"
   },
   {
    "duration": 5,
    "start_time": "2024-06-19T17:46:36.815Z"
   },
   {
    "duration": 71,
    "start_time": "2024-06-19T17:46:41.581Z"
   },
   {
    "duration": 5,
    "start_time": "2024-06-19T17:47:06.930Z"
   },
   {
    "duration": 66,
    "start_time": "2024-06-19T17:47:08.683Z"
   },
   {
    "duration": 5,
    "start_time": "2024-06-19T17:47:14.138Z"
   },
   {
    "duration": 72,
    "start_time": "2024-06-19T17:47:16.473Z"
   },
   {
    "duration": 5,
    "start_time": "2024-06-19T17:49:22.845Z"
   },
   {
    "duration": 21,
    "start_time": "2024-06-19T17:49:24.843Z"
   },
   {
    "duration": 10,
    "start_time": "2024-06-19T17:51:12.832Z"
   },
   {
    "duration": 5,
    "start_time": "2024-06-19T17:52:22.448Z"
   },
   {
    "duration": 42,
    "start_time": "2024-06-19T17:52:26.202Z"
   },
   {
    "duration": 5,
    "start_time": "2024-06-19T17:52:57.243Z"
   },
   {
    "duration": 27,
    "start_time": "2024-06-19T17:52:59.499Z"
   },
   {
    "duration": 10,
    "start_time": "2024-06-19T17:53:02.646Z"
   },
   {
    "duration": 5,
    "start_time": "2024-06-19T18:42:32.317Z"
   },
   {
    "duration": 335,
    "start_time": "2024-06-19T19:22:56.346Z"
   },
   {
    "duration": 79,
    "start_time": "2024-06-19T19:23:03.578Z"
   },
   {
    "duration": 79,
    "start_time": "2024-06-19T19:23:28.183Z"
   },
   {
    "duration": 79,
    "start_time": "2024-06-19T19:23:38.071Z"
   },
   {
    "duration": 79,
    "start_time": "2024-06-19T19:24:32.423Z"
   },
   {
    "duration": 8,
    "start_time": "2024-06-19T19:24:39.014Z"
   },
   {
    "duration": 969,
    "start_time": "2024-06-19T19:24:51.633Z"
   },
   {
    "duration": 80,
    "start_time": "2024-06-19T19:25:18.335Z"
   },
   {
    "duration": 331,
    "start_time": "2024-06-19T19:26:26.062Z"
   },
   {
    "duration": 6,
    "start_time": "2024-06-19T19:26:33.845Z"
   },
   {
    "duration": 39,
    "start_time": "2024-06-19T19:26:44.551Z"
   },
   {
    "duration": 42,
    "start_time": "2024-06-19T19:26:49.895Z"
   },
   {
    "duration": 4159,
    "start_time": "2024-06-19T19:27:01.818Z"
   },
   {
    "duration": 38,
    "start_time": "2024-06-19T19:28:12.781Z"
   },
   {
    "duration": 50,
    "start_time": "2024-06-19T19:28:29.032Z"
   },
   {
    "duration": 82,
    "start_time": "2024-06-19T19:28:37.855Z"
   },
   {
    "duration": 41,
    "start_time": "2024-06-19T19:28:47.047Z"
   },
   {
    "duration": 15,
    "start_time": "2024-06-19T19:29:23.800Z"
   },
   {
    "duration": 43,
    "start_time": "2024-06-19T19:50:20.793Z"
   },
   {
    "duration": 16,
    "start_time": "2024-06-19T19:52:07.543Z"
   },
   {
    "duration": 23,
    "start_time": "2024-06-19T19:52:37.014Z"
   },
   {
    "duration": 13,
    "start_time": "2024-06-19T19:52:39.229Z"
   },
   {
    "duration": 255,
    "start_time": "2024-06-19T19:52:42.383Z"
   },
   {
    "duration": 16,
    "start_time": "2024-06-19T19:52:47.861Z"
   },
   {
    "duration": 17,
    "start_time": "2024-06-19T19:52:50.807Z"
   },
   {
    "duration": 95,
    "start_time": "2024-06-19T19:53:34.669Z"
   },
   {
    "duration": 16,
    "start_time": "2024-06-19T19:53:53.007Z"
   },
   {
    "duration": 22,
    "start_time": "2024-06-19T20:01:01.816Z"
   },
   {
    "duration": 44,
    "start_time": "2024-06-19T20:02:23.078Z"
   },
   {
    "duration": 42,
    "start_time": "2024-06-19T20:02:30.962Z"
   },
   {
    "duration": 24,
    "start_time": "2024-06-19T20:02:37.249Z"
   },
   {
    "duration": 20,
    "start_time": "2024-06-19T20:10:42.602Z"
   },
   {
    "duration": 918,
    "start_time": "2024-06-19T20:10:54.198Z"
   },
   {
    "duration": 20,
    "start_time": "2024-06-19T20:11:00.049Z"
   },
   {
    "duration": 38,
    "start_time": "2024-06-19T20:11:10.402Z"
   },
   {
    "duration": 21,
    "start_time": "2024-06-19T20:11:17.299Z"
   },
   {
    "duration": 137,
    "start_time": "2024-06-19T20:24:11.328Z"
   },
   {
    "duration": 20,
    "start_time": "2024-06-19T20:24:26.116Z"
   },
   {
    "duration": 23,
    "start_time": "2024-06-19T20:24:43.492Z"
   },
   {
    "duration": 81,
    "start_time": "2024-06-19T20:26:46.426Z"
   },
   {
    "duration": 19,
    "start_time": "2024-06-19T20:26:51.654Z"
   },
   {
    "duration": 15,
    "start_time": "2024-06-19T20:29:01.424Z"
   },
   {
    "duration": 18,
    "start_time": "2024-06-19T20:29:25.229Z"
   },
   {
    "duration": 6,
    "start_time": "2024-06-19T20:29:35.702Z"
   },
   {
    "duration": 17,
    "start_time": "2024-06-19T20:29:39.575Z"
   },
   {
    "duration": 8,
    "start_time": "2024-06-19T20:31:21.788Z"
   },
   {
    "duration": 17,
    "start_time": "2024-06-19T20:31:28.431Z"
   },
   {
    "duration": 19,
    "start_time": "2024-06-19T20:33:15.072Z"
   },
   {
    "duration": 40,
    "start_time": "2024-06-19T20:37:24.936Z"
   },
   {
    "duration": 8,
    "start_time": "2024-06-19T20:37:32.920Z"
   },
   {
    "duration": 43,
    "start_time": "2024-06-19T20:37:40.983Z"
   },
   {
    "duration": 54,
    "start_time": "2024-06-19T20:38:01.453Z"
   },
   {
    "duration": 34,
    "start_time": "2024-06-19T20:38:05.888Z"
   },
   {
    "duration": 46,
    "start_time": "2024-06-19T20:38:42.819Z"
   },
   {
    "duration": 22,
    "start_time": "2024-06-19T21:10:26.816Z"
   },
   {
    "duration": 57,
    "start_time": "2024-06-19T21:10:58.911Z"
   },
   {
    "duration": 23,
    "start_time": "2024-06-19T21:11:04.927Z"
   },
   {
    "duration": 22,
    "start_time": "2024-06-19T21:11:42.667Z"
   },
   {
    "duration": 22,
    "start_time": "2024-06-19T21:11:52.193Z"
   },
   {
    "duration": 22,
    "start_time": "2024-06-19T21:11:57.641Z"
   },
   {
    "duration": 21,
    "start_time": "2024-06-19T21:12:19.743Z"
   },
   {
    "duration": 5,
    "start_time": "2024-06-19T21:12:33.592Z"
   },
   {
    "duration": 19,
    "start_time": "2024-06-19T21:12:36.399Z"
   },
   {
    "duration": 149,
    "start_time": "2024-06-19T21:12:57.434Z"
   },
   {
    "duration": 19,
    "start_time": "2024-06-19T21:13:17.922Z"
   },
   {
    "duration": 19,
    "start_time": "2024-06-19T21:13:30.276Z"
   },
   {
    "duration": 20,
    "start_time": "2024-06-19T21:13:51.954Z"
   },
   {
    "duration": 21,
    "start_time": "2024-06-19T21:13:55.615Z"
   },
   {
    "duration": 19,
    "start_time": "2024-06-19T21:13:58.642Z"
   },
   {
    "duration": 13,
    "start_time": "2024-06-19T22:01:44.952Z"
   },
   {
    "duration": 427,
    "start_time": "2024-06-21T11:03:40.847Z"
   },
   {
    "duration": 223,
    "start_time": "2024-06-21T11:03:41.278Z"
   },
   {
    "duration": 22,
    "start_time": "2024-06-21T11:03:41.504Z"
   },
   {
    "duration": 34,
    "start_time": "2024-06-21T11:03:41.530Z"
   },
   {
    "duration": 4,
    "start_time": "2024-06-21T11:03:41.568Z"
   },
   {
    "duration": 5,
    "start_time": "2024-06-21T11:03:41.608Z"
   },
   {
    "duration": 6,
    "start_time": "2024-06-21T11:03:41.616Z"
   },
   {
    "duration": 10,
    "start_time": "2024-06-21T11:03:41.626Z"
   },
   {
    "duration": 5,
    "start_time": "2024-06-21T11:03:41.639Z"
   },
   {
    "duration": 69,
    "start_time": "2024-06-21T11:03:41.650Z"
   },
   {
    "duration": 20,
    "start_time": "2024-06-21T11:03:41.722Z"
   },
   {
    "duration": 26,
    "start_time": "2024-06-21T11:03:41.744Z"
   },
   {
    "duration": 104,
    "start_time": "2024-06-21T11:03:41.773Z"
   },
   {
    "duration": 103,
    "start_time": "2024-06-21T11:03:41.880Z"
   },
   {
    "duration": 85,
    "start_time": "2024-06-21T11:03:41.986Z"
   },
   {
    "duration": 12,
    "start_time": "2024-06-21T11:03:42.074Z"
   },
   {
    "duration": 5,
    "start_time": "2024-06-21T11:10:40.126Z"
   },
   {
    "duration": 352,
    "start_time": "2024-06-21T11:10:45.303Z"
   },
   {
    "duration": 4,
    "start_time": "2024-06-21T11:11:14.292Z"
   },
   {
    "duration": 33,
    "start_time": "2024-06-21T11:11:17.205Z"
   },
   {
    "duration": 7,
    "start_time": "2024-06-21T11:14:50.744Z"
   },
   {
    "duration": 5,
    "start_time": "2024-06-21T11:15:05.293Z"
   },
   {
    "duration": 851,
    "start_time": "2024-06-21T11:15:08.418Z"
   },
   {
    "duration": 7,
    "start_time": "2024-06-21T11:15:32.307Z"
   },
   {
    "duration": 33,
    "start_time": "2024-06-21T11:15:35.768Z"
   },
   {
    "duration": 5,
    "start_time": "2024-06-21T11:20:30.414Z"
   },
   {
    "duration": 34,
    "start_time": "2024-06-21T11:20:33.348Z"
   },
   {
    "duration": 13,
    "start_time": "2024-06-21T11:24:30.504Z"
   },
   {
    "duration": 7,
    "start_time": "2024-06-21T11:25:24.396Z"
   },
   {
    "duration": 48,
    "start_time": "2024-06-21T11:25:27.752Z"
   },
   {
    "duration": 6,
    "start_time": "2024-06-21T11:25:37.760Z"
   },
   {
    "duration": 51,
    "start_time": "2024-06-21T11:25:40.032Z"
   },
   {
    "duration": 29,
    "start_time": "2024-06-21T11:25:48.820Z"
   },
   {
    "duration": 10,
    "start_time": "2024-06-21T11:25:51.295Z"
   },
   {
    "duration": 7,
    "start_time": "2024-06-21T11:28:05.723Z"
   },
   {
    "duration": 9,
    "start_time": "2024-06-21T11:28:15.115Z"
   },
   {
    "duration": 5,
    "start_time": "2024-06-21T11:34:28.324Z"
   },
   {
    "duration": 11,
    "start_time": "2024-06-21T11:34:31.177Z"
   },
   {
    "duration": 11,
    "start_time": "2024-06-21T11:34:33.511Z"
   }
  ],
  "colab": {
   "collapsed_sections": [
    "E0vqbgi9ay0H",
    "VUC88oWjTJw2"
   ],
   "provenance": []
  },
  "kernelspec": {
   "display_name": "base",
   "language": "python",
   "name": "python3"
  },
  "language_info": {
   "codemirror_mode": {
    "name": "ipython",
    "version": 3
   },
   "file_extension": ".py",
   "mimetype": "text/x-python",
   "name": "python",
   "nbconvert_exporter": "python",
   "pygments_lexer": "ipython3",
   "version": "3.12.4"
  },
  "toc": {
   "base_numbering": 1,
   "nav_menu": {},
   "number_sections": true,
   "sideBar": true,
   "skip_h1_title": true,
   "title_cell": "Table of Contents",
   "title_sidebar": "Contents",
   "toc_cell": false,
   "toc_position": {},
   "toc_section_display": true,
   "toc_window_display": false
  }
 },
 "nbformat": 4,
 "nbformat_minor": 1
}
