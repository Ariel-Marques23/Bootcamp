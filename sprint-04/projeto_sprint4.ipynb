{
 "cells": [
  {
   "cell_type": "markdown",
   "metadata": {
    "id": "eAkbw7Ueuj8X"
   },
   "source": [
    "# Qual é o melhor plano?\n",
    "\n",
    "Você trabalha como analista para a empresa de telecomunicações Megaline. A empresa oferece aos clientes dois planos pré-pagos: Surf e Ultimate. O departamento comercial quer saber qual dos planos gera mais receita para ajustar o orçamento de publicidade.\n",
    "\n",
    "Você vai realizar uma análise preliminar dos planos com base em uma pequena seleção de clientes. Você terá dados de 500 clientes da Megaline: que clientes são, de onde eles são, qual plano usam e o número de chamadas e mensagens realizadas em 2018. Seu trabalho é analisar o comportamento dos clientes e determinar qual plano pré-pago gera mais receita."
   ]
  },
  {
   "cell_type": "markdown",
   "metadata": {
    "id": "Z_iOKMX_uj8a"
   },
   "source": [
    "[Fornecemos alguns comentários para guiar sua linha de raciocínio enquanto você trabalha neste projeto. Entretanto, certifique-se de remover todos os comentários entre colchetes antes de enviar o projeto.]\n",
    "\n",
    "[Antes de começar a análise dos dados, explique com suas próprias palavras o propósito do projeto e as ações que planeja realizar.]\n",
    "\n",
    "[Tenha em mente que estudar, modificar e analisar dados é um processo iterativo. É normal retornar a etapas anteriores e corrigir/expandir algo para permitir as próximas etapas.]"
   ]
  },
  {
   "cell_type": "markdown",
   "metadata": {
    "id": "lnomf-3Xuj8b"
   },
   "source": [
    "## Inicialização"
   ]
  },
  {
   "cell_type": "code",
   "execution_count": 1,
   "metadata": {
    "id": "JdJusn5ouj8c"
   },
   "outputs": [],
   "source": [
    "# Carregando todas as bibliotecas\n",
    "from scipy import stats as st\n",
    "import numpy as np\n",
    "import pandas as pd"
   ]
  },
  {
   "cell_type": "markdown",
   "metadata": {
    "id": "rzqsCrgquj8d"
   },
   "source": [
    "## Carregue os dados"
   ]
  },
  {
   "cell_type": "code",
   "execution_count": 2,
   "metadata": {
    "id": "HmzmQRXIuj8e"
   },
   "outputs": [],
   "source": [
    "# Carregue os arquivos de dados em diferentes DataFrames\n",
    "\n",
    "calls = pd.read_csv(\"datasets/megaline_calls.csv\")\n",
    "\n",
    "internet = pd.read_csv(\"datasets/megaline_internet.csv\")\n",
    "\n",
    "messages=  pd.read_csv(\"datasets/megaline_messages.csv\")\n",
    "\n",
    "plans= pd.read_csv(\"datasets/megaline_plans.csv\")\n",
    "\n",
    "users= pd.read_csv(\"datasets/megaline_users.csv\")"
   ]
  },
  {
   "cell_type": "markdown",
   "metadata": {
    "id": "XQh-EeiIuj8e"
   },
   "source": [
    "## Prepare os dados"
   ]
  },
  {
   "cell_type": "markdown",
   "metadata": {
    "id": "RmibJmmzuj8e"
   },
   "source": [
    "[Os dados deste projeto estão divididos em várias tabelas. Explore cada uma para obter uma compreensão inicial dos dados. Faça correções em cada tabela, se necessário.]"
   ]
  },
  {
   "cell_type": "markdown",
   "metadata": {
    "id": "TlZUw_Cyuj8f"
   },
   "source": [
    "## Planos"
   ]
  },
  {
   "cell_type": "code",
   "execution_count": 3,
   "metadata": {
    "id": "x9qB5mAOuj8f"
   },
   "outputs": [
    {
     "name": "stdout",
     "output_type": "stream",
     "text": [
      "<class 'pandas.core.frame.DataFrame'>\n",
      "RangeIndex: 2 entries, 0 to 1\n",
      "Data columns (total 8 columns):\n",
      " #   Column                 Non-Null Count  Dtype  \n",
      "---  ------                 --------------  -----  \n",
      " 0   messages_included      2 non-null      int64  \n",
      " 1   mb_per_month_included  2 non-null      int64  \n",
      " 2   minutes_included       2 non-null      int64  \n",
      " 3   usd_monthly_pay        2 non-null      int64  \n",
      " 4   usd_per_gb             2 non-null      int64  \n",
      " 5   usd_per_message        2 non-null      float64\n",
      " 6   usd_per_minute         2 non-null      float64\n",
      " 7   plan_name              2 non-null      object \n",
      "dtypes: float64(2), int64(5), object(1)\n",
      "memory usage: 260.0+ bytes\n",
      "duplicados: 0\n"
     ]
    }
   ],
   "source": [
    "# Imprima informações gerais/resumo sobre o DataFrame dos planos\n",
    "plans.info()\n",
    "print('duplicados:',plans.duplicated().sum())"
   ]
  },
  {
   "cell_type": "code",
   "execution_count": 4,
   "metadata": {
    "id": "9MRo7tyVuj8f"
   },
   "outputs": [
    {
     "data": {
      "text/html": [
       "<div>\n",
       "<style scoped>\n",
       "    .dataframe tbody tr th:only-of-type {\n",
       "        vertical-align: middle;\n",
       "    }\n",
       "\n",
       "    .dataframe tbody tr th {\n",
       "        vertical-align: top;\n",
       "    }\n",
       "\n",
       "    .dataframe thead th {\n",
       "        text-align: right;\n",
       "    }\n",
       "</style>\n",
       "<table border=\"1\" class=\"dataframe\">\n",
       "  <thead>\n",
       "    <tr style=\"text-align: right;\">\n",
       "      <th></th>\n",
       "      <th>messages_included</th>\n",
       "      <th>mb_per_month_included</th>\n",
       "      <th>minutes_included</th>\n",
       "      <th>usd_monthly_pay</th>\n",
       "      <th>usd_per_gb</th>\n",
       "      <th>usd_per_message</th>\n",
       "      <th>usd_per_minute</th>\n",
       "      <th>plan_name</th>\n",
       "    </tr>\n",
       "  </thead>\n",
       "  <tbody>\n",
       "    <tr>\n",
       "      <th>1</th>\n",
       "      <td>1000</td>\n",
       "      <td>30720</td>\n",
       "      <td>3000</td>\n",
       "      <td>70</td>\n",
       "      <td>7</td>\n",
       "      <td>0.01</td>\n",
       "      <td>0.01</td>\n",
       "      <td>ultimate</td>\n",
       "    </tr>\n",
       "    <tr>\n",
       "      <th>0</th>\n",
       "      <td>50</td>\n",
       "      <td>15360</td>\n",
       "      <td>500</td>\n",
       "      <td>20</td>\n",
       "      <td>10</td>\n",
       "      <td>0.03</td>\n",
       "      <td>0.03</td>\n",
       "      <td>surf</td>\n",
       "    </tr>\n",
       "  </tbody>\n",
       "</table>\n",
       "</div>"
      ],
      "text/plain": [
       "   messages_included  mb_per_month_included  minutes_included  \\\n",
       "1               1000                  30720              3000   \n",
       "0                 50                  15360               500   \n",
       "\n",
       "   usd_monthly_pay  usd_per_gb  usd_per_message  usd_per_minute plan_name  \n",
       "1               70           7             0.01            0.01  ultimate  \n",
       "0               20          10             0.03            0.03      surf  "
      ]
     },
     "execution_count": 4,
     "metadata": {},
     "output_type": "execute_result"
    }
   ],
   "source": [
    "# Imprima uma amostra de dados dos planos\n",
    "plans.sample(2)\n",
    "\n",
    "# Imprima informações gerais/resumo sobre o DataFrame dos planos\n"
   ]
  },
  {
   "cell_type": "markdown",
   "metadata": {
    "id": "P8hzr-lquj8f"
   },
   "source": [
    "[Descreva o que você nota sobre as informações gerais e sobre a amostra de dados impressa acima. Existem problemas (tipos de dados inadequados, dados ausentes, etc.) que precisam de mais investigação e alterações? Como isso pode ser corrigido?]"
   ]
  },
  {
   "cell_type": "markdown",
   "metadata": {},
   "source": [
    "usd_monthly_pay e usd_per_gb estão como int porem ambos se referem a dinheiro, ou seja um tipo mais adequado seria float"
   ]
  },
  {
   "cell_type": "markdown",
   "metadata": {
    "id": "KXtaxmKsuj8f"
   },
   "source": [
    "## Corrija os dados"
   ]
  },
  {
   "cell_type": "markdown",
   "metadata": {
    "id": "9BWuM80Buj8f"
   },
   "source": [
    "[Corrija problemas óbvios com os dados conforme as observações iniciais.]"
   ]
  },
  {
   "cell_type": "code",
   "execution_count": 5,
   "metadata": {
    "id": "Hen8bhG1uj8g"
   },
   "outputs": [],
   "source": [
    "plans['usd_monthly_pay']=plans['usd_monthly_pay'].astype(float)\n",
    "plans['usd_per_gb']=plans['usd_per_gb'].astype(float)"
   ]
  },
  {
   "cell_type": "markdown",
   "metadata": {
    "id": "kLcdKu6Duj8g"
   },
   "source": [
    "## Enriqueça os dados"
   ]
  },
  {
   "cell_type": "markdown",
   "metadata": {
    "id": "x1L6F_gmuj8g"
   },
   "source": [
    "[Inclua fatores adicionais aos dados se você acredita que eles podem ser úteis.]"
   ]
  },
  {
   "cell_type": "code",
   "execution_count": 6,
   "metadata": {
    "id": "6j4XA9_ruj8g"
   },
   "outputs": [
    {
     "data": {
      "text/html": [
       "<div>\n",
       "<style scoped>\n",
       "    .dataframe tbody tr th:only-of-type {\n",
       "        vertical-align: middle;\n",
       "    }\n",
       "\n",
       "    .dataframe tbody tr th {\n",
       "        vertical-align: top;\n",
       "    }\n",
       "\n",
       "    .dataframe thead th {\n",
       "        text-align: right;\n",
       "    }\n",
       "</style>\n",
       "<table border=\"1\" class=\"dataframe\">\n",
       "  <thead>\n",
       "    <tr style=\"text-align: right;\">\n",
       "      <th></th>\n",
       "      <th>messages_included</th>\n",
       "      <th>mb_per_month_included</th>\n",
       "      <th>minutes_included</th>\n",
       "      <th>usd_monthly_pay</th>\n",
       "      <th>usd_per_gb</th>\n",
       "      <th>usd_per_message</th>\n",
       "      <th>usd_per_minute</th>\n",
       "      <th>plan_name</th>\n",
       "      <th>gb_per_month_included</th>\n",
       "    </tr>\n",
       "  </thead>\n",
       "  <tbody>\n",
       "    <tr>\n",
       "      <th>0</th>\n",
       "      <td>50</td>\n",
       "      <td>15360</td>\n",
       "      <td>500</td>\n",
       "      <td>20.0</td>\n",
       "      <td>10.0</td>\n",
       "      <td>0.03</td>\n",
       "      <td>0.03</td>\n",
       "      <td>surf</td>\n",
       "      <td>15.0</td>\n",
       "    </tr>\n",
       "    <tr>\n",
       "      <th>1</th>\n",
       "      <td>1000</td>\n",
       "      <td>30720</td>\n",
       "      <td>3000</td>\n",
       "      <td>70.0</td>\n",
       "      <td>7.0</td>\n",
       "      <td>0.01</td>\n",
       "      <td>0.01</td>\n",
       "      <td>ultimate</td>\n",
       "      <td>30.0</td>\n",
       "    </tr>\n",
       "  </tbody>\n",
       "</table>\n",
       "</div>"
      ],
      "text/plain": [
       "   messages_included  mb_per_month_included  minutes_included  \\\n",
       "0                 50                  15360               500   \n",
       "1               1000                  30720              3000   \n",
       "\n",
       "   usd_monthly_pay  usd_per_gb  usd_per_message  usd_per_minute plan_name  \\\n",
       "0             20.0        10.0             0.03            0.03      surf   \n",
       "1             70.0         7.0             0.01            0.01  ultimate   \n",
       "\n",
       "   gb_per_month_included  \n",
       "0                   15.0  \n",
       "1                   30.0  "
      ]
     },
     "execution_count": 6,
     "metadata": {},
     "output_type": "execute_result"
    }
   ],
   "source": [
    "plans['gb_per_month_included']=plans['mb_per_month_included']/1024.0\n",
    "plans.head()"
   ]
  },
  {
   "cell_type": "markdown",
   "metadata": {
    "id": "YJg2O9qjuj8g"
   },
   "source": [
    "## Usuários"
   ]
  },
  {
   "cell_type": "code",
   "execution_count": 7,
   "metadata": {
    "id": "7JzxwD2juj8g"
   },
   "outputs": [
    {
     "name": "stdout",
     "output_type": "stream",
     "text": [
      "<class 'pandas.core.frame.DataFrame'>\n",
      "RangeIndex: 500 entries, 0 to 499\n",
      "Data columns (total 8 columns):\n",
      " #   Column      Non-Null Count  Dtype \n",
      "---  ------      --------------  ----- \n",
      " 0   user_id     500 non-null    int64 \n",
      " 1   first_name  500 non-null    object\n",
      " 2   last_name   500 non-null    object\n",
      " 3   age         500 non-null    int64 \n",
      " 4   city        500 non-null    object\n",
      " 5   reg_date    500 non-null    object\n",
      " 6   plan        500 non-null    object\n",
      " 7   churn_date  34 non-null     object\n",
      "dtypes: int64(2), object(6)\n",
      "memory usage: 31.4+ KB\n",
      "duplicados: 0\n"
     ]
    }
   ],
   "source": [
    "# Imprima informações gerais/resumo sobre o DataFrame dos usuários\n",
    "\n",
    "users.info()\n",
    "print('duplicados:',users.duplicated().sum())"
   ]
  },
  {
   "cell_type": "code",
   "execution_count": 8,
   "metadata": {
    "id": "5KZ8XmD8uj8g"
   },
   "outputs": [
    {
     "data": {
      "text/html": [
       "<div>\n",
       "<style scoped>\n",
       "    .dataframe tbody tr th:only-of-type {\n",
       "        vertical-align: middle;\n",
       "    }\n",
       "\n",
       "    .dataframe tbody tr th {\n",
       "        vertical-align: top;\n",
       "    }\n",
       "\n",
       "    .dataframe thead th {\n",
       "        text-align: right;\n",
       "    }\n",
       "</style>\n",
       "<table border=\"1\" class=\"dataframe\">\n",
       "  <thead>\n",
       "    <tr style=\"text-align: right;\">\n",
       "      <th></th>\n",
       "      <th>user_id</th>\n",
       "      <th>first_name</th>\n",
       "      <th>last_name</th>\n",
       "      <th>age</th>\n",
       "      <th>city</th>\n",
       "      <th>reg_date</th>\n",
       "      <th>plan</th>\n",
       "      <th>churn_date</th>\n",
       "    </tr>\n",
       "  </thead>\n",
       "  <tbody>\n",
       "    <tr>\n",
       "      <th>78</th>\n",
       "      <td>1078</td>\n",
       "      <td>Earnest</td>\n",
       "      <td>Gray</td>\n",
       "      <td>47</td>\n",
       "      <td>Seattle-Tacoma-Bellevue, WA MSA</td>\n",
       "      <td>2018-02-11</td>\n",
       "      <td>surf</td>\n",
       "      <td>NaN</td>\n",
       "    </tr>\n",
       "    <tr>\n",
       "      <th>431</th>\n",
       "      <td>1431</td>\n",
       "      <td>Napoleon</td>\n",
       "      <td>Burt</td>\n",
       "      <td>74</td>\n",
       "      <td>Sacramento–Roseville–Folsom, CA MSA</td>\n",
       "      <td>2018-01-28</td>\n",
       "      <td>surf</td>\n",
       "      <td>NaN</td>\n",
       "    </tr>\n",
       "    <tr>\n",
       "      <th>343</th>\n",
       "      <td>1343</td>\n",
       "      <td>Teresia</td>\n",
       "      <td>Ewing</td>\n",
       "      <td>43</td>\n",
       "      <td>Miami-Fort Lauderdale-West Palm Beach, FL MSA</td>\n",
       "      <td>2018-08-23</td>\n",
       "      <td>surf</td>\n",
       "      <td>NaN</td>\n",
       "    </tr>\n",
       "    <tr>\n",
       "      <th>269</th>\n",
       "      <td>1269</td>\n",
       "      <td>Irving</td>\n",
       "      <td>Thompson</td>\n",
       "      <td>39</td>\n",
       "      <td>Dallas-Fort Worth-Arlington, TX MSA</td>\n",
       "      <td>2018-09-13</td>\n",
       "      <td>ultimate</td>\n",
       "      <td>2018-12-15</td>\n",
       "    </tr>\n",
       "    <tr>\n",
       "      <th>14</th>\n",
       "      <td>1014</td>\n",
       "      <td>Edmundo</td>\n",
       "      <td>Simon</td>\n",
       "      <td>61</td>\n",
       "      <td>New York-Newark-Jersey City, NY-NJ-PA MSA</td>\n",
       "      <td>2018-11-25</td>\n",
       "      <td>surf</td>\n",
       "      <td>NaN</td>\n",
       "    </tr>\n",
       "    <tr>\n",
       "      <th>111</th>\n",
       "      <td>1111</td>\n",
       "      <td>Booker</td>\n",
       "      <td>Hahn</td>\n",
       "      <td>75</td>\n",
       "      <td>Urban Honolulu, HI MSA</td>\n",
       "      <td>2018-09-17</td>\n",
       "      <td>surf</td>\n",
       "      <td>NaN</td>\n",
       "    </tr>\n",
       "    <tr>\n",
       "      <th>219</th>\n",
       "      <td>1219</td>\n",
       "      <td>Gavin</td>\n",
       "      <td>Keller</td>\n",
       "      <td>51</td>\n",
       "      <td>Detroit-Warren-Dearborn, MI MSA</td>\n",
       "      <td>2018-05-14</td>\n",
       "      <td>surf</td>\n",
       "      <td>NaN</td>\n",
       "    </tr>\n",
       "    <tr>\n",
       "      <th>135</th>\n",
       "      <td>1135</td>\n",
       "      <td>Scotty</td>\n",
       "      <td>White</td>\n",
       "      <td>51</td>\n",
       "      <td>Miami-Fort Lauderdale-West Palm Beach, FL MSA</td>\n",
       "      <td>2018-12-23</td>\n",
       "      <td>ultimate</td>\n",
       "      <td>NaN</td>\n",
       "    </tr>\n",
       "    <tr>\n",
       "      <th>98</th>\n",
       "      <td>1098</td>\n",
       "      <td>Collin</td>\n",
       "      <td>Sims</td>\n",
       "      <td>33</td>\n",
       "      <td>Albany-Schenectady-Troy, NY MSA</td>\n",
       "      <td>2018-08-14</td>\n",
       "      <td>surf</td>\n",
       "      <td>NaN</td>\n",
       "    </tr>\n",
       "    <tr>\n",
       "      <th>176</th>\n",
       "      <td>1176</td>\n",
       "      <td>Terrance</td>\n",
       "      <td>Shaffer</td>\n",
       "      <td>75</td>\n",
       "      <td>New York-Newark-Jersey City, NY-NJ-PA MSA</td>\n",
       "      <td>2018-10-03</td>\n",
       "      <td>surf</td>\n",
       "      <td>NaN</td>\n",
       "    </tr>\n",
       "  </tbody>\n",
       "</table>\n",
       "</div>"
      ],
      "text/plain": [
       "     user_id first_name last_name  age  \\\n",
       "78      1078    Earnest      Gray   47   \n",
       "431     1431   Napoleon      Burt   74   \n",
       "343     1343    Teresia     Ewing   43   \n",
       "269     1269     Irving  Thompson   39   \n",
       "14      1014    Edmundo     Simon   61   \n",
       "111     1111     Booker      Hahn   75   \n",
       "219     1219      Gavin    Keller   51   \n",
       "135     1135     Scotty     White   51   \n",
       "98      1098     Collin      Sims   33   \n",
       "176     1176   Terrance   Shaffer   75   \n",
       "\n",
       "                                              city    reg_date      plan  \\\n",
       "78                 Seattle-Tacoma-Bellevue, WA MSA  2018-02-11      surf   \n",
       "431            Sacramento–Roseville–Folsom, CA MSA  2018-01-28      surf   \n",
       "343  Miami-Fort Lauderdale-West Palm Beach, FL MSA  2018-08-23      surf   \n",
       "269            Dallas-Fort Worth-Arlington, TX MSA  2018-09-13  ultimate   \n",
       "14       New York-Newark-Jersey City, NY-NJ-PA MSA  2018-11-25      surf   \n",
       "111                         Urban Honolulu, HI MSA  2018-09-17      surf   \n",
       "219                Detroit-Warren-Dearborn, MI MSA  2018-05-14      surf   \n",
       "135  Miami-Fort Lauderdale-West Palm Beach, FL MSA  2018-12-23  ultimate   \n",
       "98                 Albany-Schenectady-Troy, NY MSA  2018-08-14      surf   \n",
       "176      New York-Newark-Jersey City, NY-NJ-PA MSA  2018-10-03      surf   \n",
       "\n",
       "     churn_date  \n",
       "78          NaN  \n",
       "431         NaN  \n",
       "343         NaN  \n",
       "269  2018-12-15  \n",
       "14          NaN  \n",
       "111         NaN  \n",
       "219         NaN  \n",
       "135         NaN  \n",
       "98          NaN  \n",
       "176         NaN  "
      ]
     },
     "execution_count": 8,
     "metadata": {},
     "output_type": "execute_result"
    }
   ],
   "source": [
    "# Imprima uma amostra de dados dos usuários\n",
    "\n",
    "users.sample(10)"
   ]
  },
  {
   "cell_type": "markdown",
   "metadata": {
    "id": "XGCgkfLvuj8h"
   },
   "source": [
    "[Descreva o que você nota sobre as informações gerais e sobre a amostra de dados impressa acima. Existem problemas (tipos de dados inadequados, dados ausentes, etc.) que precisam de mais investigação e alterações? Como isso pode ser corrigido?]"
   ]
  },
  {
   "cell_type": "markdown",
   "metadata": {},
   "source": [
    "reg_date e churn_date estão com os tipos object e deveriam estar como data"
   ]
  },
  {
   "cell_type": "markdown",
   "metadata": {
    "id": "ppiEfe3luj8i"
   },
   "source": [
    "### Corrija os dados"
   ]
  },
  {
   "cell_type": "markdown",
   "metadata": {
    "id": "os4Gubp_uj8j"
   },
   "source": [
    "[Corrija problemas óbvios com os dados conforme as observações iniciais.]"
   ]
  },
  {
   "cell_type": "code",
   "execution_count": 9,
   "metadata": {
    "id": "Oa1XFooouj8j"
   },
   "outputs": [
    {
     "name": "stdout",
     "output_type": "stream",
     "text": [
      "<class 'pandas.core.frame.DataFrame'>\n",
      "RangeIndex: 500 entries, 0 to 499\n",
      "Data columns (total 8 columns):\n",
      " #   Column      Non-Null Count  Dtype         \n",
      "---  ------      --------------  -----         \n",
      " 0   user_id     500 non-null    int64         \n",
      " 1   first_name  500 non-null    object        \n",
      " 2   last_name   500 non-null    object        \n",
      " 3   age         500 non-null    int64         \n",
      " 4   city        500 non-null    object        \n",
      " 5   reg_date    500 non-null    datetime64[ns]\n",
      " 6   plan        500 non-null    object        \n",
      " 7   churn_date  34 non-null     datetime64[ns]\n",
      "dtypes: datetime64[ns](2), int64(2), object(4)\n",
      "memory usage: 31.4+ KB\n"
     ]
    }
   ],
   "source": [
    "users['reg_date'] = pd.to_datetime(users['reg_date'])\n",
    "users['churn_date']=pd.to_datetime(users['churn_date'])\n",
    "users.info()"
   ]
  },
  {
   "cell_type": "markdown",
   "metadata": {
    "id": "H3gpde3Juj8j"
   },
   "source": [
    "### Enriqueça os dados"
   ]
  },
  {
   "cell_type": "markdown",
   "metadata": {
    "id": "HOZyfII6uj8j"
   },
   "source": [
    "[Inclua fatores adicionais aos dados se você acredita que eles podem ser úteis.]"
   ]
  },
  {
   "cell_type": "code",
   "execution_count": 10,
   "metadata": {
    "id": "4vuUjT2juj8j"
   },
   "outputs": [
    {
     "data": {
      "text/plain": [
       "0    2018-12\n",
       "1    2018-08\n",
       "2    2018-10\n",
       "3    2018-01\n",
       "4    2018-05\n",
       "Name: year_month, dtype: period[M]"
      ]
     },
     "execution_count": 10,
     "metadata": {},
     "output_type": "execute_result"
    }
   ],
   "source": [
    "users['year_month']=users['reg_date'].dt.to_period('M')\n",
    "users['year_month'].head()"
   ]
  },
  {
   "cell_type": "markdown",
   "metadata": {
    "id": "f4uSIMuuuj8j"
   },
   "source": [
    "## Chamadas"
   ]
  },
  {
   "cell_type": "code",
   "execution_count": 11,
   "metadata": {
    "id": "hkY01fJnuj8j"
   },
   "outputs": [
    {
     "name": "stdout",
     "output_type": "stream",
     "text": [
      "<class 'pandas.core.frame.DataFrame'>\n",
      "RangeIndex: 137735 entries, 0 to 137734\n",
      "Data columns (total 4 columns):\n",
      " #   Column     Non-Null Count   Dtype  \n",
      "---  ------     --------------   -----  \n",
      " 0   id         137735 non-null  object \n",
      " 1   user_id    137735 non-null  int64  \n",
      " 2   call_date  137735 non-null  object \n",
      " 3   duration   137735 non-null  float64\n",
      "dtypes: float64(1), int64(1), object(2)\n",
      "memory usage: 4.2+ MB\n",
      "duplicados: 0\n"
     ]
    }
   ],
   "source": [
    "# Imprima informações gerais/resumo sobre o DataFrame das chamadas\n",
    "\n",
    "calls.info()\n",
    "print('duplicados:',calls.duplicated().sum())"
   ]
  },
  {
   "cell_type": "code",
   "execution_count": 12,
   "metadata": {
    "id": "wdBwJG5Yuj8k"
   },
   "outputs": [
    {
     "data": {
      "text/html": [
       "<div>\n",
       "<style scoped>\n",
       "    .dataframe tbody tr th:only-of-type {\n",
       "        vertical-align: middle;\n",
       "    }\n",
       "\n",
       "    .dataframe tbody tr th {\n",
       "        vertical-align: top;\n",
       "    }\n",
       "\n",
       "    .dataframe thead th {\n",
       "        text-align: right;\n",
       "    }\n",
       "</style>\n",
       "<table border=\"1\" class=\"dataframe\">\n",
       "  <thead>\n",
       "    <tr style=\"text-align: right;\">\n",
       "      <th></th>\n",
       "      <th>id</th>\n",
       "      <th>user_id</th>\n",
       "      <th>call_date</th>\n",
       "      <th>duration</th>\n",
       "    </tr>\n",
       "  </thead>\n",
       "  <tbody>\n",
       "    <tr>\n",
       "      <th>12818</th>\n",
       "      <td>1055_225</td>\n",
       "      <td>1055</td>\n",
       "      <td>2018-09-26</td>\n",
       "      <td>7.93</td>\n",
       "    </tr>\n",
       "    <tr>\n",
       "      <th>42122</th>\n",
       "      <td>1155_70</td>\n",
       "      <td>1155</td>\n",
       "      <td>2018-08-18</td>\n",
       "      <td>6.77</td>\n",
       "    </tr>\n",
       "    <tr>\n",
       "      <th>133323</th>\n",
       "      <td>1483_115</td>\n",
       "      <td>1483</td>\n",
       "      <td>2018-07-02</td>\n",
       "      <td>0.00</td>\n",
       "    </tr>\n",
       "    <tr>\n",
       "      <th>57911</th>\n",
       "      <td>1209_385</td>\n",
       "      <td>1209</td>\n",
       "      <td>2018-12-26</td>\n",
       "      <td>0.00</td>\n",
       "    </tr>\n",
       "    <tr>\n",
       "      <th>28040</th>\n",
       "      <td>1106_400</td>\n",
       "      <td>1106</td>\n",
       "      <td>2018-05-19</td>\n",
       "      <td>11.07</td>\n",
       "    </tr>\n",
       "    <tr>\n",
       "      <th>45829</th>\n",
       "      <td>1166_12</td>\n",
       "      <td>1166</td>\n",
       "      <td>2018-09-27</td>\n",
       "      <td>21.61</td>\n",
       "    </tr>\n",
       "    <tr>\n",
       "      <th>20726</th>\n",
       "      <td>1077_693</td>\n",
       "      <td>1077</td>\n",
       "      <td>2018-07-26</td>\n",
       "      <td>0.00</td>\n",
       "    </tr>\n",
       "    <tr>\n",
       "      <th>12838</th>\n",
       "      <td>1055_245</td>\n",
       "      <td>1055</td>\n",
       "      <td>2018-07-03</td>\n",
       "      <td>5.07</td>\n",
       "    </tr>\n",
       "    <tr>\n",
       "      <th>26862</th>\n",
       "      <td>1101_189</td>\n",
       "      <td>1101</td>\n",
       "      <td>2018-10-15</td>\n",
       "      <td>0.00</td>\n",
       "    </tr>\n",
       "    <tr>\n",
       "      <th>70491</th>\n",
       "      <td>1251_502</td>\n",
       "      <td>1251</td>\n",
       "      <td>2018-03-25</td>\n",
       "      <td>0.06</td>\n",
       "    </tr>\n",
       "  </tbody>\n",
       "</table>\n",
       "</div>"
      ],
      "text/plain": [
       "              id  user_id   call_date  duration\n",
       "12818   1055_225     1055  2018-09-26      7.93\n",
       "42122    1155_70     1155  2018-08-18      6.77\n",
       "133323  1483_115     1483  2018-07-02      0.00\n",
       "57911   1209_385     1209  2018-12-26      0.00\n",
       "28040   1106_400     1106  2018-05-19     11.07\n",
       "45829    1166_12     1166  2018-09-27     21.61\n",
       "20726   1077_693     1077  2018-07-26      0.00\n",
       "12838   1055_245     1055  2018-07-03      5.07\n",
       "26862   1101_189     1101  2018-10-15      0.00\n",
       "70491   1251_502     1251  2018-03-25      0.06"
      ]
     },
     "execution_count": 12,
     "metadata": {},
     "output_type": "execute_result"
    }
   ],
   "source": [
    "# Imprima uma amostra de dados das chamadas\n",
    "\n",
    "calls.sample(10)"
   ]
  },
  {
   "cell_type": "markdown",
   "metadata": {
    "id": "Y8An85-Tuj8k"
   },
   "source": [
    "[Descreva o que você nota sobre as informações gerais e sobre a amostra de dados impressa acima. Existem problemas (tipos de dados inadequados, dados ausentes, etc.) que precisam de mais investigação e alterações? Como isso pode ser corrigido?]"
   ]
  },
  {
   "cell_type": "markdown",
   "metadata": {},
   "source": [
    "call_date esta como objeto porem é uma data"
   ]
  },
  {
   "cell_type": "markdown",
   "metadata": {
    "id": "x5a99U4xuj8k"
   },
   "source": [
    "### Corrija os dados"
   ]
  },
  {
   "cell_type": "markdown",
   "metadata": {
    "id": "MQqkU83Xuj8k"
   },
   "source": [
    "[Corrija problemas óbvios com os dados conforme as observações iniciais.]"
   ]
  },
  {
   "cell_type": "code",
   "execution_count": 13,
   "metadata": {
    "id": "lBjdw0Bnuj8l"
   },
   "outputs": [
    {
     "data": {
      "text/plain": [
       "0   2018-12-27\n",
       "1   2018-12-27\n",
       "2   2018-12-27\n",
       "3   2018-12-28\n",
       "4   2018-12-30\n",
       "Name: call_date, dtype: datetime64[ns]"
      ]
     },
     "execution_count": 13,
     "metadata": {},
     "output_type": "execute_result"
    }
   ],
   "source": [
    "calls['call_date'] = pd.to_datetime(calls['call_date'])\n",
    "calls['call_date'].head()"
   ]
  },
  {
   "cell_type": "markdown",
   "metadata": {
    "id": "MFm5xyh4uj8l"
   },
   "source": [
    "### Enriqueça os dados"
   ]
  },
  {
   "cell_type": "markdown",
   "metadata": {
    "id": "Udv2togruj8l"
   },
   "source": [
    "[Inclua fatores adicionais aos dados se você acredita que eles podem ser úteis.]"
   ]
  },
  {
   "cell_type": "code",
   "execution_count": 14,
   "metadata": {
    "id": "nwOKTgfluj8l"
   },
   "outputs": [
    {
     "data": {
      "text/plain": [
       "0    2018-12\n",
       "1    2018-12\n",
       "2    2018-12\n",
       "3    2018-12\n",
       "4    2018-12\n",
       "Name: year_month, dtype: period[M]"
      ]
     },
     "execution_count": 14,
     "metadata": {},
     "output_type": "execute_result"
    }
   ],
   "source": [
    "calls['year_month']= calls['call_date'].dt.to_period('M')\n",
    "calls['year_month'].head()"
   ]
  },
  {
   "cell_type": "markdown",
   "metadata": {
    "id": "qLz4FkyRuj8l"
   },
   "source": [
    "## Mensagens"
   ]
  },
  {
   "cell_type": "markdown",
   "metadata": {
    "id": "nFA9DFkCuj8l"
   },
   "source": [
    "# Imprima informações gerais/resumo sobre o DataFrame das mensagens\n",
    "\n"
   ]
  },
  {
   "cell_type": "code",
   "execution_count": 15,
   "metadata": {
    "id": "ysEFBZWxuj8m"
   },
   "outputs": [
    {
     "name": "stdout",
     "output_type": "stream",
     "text": [
      "<class 'pandas.core.frame.DataFrame'>\n",
      "RangeIndex: 76051 entries, 0 to 76050\n",
      "Data columns (total 3 columns):\n",
      " #   Column        Non-Null Count  Dtype \n",
      "---  ------        --------------  ----- \n",
      " 0   id            76051 non-null  object\n",
      " 1   user_id       76051 non-null  int64 \n",
      " 2   message_date  76051 non-null  object\n",
      "dtypes: int64(1), object(2)\n",
      "memory usage: 1.7+ MB\n",
      "duplicados: 0\n"
     ]
    }
   ],
   "source": [
    "# Imprima uma amostra dos dados das mensagens\n",
    "messages.info()\n",
    "print('duplicados:',messages.duplicated().sum())"
   ]
  },
  {
   "cell_type": "markdown",
   "metadata": {
    "id": "GUtt1TqCuj8m"
   },
   "source": [
    "[Descreva o que você nota sobre as informações gerais e sobre a amostra de dados impressa acima. Existem problemas (tipos de dados inadequados, dados ausentes, etc.) que precisam de mais investigação e alterações? Como isso pode ser corrigido?]"
   ]
  },
  {
   "cell_type": "markdown",
   "metadata": {},
   "source": [
    "O tipo da data esta errado"
   ]
  },
  {
   "cell_type": "markdown",
   "metadata": {
    "id": "tT8N_hc6uj8m"
   },
   "source": [
    "### Corrija os dados"
   ]
  },
  {
   "cell_type": "markdown",
   "metadata": {
    "id": "IgO0SzXKuj8m"
   },
   "source": [
    "[Corrija problemas óbvios com os dados conforme as observações iniciais.]"
   ]
  },
  {
   "cell_type": "code",
   "execution_count": 16,
   "metadata": {
    "id": "SpBqbQHCuj8m"
   },
   "outputs": [
    {
     "data": {
      "text/html": [
       "<div>\n",
       "<style scoped>\n",
       "    .dataframe tbody tr th:only-of-type {\n",
       "        vertical-align: middle;\n",
       "    }\n",
       "\n",
       "    .dataframe tbody tr th {\n",
       "        vertical-align: top;\n",
       "    }\n",
       "\n",
       "    .dataframe thead th {\n",
       "        text-align: right;\n",
       "    }\n",
       "</style>\n",
       "<table border=\"1\" class=\"dataframe\">\n",
       "  <thead>\n",
       "    <tr style=\"text-align: right;\">\n",
       "      <th></th>\n",
       "      <th>id</th>\n",
       "      <th>user_id</th>\n",
       "      <th>message_date</th>\n",
       "    </tr>\n",
       "  </thead>\n",
       "  <tbody>\n",
       "    <tr>\n",
       "      <th>0</th>\n",
       "      <td>1000_125</td>\n",
       "      <td>1000</td>\n",
       "      <td>2018-12-27</td>\n",
       "    </tr>\n",
       "    <tr>\n",
       "      <th>1</th>\n",
       "      <td>1000_160</td>\n",
       "      <td>1000</td>\n",
       "      <td>2018-12-31</td>\n",
       "    </tr>\n",
       "    <tr>\n",
       "      <th>2</th>\n",
       "      <td>1000_223</td>\n",
       "      <td>1000</td>\n",
       "      <td>2018-12-31</td>\n",
       "    </tr>\n",
       "    <tr>\n",
       "      <th>3</th>\n",
       "      <td>1000_251</td>\n",
       "      <td>1000</td>\n",
       "      <td>2018-12-27</td>\n",
       "    </tr>\n",
       "    <tr>\n",
       "      <th>4</th>\n",
       "      <td>1000_255</td>\n",
       "      <td>1000</td>\n",
       "      <td>2018-12-26</td>\n",
       "    </tr>\n",
       "  </tbody>\n",
       "</table>\n",
       "</div>"
      ],
      "text/plain": [
       "         id  user_id message_date\n",
       "0  1000_125     1000   2018-12-27\n",
       "1  1000_160     1000   2018-12-31\n",
       "2  1000_223     1000   2018-12-31\n",
       "3  1000_251     1000   2018-12-27\n",
       "4  1000_255     1000   2018-12-26"
      ]
     },
     "execution_count": 16,
     "metadata": {},
     "output_type": "execute_result"
    }
   ],
   "source": [
    "messages['message_date']=pd.to_datetime(messages['message_date'])\n",
    "messages.head()"
   ]
  },
  {
   "cell_type": "markdown",
   "metadata": {
    "id": "feV2Njo9uj8n"
   },
   "source": [
    "### Enriqueça os dados"
   ]
  },
  {
   "cell_type": "markdown",
   "metadata": {
    "id": "KA5XDEoZuj8n"
   },
   "source": [
    "[Inclua fatores adicionais aos dados se você acredita que eles podem ser úteis.]"
   ]
  },
  {
   "cell_type": "code",
   "execution_count": 17,
   "metadata": {
    "id": "SkuCXcLJuj8n"
   },
   "outputs": [
    {
     "data": {
      "text/plain": [
       "0    2018-12\n",
       "1    2018-12\n",
       "2    2018-12\n",
       "3    2018-12\n",
       "4    2018-12\n",
       "Name: year_month, dtype: period[M]"
      ]
     },
     "execution_count": 17,
     "metadata": {},
     "output_type": "execute_result"
    }
   ],
   "source": [
    "messages['year_month']=messages['message_date'].dt.to_period('M')\n",
    "messages['year_month'].head()"
   ]
  },
  {
   "cell_type": "markdown",
   "metadata": {
    "id": "ZRFaOWzGuj8n"
   },
   "source": [
    "## Internet"
   ]
  },
  {
   "cell_type": "code",
   "execution_count": 18,
   "metadata": {
    "id": "ob3-qv4nuj8n"
   },
   "outputs": [
    {
     "name": "stdout",
     "output_type": "stream",
     "text": [
      "<class 'pandas.core.frame.DataFrame'>\n",
      "RangeIndex: 104825 entries, 0 to 104824\n",
      "Data columns (total 4 columns):\n",
      " #   Column        Non-Null Count   Dtype  \n",
      "---  ------        --------------   -----  \n",
      " 0   id            104825 non-null  object \n",
      " 1   user_id       104825 non-null  int64  \n",
      " 2   session_date  104825 non-null  object \n",
      " 3   mb_used       104825 non-null  float64\n",
      "dtypes: float64(1), int64(1), object(2)\n",
      "memory usage: 3.2+ MB\n",
      "duplicados: 0\n"
     ]
    }
   ],
   "source": [
    "# Imprima informações gerais/resumo sobre o DataFrame da internet\n",
    "internet.info()\n",
    "print('duplicados:',internet.duplicated().sum())"
   ]
  },
  {
   "cell_type": "code",
   "execution_count": 19,
   "metadata": {
    "id": "iIHK4fZsuj8n"
   },
   "outputs": [
    {
     "data": {
      "text/html": [
       "<div>\n",
       "<style scoped>\n",
       "    .dataframe tbody tr th:only-of-type {\n",
       "        vertical-align: middle;\n",
       "    }\n",
       "\n",
       "    .dataframe tbody tr th {\n",
       "        vertical-align: top;\n",
       "    }\n",
       "\n",
       "    .dataframe thead th {\n",
       "        text-align: right;\n",
       "    }\n",
       "</style>\n",
       "<table border=\"1\" class=\"dataframe\">\n",
       "  <thead>\n",
       "    <tr style=\"text-align: right;\">\n",
       "      <th></th>\n",
       "      <th>id</th>\n",
       "      <th>user_id</th>\n",
       "      <th>session_date</th>\n",
       "      <th>mb_used</th>\n",
       "    </tr>\n",
       "  </thead>\n",
       "  <tbody>\n",
       "    <tr>\n",
       "      <th>101534</th>\n",
       "      <td>1485_30</td>\n",
       "      <td>1485</td>\n",
       "      <td>2018-12-30</td>\n",
       "      <td>0.00</td>\n",
       "    </tr>\n",
       "    <tr>\n",
       "      <th>89234</th>\n",
       "      <td>1411_135</td>\n",
       "      <td>1411</td>\n",
       "      <td>2018-12-26</td>\n",
       "      <td>611.97</td>\n",
       "    </tr>\n",
       "    <tr>\n",
       "      <th>15588</th>\n",
       "      <td>1071_188</td>\n",
       "      <td>1071</td>\n",
       "      <td>2018-07-15</td>\n",
       "      <td>124.24</td>\n",
       "    </tr>\n",
       "    <tr>\n",
       "      <th>40768</th>\n",
       "      <td>1182_541</td>\n",
       "      <td>1182</td>\n",
       "      <td>2018-06-18</td>\n",
       "      <td>0.00</td>\n",
       "    </tr>\n",
       "    <tr>\n",
       "      <th>61556</th>\n",
       "      <td>1280_52</td>\n",
       "      <td>1280</td>\n",
       "      <td>2018-10-16</td>\n",
       "      <td>641.22</td>\n",
       "    </tr>\n",
       "    <tr>\n",
       "      <th>54962</th>\n",
       "      <td>1249_162</td>\n",
       "      <td>1249</td>\n",
       "      <td>2018-09-26</td>\n",
       "      <td>97.99</td>\n",
       "    </tr>\n",
       "    <tr>\n",
       "      <th>46383</th>\n",
       "      <td>1206_176</td>\n",
       "      <td>1206</td>\n",
       "      <td>2018-12-01</td>\n",
       "      <td>864.44</td>\n",
       "    </tr>\n",
       "    <tr>\n",
       "      <th>12322</th>\n",
       "      <td>1060_31</td>\n",
       "      <td>1060</td>\n",
       "      <td>2018-12-08</td>\n",
       "      <td>469.66</td>\n",
       "    </tr>\n",
       "    <tr>\n",
       "      <th>27340</th>\n",
       "      <td>1126_495</td>\n",
       "      <td>1126</td>\n",
       "      <td>2018-08-09</td>\n",
       "      <td>1022.65</td>\n",
       "    </tr>\n",
       "    <tr>\n",
       "      <th>84623</th>\n",
       "      <td>1394_165</td>\n",
       "      <td>1394</td>\n",
       "      <td>2018-12-08</td>\n",
       "      <td>825.26</td>\n",
       "    </tr>\n",
       "  </tbody>\n",
       "</table>\n",
       "</div>"
      ],
      "text/plain": [
       "              id  user_id session_date  mb_used\n",
       "101534   1485_30     1485   2018-12-30     0.00\n",
       "89234   1411_135     1411   2018-12-26   611.97\n",
       "15588   1071_188     1071   2018-07-15   124.24\n",
       "40768   1182_541     1182   2018-06-18     0.00\n",
       "61556    1280_52     1280   2018-10-16   641.22\n",
       "54962   1249_162     1249   2018-09-26    97.99\n",
       "46383   1206_176     1206   2018-12-01   864.44\n",
       "12322    1060_31     1060   2018-12-08   469.66\n",
       "27340   1126_495     1126   2018-08-09  1022.65\n",
       "84623   1394_165     1394   2018-12-08   825.26"
      ]
     },
     "execution_count": 19,
     "metadata": {},
     "output_type": "execute_result"
    }
   ],
   "source": [
    "#  Imprima uma amostra de dados para o tráfego da internet\n",
    "\n",
    "internet.sample(10)"
   ]
  },
  {
   "cell_type": "markdown",
   "metadata": {
    "id": "6wpo7ugquj8o"
   },
   "source": [
    "[Descreva o que você nota sobre as informações gerais e sobre a amostra de dados impressa acima. Existem problemas (tipos de dados inadequados, dados ausentes, etc.) que precisam de mais investigação e alterações? Como isso pode ser corrigido?]"
   ]
  },
  {
   "cell_type": "markdown",
   "metadata": {},
   "source": [
    "Novamente session_date esta como objeto"
   ]
  },
  {
   "cell_type": "markdown",
   "metadata": {
    "id": "Tly90YrTuj8o"
   },
   "source": [
    "### Corrija os dados"
   ]
  },
  {
   "cell_type": "markdown",
   "metadata": {
    "id": "F_yvcX-9uj8o"
   },
   "source": [
    "[Corrija problemas óbvios com os dados conforme as observações iniciais.]"
   ]
  },
  {
   "cell_type": "code",
   "execution_count": 20,
   "metadata": {
    "id": "GCoX7kbmuj8o"
   },
   "outputs": [],
   "source": [
    "internet['session_date']=pd.to_datetime(internet['session_date'])\n",
    "internet['gb_used']=internet['mb_used']/1024.0"
   ]
  },
  {
   "cell_type": "markdown",
   "metadata": {
    "id": "DEDbrtFduj8o"
   },
   "source": [
    "### Enriqueça os dados"
   ]
  },
  {
   "cell_type": "markdown",
   "metadata": {
    "id": "ilg-XzXpuj8p"
   },
   "source": [
    "[Inclua fatores adicionais aos dados se você acredita que eles podem ser úteis.]"
   ]
  },
  {
   "cell_type": "code",
   "execution_count": 21,
   "metadata": {
    "id": "f1PoZ3Ukuj8p"
   },
   "outputs": [],
   "source": [
    "internet['year_month'] = internet['session_date'].dt.to_period('M')\n"
   ]
  },
  {
   "cell_type": "markdown",
   "metadata": {
    "id": "bnOX4ARJuj8p"
   },
   "source": [
    "## Estude as condições dos planos"
   ]
  },
  {
   "cell_type": "markdown",
   "metadata": {
    "id": "vMu9_L8quj8p"
   },
   "source": [
    "[É fundamental entender como os planos funcionam, ou seja, como as cobranças dos usuários são feitas com base na assinatura. Sugerimos imprimir as informações sobre os planos para visualizar novamente as condições.]"
   ]
  },
  {
   "cell_type": "code",
   "execution_count": 22,
   "metadata": {
    "id": "vMXVndWEuj8p",
    "scrolled": true
   },
   "outputs": [
    {
     "data": {
      "text/html": [
       "<div>\n",
       "<style scoped>\n",
       "    .dataframe tbody tr th:only-of-type {\n",
       "        vertical-align: middle;\n",
       "    }\n",
       "\n",
       "    .dataframe tbody tr th {\n",
       "        vertical-align: top;\n",
       "    }\n",
       "\n",
       "    .dataframe thead th {\n",
       "        text-align: right;\n",
       "    }\n",
       "</style>\n",
       "<table border=\"1\" class=\"dataframe\">\n",
       "  <thead>\n",
       "    <tr style=\"text-align: right;\">\n",
       "      <th></th>\n",
       "      <th>messages_included</th>\n",
       "      <th>mb_per_month_included</th>\n",
       "      <th>minutes_included</th>\n",
       "      <th>usd_monthly_pay</th>\n",
       "      <th>usd_per_gb</th>\n",
       "      <th>usd_per_message</th>\n",
       "      <th>usd_per_minute</th>\n",
       "      <th>plan_name</th>\n",
       "      <th>gb_per_month_included</th>\n",
       "    </tr>\n",
       "  </thead>\n",
       "  <tbody>\n",
       "    <tr>\n",
       "      <th>0</th>\n",
       "      <td>50</td>\n",
       "      <td>15360</td>\n",
       "      <td>500</td>\n",
       "      <td>20.0</td>\n",
       "      <td>10.0</td>\n",
       "      <td>0.03</td>\n",
       "      <td>0.03</td>\n",
       "      <td>surf</td>\n",
       "      <td>15.0</td>\n",
       "    </tr>\n",
       "    <tr>\n",
       "      <th>1</th>\n",
       "      <td>1000</td>\n",
       "      <td>30720</td>\n",
       "      <td>3000</td>\n",
       "      <td>70.0</td>\n",
       "      <td>7.0</td>\n",
       "      <td>0.01</td>\n",
       "      <td>0.01</td>\n",
       "      <td>ultimate</td>\n",
       "      <td>30.0</td>\n",
       "    </tr>\n",
       "  </tbody>\n",
       "</table>\n",
       "</div>"
      ],
      "text/plain": [
       "   messages_included  mb_per_month_included  minutes_included  \\\n",
       "0                 50                  15360               500   \n",
       "1               1000                  30720              3000   \n",
       "\n",
       "   usd_monthly_pay  usd_per_gb  usd_per_message  usd_per_minute plan_name  \\\n",
       "0             20.0        10.0             0.03            0.03      surf   \n",
       "1             70.0         7.0             0.01            0.01  ultimate   \n",
       "\n",
       "   gb_per_month_included  \n",
       "0                   15.0  \n",
       "1                   30.0  "
      ]
     },
     "execution_count": 22,
     "metadata": {},
     "output_type": "execute_result"
    }
   ],
   "source": [
    "# Imprima as condições dos planos e certifique-se de que elas fazem sentido para você\n",
    "\n",
    "plans.head()"
   ]
  },
  {
   "cell_type": "markdown",
   "metadata": {
    "id": "1v1EshDmuj8q"
   },
   "source": [
    "## Agregue os dados por usuário\n",
    "\n",
    "[Agora, como os dados estão limpos, os agregue por usuário e por período para ter apenas um registro dessas informações. Isso vai facilitar muito as próximas análises.]"
   ]
  },
  {
   "cell_type": "code",
   "execution_count": 23,
   "metadata": {
    "id": "4hmb2pSPuj8q",
    "scrolled": true
   },
   "outputs": [
    {
     "name": "stdout",
     "output_type": "stream",
     "text": [
      "      user_id year_month  n_call_user_month\n",
      "0        1000    2018-12                 16\n",
      "1        1001    2018-08                 27\n",
      "2        1001    2018-09                 49\n",
      "3        1001    2018-10                 65\n",
      "4        1001    2018-11                 64\n",
      "...       ...        ...                ...\n",
      "2253     1498    2018-12                 39\n",
      "2254     1499    2018-09                 41\n",
      "2255     1499    2018-10                 53\n",
      "2256     1499    2018-11                 45\n",
      "2257     1499    2018-12                 65\n",
      "\n",
      "[2258 rows x 3 columns]\n"
     ]
    }
   ],
   "source": [
    "# Calcule o número de chamadas feitas por cada usuário por mês. Salve o resultado.\n",
    "\n",
    "calls_by_user=calls.groupby(['user_id','year_month'])['id'].count().reset_index(name='n_call_user_month')\n",
    "print(calls_by_user)"
   ]
  },
  {
   "cell_type": "code",
   "execution_count": 24,
   "metadata": {
    "id": "yHgBWCJJuj8q"
   },
   "outputs": [
    {
     "name": "stdout",
     "output_type": "stream",
     "text": [
      "      user_id year_month  min_call_per_user\n",
      "0        1000    2018-12             116.83\n",
      "1        1001    2018-08             171.14\n",
      "2        1001    2018-09             297.69\n",
      "3        1001    2018-10             374.11\n",
      "4        1001    2018-11             404.59\n",
      "...       ...        ...                ...\n",
      "2253     1498    2018-12             324.77\n",
      "2254     1499    2018-09             330.37\n",
      "2255     1499    2018-10             363.28\n",
      "2256     1499    2018-11             288.56\n",
      "2257     1499    2018-12             468.10\n",
      "\n",
      "[2258 rows x 3 columns]\n"
     ]
    }
   ],
   "source": [
    "# Calcule a quantidade de minutos gastos por cada usuário por mês. Salve o resultado.\n",
    "\n",
    "duration_by_user=calls.groupby(['user_id','year_month'])['duration'].sum().reset_index(name='min_call_per_user')\n",
    "print(duration_by_user)"
   ]
  },
  {
   "cell_type": "code",
   "execution_count": 25,
   "metadata": {
    "id": "MaM_cPxauj8q"
   },
   "outputs": [
    {
     "name": "stdout",
     "output_type": "stream",
     "text": [
      "      user_id year_month  message_user_month\n",
      "0        1000    2018-12                  11\n",
      "1        1001    2018-08                  30\n",
      "2        1001    2018-09                  44\n",
      "3        1001    2018-10                  53\n",
      "4        1001    2018-11                  36\n",
      "...       ...        ...                 ...\n",
      "1801     1496    2018-09                  21\n",
      "1802     1496    2018-10                  18\n",
      "1803     1496    2018-11                  13\n",
      "1804     1496    2018-12                  11\n",
      "1805     1497    2018-12                  50\n",
      "\n",
      "[1806 rows x 3 columns]\n"
     ]
    }
   ],
   "source": [
    "# Calcule o número de mensagens enviadas por cada usuário por mês. Salve o resultado.\n",
    "mess_user_ym=messages.groupby(['user_id','year_month'])['id'].count().reset_index(name='message_user_month')\n",
    "print(mess_user_ym)"
   ]
  },
  {
   "cell_type": "code",
   "execution_count": 26,
   "metadata": {
    "id": "WsCEZJ_xuj8q"
   },
   "outputs": [
    {
     "name": "stdout",
     "output_type": "stream",
     "text": [
      "      user_id year_month  trafic_per_user\n",
      "0        1000    2018-12         1.856904\n",
      "1        1001    2018-08         6.756982\n",
      "2        1001    2018-09        13.002754\n",
      "3        1001    2018-10        21.807119\n",
      "4        1001    2018-11        18.070605\n",
      "...       ...        ...              ...\n",
      "2272     1498    2018-12        22.595400\n",
      "2273     1499    2018-09        12.680430\n",
      "2274     1499    2018-10        19.035576\n",
      "2275     1499    2018-11        16.419756\n",
      "2276     1499    2018-12        21.542197\n",
      "\n",
      "[2277 rows x 3 columns]\n"
     ]
    }
   ],
   "source": [
    "# Calcule o volume de tráfego de internet usado por cada usuário por mês. Salve o resultado.\n",
    "\n",
    "network_trafic_by_user=internet.groupby(['user_id','year_month'])['gb_used'].sum().reset_index(name='trafic_per_user')\n",
    "print(network_trafic_by_user)"
   ]
  },
  {
   "cell_type": "markdown",
   "metadata": {
    "id": "6nBsD4hduj8q"
   },
   "source": [
    "[Coloque os dados agregados em um DataFrame para que cada registro nele represente o que cada usuário consumiu em um determinado mês.]"
   ]
  },
  {
   "cell_type": "code",
   "execution_count": 27,
   "metadata": {
    "id": "BYDTkxOauj8r"
   },
   "outputs": [
    {
     "name": "stdout",
     "output_type": "stream",
     "text": [
      "      user_id year_month  n_call_user_month  min_call_per_user  \\\n",
      "0        1000    2018-12               16.0             116.83   \n",
      "1        1001    2018-08               27.0             171.14   \n",
      "2        1001    2018-09               49.0             297.69   \n",
      "3        1001    2018-10               65.0             374.11   \n",
      "4        1001    2018-11               64.0             404.59   \n",
      "...       ...        ...                ...                ...   \n",
      "2288     1498    2018-12               39.0             324.77   \n",
      "2289     1499    2018-09               41.0             330.37   \n",
      "2290     1499    2018-10               53.0             363.28   \n",
      "2291     1499    2018-11               45.0             288.56   \n",
      "2292     1499    2018-12               65.0             468.10   \n",
      "\n",
      "      message_user_month  trafic_per_user  \n",
      "0                   11.0         1.856904  \n",
      "1                   30.0         6.756982  \n",
      "2                   44.0        13.002754  \n",
      "3                   53.0        21.807119  \n",
      "4                   36.0        18.070605  \n",
      "...                  ...              ...  \n",
      "2288                 NaN        22.595400  \n",
      "2289                 NaN        12.680430  \n",
      "2290                 NaN        19.035576  \n",
      "2291                 NaN        16.419756  \n",
      "2292                 NaN        21.542197  \n",
      "\n",
      "[2293 rows x 6 columns]\n"
     ]
    }
   ],
   "source": [
    "# Junte os dados de chamadas, minutos, mensagens e internet com base em user_id e month\n",
    "\n",
    "merged=pd.merge(calls_by_user, duration_by_user, on=['user_id','year_month'],how='outer')\n",
    "merged=pd.merge(merged, mess_user_ym, on=['user_id','year_month'],how='outer')\n",
    "merged=pd.merge(merged, network_trafic_by_user, on=['user_id','year_month'],how='outer')\n",
    "\n",
    "print(merged)"
   ]
  },
  {
   "cell_type": "code",
   "execution_count": 28,
   "metadata": {
    "id": "SW-sgLaHuj8r"
   },
   "outputs": [
    {
     "name": "stdout",
     "output_type": "stream",
     "text": [
      "      user_id year_month_x  n_call_user_month  min_call_per_user  \\\n",
      "0        1000      2018-12               16.0             116.83   \n",
      "1        1001      2018-08               27.0             171.14   \n",
      "2        1001      2018-09               49.0             297.69   \n",
      "3        1001      2018-10               65.0             374.11   \n",
      "4        1001      2018-11               64.0             404.59   \n",
      "...       ...          ...                ...                ...   \n",
      "2288     1498      2018-12               39.0             324.77   \n",
      "2289     1499      2018-09               41.0             330.37   \n",
      "2290     1499      2018-10               53.0             363.28   \n",
      "2291     1499      2018-11               45.0             288.56   \n",
      "2292     1499      2018-12               65.0             468.10   \n",
      "\n",
      "      message_user_month  trafic_per_user first_name   last_name  age  \\\n",
      "0                   11.0         1.856904   Anamaria       Bauer   45   \n",
      "1                   30.0         6.756982     Mickey   Wilkerson   28   \n",
      "2                   44.0        13.002754     Mickey   Wilkerson   28   \n",
      "3                   53.0        21.807119     Mickey   Wilkerson   28   \n",
      "4                   36.0        18.070605     Mickey   Wilkerson   28   \n",
      "...                  ...              ...        ...         ...  ...   \n",
      "2288                 NaN        22.595400       Scot  Williamson   51   \n",
      "2289                 NaN        12.680430      Shena     Dickson   37   \n",
      "2290                 NaN        19.035576      Shena     Dickson   37   \n",
      "2291                 NaN        16.419756      Shena     Dickson   37   \n",
      "2292                 NaN        21.542197      Shena     Dickson   37   \n",
      "\n",
      "                                           city  ... year_month_y  \\\n",
      "0         Atlanta-Sandy Springs-Roswell, GA MSA  ...      2018-12   \n",
      "1               Seattle-Tacoma-Bellevue, WA MSA  ...      2018-08   \n",
      "2               Seattle-Tacoma-Bellevue, WA MSA  ...      2018-08   \n",
      "3               Seattle-Tacoma-Bellevue, WA MSA  ...      2018-08   \n",
      "4               Seattle-Tacoma-Bellevue, WA MSA  ...      2018-08   \n",
      "...                                         ...  ...          ...   \n",
      "2288  New York-Newark-Jersey City, NY-NJ-PA MSA  ...      2018-02   \n",
      "2289          Orlando-Kissimmee-Sanford, FL MSA  ...      2018-05   \n",
      "2290          Orlando-Kissimmee-Sanford, FL MSA  ...      2018-05   \n",
      "2291          Orlando-Kissimmee-Sanford, FL MSA  ...      2018-05   \n",
      "2292          Orlando-Kissimmee-Sanford, FL MSA  ...      2018-05   \n",
      "\n",
      "     messages_included mb_per_month_included minutes_included  \\\n",
      "0                 1000                 30720             3000   \n",
      "1                   50                 15360              500   \n",
      "2                   50                 15360              500   \n",
      "3                   50                 15360              500   \n",
      "4                   50                 15360              500   \n",
      "...                ...                   ...              ...   \n",
      "2288                50                 15360              500   \n",
      "2289                50                 15360              500   \n",
      "2290                50                 15360              500   \n",
      "2291                50                 15360              500   \n",
      "2292                50                 15360              500   \n",
      "\n",
      "      usd_monthly_pay  usd_per_gb  usd_per_message  usd_per_minute  plan_name  \\\n",
      "0                70.0         7.0             0.01            0.01   ultimate   \n",
      "1                20.0        10.0             0.03            0.03       surf   \n",
      "2                20.0        10.0             0.03            0.03       surf   \n",
      "3                20.0        10.0             0.03            0.03       surf   \n",
      "4                20.0        10.0             0.03            0.03       surf   \n",
      "...               ...         ...              ...             ...        ...   \n",
      "2288             20.0        10.0             0.03            0.03       surf   \n",
      "2289             20.0        10.0             0.03            0.03       surf   \n",
      "2290             20.0        10.0             0.03            0.03       surf   \n",
      "2291             20.0        10.0             0.03            0.03       surf   \n",
      "2292             20.0        10.0             0.03            0.03       surf   \n",
      "\n",
      "      gb_per_month_included  \n",
      "0                      30.0  \n",
      "1                      15.0  \n",
      "2                      15.0  \n",
      "3                      15.0  \n",
      "4                      15.0  \n",
      "...                     ...  \n",
      "2288                   15.0  \n",
      "2289                   15.0  \n",
      "2290                   15.0  \n",
      "2291                   15.0  \n",
      "2292                   15.0  \n",
      "\n",
      "[2293 rows x 23 columns]\n"
     ]
    }
   ],
   "source": [
    "# Adicione as informações sobre o plano\n",
    "\n",
    "aux = pd.merge(users,plans, left_on='plan', right_on='plan_name')\n",
    "merged=pd.merge(merged,aux, on='user_id')\n",
    "print(merged)"
   ]
  },
  {
   "cell_type": "markdown",
   "metadata": {},
   "source": [
    "<div class=\"alert alert-success\">\n",
    "<strong>Comentário do revisor v1</strong>\n",
    "\n",
    "Joins realizados com o operador adequado.\n",
    "</div>\n"
   ]
  },
  {
   "cell_type": "markdown",
   "metadata": {
    "id": "mU8dKHTQuj8r"
   },
   "source": [
    "[Calcule a receita mensal para cada usuário: subtraia o limite gratuito do pacote do número total de chamadas, mensagens de texto e dados; multiplique o resultado pelo valor do plano; adicione o preço mensal dependendo do plano. Importante: isso talvez não seja tão simples e necessite de várias linhas, considerando as condições do plano. Portanto, não se preocupe se você passar algum tempo nesta etapa.]"
   ]
  },
  {
   "cell_type": "code",
   "execution_count": 29,
   "metadata": {
    "id": "JiPHXbQAuj8r"
   },
   "outputs": [
    {
     "data": {
      "text/plain": [
       "0       70.000000\n",
       "1       20.000000\n",
       "2       20.000000\n",
       "3       88.161191\n",
       "4       50.706055\n",
       "          ...    \n",
       "2288    95.954004\n",
       "2289    20.000000\n",
       "2290    60.355762\n",
       "2291    34.197559\n",
       "2292    85.421973\n",
       "Name: receita, Length: 2293, dtype: float64"
      ]
     },
     "execution_count": 29,
     "metadata": {},
     "output_type": "execute_result"
    }
   ],
   "source": [
    "# Calcule a receita mensal para cada usuário\n",
    "\n",
    "def calc_rec(row):\n",
    "    rec= row['usd_monthly_pay']\n",
    "    if row['trafic_per_user'] > row['gb_per_month_included']:\n",
    "        rec+=(row['trafic_per_user']-row['gb_per_month_included'])*row['usd_per_gb']\n",
    "\n",
    "    if row['message_user_month'] > row['messages_included']:\n",
    "        rec+=(row['message_user_month']-row['messages_included'])*row['usd_per_message']\n",
    "\n",
    "    if row['min_call_per_user'] > row['minutes_included']:\n",
    "        rec+=(row['min_call_per_user']-row['minutes_included'])*row['usd_per_minute']\n",
    "    return rec\n",
    "\n",
    "\n",
    "merged['receita']=merged.apply(calc_rec,axis=1)\n",
    "merged['receita']"
   ]
  },
  {
   "cell_type": "markdown",
   "metadata": {
    "id": "0HFWXKTQuj8r"
   },
   "source": [
    "## Estude o comportamento do usuário"
   ]
  },
  {
   "cell_type": "markdown",
   "metadata": {
    "id": "i6gGFggkuj8s"
   },
   "source": [
    "[Calcule algumas estatísticas descritivas úteis para os dados agregados, o que costuma revelar uma imagem geral capturada pelos dados. Desenhe gráficos úteis para ajudar na compreensão. Já que a tarefa principal é comparar os planos e decidir qual é mais rentável, as estatísticas e os gráficos devem ser calculados por plano.]\n",
    "\n",
    "[Existem dicas relevantes nos comentários para as chamadas. Essas dicas não foram fornecidas para as mensagens e internet, mas o princípio do estudo estatístico é o mesmo em todos os casos.]"
   ]
  },
  {
   "cell_type": "markdown",
   "metadata": {
    "id": "umaMfSLxuj8s"
   },
   "source": [
    "### Chamadas"
   ]
  },
  {
   "cell_type": "code",
   "execution_count": 30,
   "metadata": {
    "id": "0236-tJnuj8t",
    "scrolled": false
   },
   "outputs": [
    {
     "data": {
      "image/png": "[encoded data removed]",
      "text/plain": [
       "<Figure size 1200x600 with 1 Axes>"
      ]
     },
     "metadata": {},
     "output_type": "display_data"
    }
   ],
   "source": [
    "# Compare a duração média das chamadas de cada plano para cada mês. Crie um gráfico de barras para visualizar o resultado.\n",
    "import matplotlib.pyplot as plt\n",
    "\n",
    "call_plans = pd.merge(calls,users, on='user_id')\n",
    "\n",
    "call_duration =call_plans.groupby(['plan','year_month_x'])['duration'].mean().reset_index()\n",
    "pivot_data = call_duration.pivot(index='year_month_x', columns='plan', values='duration')\n",
    "\n",
    "# Criar gráfico de barras\n",
    "ax = pivot_data.plot(kind='bar', figsize=(12, 6))\n",
    "\n",
    "# Adicionar rótulos e título\n",
    "ax.set_xlabel('Year-Month')\n",
    "ax.set_ylabel('Mean Duration')\n",
    "ax.set_title('Mean Duration per Plan and Month')\n",
    "plt.xticks(rotation=45)  # Rotacionar rótulos do eixo x para melhor leitura\n",
    "plt.legend(title='Plan')\n",
    "\n",
    "plt.show()"
   ]
  },
  {
   "cell_type": "code",
   "execution_count": 31,
   "metadata": {
    "id": "9sCQ1lP8uj8u",
    "scrolled": false
   },
   "outputs": [
    {
     "data": {
      "image/png": "[encoded data removed]",
      "text/plain": [
       "<Figure size 1200x600 with 1 Axes>"
      ]
     },
     "metadata": {},
     "output_type": "display_data"
    }
   ],
   "source": [
    "# Compare o número de minutos que os usuários de cada plano necessitam a cada mês. Construa um histograma.\n",
    "\n",
    "call_duration_total=call_plans.groupby(['plan','year_month_x'])['duration'].sum().reset_index()\n",
    "\n",
    "pivot_data=call_duration_total.pivot(index='year_month_x',columns='plan',values='duration')\n",
    "\n",
    "ax = pivot_data.plot(kind='hist',alpha=0.7, figsize=(12, 6))\n",
    "\n",
    "plt.xticks(rotation=45)\n",
    "plt.show()"
   ]
  },
  {
   "cell_type": "markdown",
   "metadata": {
    "id": "_x1pRDFtuj8u"
   },
   "source": [
    "[Calcule a média e a variância da duração das chamadas para refletir se os usuários de cada plano possuem comportamentos diferentes sobre as chamadas.]"
   ]
  },
  {
   "cell_type": "code",
   "execution_count": 32,
   "metadata": {
    "id": "cIdodPExuj8u"
   },
   "outputs": [
    {
     "name": "stdout",
     "output_type": "stream",
     "text": [
      "        plan year_month_x           var        mean\n",
      "0       surf      2018-01  14795.440200  192.840000\n",
      "1       surf      2018-02  46959.219961  280.851111\n",
      "2       surf      2018-03  31821.317991  310.970000\n",
      "3       surf      2018-04  45615.666796  332.380000\n",
      "4       surf      2018-05  50778.127459  387.108000\n",
      "5       surf      2018-06  39424.054023  411.450625\n",
      "6       surf      2018-07  53364.540232  428.060917\n",
      "7       surf      2018-08  46639.240873  394.474717\n",
      "8       surf      2018-09  39785.302974  397.133298\n",
      "9       surf      2018-10  44103.681803  414.435733\n",
      "10      surf      2018-11  43560.874928  408.255415\n",
      "11      surf      2018-12  53646.781898  457.547074\n",
      "12  ultimate      2018-01  14991.369958  183.162500\n",
      "13  ultimate      2018-02  48579.581537  443.171667\n",
      "14  ultimate      2018-03  54273.917252  285.701667\n",
      "15  ultimate      2018-04  31057.727496  316.508095\n",
      "16  ultimate      2018-05  39290.610940  383.664828\n",
      "17  ultimate      2018-06  33837.770156  365.358222\n",
      "18  ultimate      2018-07  64844.426958  403.767288\n",
      "19  ultimate      2018-08  47680.189425  397.274789\n",
      "20  ultimate      2018-09  50994.505514  413.287326\n",
      "21  ultimate      2018-10  47081.623851  429.217238\n",
      "22  ultimate      2018-11  53273.637319  423.814683\n",
      "23  ultimate      2018-12  53967.731609  438.824832\n"
     ]
    }
   ],
   "source": [
    "# Calcule a média e a variância da duração mensal das chamadas\n",
    "\n",
    "\n",
    "mean_month=merged.groupby(['plan','year_month_x'])['min_call_per_user'].agg({'mean','var'}).reset_index()\n",
    "print(mean_month)\n",
    "\n"
   ]
  },
  {
   "cell_type": "code",
   "execution_count": 33,
   "metadata": {
    "id": "DW7vTypxuj8u"
   },
   "outputs": [
    {
     "data": {
      "image/png": "[encoded data removed]",
      "text/plain": [
       "<Figure size 640x480 with 1 Axes>"
      ]
     },
     "metadata": {},
     "output_type": "display_data"
    }
   ],
   "source": [
    "# Faça um diagrama de caixa para visualizar a distribuição da duração mensal das chamadas\n",
    "import seaborn as sns\n",
    "\n",
    "sns.boxplot(data=merged.sort_values('year_month_x'),y='min_call_per_user',x='year_month_x',hue='plan')\n",
    "plt.xticks(rotation=45)\n",
    "plt.show()"
   ]
  },
  {
   "cell_type": "markdown",
   "metadata": {
    "id": "Uyt3rWn7uj8u"
   },
   "source": [
    "[Formule conclusões sobre como os usuários se comportam em termos de chamadas. O comportamento é diferente dependendo do plano?]"
   ]
  },
  {
   "cell_type": "markdown",
   "metadata": {},
   "source": [
    "A media de duração das chamadas se manteve proxima ao longo de todos os meses do ano de 2018"
   ]
  },
  {
   "cell_type": "markdown",
   "metadata": {
    "id": "2hWSPtrnuj8v"
   },
   "source": [
    "### Mensagens"
   ]
  },
  {
   "cell_type": "code",
   "execution_count": 34,
   "metadata": {
    "id": "9kPlAhOJuj8v"
   },
   "outputs": [
    {
     "name": "stderr",
     "output_type": "stream",
     "text": [
      "C:\\Users\\User\\AppData\\Local\\Temp\\ipykernel_14232\\3662690545.py:3: FutureWarning: \n",
      "\n",
      "The `ci` parameter is deprecated. Use `errorbar=None` for the same effect.\n",
      "\n",
      "  sns.barplot(data=merged.sort_values('year_month_x'),y='message_user_month',x='year_month_x',hue='plan',ci=None)\n"
     ]
    },
    {
     "data": {
      "image/png": "[encoded data removed]",
      "text/plain": [
       "<Figure size 640x480 with 1 Axes>"
      ]
     },
     "metadata": {},
     "output_type": "display_data"
    }
   ],
   "source": [
    "# Compare o número de mensagens que os usuários de cada plano costumam enviar a cada mês\n",
    "\n",
    "sns.barplot(data=merged.sort_values('year_month_x'),y='message_user_month',x='year_month_x',hue='plan',ci=None)\n",
    "plt.xticks(rotation=45)\n",
    "plt.show()"
   ]
  },
  {
   "cell_type": "markdown",
   "metadata": {
    "id": "v6QELMtcuj8v"
   },
   "source": [
    "[Formule conclusões sobre como os usuários costumam consumir o tráfego da internet. O comportamento é diferente dependendo do plano?]"
   ]
  },
  {
   "cell_type": "markdown",
   "metadata": {},
   "source": [
    "apesar da menor quantidade de planos ultimate eles tem um maior numero de mensagens enviadas ao longo dos meses"
   ]
  },
  {
   "cell_type": "markdown",
   "metadata": {
    "id": "nHUCwAnauj8w"
   },
   "source": [
    "### Internet"
   ]
  },
  {
   "cell_type": "code",
   "execution_count": 35,
   "metadata": {},
   "outputs": [
    {
     "name": "stderr",
     "output_type": "stream",
     "text": [
      "C:\\Users\\User\\AppData\\Local\\Temp\\ipykernel_14232\\2000720298.py:3: FutureWarning: \n",
      "\n",
      "The `ci` parameter is deprecated. Use `errorbar=None` for the same effect.\n",
      "\n",
      "  sns.barplot(data=merged.sort_values('year_month_x'),y='trafic_per_user',x='year_month_x',hue='plan',ci=None)\n"
     ]
    },
    {
     "data": {
      "image/png": "[encoded data removed]",
      "text/plain": [
       "<Figure size 640x480 with 1 Axes>"
      ]
     },
     "metadata": {},
     "output_type": "display_data"
    }
   ],
   "source": [
    "# Compare a quantidade de tráfego de internet consumido pelos usuários por plano\n",
    "\n",
    "sns.barplot(data=merged.sort_values('year_month_x'),y='trafic_per_user',x='year_month_x',hue='plan',ci=None)\n",
    "plt.xticks(rotation=45)\n",
    "plt.show()\n"
   ]
  },
  {
   "cell_type": "markdown",
   "metadata": {
    "id": "GsHkFpGmuj8w"
   },
   "source": [
    "[Formule conclusões sobre como os usuários tendem a consumir o tráfego da internet. O comportamento é diferente dependendo do plano?]"
   ]
  },
  {
   "cell_type": "markdown",
   "metadata": {},
   "source": [
    "O consumo do plano ultimate se mostrou muito maior do que do plano surf de 2018-01 até 2018-05, a partir de 2018-06 eles se tornaram mais proximos"
   ]
  },
  {
   "cell_type": "markdown",
   "metadata": {
    "id": "g23qXaYNuj8x"
   },
   "source": [
    "## Receita"
   ]
  },
  {
   "cell_type": "markdown",
   "metadata": {
    "id": "qI9oKXFZuj8y"
   },
   "source": [
    "[Da mesma forma que você estudou o comportamento dos usuários, descreva estatisticamente as receitas dos planos.]"
   ]
  },
  {
   "cell_type": "code",
   "execution_count": 36,
   "metadata": {
    "id": "CGuBwYRyuj8y"
   },
   "outputs": [
    {
     "name": "stderr",
     "output_type": "stream",
     "text": [
      "C:\\Users\\User\\AppData\\Local\\Temp\\ipykernel_14232\\1650452945.py:1: FutureWarning: \n",
      "\n",
      "The `ci` parameter is deprecated. Use `errorbar=None` for the same effect.\n",
      "\n",
      "  sns.barplot(data=merged.sort_values('year_month_x'),y='receita',x='year_month_x',hue='plan',ci=None)\n"
     ]
    },
    {
     "data": {
      "image/png": "[encoded data removed]",
      "text/plain": [
       "<Figure size 640x480 with 1 Axes>"
      ]
     },
     "metadata": {},
     "output_type": "display_data"
    }
   ],
   "source": [
    "sns.barplot(data=merged.sort_values('year_month_x'),y='receita',x='year_month_x',hue='plan',ci=None)\n",
    "plt.xticks(rotation=45)\n",
    "plt.show()"
   ]
  },
  {
   "cell_type": "markdown",
   "metadata": {
    "id": "KUSxMW71uj8z"
   },
   "source": [
    "a receita gerada pelo plano ultimate foi consideravel mente maior do que a do plano surf "
   ]
  },
  {
   "cell_type": "markdown",
   "metadata": {
    "id": "6X34EwHpuj8z"
   },
   "source": [
    "[Formule conclusões sobre como a receita difere entre os planos.]"
   ]
  },
  {
   "cell_type": "markdown",
   "metadata": {
    "id": "xJ6Mu-KAuj8z"
   },
   "source": [
    "## Teste hipóteses estatísticas"
   ]
  },
  {
   "cell_type": "markdown",
   "metadata": {
    "id": "lop_0j4Duj8z"
   },
   "source": [
    "[Teste a hipótese de que a receita média dos usuários dos planos Ultimate e Surf são diferentes.]"
   ]
  },
  {
   "cell_type": "markdown",
   "metadata": {
    "id": "-X2l1R8Luj80"
   },
   "source": [
    "[Formule as hipóteses nula e alternativa, escolha o teste estatístico, escolha o valor alfa.]"
   ]
  },
  {
   "cell_type": "code",
   "execution_count": 37,
   "metadata": {
    "id": "LyGrPhpUuj80"
   },
   "outputs": [
    {
     "name": "stdout",
     "output_type": "stream",
     "text": [
      "2887.544971039368 115.9680805821281\n",
      "\n",
      "4.881852673479799e-25\n",
      "\n",
      "regeitamos a hipotese nula\n"
     ]
    }
   ],
   "source": [
    "# Teste as hipóteses\n",
    "s1=merged[merged['plan']=='surf']['receita']\n",
    "s2=merged[merged['plan']=='ultimate']['receita']\n",
    "\n",
    "print(s1.var(),s2.var())\n",
    "    \n",
    "alpha=0.5\n",
    "\n",
    "res = st.ttest_ind(s1,s2,equal_var=False)\n",
    "\n",
    "#hipotese nula a receita media dos planos surf e ultimate são diferentes\n",
    "#hipotese alternativa a receita é igual\n",
    "\n",
    "print()\n",
    "print(res.pvalue)\n",
    "print()\n",
    "if res.pvalue<alpha:\n",
    "    print('regeitamos a hipotese nula')\n",
    "else:\n",
    "    print('nao podemos rejeitar a hipotese nula')"
   ]
  },
  {
   "cell_type": "markdown",
   "metadata": {
    "id": "Cz6rwE56uj80"
   },
   "source": [
    "[Teste a hipótese de que a receita média dos usuários da área de NY-NJ difere dos usuários das demais regiões.]"
   ]
  },
  {
   "cell_type": "markdown",
   "metadata": {
    "id": "kMHim5__uj80"
   },
   "source": [
    "[Formule as hipóteses nula e alternativa, escolha o teste estatístico, escolha o valor alfa.]"
   ]
  },
  {
   "cell_type": "code",
   "execution_count": 38,
   "metadata": {
    "id": "98t8iiJyuj80"
   },
   "outputs": [
    {
     "name": "stdout",
     "output_type": "stream",
     "text": [
      "1777.752923296623 2116.1719888966886\n",
      "\n",
      "0.01860947297497194\n",
      "\n",
      "rejeitamos a hipotese nula\n"
     ]
    }
   ],
   "source": [
    "# Teste as hipóteses\n",
    "\n",
    "s1=merged[merged['city']=='New York-Newark-Jersey City, NY-NJ-PA MSA']['receita']\n",
    "s2=merged[merged['city']!='New York-Newark-Jersey City, NY-NJ-PA MSA']['receita']\n",
    "\n",
    "\n",
    "print(s1.var(),s2.var())\n",
    "\n",
    "alpha=0.5\n",
    "\n",
    "res = st.ttest_ind(s1,s2,equal_var=False)\n",
    "\n",
    "# Hipotese nula: a receita media dos usuarios de NY-NJ é diferente das outras regiões\n",
    "# Hipotese alternativa: a receita media dos usuarios de NY-NJ não é diferente das outras regiões\n",
    "\n",
    "print()\n",
    "print(res.pvalue)\n",
    "print()\n",
    "if res.pvalue<alpha:\n",
    "    print('rejeitamos a hipotese nula')\n",
    "else:\n",
    "    print('nao podemos rejeitar a hipotese nula')"
   ]
  },
  {
   "cell_type": "markdown",
   "metadata": {
    "id": "M8WycwWFuj81"
   },
   "source": [
    "## Conclusão geral\n",
    "\n",
    "[Liste suas conclusões importantes nesta seção final, certifique-se de que elas cobrem todas as decisões (suposições) importantes que você tomou e que levaram à maneira como você processou e analisou os dados.]"
   ]
  },
  {
   "cell_type": "markdown",
   "metadata": {},
   "source": [
    "Ambos os planos acabam por coonsumir uma quantidade de dados similar e também por gerar uma receita semelhante, a quantidade de usuarios do plano surf faz com que ele fique com valores bem proximos de consumo e receita gerada do plano ultimate"
   ]
  }
 ],
 "metadata": {
  "ExecuteTimeLog": [
   {
    "duration": 828,
    "start_time": "2021-11-16T09:21:11.304Z"
   },
   {
    "duration": 893,
    "start_time": "2021-11-16T09:21:17.728Z"
   },
   {
    "duration": 1150,
    "start_time": "2021-11-16T09:21:29.568Z"
   },
   {
    "duration": 3,
    "start_time": "2021-11-16T09:24:14.495Z"
   },
   {
    "duration": 120,
    "start_time": "2021-11-16T09:24:46.630Z"
   },
   {
    "duration": 3,
    "start_time": "2021-11-16T09:28:27.882Z"
   },
   {
    "duration": 4,
    "start_time": "2021-11-16T09:29:54.281Z"
   },
   {
    "duration": 3,
    "start_time": "2021-11-16T09:30:45.936Z"
   },
   {
    "duration": 4,
    "start_time": "2021-11-16T09:31:06.300Z"
   },
   {
    "duration": 113,
    "start_time": "2021-11-16T09:31:37.208Z"
   },
   {
    "duration": 143,
    "start_time": "2021-11-16T09:31:48.656Z"
   },
   {
    "duration": 98,
    "start_time": "2021-11-16T09:31:55.678Z"
   },
   {
    "duration": 3,
    "start_time": "2021-11-16T09:32:08.535Z"
   },
   {
    "duration": 111,
    "start_time": "2021-11-16T09:32:10.120Z"
   },
   {
    "duration": 3,
    "start_time": "2021-11-16T09:32:15.732Z"
   },
   {
    "duration": 4,
    "start_time": "2021-11-16T09:32:29.423Z"
   },
   {
    "duration": 3,
    "start_time": "2021-11-16T10:03:03.074Z"
   },
   {
    "duration": 3,
    "start_time": "2021-11-16T10:10:01.288Z"
   },
   {
    "duration": 3,
    "start_time": "2021-11-16T10:10:46.923Z"
   },
   {
    "duration": 121,
    "start_time": "2021-11-16T10:37:46.494Z"
   },
   {
    "duration": 125,
    "start_time": "2021-11-16T10:38:20.632Z"
   },
   {
    "duration": 112,
    "start_time": "2021-11-16T10:46:53.001Z"
   },
   {
    "duration": 110,
    "start_time": "2021-11-16T10:48:25.775Z"
   },
   {
    "duration": 3,
    "start_time": "2021-11-16T10:50:18.720Z"
   },
   {
    "duration": 4,
    "start_time": "2021-11-16T10:50:37.649Z"
   },
   {
    "duration": 2,
    "start_time": "2021-11-16T10:50:51.884Z"
   },
   {
    "duration": 3,
    "start_time": "2021-11-16T10:51:56.237Z"
   },
   {
    "duration": 101,
    "start_time": "2021-11-16T10:53:13.791Z"
   },
   {
    "duration": 3,
    "start_time": "2021-11-16T10:55:59.186Z"
   },
   {
    "duration": 3,
    "start_time": "2021-11-16T10:56:10.751Z"
   },
   {
    "duration": 3,
    "start_time": "2021-11-16T10:56:49.038Z"
   },
   {
    "duration": 3,
    "start_time": "2021-11-16T10:56:49.174Z"
   },
   {
    "duration": 4,
    "start_time": "2021-11-16T10:56:49.414Z"
   },
   {
    "duration": 3,
    "start_time": "2021-11-16T10:56:49.680Z"
   },
   {
    "duration": 3,
    "start_time": "2021-11-16T10:56:50.370Z"
   },
   {
    "duration": 114,
    "start_time": "2021-11-16T10:59:34.518Z"
   },
   {
    "duration": 3,
    "start_time": "2021-11-16T11:01:41.201Z"
   },
   {
    "duration": 116,
    "start_time": "2021-11-16T11:01:48.754Z"
   },
   {
    "duration": 3,
    "start_time": "2021-11-16T11:02:16.685Z"
   },
   {
    "duration": 3,
    "start_time": "2021-11-16T11:02:19.479Z"
   },
   {
    "duration": 3,
    "start_time": "2021-11-16T11:02:47.067Z"
   },
   {
    "duration": 3,
    "start_time": "2021-11-16T11:02:49.353Z"
   },
   {
    "duration": 3,
    "start_time": "2021-11-16T11:03:07.835Z"
   },
   {
    "duration": 3,
    "start_time": "2021-11-16T11:03:07.953Z"
   },
   {
    "duration": 112,
    "start_time": "2021-11-16T11:07:52.072Z"
   },
   {
    "duration": 187,
    "start_time": "2021-11-16T11:09:23.468Z"
   },
   {
    "duration": 4,
    "start_time": "2021-11-16T11:10:01.455Z"
   },
   {
    "duration": 3,
    "start_time": "2021-11-16T11:10:05.069Z"
   },
   {
    "duration": 4,
    "start_time": "2021-11-16T11:10:13.376Z"
   },
   {
    "duration": 3,
    "start_time": "2021-11-16T11:10:14.434Z"
   },
   {
    "duration": 3,
    "start_time": "2021-11-16T11:10:22.853Z"
   },
   {
    "duration": 4,
    "start_time": "2021-11-16T11:27:29.279Z"
   },
   {
    "duration": 4,
    "start_time": "2021-11-16T11:29:08.919Z"
   },
   {
    "duration": 118,
    "start_time": "2021-11-16T11:29:46.703Z"
   },
   {
    "duration": 437,
    "start_time": "2021-11-16T11:36:02.181Z"
   },
   {
    "duration": 157,
    "start_time": "2021-11-16T11:36:14.388Z"
   },
   {
    "duration": 207,
    "start_time": "2021-11-16T11:47:15.898Z"
   },
   {
    "duration": 3,
    "start_time": "2021-11-16T11:53:52.092Z"
   },
   {
    "duration": 3,
    "start_time": "2021-11-16T11:53:52.236Z"
   },
   {
    "duration": 3,
    "start_time": "2021-11-16T11:59:12.005Z"
   },
   {
    "duration": 112,
    "start_time": "2021-11-16T12:00:33.446Z"
   },
   {
    "duration": 3,
    "start_time": "2021-11-16T12:02:14.453Z"
   },
   {
    "duration": 3,
    "start_time": "2021-11-16T12:02:39.512Z"
   },
   {
    "duration": 106,
    "start_time": "2021-11-16T12:03:03.460Z"
   },
   {
    "duration": 3,
    "start_time": "2021-11-17T20:37:21.139Z"
   },
   {
    "duration": 3,
    "start_time": "2021-11-17T20:37:22.229Z"
   },
   {
    "duration": 3,
    "start_time": "2021-11-17T20:38:38.806Z"
   },
   {
    "duration": 3,
    "start_time": "2021-11-17T20:38:41.958Z"
   },
   {
    "duration": 3,
    "start_time": "2021-11-17T20:43:46.551Z"
   },
   {
    "duration": 4,
    "start_time": "2021-11-17T20:58:21.835Z"
   },
   {
    "duration": 3,
    "start_time": "2021-11-17T20:59:21.872Z"
   },
   {
    "duration": 4,
    "start_time": "2021-11-17T20:59:45.352Z"
   },
   {
    "duration": 4,
    "start_time": "2021-11-17T20:59:49.646Z"
   },
   {
    "duration": 159,
    "start_time": "2021-11-17T21:02:26.949Z"
   },
   {
    "duration": 3,
    "start_time": "2021-11-17T21:03:53.461Z"
   },
   {
    "duration": 3,
    "start_time": "2021-11-17T21:03:53.694Z"
   },
   {
    "duration": 3,
    "start_time": "2021-11-17T21:05:28.145Z"
   },
   {
    "duration": 116,
    "start_time": "2021-11-17T21:05:57.787Z"
   },
   {
    "duration": 3,
    "start_time": "2021-11-17T21:06:37.993Z"
   },
   {
    "duration": 3,
    "start_time": "2021-11-17T21:06:38.261Z"
   },
   {
    "duration": 3,
    "start_time": "2021-11-17T21:11:54.358Z"
   },
   {
    "duration": 3,
    "start_time": "2021-11-17T21:12:43.846Z"
   },
   {
    "duration": 4,
    "start_time": "2021-11-17T21:13:08.773Z"
   },
   {
    "duration": 3,
    "start_time": "2021-11-17T21:14:44.441Z"
   },
   {
    "duration": 3,
    "start_time": "2021-11-17T21:15:42.059Z"
   },
   {
    "duration": 4,
    "start_time": "2021-11-17T21:15:51.995Z"
   },
   {
    "duration": 3,
    "start_time": "2021-11-17T21:15:53.923Z"
   },
   {
    "duration": 3,
    "start_time": "2021-11-17T21:15:55.282Z"
   },
   {
    "duration": 3,
    "start_time": "2021-11-17T21:16:28.492Z"
   },
   {
    "duration": 3,
    "start_time": "2021-11-17T21:16:32.603Z"
   },
   {
    "duration": 3,
    "start_time": "2021-11-17T21:17:06.941Z"
   },
   {
    "duration": 98,
    "start_time": "2021-11-17T21:18:05.733Z"
   },
   {
    "duration": 4,
    "start_time": "2021-11-17T21:21:35.255Z"
   },
   {
    "duration": 3,
    "start_time": "2021-11-17T21:21:37.804Z"
   },
   {
    "duration": 4,
    "start_time": "2021-11-17T21:23:06.071Z"
   },
   {
    "duration": 3,
    "start_time": "2021-11-17T21:23:24.799Z"
   },
   {
    "duration": 3,
    "start_time": "2021-11-17T21:23:32.591Z"
   },
   {
    "duration": 98,
    "start_time": "2021-11-17T21:28:31.559Z"
   },
   {
    "duration": 3,
    "start_time": "2021-11-17T21:28:45.448Z"
   },
   {
    "duration": 3,
    "start_time": "2021-11-17T21:29:17.303Z"
   },
   {
    "duration": 3,
    "start_time": "2021-11-17T21:29:29.617Z"
   },
   {
    "duration": 3,
    "start_time": "2021-11-17T21:29:32.681Z"
   },
   {
    "duration": 3,
    "start_time": "2021-11-17T21:36:11.474Z"
   },
   {
    "duration": 3,
    "start_time": "2021-11-17T21:36:14.791Z"
   },
   {
    "duration": 3,
    "start_time": "2021-11-17T21:36:53.943Z"
   },
   {
    "duration": 3,
    "start_time": "2021-11-17T21:36:56.165Z"
   },
   {
    "duration": 4,
    "start_time": "2021-11-17T21:37:16.590Z"
   },
   {
    "duration": 3,
    "start_time": "2021-11-17T21:37:22.702Z"
   },
   {
    "duration": 4,
    "start_time": "2021-11-17T21:38:03.479Z"
   },
   {
    "duration": 3,
    "start_time": "2021-11-17T21:38:08.601Z"
   },
   {
    "duration": 3,
    "start_time": "2021-11-17T21:38:12.928Z"
   },
   {
    "duration": 3,
    "start_time": "2021-11-17T21:38:48.896Z"
   },
   {
    "duration": 2,
    "start_time": "2021-11-17T21:38:49.171Z"
   },
   {
    "duration": 4,
    "start_time": "2021-11-17T21:39:57.889Z"
   },
   {
    "duration": 3,
    "start_time": "2021-11-17T21:39:58.057Z"
   },
   {
    "duration": 3,
    "start_time": "2021-11-17T21:41:20.108Z"
   },
   {
    "duration": 3,
    "start_time": "2021-11-17T21:41:20.629Z"
   },
   {
    "duration": 3,
    "start_time": "2021-11-17T21:42:49.136Z"
   },
   {
    "duration": 3,
    "start_time": "2021-11-17T21:43:15.137Z"
   },
   {
    "duration": 4,
    "start_time": "2021-11-17T21:43:16.766Z"
   },
   {
    "duration": 4,
    "start_time": "2021-11-17T21:43:31.711Z"
   },
   {
    "duration": 3,
    "start_time": "2021-11-17T21:43:36.312Z"
   },
   {
    "duration": 4,
    "start_time": "2021-11-17T21:45:08.825Z"
   },
   {
    "duration": 4,
    "start_time": "2021-11-17T21:45:10.119Z"
   },
   {
    "duration": 4,
    "start_time": "2021-11-17T21:45:13.748Z"
   },
   {
    "duration": 3,
    "start_time": "2021-11-17T21:45:22.219Z"
   },
   {
    "duration": 3,
    "start_time": "2021-11-17T21:45:33.412Z"
   },
   {
    "duration": 2,
    "start_time": "2021-11-17T21:46:01.885Z"
   },
   {
    "duration": 3,
    "start_time": "2021-11-17T21:46:03.628Z"
   },
   {
    "duration": 107,
    "start_time": "2021-11-17T21:47:32.512Z"
   },
   {
    "duration": 103,
    "start_time": "2021-11-17T21:50:36.243Z"
   },
   {
    "duration": 3,
    "start_time": "2021-11-18T06:28:31.440Z"
   },
   {
    "duration": 3,
    "start_time": "2021-11-18T06:29:00.168Z"
   },
   {
    "duration": 3,
    "start_time": "2021-11-18T06:31:27.008Z"
   },
   {
    "duration": 2,
    "start_time": "2021-11-18T06:35:34.288Z"
   },
   {
    "duration": 2,
    "start_time": "2021-11-18T06:38:04.527Z"
   },
   {
    "duration": 838,
    "start_time": "2024-07-30T00:29:19.659Z"
   },
   {
    "duration": 353,
    "start_time": "2024-07-30T00:29:21.400Z"
   },
   {
    "duration": 100,
    "start_time": "2024-07-30T00:30:19.101Z"
   },
   {
    "duration": 85,
    "start_time": "2024-07-30T00:31:03.904Z"
   },
   {
    "duration": 83,
    "start_time": "2024-07-30T00:31:32.843Z"
   },
   {
    "duration": 29,
    "start_time": "2024-07-30T00:33:04.301Z"
   },
   {
    "duration": 9,
    "start_time": "2024-07-30T00:33:25.254Z"
   },
   {
    "duration": 30,
    "start_time": "2024-07-30T00:33:32.331Z"
   },
   {
    "duration": 919,
    "start_time": "2024-07-30T00:33:50.080Z"
   },
   {
    "duration": 28,
    "start_time": "2024-07-30T00:34:23.234Z"
   },
   {
    "duration": 31,
    "start_time": "2024-07-30T00:34:36.005Z"
   },
   {
    "duration": 74,
    "start_time": "2024-07-30T00:34:42.952Z"
   },
   {
    "duration": 30,
    "start_time": "2024-07-30T00:34:51.016Z"
   },
   {
    "duration": 31,
    "start_time": "2024-07-30T00:38:18.864Z"
   },
   {
    "duration": 23,
    "start_time": "2024-07-30T00:42:46.790Z"
   },
   {
    "duration": 29,
    "start_time": "2024-07-30T00:43:47.021Z"
   },
   {
    "duration": 16,
    "start_time": "2024-07-30T00:44:45.472Z"
   },
   {
    "duration": 14,
    "start_time": "2024-07-30T00:44:57.341Z"
   },
   {
    "duration": 20,
    "start_time": "2024-07-30T00:45:50.882Z"
   },
   {
    "duration": 20,
    "start_time": "2024-07-30T00:45:59.040Z"
   },
   {
    "duration": 18,
    "start_time": "2024-07-30T00:46:04.587Z"
   },
   {
    "duration": 13,
    "start_time": "2024-07-30T00:56:49.710Z"
   },
   {
    "duration": 12,
    "start_time": "2024-07-30T00:57:10.905Z"
   },
   {
    "duration": 48,
    "start_time": "2024-07-30T00:57:15.435Z"
   },
   {
    "duration": 16,
    "start_time": "2024-07-30T00:57:19.589Z"
   },
   {
    "duration": 45,
    "start_time": "2024-07-30T00:57:32.193Z"
   },
   {
    "duration": 12,
    "start_time": "2024-07-30T00:57:35.469Z"
   },
   {
    "duration": 7,
    "start_time": "2024-07-30T01:03:56.979Z"
   },
   {
    "duration": 12,
    "start_time": "2024-07-30T01:04:25.029Z"
   },
   {
    "duration": 5,
    "start_time": "2024-07-30T01:05:06.063Z"
   },
   {
    "duration": 11,
    "start_time": "2024-07-30T01:08:42.202Z"
   },
   {
    "duration": 16,
    "start_time": "2024-07-30T01:08:51.848Z"
   },
   {
    "duration": 13,
    "start_time": "2024-07-30T01:09:15.267Z"
   },
   {
    "duration": 25,
    "start_time": "2024-07-30T01:09:36.982Z"
   },
   {
    "duration": 15,
    "start_time": "2024-07-30T01:09:42.042Z"
   },
   {
    "duration": 7,
    "start_time": "2024-07-30T01:15:45.051Z"
   },
   {
    "duration": 10,
    "start_time": "2024-07-30T01:16:52.115Z"
   },
   {
    "duration": 9,
    "start_time": "2024-07-30T01:17:27.342Z"
   },
   {
    "duration": 17,
    "start_time": "2024-07-30T01:17:39.243Z"
   },
   {
    "duration": 5,
    "start_time": "2024-07-30T01:23:16.297Z"
   },
   {
    "duration": 15,
    "start_time": "2024-07-30T01:23:28.196Z"
   },
   {
    "duration": 8,
    "start_time": "2024-07-30T01:23:50.130Z"
   },
   {
    "duration": 25,
    "start_time": "2024-07-30T01:24:02.379Z"
   },
   {
    "duration": 17,
    "start_time": "2024-07-30T01:25:52.789Z"
   },
   {
    "duration": 31,
    "start_time": "2024-07-30T01:31:26.687Z"
   },
   {
    "duration": 23,
    "start_time": "2024-07-30T01:31:40.638Z"
   },
   {
    "duration": 17,
    "start_time": "2024-07-30T01:33:22.763Z"
   },
   {
    "duration": 20,
    "start_time": "2024-07-30T01:33:40.422Z"
   },
   {
    "duration": 22,
    "start_time": "2024-07-30T01:33:50.568Z"
   },
   {
    "duration": 5,
    "start_time": "2024-07-30T01:34:12.047Z"
   },
   {
    "duration": 11,
    "start_time": "2024-07-30T01:35:38.203Z"
   },
   {
    "duration": 17,
    "start_time": "2024-07-30T01:36:28.664Z"
   },
   {
    "duration": 89,
    "start_time": "2024-07-30T01:36:39.007Z"
   },
   {
    "duration": 868,
    "start_time": "2024-07-30T01:38:03.152Z"
   },
   {
    "duration": 12,
    "start_time": "2024-07-30T01:38:39.146Z"
   },
   {
    "duration": 29,
    "start_time": "2024-07-30T01:38:51.040Z"
   },
   {
    "duration": 16,
    "start_time": "2024-07-30T01:38:56.489Z"
   },
   {
    "duration": 22,
    "start_time": "2024-07-30T01:49:54.078Z"
   },
   {
    "duration": 14,
    "start_time": "2024-07-30T01:50:12.333Z"
   },
   {
    "duration": 15,
    "start_time": "2024-07-30T01:50:16.116Z"
   },
   {
    "duration": 42,
    "start_time": "2024-07-30T01:55:27.720Z"
   },
   {
    "duration": 25,
    "start_time": "2024-07-30T01:55:43.789Z"
   },
   {
    "duration": 32,
    "start_time": "2024-07-30T01:58:56.408Z"
   },
   {
    "duration": 28,
    "start_time": "2024-07-30T01:59:01.558Z"
   },
   {
    "duration": 13,
    "start_time": "2024-07-30T01:59:11.773Z"
   },
   {
    "duration": 14,
    "start_time": "2024-07-30T02:00:12.071Z"
   },
   {
    "duration": 21,
    "start_time": "2024-07-30T03:22:04.842Z"
   },
   {
    "duration": 19,
    "start_time": "2024-07-30T03:26:55.362Z"
   },
   {
    "duration": 6,
    "start_time": "2024-07-30T03:27:13.076Z"
   },
   {
    "duration": 36,
    "start_time": "2024-07-30T03:27:18.780Z"
   },
   {
    "duration": 337,
    "start_time": "2024-07-30T03:28:42.268Z"
   },
   {
    "duration": 249,
    "start_time": "2024-07-30T03:28:56.396Z"
   },
   {
    "duration": 24,
    "start_time": "2024-07-30T03:29:41.052Z"
   },
   {
    "duration": 22,
    "start_time": "2024-07-30T03:29:52.085Z"
   },
   {
    "duration": 15,
    "start_time": "2024-07-30T03:30:18.822Z"
   },
   {
    "duration": 22,
    "start_time": "2024-07-30T03:30:23.621Z"
   },
   {
    "duration": 20,
    "start_time": "2024-07-30T03:30:39.596Z"
   },
   {
    "duration": 33,
    "start_time": "2024-07-30T03:31:17.126Z"
   },
   {
    "duration": 41,
    "start_time": "2024-07-30T03:31:26.892Z"
   },
   {
    "duration": 30,
    "start_time": "2024-07-30T03:31:32.029Z"
   },
   {
    "duration": 43,
    "start_time": "2024-07-30T03:32:15.205Z"
   },
   {
    "duration": 27,
    "start_time": "2024-07-30T03:36:46.157Z"
   },
   {
    "duration": 21,
    "start_time": "2024-07-30T03:37:02.559Z"
   },
   {
    "duration": 13,
    "start_time": "2024-07-30T03:37:32.442Z"
   },
   {
    "duration": 1032,
    "start_time": "2024-07-30T03:37:39.766Z"
   },
   {
    "duration": 15,
    "start_time": "2024-07-30T03:38:08.670Z"
   },
   {
    "duration": 34,
    "start_time": "2024-07-30T03:40:11.431Z"
   },
   {
    "duration": 41,
    "start_time": "2024-07-30T03:40:23.065Z"
   },
   {
    "duration": 19,
    "start_time": "2024-07-30T03:41:01.828Z"
   },
   {
    "duration": 17,
    "start_time": "2024-07-30T03:41:31.192Z"
   },
   {
    "duration": 28,
    "start_time": "2024-07-30T03:41:46.665Z"
   },
   {
    "duration": 22,
    "start_time": "2024-07-30T03:42:13.528Z"
   },
   {
    "duration": 7,
    "start_time": "2024-07-30T03:42:33.798Z"
   },
   {
    "duration": 21,
    "start_time": "2024-07-30T03:42:51.813Z"
   },
   {
    "duration": 61,
    "start_time": "2024-07-30T03:43:14.574Z"
   },
   {
    "duration": 67,
    "start_time": "2024-07-30T03:43:33.637Z"
   },
   {
    "duration": 27,
    "start_time": "2024-07-30T03:46:26.099Z"
   },
   {
    "duration": 17,
    "start_time": "2024-07-30T03:46:58.042Z"
   },
   {
    "duration": 26,
    "start_time": "2024-07-30T03:47:58.258Z"
   },
   {
    "duration": 10,
    "start_time": "2024-07-30T03:48:03.970Z"
   },
   {
    "duration": 10,
    "start_time": "2024-07-30T03:49:10.248Z"
   },
   {
    "duration": 15,
    "start_time": "2024-07-30T03:49:27.222Z"
   },
   {
    "duration": 12,
    "start_time": "2024-07-30T03:55:50.576Z"
   },
   {
    "duration": 15,
    "start_time": "2024-07-30T03:55:54.289Z"
   },
   {
    "duration": 12,
    "start_time": "2024-07-30T03:55:55.352Z"
   },
   {
    "duration": 12,
    "start_time": "2024-07-30T03:55:56.145Z"
   },
   {
    "duration": 15,
    "start_time": "2024-07-30T03:55:57.520Z"
   },
   {
    "duration": 909,
    "start_time": "2024-07-30T17:11:07.325Z"
   },
   {
    "duration": 379,
    "start_time": "2024-07-30T17:11:08.237Z"
   },
   {
    "duration": 18,
    "start_time": "2024-07-30T17:11:08.619Z"
   },
   {
    "duration": 20,
    "start_time": "2024-07-30T17:11:08.643Z"
   },
   {
    "duration": 6,
    "start_time": "2024-07-30T17:11:08.667Z"
   },
   {
    "duration": 57,
    "start_time": "2024-07-30T17:11:08.677Z"
   },
   {
    "duration": 14,
    "start_time": "2024-07-30T17:11:08.737Z"
   },
   {
    "duration": 16,
    "start_time": "2024-07-30T17:11:08.755Z"
   },
   {
    "duration": 60,
    "start_time": "2024-07-30T17:11:08.775Z"
   },
   {
    "duration": 9,
    "start_time": "2024-07-30T17:11:08.841Z"
   },
   {
    "duration": 27,
    "start_time": "2024-07-30T17:11:08.853Z"
   },
   {
    "duration": 56,
    "start_time": "2024-07-30T17:11:08.883Z"
   },
   {
    "duration": 34,
    "start_time": "2024-07-30T17:11:08.942Z"
   },
   {
    "duration": 22,
    "start_time": "2024-07-30T17:11:08.979Z"
   },
   {
    "duration": 48,
    "start_time": "2024-07-30T17:11:09.003Z"
   },
   {
    "duration": 25,
    "start_time": "2024-07-30T17:11:09.054Z"
   },
   {
    "duration": 52,
    "start_time": "2024-07-30T17:11:09.082Z"
   },
   {
    "duration": 24,
    "start_time": "2024-07-30T17:11:09.137Z"
   },
   {
    "duration": 16,
    "start_time": "2024-07-30T17:11:09.165Z"
   },
   {
    "duration": 63,
    "start_time": "2024-07-30T17:11:09.185Z"
   },
   {
    "duration": 19,
    "start_time": "2024-07-30T17:11:09.251Z"
   },
   {
    "duration": 16,
    "start_time": "2024-07-30T17:11:09.273Z"
   },
   {
    "duration": 52,
    "start_time": "2024-07-30T17:11:09.292Z"
   },
   {
    "duration": 11,
    "start_time": "2024-07-30T17:11:09.347Z"
   },
   {
    "duration": 14,
    "start_time": "2024-07-30T17:11:09.361Z"
   },
   {
    "duration": 16,
    "start_time": "2024-07-30T17:11:09.378Z"
   },
   {
    "duration": 6,
    "start_time": "2024-07-30T17:11:34.365Z"
   },
   {
    "duration": 1479,
    "start_time": "2024-07-30T17:17:12.168Z"
   },
   {
    "duration": 14,
    "start_time": "2024-07-30T17:17:21.327Z"
   },
   {
    "duration": 15,
    "start_time": "2024-07-30T17:17:59.503Z"
   },
   {
    "duration": 18,
    "start_time": "2024-07-30T17:18:28.406Z"
   },
   {
    "duration": 17,
    "start_time": "2024-07-30T17:19:36.549Z"
   },
   {
    "duration": 23,
    "start_time": "2024-07-30T17:19:59.560Z"
   },
   {
    "duration": 9,
    "start_time": "2024-07-30T17:24:49.662Z"
   },
   {
    "duration": 48,
    "start_time": "2024-07-30T17:27:14.883Z"
   },
   {
    "duration": 39,
    "start_time": "2024-07-30T17:30:23.564Z"
   },
   {
    "duration": 3,
    "start_time": "2024-07-30T17:31:22.773Z"
   },
   {
    "duration": 272,
    "start_time": "2024-07-30T17:31:22.780Z"
   },
   {
    "duration": 16,
    "start_time": "2024-07-30T17:31:23.055Z"
   },
   {
    "duration": 17,
    "start_time": "2024-07-30T17:31:23.076Z"
   },
   {
    "duration": 6,
    "start_time": "2024-07-30T17:31:23.096Z"
   },
   {
    "duration": 18,
    "start_time": "2024-07-30T17:31:23.133Z"
   },
   {
    "duration": 18,
    "start_time": "2024-07-30T17:31:23.155Z"
   },
   {
    "duration": 18,
    "start_time": "2024-07-30T17:31:23.178Z"
   },
   {
    "duration": 18,
    "start_time": "2024-07-30T17:31:23.236Z"
   },
   {
    "duration": 10,
    "start_time": "2024-07-30T17:31:23.257Z"
   },
   {
    "duration": 67,
    "start_time": "2024-07-30T17:31:23.271Z"
   },
   {
    "duration": 18,
    "start_time": "2024-07-30T17:31:23.342Z"
   },
   {
    "duration": 32,
    "start_time": "2024-07-30T17:31:23.363Z"
   },
   {
    "duration": 44,
    "start_time": "2024-07-30T17:31:23.398Z"
   },
   {
    "duration": 20,
    "start_time": "2024-07-30T17:31:23.445Z"
   },
   {
    "duration": 23,
    "start_time": "2024-07-30T17:31:23.468Z"
   },
   {
    "duration": 52,
    "start_time": "2024-07-30T17:31:23.494Z"
   },
   {
    "duration": 23,
    "start_time": "2024-07-30T17:31:23.548Z"
   },
   {
    "duration": 16,
    "start_time": "2024-07-30T17:31:23.573Z"
   },
   {
    "duration": 56,
    "start_time": "2024-07-30T17:31:23.592Z"
   },
   {
    "duration": 15,
    "start_time": "2024-07-30T17:31:23.651Z"
   },
   {
    "duration": 15,
    "start_time": "2024-07-30T17:31:23.669Z"
   },
   {
    "duration": 55,
    "start_time": "2024-07-30T17:31:23.686Z"
   },
   {
    "duration": 14,
    "start_time": "2024-07-30T17:31:23.747Z"
   },
   {
    "duration": 16,
    "start_time": "2024-07-30T17:31:23.764Z"
   },
   {
    "duration": 52,
    "start_time": "2024-07-30T17:31:23.783Z"
   },
   {
    "duration": 36,
    "start_time": "2024-07-30T17:31:25.739Z"
   },
   {
    "duration": 27,
    "start_time": "2024-07-30T17:32:21.167Z"
   },
   {
    "duration": 35,
    "start_time": "2024-07-30T17:32:26.373Z"
   },
   {
    "duration": 21,
    "start_time": "2024-07-30T17:32:54.412Z"
   },
   {
    "duration": 22,
    "start_time": "2024-07-30T17:33:09.906Z"
   },
   {
    "duration": 28,
    "start_time": "2024-07-30T17:33:32.115Z"
   },
   {
    "duration": 42,
    "start_time": "2024-07-30T17:34:34.350Z"
   },
   {
    "duration": 23,
    "start_time": "2024-07-30T17:34:58.446Z"
   },
   {
    "duration": 23,
    "start_time": "2024-07-30T17:35:04.480Z"
   },
   {
    "duration": 30,
    "start_time": "2024-07-30T17:39:04.457Z"
   },
   {
    "duration": 12,
    "start_time": "2024-07-30T17:42:29.014Z"
   },
   {
    "duration": 24,
    "start_time": "2024-07-30T17:45:56.065Z"
   },
   {
    "duration": 32,
    "start_time": "2024-07-30T17:46:02.159Z"
   },
   {
    "duration": 36,
    "start_time": "2024-07-30T17:46:13.680Z"
   },
   {
    "duration": 27,
    "start_time": "2024-07-30T17:46:23.166Z"
   },
   {
    "duration": 27,
    "start_time": "2024-07-30T17:46:31.184Z"
   },
   {
    "duration": 9,
    "start_time": "2024-07-30T17:56:06.076Z"
   },
   {
    "duration": 19,
    "start_time": "2024-07-30T17:56:36.514Z"
   },
   {
    "duration": 41,
    "start_time": "2024-07-30T17:56:43.692Z"
   },
   {
    "duration": 23,
    "start_time": "2024-07-30T19:38:22.526Z"
   },
   {
    "duration": 10,
    "start_time": "2024-07-30T19:38:26.488Z"
   },
   {
    "duration": 184,
    "start_time": "2024-07-30T19:38:45.954Z"
   },
   {
    "duration": 73,
    "start_time": "2024-07-30T19:38:51.411Z"
   },
   {
    "duration": 7,
    "start_time": "2024-07-30T19:39:02.476Z"
   },
   {
    "duration": 74,
    "start_time": "2024-07-30T19:39:09.363Z"
   },
   {
    "duration": 13,
    "start_time": "2024-07-30T19:39:21.760Z"
   },
   {
    "duration": 263,
    "start_time": "2024-07-30T19:40:34.465Z"
   },
   {
    "duration": 62,
    "start_time": "2024-07-30T19:40:59.703Z"
   },
   {
    "duration": 7,
    "start_time": "2024-07-30T19:41:34.507Z"
   },
   {
    "duration": 91,
    "start_time": "2024-07-30T19:44:36.777Z"
   },
   {
    "duration": 96,
    "start_time": "2024-07-30T19:44:50.438Z"
   },
   {
    "duration": 84,
    "start_time": "2024-07-30T19:44:57.148Z"
   },
   {
    "duration": 51,
    "start_time": "2024-07-30T19:45:47.324Z"
   },
   {
    "duration": 11,
    "start_time": "2024-07-30T19:46:30.500Z"
   },
   {
    "duration": 13,
    "start_time": "2024-07-30T19:46:46.279Z"
   },
   {
    "duration": 13,
    "start_time": "2024-07-30T19:48:02.453Z"
   },
   {
    "duration": 11,
    "start_time": "2024-07-30T19:48:22.273Z"
   },
   {
    "duration": 12,
    "start_time": "2024-07-30T19:48:29.670Z"
   },
   {
    "duration": 19,
    "start_time": "2024-07-30T19:48:35.957Z"
   },
   {
    "duration": 7,
    "start_time": "2024-07-30T19:49:00.346Z"
   },
   {
    "duration": 11,
    "start_time": "2024-07-30T19:49:05.667Z"
   },
   {
    "duration": 16,
    "start_time": "2024-07-30T19:50:31.391Z"
   },
   {
    "duration": 16,
    "start_time": "2024-07-30T19:51:20.970Z"
   },
   {
    "duration": 18,
    "start_time": "2024-07-30T19:53:03.558Z"
   },
   {
    "duration": 92,
    "start_time": "2024-07-30T19:54:25.930Z"
   },
   {
    "duration": 21,
    "start_time": "2024-07-30T19:54:33.483Z"
   },
   {
    "duration": 17,
    "start_time": "2024-07-30T19:54:51.809Z"
   },
   {
    "duration": 20,
    "start_time": "2024-07-30T19:57:22.203Z"
   },
   {
    "duration": 25,
    "start_time": "2024-07-30T19:58:25.547Z"
   },
   {
    "duration": 25,
    "start_time": "2024-07-30T20:00:03.597Z"
   },
   {
    "duration": 25,
    "start_time": "2024-07-30T20:01:19.278Z"
   },
   {
    "duration": 29,
    "start_time": "2024-07-30T20:04:17.790Z"
   },
   {
    "duration": 40,
    "start_time": "2024-07-30T20:04:28.510Z"
   },
   {
    "duration": 32,
    "start_time": "2024-07-30T20:04:39.025Z"
   },
   {
    "duration": 10,
    "start_time": "2024-07-30T20:05:03.562Z"
   },
   {
    "duration": 22,
    "start_time": "2024-07-30T20:05:07.824Z"
   },
   {
    "duration": 23,
    "start_time": "2024-07-30T20:05:32.460Z"
   },
   {
    "duration": 80,
    "start_time": "2024-07-30T20:09:09.270Z"
   },
   {
    "duration": 25,
    "start_time": "2024-07-30T20:09:14.812Z"
   },
   {
    "duration": 81,
    "start_time": "2024-07-30T20:09:19.089Z"
   },
   {
    "duration": 14,
    "start_time": "2024-07-30T20:09:47.390Z"
   },
   {
    "duration": 7,
    "start_time": "2024-07-30T20:10:27.173Z"
   },
   {
    "duration": 7,
    "start_time": "2024-07-30T20:10:39.129Z"
   },
   {
    "duration": 8,
    "start_time": "2024-07-30T20:10:42.940Z"
   },
   {
    "duration": 13,
    "start_time": "2024-07-30T20:10:48.084Z"
   },
   {
    "duration": 10,
    "start_time": "2024-07-30T20:12:04.372Z"
   },
   {
    "duration": 16,
    "start_time": "2024-07-30T20:12:16.514Z"
   },
   {
    "duration": 16,
    "start_time": "2024-07-30T20:12:48.648Z"
   },
   {
    "duration": 15,
    "start_time": "2024-07-30T20:12:55.616Z"
   },
   {
    "duration": 8,
    "start_time": "2024-07-30T20:15:45.756Z"
   },
   {
    "duration": 19,
    "start_time": "2024-07-30T20:15:55.163Z"
   },
   {
    "duration": 19,
    "start_time": "2024-07-30T20:16:46.553Z"
   },
   {
    "duration": 18,
    "start_time": "2024-07-30T20:16:59.048Z"
   },
   {
    "duration": 14,
    "start_time": "2024-07-30T20:17:35.988Z"
   },
   {
    "duration": 14,
    "start_time": "2024-07-30T20:17:44.484Z"
   },
   {
    "duration": 17,
    "start_time": "2024-07-30T20:18:00.714Z"
   },
   {
    "duration": 10,
    "start_time": "2024-07-30T20:18:33.950Z"
   },
   {
    "duration": 16,
    "start_time": "2024-07-30T20:18:47.290Z"
   },
   {
    "duration": 16,
    "start_time": "2024-07-30T20:19:10.158Z"
   },
   {
    "duration": 18,
    "start_time": "2024-07-30T20:19:34.119Z"
   },
   {
    "duration": 8,
    "start_time": "2024-07-30T20:19:47.006Z"
   },
   {
    "duration": 15,
    "start_time": "2024-07-30T20:20:29.425Z"
   },
   {
    "duration": 18,
    "start_time": "2024-07-30T20:24:11.242Z"
   },
   {
    "duration": 17,
    "start_time": "2024-07-30T20:24:53.666Z"
   },
   {
    "duration": 17,
    "start_time": "2024-07-30T20:25:00.589Z"
   },
   {
    "duration": 141,
    "start_time": "2024-07-30T20:25:16.340Z"
   },
   {
    "duration": 18,
    "start_time": "2024-07-30T20:25:20.195Z"
   },
   {
    "duration": 64,
    "start_time": "2024-07-30T20:31:09.176Z"
   },
   {
    "duration": 85,
    "start_time": "2024-07-30T20:31:20.904Z"
   },
   {
    "duration": 68,
    "start_time": "2024-07-30T20:31:30.656Z"
   },
   {
    "duration": 234,
    "start_time": "2024-07-30T20:39:37.760Z"
   },
   {
    "duration": 23,
    "start_time": "2024-07-30T20:39:47.743Z"
   },
   {
    "duration": 24,
    "start_time": "2024-07-30T20:40:43.191Z"
   },
   {
    "duration": 23,
    "start_time": "2024-07-30T20:47:20.885Z"
   },
   {
    "duration": 278,
    "start_time": "2024-07-30T20:47:42.673Z"
   },
   {
    "duration": 329,
    "start_time": "2024-07-30T23:05:25.515Z"
   },
   {
    "duration": 964,
    "start_time": "2024-07-30T23:05:41.163Z"
   },
   {
    "duration": 349,
    "start_time": "2024-07-30T23:05:42.131Z"
   },
   {
    "duration": 18,
    "start_time": "2024-07-30T23:05:42.483Z"
   },
   {
    "duration": 31,
    "start_time": "2024-07-30T23:05:42.504Z"
   },
   {
    "duration": 5,
    "start_time": "2024-07-30T23:05:42.540Z"
   },
   {
    "duration": 16,
    "start_time": "2024-07-30T23:05:42.549Z"
   },
   {
    "duration": 15,
    "start_time": "2024-07-30T23:05:42.568Z"
   },
   {
    "duration": 52,
    "start_time": "2024-07-30T23:05:42.586Z"
   },
   {
    "duration": 20,
    "start_time": "2024-07-30T23:05:42.641Z"
   },
   {
    "duration": 9,
    "start_time": "2024-07-30T23:05:42.665Z"
   },
   {
    "duration": 67,
    "start_time": "2024-07-30T23:05:42.678Z"
   },
   {
    "duration": 19,
    "start_time": "2024-07-30T23:05:42.749Z"
   },
   {
    "duration": 34,
    "start_time": "2024-07-30T23:05:42.771Z"
   },
   {
    "duration": 21,
    "start_time": "2024-07-30T23:05:42.840Z"
   },
   {
    "duration": 20,
    "start_time": "2024-07-30T23:05:42.863Z"
   },
   {
    "duration": 57,
    "start_time": "2024-07-30T23:05:42.885Z"
   },
   {
    "duration": 16,
    "start_time": "2024-07-30T23:05:42.945Z"
   },
   {
    "duration": 22,
    "start_time": "2024-07-30T23:05:42.963Z"
   },
   {
    "duration": 47,
    "start_time": "2024-07-30T23:05:42.988Z"
   },
   {
    "duration": 26,
    "start_time": "2024-07-30T23:05:43.039Z"
   },
   {
    "duration": 14,
    "start_time": "2024-07-30T23:05:43.068Z"
   },
   {
    "duration": 53,
    "start_time": "2024-07-30T23:05:43.086Z"
   },
   {
    "duration": 28,
    "start_time": "2024-07-30T23:05:43.142Z"
   },
   {
    "duration": 22,
    "start_time": "2024-07-30T23:05:43.172Z"
   },
   {
    "duration": 49,
    "start_time": "2024-07-30T23:05:43.197Z"
   },
   {
    "duration": 19,
    "start_time": "2024-07-30T23:05:43.249Z"
   },
   {
    "duration": 28,
    "start_time": "2024-07-30T23:05:43.270Z"
   },
   {
    "duration": 69,
    "start_time": "2024-07-30T23:05:43.301Z"
   },
   {
    "duration": 961,
    "start_time": "2024-07-30T23:05:43.373Z"
   },
   {
    "duration": 25,
    "start_time": "2024-07-30T23:06:16.769Z"
   },
   {
    "duration": 341,
    "start_time": "2024-07-30T23:06:25.293Z"
   },
   {
    "duration": 29,
    "start_time": "2024-07-30T23:06:50.165Z"
   },
   {
    "duration": 255,
    "start_time": "2024-07-30T23:07:17.524Z"
   },
   {
    "duration": 49,
    "start_time": "2024-07-30T23:09:03.457Z"
   },
   {
    "duration": 86,
    "start_time": "2024-07-30T23:10:14.747Z"
   },
   {
    "duration": 89,
    "start_time": "2024-07-30T23:10:23.704Z"
   },
   {
    "duration": 34,
    "start_time": "2024-07-30T23:10:28.778Z"
   },
   {
    "duration": 14,
    "start_time": "2024-07-30T23:11:07.502Z"
   },
   {
    "duration": 18,
    "start_time": "2024-07-30T23:12:16.885Z"
   },
   {
    "duration": 23,
    "start_time": "2024-07-30T23:12:58.857Z"
   },
   {
    "duration": 83,
    "start_time": "2024-07-30T23:13:04.644Z"
   },
   {
    "duration": 48,
    "start_time": "2024-07-30T23:13:11.676Z"
   },
   {
    "duration": 20,
    "start_time": "2024-07-30T23:13:25.142Z"
   },
   {
    "duration": 14,
    "start_time": "2024-07-30T23:13:30.396Z"
   },
   {
    "duration": 26,
    "start_time": "2024-07-30T23:13:38.955Z"
   },
   {
    "duration": 88,
    "start_time": "2024-07-30T23:16:37.616Z"
   },
   {
    "duration": 63,
    "start_time": "2024-07-30T23:17:41.525Z"
   },
   {
    "duration": 8,
    "start_time": "2024-07-30T23:17:46.839Z"
   },
   {
    "duration": 6,
    "start_time": "2024-07-30T23:17:51.984Z"
   },
   {
    "duration": 3,
    "start_time": "2024-07-30T23:17:52.284Z"
   },
   {
    "duration": 91,
    "start_time": "2024-07-30T23:17:54.756Z"
   },
   {
    "duration": 82,
    "start_time": "2024-07-30T23:19:51.080Z"
   },
   {
    "duration": 71,
    "start_time": "2024-07-30T23:19:58.607Z"
   },
   {
    "duration": 81,
    "start_time": "2024-07-30T23:20:03.365Z"
   },
   {
    "duration": 85,
    "start_time": "2024-07-30T23:20:06.806Z"
   },
   {
    "duration": 60,
    "start_time": "2024-07-30T23:20:19.589Z"
   },
   {
    "duration": 85,
    "start_time": "2024-07-30T23:20:32.154Z"
   },
   {
    "duration": 57,
    "start_time": "2024-07-30T23:21:08.815Z"
   },
   {
    "duration": 64,
    "start_time": "2024-07-30T23:21:19.300Z"
   },
   {
    "duration": 70,
    "start_time": "2024-07-30T23:21:39.290Z"
   },
   {
    "duration": 136,
    "start_time": "2024-07-30T23:22:01.169Z"
   },
   {
    "duration": 133,
    "start_time": "2024-07-30T23:22:12.124Z"
   },
   {
    "duration": 137,
    "start_time": "2024-07-30T23:22:18.856Z"
   },
   {
    "duration": 82,
    "start_time": "2024-07-30T23:22:42.225Z"
   },
   {
    "duration": 80,
    "start_time": "2024-07-30T23:22:52.362Z"
   },
   {
    "duration": 98,
    "start_time": "2024-07-30T23:23:05.614Z"
   },
   {
    "duration": 83,
    "start_time": "2024-07-30T23:23:10.253Z"
   },
   {
    "duration": 32,
    "start_time": "2024-07-30T23:23:53.767Z"
   },
   {
    "duration": 32,
    "start_time": "2024-07-30T23:24:35.502Z"
   },
   {
    "duration": 23,
    "start_time": "2024-07-30T23:25:39.791Z"
   },
   {
    "duration": 23,
    "start_time": "2024-07-30T23:25:48.650Z"
   },
   {
    "duration": 4420,
    "start_time": "2024-07-30T23:26:55.532Z"
   },
   {
    "duration": 98,
    "start_time": "2024-07-30T23:28:30.920Z"
   },
   {
    "duration": 96,
    "start_time": "2024-07-30T23:28:38.675Z"
   },
   {
    "duration": 34,
    "start_time": "2024-07-30T23:29:02.145Z"
   },
   {
    "duration": 283,
    "start_time": "2024-07-30T23:29:14.896Z"
   },
   {
    "duration": 2125,
    "start_time": "2024-07-30T23:29:41.767Z"
   },
   {
    "duration": 262,
    "start_time": "2024-07-30T23:29:53.350Z"
   },
   {
    "duration": 95,
    "start_time": "2024-07-30T23:30:26.160Z"
   },
   {
    "duration": 83,
    "start_time": "2024-07-30T23:30:33.298Z"
   },
   {
    "duration": 131,
    "start_time": "2024-07-30T23:30:59.015Z"
   },
   {
    "duration": 128,
    "start_time": "2024-07-30T23:31:08.780Z"
   },
   {
    "duration": 129,
    "start_time": "2024-07-30T23:31:14.160Z"
   },
   {
    "duration": 123,
    "start_time": "2024-07-30T23:31:32.212Z"
   },
   {
    "duration": 128,
    "start_time": "2024-07-30T23:31:37.302Z"
   },
   {
    "duration": 470,
    "start_time": "2024-07-30T23:32:03.331Z"
   },
   {
    "duration": 532,
    "start_time": "2024-07-30T23:32:19.502Z"
   },
   {
    "duration": 598,
    "start_time": "2024-07-30T23:33:02.280Z"
   },
   {
    "duration": 168,
    "start_time": "2024-07-30T23:37:03.930Z"
   },
   {
    "duration": 487,
    "start_time": "2024-07-30T23:38:04.257Z"
   },
   {
    "duration": 143,
    "start_time": "2024-07-30T23:38:53.626Z"
   },
   {
    "duration": 454,
    "start_time": "2024-07-30T23:38:59.155Z"
   },
   {
    "duration": 438,
    "start_time": "2024-07-30T23:39:42.878Z"
   },
   {
    "duration": 47,
    "start_time": "2024-07-30T23:43:59.964Z"
   },
   {
    "duration": 196,
    "start_time": "2024-07-30T23:44:04.674Z"
   },
   {
    "duration": 419,
    "start_time": "2024-07-30T23:44:39.160Z"
   },
   {
    "duration": 330,
    "start_time": "2024-07-30T23:45:11.556Z"
   },
   {
    "duration": 341,
    "start_time": "2024-07-30T23:46:11.234Z"
   },
   {
    "duration": 19,
    "start_time": "2024-07-30T23:57:09.139Z"
   },
   {
    "duration": 7,
    "start_time": "2024-07-30T23:57:26.459Z"
   },
   {
    "duration": 23,
    "start_time": "2024-07-30T23:57:31.449Z"
   },
   {
    "duration": 11,
    "start_time": "2024-07-30T23:58:51.930Z"
   },
   {
    "duration": 11,
    "start_time": "2024-07-31T00:00:34.178Z"
   },
   {
    "duration": 12,
    "start_time": "2024-07-31T00:00:39.600Z"
   },
   {
    "duration": 12,
    "start_time": "2024-07-31T00:00:49.858Z"
   },
   {
    "duration": 12,
    "start_time": "2024-07-31T00:01:02.672Z"
   },
   {
    "duration": 14,
    "start_time": "2024-07-31T00:01:16.044Z"
   },
   {
    "duration": 21,
    "start_time": "2024-07-31T00:02:15.099Z"
   },
   {
    "duration": 23,
    "start_time": "2024-07-31T00:02:38.663Z"
   },
   {
    "duration": 380,
    "start_time": "2024-07-31T00:02:52.045Z"
   },
   {
    "duration": 26,
    "start_time": "2024-07-31T00:03:05.040Z"
   },
   {
    "duration": 189,
    "start_time": "2024-07-31T00:03:19.715Z"
   },
   {
    "duration": 24,
    "start_time": "2024-07-31T00:03:34.056Z"
   },
   {
    "duration": 34,
    "start_time": "2024-07-31T00:06:14.427Z"
   },
   {
    "duration": 42,
    "start_time": "2024-07-31T00:06:27.338Z"
   },
   {
    "duration": 353,
    "start_time": "2024-07-31T00:07:14.520Z"
   },
   {
    "duration": 4,
    "start_time": "2024-07-31T00:07:33.246Z"
   },
   {
    "duration": 18,
    "start_time": "2024-07-31T00:07:58.369Z"
   },
   {
    "duration": 62,
    "start_time": "2024-07-31T00:09:01.149Z"
   },
   {
    "duration": 39,
    "start_time": "2024-07-31T00:09:32.039Z"
   },
   {
    "duration": 31,
    "start_time": "2024-07-31T00:10:09.355Z"
   },
   {
    "duration": 24,
    "start_time": "2024-07-31T00:10:17.530Z"
   },
   {
    "duration": 29,
    "start_time": "2024-07-31T00:10:30.482Z"
   },
   {
    "duration": 21,
    "start_time": "2024-07-31T00:11:31.948Z"
   },
   {
    "duration": 19,
    "start_time": "2024-07-31T00:12:23.100Z"
   },
   {
    "duration": 46,
    "start_time": "2024-07-31T00:12:30.673Z"
   },
   {
    "duration": 38,
    "start_time": "2024-07-31T00:15:14.850Z"
   },
   {
    "duration": 26,
    "start_time": "2024-07-31T00:15:39.456Z"
   },
   {
    "duration": 31,
    "start_time": "2024-07-31T00:17:27.500Z"
   },
   {
    "duration": 36,
    "start_time": "2024-07-31T00:17:35.797Z"
   },
   {
    "duration": 24,
    "start_time": "2024-07-31T00:17:50.698Z"
   },
   {
    "duration": 30,
    "start_time": "2024-07-31T00:18:41.409Z"
   },
   {
    "duration": 325,
    "start_time": "2024-07-31T00:19:23.795Z"
   },
   {
    "duration": 183,
    "start_time": "2024-07-31T00:22:08.609Z"
   },
   {
    "duration": 168,
    "start_time": "2024-07-31T00:22:59.371Z"
   },
   {
    "duration": 25,
    "start_time": "2024-07-31T02:27:19.937Z"
   },
   {
    "duration": 9,
    "start_time": "2024-07-31T02:27:34.006Z"
   },
   {
    "duration": 8,
    "start_time": "2024-07-31T02:29:05.214Z"
   },
   {
    "duration": 10,
    "start_time": "2024-07-31T02:29:16.374Z"
   },
   {
    "duration": 22,
    "start_time": "2024-07-31T02:30:12.462Z"
   },
   {
    "duration": 15,
    "start_time": "2024-07-31T02:31:12.384Z"
   },
   {
    "duration": 22,
    "start_time": "2024-07-31T02:31:17.110Z"
   },
   {
    "duration": 25,
    "start_time": "2024-07-31T02:31:25.527Z"
   },
   {
    "duration": 429,
    "start_time": "2024-07-31T03:18:43.654Z"
   },
   {
    "duration": 922,
    "start_time": "2024-07-31T03:19:02.276Z"
   },
   {
    "duration": 347,
    "start_time": "2024-07-31T03:19:03.202Z"
   },
   {
    "duration": 15,
    "start_time": "2024-07-31T03:19:03.552Z"
   },
   {
    "duration": 20,
    "start_time": "2024-07-31T03:19:03.572Z"
   },
   {
    "duration": 31,
    "start_time": "2024-07-31T03:19:03.595Z"
   },
   {
    "duration": 17,
    "start_time": "2024-07-31T03:19:03.629Z"
   },
   {
    "duration": 15,
    "start_time": "2024-07-31T03:19:03.648Z"
   },
   {
    "duration": 55,
    "start_time": "2024-07-31T03:19:03.667Z"
   },
   {
    "duration": 19,
    "start_time": "2024-07-31T03:19:03.726Z"
   },
   {
    "duration": 10,
    "start_time": "2024-07-31T03:19:03.751Z"
   },
   {
    "duration": 68,
    "start_time": "2024-07-31T03:19:03.765Z"
   },
   {
    "duration": 17,
    "start_time": "2024-07-31T03:19:03.836Z"
   },
   {
    "duration": 67,
    "start_time": "2024-07-31T03:19:03.855Z"
   },
   {
    "duration": 21,
    "start_time": "2024-07-31T03:19:03.925Z"
   },
   {
    "duration": 21,
    "start_time": "2024-07-31T03:19:03.949Z"
   },
   {
    "duration": 58,
    "start_time": "2024-07-31T03:19:03.973Z"
   },
   {
    "duration": 15,
    "start_time": "2024-07-31T03:19:04.035Z"
   },
   {
    "duration": 24,
    "start_time": "2024-07-31T03:19:04.053Z"
   },
   {
    "duration": 48,
    "start_time": "2024-07-31T03:19:04.080Z"
   },
   {
    "duration": 24,
    "start_time": "2024-07-31T03:19:04.131Z"
   },
   {
    "duration": 14,
    "start_time": "2024-07-31T03:19:04.159Z"
   },
   {
    "duration": 48,
    "start_time": "2024-07-31T03:19:04.176Z"
   },
   {
    "duration": 29,
    "start_time": "2024-07-31T03:19:04.227Z"
   },
   {
    "duration": 24,
    "start_time": "2024-07-31T03:19:04.259Z"
   },
   {
    "duration": 61,
    "start_time": "2024-07-31T03:19:04.285Z"
   },
   {
    "duration": 25,
    "start_time": "2024-07-31T03:19:04.349Z"
   },
   {
    "duration": 53,
    "start_time": "2024-07-31T03:19:04.377Z"
   },
   {
    "duration": 40,
    "start_time": "2024-07-31T03:19:04.437Z"
   },
   {
    "duration": 192,
    "start_time": "2024-07-31T03:19:04.480Z"
   },
   {
    "duration": 4325,
    "start_time": "2024-07-31T03:19:04.674Z"
   },
   {
    "duration": 348,
    "start_time": "2024-07-31T03:19:09.002Z"
   },
   {
    "duration": 12,
    "start_time": "2024-07-31T03:19:09.355Z"
   },
   {
    "duration": 6,
    "start_time": "2024-07-31T03:19:09.370Z"
   },
   {
    "duration": 57,
    "start_time": "2024-07-31T03:19:09.379Z"
   },
   {
    "duration": 25,
    "start_time": "2024-07-31T03:19:09.439Z"
   },
   {
    "duration": 9,
    "start_time": "2024-07-31T03:19:10.330Z"
   },
   {
    "duration": 24,
    "start_time": "2024-07-31T03:19:17.931Z"
   },
   {
    "duration": 8,
    "start_time": "2024-07-31T03:19:25.248Z"
   },
   {
    "duration": 23,
    "start_time": "2024-07-31T03:19:31.416Z"
   },
   {
    "duration": 9,
    "start_time": "2024-07-31T03:19:37.857Z"
   },
   {
    "duration": 112,
    "start_time": "2024-07-31T03:20:42.494Z"
   },
   {
    "duration": 721,
    "start_time": "2024-07-31T03:20:48.144Z"
   },
   {
    "duration": 158,
    "start_time": "2024-07-31T03:21:09.481Z"
   },
   {
    "duration": 22,
    "start_time": "2024-07-31T03:21:30.069Z"
   },
   {
    "duration": 46,
    "start_time": "2024-07-31T03:21:33.579Z"
   },
   {
    "duration": 30,
    "start_time": "2024-07-31T03:22:09.660Z"
   },
   {
    "duration": 11,
    "start_time": "2024-07-31T03:23:25.572Z"
   },
   {
    "duration": 7,
    "start_time": "2024-07-31T03:23:42.948Z"
   },
   {
    "duration": 15,
    "start_time": "2024-07-31T03:25:31.593Z"
   },
   {
    "duration": 11,
    "start_time": "2024-07-31T03:26:01.921Z"
   },
   {
    "duration": 11,
    "start_time": "2024-07-31T03:26:16.538Z"
   },
   {
    "duration": 10,
    "start_time": "2024-07-31T03:28:39.082Z"
   },
   {
    "duration": 35,
    "start_time": "2024-07-31T03:29:32.452Z"
   },
   {
    "duration": 12,
    "start_time": "2024-07-31T03:29:40.924Z"
   },
   {
    "duration": 12,
    "start_time": "2024-07-31T03:29:58.358Z"
   },
   {
    "duration": 44,
    "start_time": "2024-07-31T03:32:47.990Z"
   },
   {
    "duration": 46,
    "start_time": "2024-07-31T03:33:56.639Z"
   },
   {
    "duration": 7,
    "start_time": "2024-07-31T03:34:03.583Z"
   },
   {
    "duration": 8,
    "start_time": "2024-07-31T03:34:19.981Z"
   },
   {
    "duration": 7,
    "start_time": "2024-07-31T03:34:26.784Z"
   },
   {
    "duration": 47,
    "start_time": "2024-07-31T03:35:06.783Z"
   },
   {
    "duration": 10,
    "start_time": "2024-07-31T03:35:18.830Z"
   },
   {
    "duration": 11,
    "start_time": "2024-07-31T03:35:50.021Z"
   },
   {
    "duration": 13,
    "start_time": "2024-07-31T03:36:18.842Z"
   },
   {
    "duration": 11,
    "start_time": "2024-07-31T03:36:24.995Z"
   },
   {
    "duration": 11,
    "start_time": "2024-07-31T03:36:39.484Z"
   },
   {
    "duration": 6,
    "start_time": "2024-07-31T03:40:21.688Z"
   },
   {
    "duration": 9,
    "start_time": "2024-07-31T03:41:04.096Z"
   },
   {
    "duration": 9,
    "start_time": "2024-07-31T03:41:22.532Z"
   },
   {
    "duration": 360,
    "start_time": "2024-08-01T18:09:25.069Z"
   },
   {
    "duration": 24,
    "start_time": "2024-08-01T18:09:35.383Z"
   },
   {
    "duration": 1037,
    "start_time": "2024-08-01T18:09:53.053Z"
   },
   {
    "duration": 410,
    "start_time": "2024-08-01T18:09:54.094Z"
   },
   {
    "duration": 19,
    "start_time": "2024-08-01T18:09:54.507Z"
   },
   {
    "duration": 39,
    "start_time": "2024-08-01T18:09:54.530Z"
   },
   {
    "duration": 7,
    "start_time": "2024-08-01T18:09:54.576Z"
   },
   {
    "duration": 20,
    "start_time": "2024-08-01T18:09:54.587Z"
   },
   {
    "duration": 16,
    "start_time": "2024-08-01T18:09:54.610Z"
   },
   {
    "duration": 20,
    "start_time": "2024-08-01T18:09:54.667Z"
   },
   {
    "duration": 29,
    "start_time": "2024-08-01T18:09:54.690Z"
   },
   {
    "duration": 13,
    "start_time": "2024-08-01T18:09:54.722Z"
   },
   {
    "duration": 26,
    "start_time": "2024-08-01T18:09:54.768Z"
   },
   {
    "duration": 19,
    "start_time": "2024-08-01T18:09:54.798Z"
   },
   {
    "duration": 59,
    "start_time": "2024-08-01T18:09:54.819Z"
   },
   {
    "duration": 21,
    "start_time": "2024-08-01T18:09:54.886Z"
   },
   {
    "duration": 72,
    "start_time": "2024-08-01T18:09:54.910Z"
   },
   {
    "duration": 84,
    "start_time": "2024-08-01T18:09:54.986Z"
   },
   {
    "duration": 17,
    "start_time": "2024-08-01T18:09:55.074Z"
   },
   {
    "duration": 26,
    "start_time": "2024-08-01T18:09:55.094Z"
   },
   {
    "duration": 62,
    "start_time": "2024-08-01T18:09:55.124Z"
   },
   {
    "duration": 34,
    "start_time": "2024-08-01T18:09:55.189Z"
   },
   {
    "duration": 42,
    "start_time": "2024-08-01T18:09:55.226Z"
   },
   {
    "duration": 20,
    "start_time": "2024-08-01T18:09:55.272Z"
   },
   {
    "duration": 32,
    "start_time": "2024-08-01T18:09:55.295Z"
   },
   {
    "duration": 61,
    "start_time": "2024-08-01T18:09:55.331Z"
   },
   {
    "duration": 28,
    "start_time": "2024-08-01T18:09:55.395Z"
   },
   {
    "duration": 48,
    "start_time": "2024-08-01T18:09:55.428Z"
   },
   {
    "duration": 38,
    "start_time": "2024-08-01T18:09:55.480Z"
   },
   {
    "duration": 75,
    "start_time": "2024-08-01T18:09:55.521Z"
   },
   {
    "duration": 230,
    "start_time": "2024-08-01T18:09:55.599Z"
   },
   {
    "duration": 4677,
    "start_time": "2024-08-01T18:09:55.833Z"
   },
   {
    "duration": 368,
    "start_time": "2024-08-01T18:10:00.517Z"
   },
   {
    "duration": 16,
    "start_time": "2024-08-01T18:10:00.889Z"
   },
   {
    "duration": 4,
    "start_time": "2024-08-01T18:10:00.908Z"
   },
   {
    "duration": 74,
    "start_time": "2024-08-01T18:10:00.915Z"
   },
   {
    "duration": 25,
    "start_time": "2024-08-01T18:10:00.992Z"
   },
   {
    "duration": 181,
    "start_time": "2024-08-01T18:10:04.125Z"
   },
   {
    "duration": 420,
    "start_time": "2024-08-01T18:10:34.252Z"
   },
   {
    "duration": 525,
    "start_time": "2024-08-01T18:11:15.132Z"
   },
   {
    "duration": 34,
    "start_time": "2024-08-01T18:11:39.259Z"
   },
   {
    "duration": 150,
    "start_time": "2024-08-01T18:12:03.473Z"
   },
   {
    "duration": 46,
    "start_time": "2024-08-01T18:12:09.393Z"
   },
   {
    "duration": 31,
    "start_time": "2024-08-01T18:12:52.300Z"
   },
   {
    "duration": 50,
    "start_time": "2024-08-01T18:13:04.852Z"
   },
   {
    "duration": 29,
    "start_time": "2024-08-01T18:13:39.917Z"
   },
   {
    "duration": 46,
    "start_time": "2024-08-01T18:14:07.057Z"
   },
   {
    "duration": 53,
    "start_time": "2024-08-01T18:14:34.126Z"
   },
   {
    "duration": 36,
    "start_time": "2024-08-01T18:14:55.684Z"
   },
   {
    "duration": 48,
    "start_time": "2024-08-01T18:15:12.253Z"
   },
   {
    "duration": 24,
    "start_time": "2024-08-01T18:15:20.331Z"
   },
   {
    "duration": 28,
    "start_time": "2024-08-01T18:15:42.820Z"
   },
   {
    "duration": 1507,
    "start_time": "2024-08-01T18:16:16.373Z"
   },
   {
    "duration": 333,
    "start_time": "2024-08-01T18:16:21.791Z"
   },
   {
    "duration": 169,
    "start_time": "2024-08-01T18:16:29.305Z"
   },
   {
    "duration": 364,
    "start_time": "2024-08-01T18:16:38.231Z"
   },
   {
    "duration": 178,
    "start_time": "2024-08-01T18:16:45.394Z"
   },
   {
    "duration": 10,
    "start_time": "2024-08-01T18:17:10.948Z"
   },
   {
    "duration": 172,
    "start_time": "2024-08-01T18:17:18.513Z"
   },
   {
    "duration": 322,
    "start_time": "2024-08-01T23:26:19.286Z"
   },
   {
    "duration": 976,
    "start_time": "2024-08-01T23:26:28.758Z"
   },
   {
    "duration": 365,
    "start_time": "2024-08-01T23:26:29.737Z"
   },
   {
    "duration": 17,
    "start_time": "2024-08-01T23:26:30.105Z"
   },
   {
    "duration": 20,
    "start_time": "2024-08-01T23:26:30.126Z"
   },
   {
    "duration": 5,
    "start_time": "2024-08-01T23:26:30.149Z"
   },
   {
    "duration": 17,
    "start_time": "2024-08-01T23:26:30.158Z"
   },
   {
    "duration": 15,
    "start_time": "2024-08-01T23:26:30.178Z"
   },
   {
    "duration": 16,
    "start_time": "2024-08-01T23:26:30.235Z"
   },
   {
    "duration": 18,
    "start_time": "2024-08-01T23:26:30.255Z"
   },
   {
    "duration": 9,
    "start_time": "2024-08-01T23:26:30.279Z"
   },
   {
    "duration": 62,
    "start_time": "2024-08-01T23:26:30.291Z"
   },
   {
    "duration": 17,
    "start_time": "2024-08-01T23:26:30.356Z"
   },
   {
    "duration": 65,
    "start_time": "2024-08-01T23:26:30.376Z"
   },
   {
    "duration": 22,
    "start_time": "2024-08-01T23:26:30.444Z"
   },
   {
    "duration": 20,
    "start_time": "2024-08-01T23:26:30.469Z"
   },
   {
    "duration": 55,
    "start_time": "2024-08-01T23:26:30.492Z"
   },
   {
    "duration": 17,
    "start_time": "2024-08-01T23:26:30.550Z"
   },
   {
    "duration": 22,
    "start_time": "2024-08-01T23:26:30.570Z"
   },
   {
    "duration": 49,
    "start_time": "2024-08-01T23:26:30.595Z"
   },
   {
    "duration": 27,
    "start_time": "2024-08-01T23:26:30.647Z"
   },
   {
    "duration": 14,
    "start_time": "2024-08-01T23:26:30.677Z"
   },
   {
    "duration": 42,
    "start_time": "2024-08-01T23:26:30.694Z"
   },
   {
    "duration": 28,
    "start_time": "2024-08-01T23:26:30.739Z"
   },
   {
    "duration": 22,
    "start_time": "2024-08-01T23:26:30.770Z"
   },
   {
    "duration": 52,
    "start_time": "2024-08-01T23:26:30.795Z"
   },
   {
    "duration": 21,
    "start_time": "2024-08-01T23:26:30.849Z"
   },
   {
    "duration": 65,
    "start_time": "2024-08-01T23:26:30.874Z"
   },
   {
    "duration": 41,
    "start_time": "2024-08-01T23:26:30.945Z"
   },
   {
    "duration": 189,
    "start_time": "2024-08-01T23:26:30.989Z"
   },
   {
    "duration": 4385,
    "start_time": "2024-08-01T23:26:31.181Z"
   },
   {
    "duration": 351,
    "start_time": "2024-08-01T23:26:35.570Z"
   },
   {
    "duration": 15,
    "start_time": "2024-08-01T23:26:35.925Z"
   },
   {
    "duration": 5,
    "start_time": "2024-08-01T23:26:35.943Z"
   },
   {
    "duration": 33,
    "start_time": "2024-08-01T23:26:35.953Z"
   },
   {
    "duration": 1402,
    "start_time": "2024-08-01T23:26:35.988Z"
   },
   {
    "duration": 0,
    "start_time": "2024-08-01T23:26:37.393Z"
   },
   {
    "duration": 0,
    "start_time": "2024-08-01T23:26:37.395Z"
   },
   {
    "duration": 0,
    "start_time": "2024-08-01T23:26:37.397Z"
   },
   {
    "duration": 110,
    "start_time": "2024-08-01T23:27:08.320Z"
   },
   {
    "duration": 41,
    "start_time": "2024-08-01T23:27:36.291Z"
   },
   {
    "duration": 356,
    "start_time": "2024-08-01T23:29:03.406Z"
   },
   {
    "duration": 441,
    "start_time": "2024-08-01T23:36:30.823Z"
   },
   {
    "duration": 164,
    "start_time": "2024-08-01T23:37:20.390Z"
   },
   {
    "duration": 10,
    "start_time": "2024-08-01T23:42:54.479Z"
   },
   {
    "duration": 8,
    "start_time": "2024-08-01T23:42:59.004Z"
   },
   {
    "duration": 34,
    "start_time": "2024-08-01T23:43:24.017Z"
   },
   {
    "duration": 42,
    "start_time": "2024-08-01T23:43:37.838Z"
   },
   {
    "duration": 28,
    "start_time": "2024-08-01T23:43:59.975Z"
   },
   {
    "duration": 41,
    "start_time": "2024-08-01T23:44:09.489Z"
   },
   {
    "duration": 368,
    "start_time": "2024-08-01T23:44:39.327Z"
   },
   {
    "duration": 311,
    "start_time": "2024-08-01T23:45:18.383Z"
   },
   {
    "duration": 375,
    "start_time": "2024-08-01T23:45:23.844Z"
   },
   {
    "duration": 185,
    "start_time": "2024-08-02T00:02:46.549Z"
   },
   {
    "duration": 470,
    "start_time": "2024-08-02T00:03:51.296Z"
   },
   {
    "duration": 6,
    "start_time": "2024-08-02T00:03:58.629Z"
   },
   {
    "duration": 81,
    "start_time": "2024-08-02T00:04:02.628Z"
   },
   {
    "duration": 82,
    "start_time": "2024-08-02T00:04:09.870Z"
   },
   {
    "duration": 13,
    "start_time": "2024-08-02T00:04:21.102Z"
   },
   {
    "duration": 187,
    "start_time": "2024-08-02T00:04:25.760Z"
   },
   {
    "duration": 28,
    "start_time": "2024-08-02T00:04:45.597Z"
   },
   {
    "duration": 30,
    "start_time": "2024-08-02T00:04:53.306Z"
   },
   {
    "duration": 192,
    "start_time": "2024-08-02T00:05:05.846Z"
   },
   {
    "duration": 13,
    "start_time": "2024-08-02T00:05:12.261Z"
   },
   {
    "duration": 183,
    "start_time": "2024-08-02T00:05:38.239Z"
   },
   {
    "duration": 83,
    "start_time": "2024-08-02T00:06:04.577Z"
   },
   {
    "duration": 52,
    "start_time": "2024-08-02T00:06:10.398Z"
   },
   {
    "duration": 181,
    "start_time": "2024-08-02T00:06:20.699Z"
   },
   {
    "duration": 206,
    "start_time": "2024-08-02T00:06:57.539Z"
   },
   {
    "duration": 177,
    "start_time": "2024-08-02T00:07:03.712Z"
   },
   {
    "duration": 824,
    "start_time": "2024-08-02T18:46:50.325Z"
   },
   {
    "duration": 357,
    "start_time": "2024-08-02T18:46:51.154Z"
   },
   {
    "duration": 17,
    "start_time": "2024-08-02T18:46:51.513Z"
   },
   {
    "duration": 20,
    "start_time": "2024-08-02T18:46:51.533Z"
   },
   {
    "duration": 5,
    "start_time": "2024-08-02T18:46:51.570Z"
   },
   {
    "duration": 17,
    "start_time": "2024-08-02T18:46:51.579Z"
   },
   {
    "duration": 14,
    "start_time": "2024-08-02T18:46:51.600Z"
   },
   {
    "duration": 53,
    "start_time": "2024-08-02T18:46:51.617Z"
   },
   {
    "duration": 20,
    "start_time": "2024-08-02T18:46:51.673Z"
   },
   {
    "duration": 9,
    "start_time": "2024-08-02T18:46:51.696Z"
   },
   {
    "duration": 67,
    "start_time": "2024-08-02T18:46:51.709Z"
   },
   {
    "duration": 19,
    "start_time": "2024-08-02T18:46:51.780Z"
   },
   {
    "duration": 34,
    "start_time": "2024-08-02T18:46:51.803Z"
   },
   {
    "duration": 20,
    "start_time": "2024-08-02T18:46:51.872Z"
   },
   {
    "duration": 20,
    "start_time": "2024-08-02T18:46:51.895Z"
   },
   {
    "duration": 56,
    "start_time": "2024-08-02T18:46:51.918Z"
   },
   {
    "duration": 17,
    "start_time": "2024-08-02T18:46:51.977Z"
   },
   {
    "duration": 23,
    "start_time": "2024-08-02T18:46:51.996Z"
   },
   {
    "duration": 52,
    "start_time": "2024-08-02T18:46:52.022Z"
   },
   {
    "duration": 26,
    "start_time": "2024-08-02T18:46:52.077Z"
   },
   {
    "duration": 15,
    "start_time": "2024-08-02T18:46:52.105Z"
   },
   {
    "duration": 15,
    "start_time": "2024-08-02T18:46:52.122Z"
   },
   {
    "duration": 27,
    "start_time": "2024-08-02T18:46:52.169Z"
   },
   {
    "duration": 23,
    "start_time": "2024-08-02T18:46:52.200Z"
   },
   {
    "duration": 53,
    "start_time": "2024-08-02T18:46:52.228Z"
   },
   {
    "duration": 19,
    "start_time": "2024-08-02T18:46:52.284Z"
   },
   {
    "duration": 28,
    "start_time": "2024-08-02T18:46:52.306Z"
   },
   {
    "duration": 69,
    "start_time": "2024-08-02T18:46:52.337Z"
   },
   {
    "duration": 181,
    "start_time": "2024-08-02T18:46:52.409Z"
   },
   {
    "duration": 4388,
    "start_time": "2024-08-02T18:46:52.593Z"
   },
   {
    "duration": 361,
    "start_time": "2024-08-02T18:46:56.984Z"
   },
   {
    "duration": 26,
    "start_time": "2024-08-02T18:46:57.348Z"
   },
   {
    "duration": 4,
    "start_time": "2024-08-02T18:46:57.378Z"
   },
   {
    "duration": 396,
    "start_time": "2024-08-02T18:46:57.385Z"
   },
   {
    "duration": 464,
    "start_time": "2024-08-02T18:46:57.784Z"
   },
   {
    "duration": 217,
    "start_time": "2024-08-02T18:46:58.252Z"
   },
   {
    "duration": 14,
    "start_time": "2024-08-02T18:46:58.473Z"
   },
   {
    "duration": 12,
    "start_time": "2024-08-02T18:46:58.491Z"
   },
   {
    "duration": 160,
    "start_time": "2024-08-02T18:47:26.127Z"
   },
   {
    "duration": 20,
    "start_time": "2024-08-02T19:57:47.175Z"
   },
   {
    "duration": 22,
    "start_time": "2024-08-02T19:58:04.404Z"
   },
   {
    "duration": 593,
    "start_time": "2024-08-02T19:58:31.215Z"
   },
   {
    "duration": 355,
    "start_time": "2024-08-02T19:59:00.527Z"
   },
   {
    "duration": 509,
    "start_time": "2024-08-02T19:59:11.381Z"
   },
   {
    "duration": 659,
    "start_time": "2024-08-02T19:59:25.340Z"
   },
   {
    "duration": 21,
    "start_time": "2024-08-02T19:59:48.966Z"
   },
   {
    "duration": 21,
    "start_time": "2024-08-02T20:00:03.070Z"
   },
   {
    "duration": 475,
    "start_time": "2024-08-02T20:00:25.783Z"
   },
   {
    "duration": 152,
    "start_time": "2024-08-02T20:00:52.587Z"
   },
   {
    "duration": 671,
    "start_time": "2024-08-02T20:06:46.399Z"
   },
   {
    "duration": 11,
    "start_time": "2024-08-02T20:07:01.533Z"
   },
   {
    "duration": 475,
    "start_time": "2024-08-02T20:08:54.734Z"
   },
   {
    "duration": 51,
    "start_time": "2024-08-02T20:09:56.055Z"
   },
   {
    "duration": 369,
    "start_time": "2024-08-02T20:12:47.703Z"
   },
   {
    "duration": 368,
    "start_time": "2024-08-02T20:14:56.400Z"
   },
   {
    "duration": 441,
    "start_time": "2024-08-02T20:17:52.265Z"
   },
   {
    "duration": 376,
    "start_time": "2024-08-02T20:20:52.466Z"
   },
   {
    "duration": 342,
    "start_time": "2024-08-02T20:21:06.658Z"
   },
   {
    "duration": 34,
    "start_time": "2024-08-02T20:24:30.523Z"
   },
   {
    "duration": 19,
    "start_time": "2024-08-02T20:24:35.446Z"
   },
   {
    "duration": 69,
    "start_time": "2024-08-02T20:24:44.503Z"
   },
   {
    "duration": 1116,
    "start_time": "2024-08-02T20:27:48.084Z"
   },
   {
    "duration": 266,
    "start_time": "2024-08-02T20:28:08.361Z"
   },
   {
    "duration": 586,
    "start_time": "2024-08-02T20:28:27.084Z"
   },
   {
    "duration": 672,
    "start_time": "2024-08-02T20:28:47.133Z"
   },
   {
    "duration": 336,
    "start_time": "2024-08-02T20:29:03.473Z"
   },
   {
    "duration": 53,
    "start_time": "2024-08-02T20:29:11.453Z"
   },
   {
    "duration": 23,
    "start_time": "2024-08-02T20:29:51.741Z"
   },
   {
    "duration": 160,
    "start_time": "2024-08-02T20:29:55.635Z"
   },
   {
    "duration": 347,
    "start_time": "2024-08-02T20:31:37.652Z"
   },
   {
    "duration": 30,
    "start_time": "2024-08-02T20:33:19.614Z"
   },
   {
    "duration": 24,
    "start_time": "2024-08-02T20:33:32.253Z"
   },
   {
    "duration": 15,
    "start_time": "2024-08-02T20:34:46.605Z"
   },
   {
    "duration": 161,
    "start_time": "2024-08-02T20:34:52.925Z"
   },
   {
    "duration": 14,
    "start_time": "2024-08-02T20:35:08.708Z"
   },
   {
    "duration": 970,
    "start_time": "2024-08-02T20:37:17.952Z"
   },
   {
    "duration": 644,
    "start_time": "2024-08-02T20:37:48.264Z"
   },
   {
    "duration": 93,
    "start_time": "2024-08-02T20:38:08.496Z"
   },
   {
    "duration": 952,
    "start_time": "2024-08-02T20:39:07.767Z"
   },
   {
    "duration": 928,
    "start_time": "2024-08-02T20:39:31.855Z"
   },
   {
    "duration": 1078,
    "start_time": "2024-08-02T20:39:44.319Z"
   },
   {
    "duration": 902,
    "start_time": "2024-08-03T13:19:54.597Z"
   },
   {
    "duration": 369,
    "start_time": "2024-08-03T13:19:55.508Z"
   },
   {
    "duration": 19,
    "start_time": "2024-08-03T13:19:55.880Z"
   },
   {
    "duration": 20,
    "start_time": "2024-08-03T13:19:55.902Z"
   },
   {
    "duration": 5,
    "start_time": "2024-08-03T13:19:55.928Z"
   },
   {
    "duration": 19,
    "start_time": "2024-08-03T13:19:55.936Z"
   },
   {
    "duration": 52,
    "start_time": "2024-08-03T13:19:55.958Z"
   },
   {
    "duration": 16,
    "start_time": "2024-08-03T13:19:56.013Z"
   },
   {
    "duration": 19,
    "start_time": "2024-08-03T13:19:56.033Z"
   },
   {
    "duration": 53,
    "start_time": "2024-08-03T13:19:56.055Z"
   },
   {
    "duration": 77,
    "start_time": "2024-08-03T13:19:56.111Z"
   },
   {
    "duration": 16,
    "start_time": "2024-08-03T13:19:56.208Z"
   },
   {
    "duration": 38,
    "start_time": "2024-08-03T13:19:56.228Z"
   },
   {
    "duration": 44,
    "start_time": "2024-08-03T13:19:56.272Z"
   },
   {
    "duration": 43,
    "start_time": "2024-08-03T13:19:56.319Z"
   },
   {
    "duration": 55,
    "start_time": "2024-08-03T13:19:56.364Z"
   },
   {
    "duration": 17,
    "start_time": "2024-08-03T13:19:56.422Z"
   },
   {
    "duration": 113,
    "start_time": "2024-08-03T13:19:56.442Z"
   },
   {
    "duration": 15,
    "start_time": "2024-08-03T13:19:56.559Z"
   },
   {
    "duration": 51,
    "start_time": "2024-08-03T13:19:56.577Z"
   },
   {
    "duration": 14,
    "start_time": "2024-08-03T13:19:56.631Z"
   },
   {
    "duration": 14,
    "start_time": "2024-08-03T13:19:56.648Z"
   },
   {
    "duration": 61,
    "start_time": "2024-08-03T13:19:56.666Z"
   },
   {
    "duration": 22,
    "start_time": "2024-08-03T13:19:56.730Z"
   },
   {
    "duration": 20,
    "start_time": "2024-08-03T13:19:56.754Z"
   },
   {
    "duration": 47,
    "start_time": "2024-08-03T13:19:56.777Z"
   },
   {
    "duration": 27,
    "start_time": "2024-08-03T13:19:56.827Z"
   },
   {
    "duration": 67,
    "start_time": "2024-08-03T13:19:56.857Z"
   },
   {
    "duration": 177,
    "start_time": "2024-08-03T13:19:56.927Z"
   },
   {
    "duration": 4393,
    "start_time": "2024-08-03T13:19:57.109Z"
   },
   {
    "duration": 323,
    "start_time": "2024-08-03T13:20:01.508Z"
   },
   {
    "duration": 14,
    "start_time": "2024-08-03T13:20:01.834Z"
   },
   {
    "duration": 1089,
    "start_time": "2024-08-03T13:20:01.851Z"
   },
   {
    "duration": 368,
    "start_time": "2024-08-03T13:20:02.943Z"
   },
   {
    "duration": 364,
    "start_time": "2024-08-03T13:20:03.314Z"
   },
   {
    "duration": 203,
    "start_time": "2024-08-03T13:20:03.681Z"
   },
   {
    "duration": 25,
    "start_time": "2024-08-03T13:20:03.887Z"
   },
   {
    "duration": 13,
    "start_time": "2024-08-03T13:20:03.916Z"
   },
   {
    "duration": 17,
    "start_time": "2024-08-03T13:21:14.165Z"
   },
   {
    "duration": 29,
    "start_time": "2024-08-03T13:21:31.195Z"
   },
   {
    "duration": 46,
    "start_time": "2024-08-03T13:26:04.487Z"
   },
   {
    "duration": 323,
    "start_time": "2024-08-04T17:34:41.446Z"
   },
   {
    "duration": 25,
    "start_time": "2024-08-04T17:34:45.074Z"
   },
   {
    "duration": 988,
    "start_time": "2024-08-04T17:34:55.531Z"
   },
   {
    "duration": 359,
    "start_time": "2024-08-04T17:34:56.522Z"
   },
   {
    "duration": 18,
    "start_time": "2024-08-04T17:34:56.883Z"
   },
   {
    "duration": 28,
    "start_time": "2024-08-04T17:34:56.906Z"
   },
   {
    "duration": 6,
    "start_time": "2024-08-04T17:34:56.937Z"
   },
   {
    "duration": 16,
    "start_time": "2024-08-04T17:34:56.947Z"
   },
   {
    "duration": 17,
    "start_time": "2024-08-04T17:34:56.966Z"
   },
   {
    "duration": 54,
    "start_time": "2024-08-04T17:34:56.986Z"
   },
   {
    "duration": 19,
    "start_time": "2024-08-04T17:34:57.043Z"
   },
   {
    "duration": 9,
    "start_time": "2024-08-04T17:34:57.067Z"
   },
   {
    "duration": 123,
    "start_time": "2024-08-04T17:34:57.080Z"
   },
   {
    "duration": 29,
    "start_time": "2024-08-04T17:34:57.206Z"
   },
   {
    "duration": 35,
    "start_time": "2024-08-04T17:34:57.237Z"
   },
   {
    "duration": 22,
    "start_time": "2024-08-04T17:34:57.275Z"
   },
   {
    "duration": 74,
    "start_time": "2024-08-04T17:34:57.300Z"
   },
   {
    "duration": 26,
    "start_time": "2024-08-04T17:34:57.377Z"
   },
   {
    "duration": 16,
    "start_time": "2024-08-04T17:34:57.432Z"
   },
   {
    "duration": 103,
    "start_time": "2024-08-04T17:34:57.451Z"
   },
   {
    "duration": 16,
    "start_time": "2024-08-04T17:34:57.557Z"
   },
   {
    "duration": 24,
    "start_time": "2024-08-04T17:34:57.577Z"
   },
   {
    "duration": 38,
    "start_time": "2024-08-04T17:34:57.604Z"
   },
   {
    "duration": 14,
    "start_time": "2024-08-04T17:34:57.645Z"
   },
   {
    "duration": 29,
    "start_time": "2024-08-04T17:34:57.662Z"
   },
   {
    "duration": 55,
    "start_time": "2024-08-04T17:34:57.694Z"
   },
   {
    "duration": 19,
    "start_time": "2024-08-04T17:34:57.752Z"
   },
   {
    "duration": 58,
    "start_time": "2024-08-04T17:34:57.774Z"
   },
   {
    "duration": 31,
    "start_time": "2024-08-04T17:34:57.835Z"
   },
   {
    "duration": 61,
    "start_time": "2024-08-04T17:34:57.873Z"
   },
   {
    "duration": 175,
    "start_time": "2024-08-04T17:34:57.937Z"
   },
   {
    "duration": 4328,
    "start_time": "2024-08-04T17:34:58.115Z"
   },
   {
    "duration": 337,
    "start_time": "2024-08-04T17:35:02.447Z"
   },
   {
    "duration": 15,
    "start_time": "2024-08-04T17:35:02.787Z"
   },
   {
    "duration": 1058,
    "start_time": "2024-08-04T17:35:02.805Z"
   },
   {
    "duration": 480,
    "start_time": "2024-08-04T17:35:03.866Z"
   },
   {
    "duration": 368,
    "start_time": "2024-08-04T17:35:04.349Z"
   },
   {
    "duration": 193,
    "start_time": "2024-08-04T17:35:04.721Z"
   },
   {
    "duration": 143,
    "start_time": "2024-08-04T17:35:04.917Z"
   },
   {
    "duration": 0,
    "start_time": "2024-08-04T17:35:05.063Z"
   },
   {
    "duration": 174,
    "start_time": "2024-08-04T17:36:36.307Z"
   },
   {
    "duration": 1006,
    "start_time": "2024-08-04T17:37:01.776Z"
   },
   {
    "duration": 400,
    "start_time": "2024-08-04T17:37:24.604Z"
   },
   {
    "duration": 378,
    "start_time": "2024-08-04T17:37:47.060Z"
   },
   {
    "duration": 370,
    "start_time": "2024-08-04T17:38:09.034Z"
   },
   {
    "duration": 364,
    "start_time": "2024-08-04T17:38:27.674Z"
   },
   {
    "duration": 217,
    "start_time": "2024-08-04T17:39:08.308Z"
   },
   {
    "duration": 119,
    "start_time": "2024-08-04T17:39:21.115Z"
   },
   {
    "duration": 380,
    "start_time": "2024-08-04T17:39:45.954Z"
   },
   {
    "duration": 364,
    "start_time": "2024-08-04T17:40:37.076Z"
   },
   {
    "duration": 369,
    "start_time": "2024-08-04T17:41:15.746Z"
   },
   {
    "duration": 370,
    "start_time": "2024-08-04T17:41:29.797Z"
   },
   {
    "duration": 383,
    "start_time": "2024-08-04T17:43:27.133Z"
   },
   {
    "duration": 398,
    "start_time": "2024-08-04T17:43:54.783Z"
   },
   {
    "duration": 108,
    "start_time": "2024-08-04T17:44:59.230Z"
   },
   {
    "duration": 35,
    "start_time": "2024-08-04T17:45:14.174Z"
   },
   {
    "duration": 35,
    "start_time": "2024-08-04T17:45:28.107Z"
   },
   {
    "duration": 354,
    "start_time": "2024-08-04T17:46:14.981Z"
   },
   {
    "duration": 385,
    "start_time": "2024-08-04T17:59:23.071Z"
   },
   {
    "duration": 12,
    "start_time": "2024-08-04T18:00:39.104Z"
   },
   {
    "duration": 15,
    "start_time": "2024-08-04T18:00:50.501Z"
   },
   {
    "duration": 361,
    "start_time": "2024-08-04T18:03:55.665Z"
   },
   {
    "duration": 657,
    "start_time": "2024-08-04T18:04:54.786Z"
   },
   {
    "duration": 658,
    "start_time": "2024-08-04T18:05:37.236Z"
   },
   {
    "duration": 824,
    "start_time": "2024-08-04T18:07:38.258Z"
   },
   {
    "duration": 1200,
    "start_time": "2024-08-04T18:08:54.605Z"
   },
   {
    "duration": 46,
    "start_time": "2024-08-04T18:11:20.766Z"
   },
   {
    "duration": 332,
    "start_time": "2024-08-04T18:12:09.405Z"
   },
   {
    "duration": 346,
    "start_time": "2024-08-04T18:12:46.851Z"
   },
   {
    "duration": 387,
    "start_time": "2024-08-04T18:13:26.085Z"
   },
   {
    "duration": 352,
    "start_time": "2024-08-04T18:14:07.149Z"
   },
   {
    "duration": 370,
    "start_time": "2024-08-04T18:14:57.572Z"
   },
   {
    "duration": 396,
    "start_time": "2024-08-04T18:15:02.357Z"
   },
   {
    "duration": 352,
    "start_time": "2024-08-04T18:15:17.467Z"
   },
   {
    "duration": 407,
    "start_time": "2024-08-04T18:16:44.030Z"
   },
   {
    "duration": 360,
    "start_time": "2024-08-04T18:17:07.269Z"
   },
   {
    "duration": 370,
    "start_time": "2024-08-04T18:17:21.477Z"
   },
   {
    "duration": 351,
    "start_time": "2024-08-04T18:17:59.510Z"
   },
   {
    "duration": 3,
    "start_time": "2024-08-04T18:25:29.994Z"
   },
   {
    "duration": 272,
    "start_time": "2024-08-04T18:25:30.001Z"
   },
   {
    "duration": 16,
    "start_time": "2024-08-04T18:25:30.277Z"
   },
   {
    "duration": 13,
    "start_time": "2024-08-04T18:25:30.296Z"
   },
   {
    "duration": 6,
    "start_time": "2024-08-04T18:25:30.334Z"
   },
   {
    "duration": 16,
    "start_time": "2024-08-04T18:25:30.344Z"
   },
   {
    "duration": 18,
    "start_time": "2024-08-04T18:25:30.363Z"
   },
   {
    "duration": 59,
    "start_time": "2024-08-04T18:25:30.384Z"
   },
   {
    "duration": 19,
    "start_time": "2024-08-04T18:25:30.446Z"
   },
   {
    "duration": 9,
    "start_time": "2024-08-04T18:25:30.469Z"
   },
   {
    "duration": 106,
    "start_time": "2024-08-04T18:25:30.484Z"
   },
   {
    "duration": 18,
    "start_time": "2024-08-04T18:25:30.593Z"
   },
   {
    "duration": 31,
    "start_time": "2024-08-04T18:25:30.632Z"
   },
   {
    "duration": 22,
    "start_time": "2024-08-04T18:25:30.666Z"
   },
   {
    "duration": 75,
    "start_time": "2024-08-04T18:25:30.691Z"
   },
   {
    "duration": 25,
    "start_time": "2024-08-04T18:25:30.769Z"
   },
   {
    "duration": 41,
    "start_time": "2024-08-04T18:25:30.797Z"
   },
   {
    "duration": 92,
    "start_time": "2024-08-04T18:25:30.841Z"
   },
   {
    "duration": 15,
    "start_time": "2024-08-04T18:25:30.936Z"
   },
   {
    "duration": 25,
    "start_time": "2024-08-04T18:25:30.954Z"
   },
   {
    "duration": 15,
    "start_time": "2024-08-04T18:25:30.982Z"
   },
   {
    "duration": 15,
    "start_time": "2024-08-04T18:25:31.033Z"
   },
   {
    "duration": 24,
    "start_time": "2024-08-04T18:25:31.052Z"
   },
   {
    "duration": 20,
    "start_time": "2024-08-04T18:25:31.081Z"
   },
   {
    "duration": 19,
    "start_time": "2024-08-04T18:25:31.133Z"
   },
   {
    "duration": 17,
    "start_time": "2024-08-04T18:25:31.154Z"
   },
   {
    "duration": 28,
    "start_time": "2024-08-04T18:25:31.174Z"
   },
   {
    "duration": 39,
    "start_time": "2024-08-04T18:25:31.234Z"
   },
   {
    "duration": 202,
    "start_time": "2024-08-04T18:25:31.280Z"
   },
   {
    "duration": 457,
    "start_time": "2024-08-04T18:25:31.485Z"
   },
   {
    "duration": 327,
    "start_time": "2024-08-04T18:25:31.946Z"
   },
   {
    "duration": 17,
    "start_time": "2024-08-04T18:25:32.276Z"
   },
   {
    "duration": 905,
    "start_time": "2024-08-04T18:25:32.296Z"
   },
   {
    "duration": 350,
    "start_time": "2024-08-04T18:25:33.204Z"
   },
   {
    "duration": 358,
    "start_time": "2024-08-04T18:25:34.769Z"
   },
   {
    "duration": 348,
    "start_time": "2024-08-04T18:26:20.758Z"
   },
   {
    "duration": 363,
    "start_time": "2024-08-04T18:26:41.640Z"
   },
   {
    "duration": 50,
    "start_time": "2024-08-04T18:28:13.851Z"
   },
   {
    "duration": 45,
    "start_time": "2024-08-04T18:28:23.521Z"
   },
   {
    "duration": 72,
    "start_time": "2024-08-04T18:38:39.213Z"
   },
   {
    "duration": 61,
    "start_time": "2024-08-04T18:39:00.117Z"
   },
   {
    "duration": 50,
    "start_time": "2024-08-04T18:40:10.671Z"
   },
   {
    "duration": 66,
    "start_time": "2024-08-04T18:40:23.517Z"
   },
   {
    "duration": 72,
    "start_time": "2024-08-04T18:40:35.946Z"
   },
   {
    "duration": 92,
    "start_time": "2024-08-04T18:40:51.421Z"
   },
   {
    "duration": 97,
    "start_time": "2024-08-04T18:41:10.461Z"
   },
   {
    "duration": 113,
    "start_time": "2024-08-04T18:41:26.694Z"
   },
   {
    "duration": 142,
    "start_time": "2024-08-04T18:43:08.912Z"
   },
   {
    "duration": 75,
    "start_time": "2024-08-04T18:43:52.198Z"
   },
   {
    "duration": 73,
    "start_time": "2024-08-04T18:44:03.198Z"
   },
   {
    "duration": 5,
    "start_time": "2024-08-04T18:44:15.665Z"
   },
   {
    "duration": 263,
    "start_time": "2024-08-04T18:44:15.674Z"
   },
   {
    "duration": 16,
    "start_time": "2024-08-04T18:44:15.941Z"
   },
   {
    "duration": 12,
    "start_time": "2024-08-04T18:44:15.962Z"
   },
   {
    "duration": 6,
    "start_time": "2024-08-04T18:44:15.977Z"
   },
   {
    "duration": 49,
    "start_time": "2024-08-04T18:44:15.987Z"
   },
   {
    "duration": 16,
    "start_time": "2024-08-04T18:44:16.040Z"
   },
   {
    "duration": 15,
    "start_time": "2024-08-04T18:44:16.059Z"
   },
   {
    "duration": 58,
    "start_time": "2024-08-04T18:44:16.077Z"
   },
   {
    "duration": 9,
    "start_time": "2024-08-04T18:44:16.140Z"
   },
   {
    "duration": 93,
    "start_time": "2024-08-04T18:44:16.152Z"
   },
   {
    "duration": 17,
    "start_time": "2024-08-04T18:44:16.248Z"
   },
   {
    "duration": 31,
    "start_time": "2024-08-04T18:44:16.268Z"
   },
   {
    "duration": 49,
    "start_time": "2024-08-04T18:44:16.302Z"
   },
   {
    "duration": 43,
    "start_time": "2024-08-04T18:44:16.354Z"
   },
   {
    "duration": 52,
    "start_time": "2024-08-04T18:44:16.400Z"
   },
   {
    "duration": 16,
    "start_time": "2024-08-04T18:44:16.455Z"
   },
   {
    "duration": 98,
    "start_time": "2024-08-04T18:44:16.474Z"
   },
   {
    "duration": 15,
    "start_time": "2024-08-04T18:44:16.575Z"
   },
   {
    "duration": 48,
    "start_time": "2024-08-04T18:44:16.593Z"
   },
   {
    "duration": 15,
    "start_time": "2024-08-04T18:44:16.643Z"
   },
   {
    "duration": 15,
    "start_time": "2024-08-04T18:44:16.661Z"
   },
   {
    "duration": 58,
    "start_time": "2024-08-04T18:44:16.679Z"
   },
   {
    "duration": 18,
    "start_time": "2024-08-04T18:44:16.740Z"
   },
   {
    "duration": 20,
    "start_time": "2024-08-04T18:44:16.761Z"
   },
   {
    "duration": 56,
    "start_time": "2024-08-04T18:44:16.784Z"
   },
   {
    "duration": 28,
    "start_time": "2024-08-04T18:44:16.842Z"
   },
   {
    "duration": 60,
    "start_time": "2024-08-04T18:44:16.878Z"
   },
   {
    "duration": 178,
    "start_time": "2024-08-04T18:44:16.941Z"
   },
   {
    "duration": 450,
    "start_time": "2024-08-04T18:44:17.121Z"
   },
   {
    "duration": 324,
    "start_time": "2024-08-04T18:44:17.575Z"
   },
   {
    "duration": 29,
    "start_time": "2024-08-04T18:44:17.904Z"
   },
   {
    "duration": 703,
    "start_time": "2024-08-04T18:44:17.936Z"
   },
   {
    "duration": 518,
    "start_time": "2024-08-04T18:44:18.642Z"
   },
   {
    "duration": 371,
    "start_time": "2024-08-04T18:44:19.163Z"
   },
   {
    "duration": 371,
    "start_time": "2024-08-04T18:44:19.537Z"
   },
   {
    "duration": 43,
    "start_time": "2024-08-04T18:44:19.910Z"
   },
   {
    "duration": 0,
    "start_time": "2024-08-04T18:44:19.956Z"
   },
   {
    "duration": 349,
    "start_time": "2024-08-04T18:46:18.770Z"
   },
   {
    "duration": 347,
    "start_time": "2024-08-04T18:46:39.272Z"
   },
   {
    "duration": 429,
    "start_time": "2024-08-04T18:47:15.366Z"
   },
   {
    "duration": 428,
    "start_time": "2024-08-04T18:47:23.376Z"
   },
   {
    "duration": 359,
    "start_time": "2024-08-04T18:47:39.608Z"
   },
   {
    "duration": 598,
    "start_time": "2024-08-04T18:47:47.536Z"
   },
   {
    "duration": 359,
    "start_time": "2024-08-04T18:47:52.414Z"
   },
   {
    "duration": 6,
    "start_time": "2024-08-04T18:48:50.600Z"
   },
   {
    "duration": 441,
    "start_time": "2024-08-04T18:48:56.791Z"
   },
   {
    "duration": 365,
    "start_time": "2024-08-04T18:49:04.743Z"
   },
   {
    "duration": 29,
    "start_time": "2024-08-04T18:52:26.314Z"
   },
   {
    "duration": 15,
    "start_time": "2024-08-04T18:52:32.120Z"
   },
   {
    "duration": 13,
    "start_time": "2024-08-04T18:52:42.242Z"
   },
   {
    "duration": 8,
    "start_time": "2024-08-04T18:53:03.569Z"
   },
   {
    "duration": 347,
    "start_time": "2024-08-04T18:53:07.520Z"
   },
   {
    "duration": 553,
    "start_time": "2024-08-04T18:53:28.480Z"
   },
   {
    "duration": 327,
    "start_time": "2024-08-05T05:08:09.099Z"
   },
   {
    "duration": 918,
    "start_time": "2024-08-05T05:08:30.186Z"
   },
   {
    "duration": 373,
    "start_time": "2024-08-05T05:08:31.107Z"
   },
   {
    "duration": 20,
    "start_time": "2024-08-05T05:08:31.483Z"
   },
   {
    "duration": 26,
    "start_time": "2024-08-05T05:08:31.507Z"
   },
   {
    "duration": 6,
    "start_time": "2024-08-05T05:08:31.536Z"
   },
   {
    "duration": 18,
    "start_time": "2024-08-05T05:08:31.545Z"
   },
   {
    "duration": 17,
    "start_time": "2024-08-05T05:08:31.566Z"
   },
   {
    "duration": 16,
    "start_time": "2024-08-05T05:08:31.625Z"
   },
   {
    "duration": 18,
    "start_time": "2024-08-05T05:08:31.644Z"
   },
   {
    "duration": 9,
    "start_time": "2024-08-05T05:08:31.668Z"
   },
   {
    "duration": 116,
    "start_time": "2024-08-05T05:08:31.680Z"
   },
   {
    "duration": 33,
    "start_time": "2024-08-05T05:08:31.799Z"
   },
   {
    "duration": 32,
    "start_time": "2024-08-05T05:08:31.835Z"
   },
   {
    "duration": 21,
    "start_time": "2024-08-05T05:08:31.872Z"
   },
   {
    "duration": 70,
    "start_time": "2024-08-05T05:08:31.895Z"
   },
   {
    "duration": 24,
    "start_time": "2024-08-05T05:08:31.968Z"
   },
   {
    "duration": 41,
    "start_time": "2024-08-05T05:08:31.995Z"
   },
   {
    "duration": 103,
    "start_time": "2024-08-05T05:08:32.039Z"
   },
   {
    "duration": 17,
    "start_time": "2024-08-05T05:08:32.145Z"
   },
   {
    "duration": 25,
    "start_time": "2024-08-05T05:08:32.165Z"
   },
   {
    "duration": 43,
    "start_time": "2024-08-05T05:08:32.193Z"
   },
   {
    "duration": 14,
    "start_time": "2024-08-05T05:08:32.240Z"
   },
   {
    "duration": 29,
    "start_time": "2024-08-05T05:08:32.257Z"
   },
   {
    "duration": 54,
    "start_time": "2024-08-05T05:08:32.288Z"
   },
   {
    "duration": 20,
    "start_time": "2024-08-05T05:08:32.345Z"
   },
   {
    "duration": 19,
    "start_time": "2024-08-05T05:08:32.368Z"
   },
   {
    "duration": 61,
    "start_time": "2024-08-05T05:08:32.390Z"
   },
   {
    "duration": 41,
    "start_time": "2024-08-05T05:08:32.457Z"
   },
   {
    "duration": 181,
    "start_time": "2024-08-05T05:08:32.527Z"
   },
   {
    "duration": 4370,
    "start_time": "2024-08-05T05:08:32.712Z"
   },
   {
    "duration": 328,
    "start_time": "2024-08-05T05:08:37.085Z"
   },
   {
    "duration": 15,
    "start_time": "2024-08-05T05:08:37.425Z"
   },
   {
    "duration": 868,
    "start_time": "2024-08-05T05:08:37.443Z"
   },
   {
    "duration": 423,
    "start_time": "2024-08-05T05:08:38.315Z"
   },
   {
    "duration": 364,
    "start_time": "2024-08-05T05:08:38.741Z"
   },
   {
    "duration": 378,
    "start_time": "2024-08-05T05:08:39.107Z"
   },
   {
    "duration": 12,
    "start_time": "2024-08-05T05:08:39.488Z"
   },
   {
    "duration": 29,
    "start_time": "2024-08-05T05:08:39.503Z"
   },
   {
    "duration": 6,
    "start_time": "2024-08-05T05:08:39.537Z"
   },
   {
    "duration": 12,
    "start_time": "2024-08-05T05:13:50.011Z"
   },
   {
    "duration": 13,
    "start_time": "2024-08-05T05:13:55.294Z"
   },
   {
    "duration": 888,
    "start_time": "2024-08-05T23:33:19.964Z"
   },
   {
    "duration": 371,
    "start_time": "2024-08-05T23:33:20.856Z"
   },
   {
    "duration": 18,
    "start_time": "2024-08-05T23:33:21.230Z"
   },
   {
    "duration": 24,
    "start_time": "2024-08-05T23:33:21.253Z"
   },
   {
    "duration": 8,
    "start_time": "2024-08-05T23:33:21.281Z"
   },
   {
    "duration": 26,
    "start_time": "2024-08-05T23:33:21.292Z"
   },
   {
    "duration": 16,
    "start_time": "2024-08-05T23:33:21.323Z"
   },
   {
    "duration": 40,
    "start_time": "2024-08-05T23:33:21.341Z"
   },
   {
    "duration": 18,
    "start_time": "2024-08-05T23:33:21.384Z"
   },
   {
    "duration": 9,
    "start_time": "2024-08-05T23:33:21.410Z"
   },
   {
    "duration": 118,
    "start_time": "2024-08-05T23:33:21.422Z"
   },
   {
    "duration": 35,
    "start_time": "2024-08-05T23:33:21.543Z"
   },
   {
    "duration": 39,
    "start_time": "2024-08-05T23:33:21.580Z"
   },
   {
    "duration": 21,
    "start_time": "2024-08-05T23:33:21.622Z"
   },
   {
    "duration": 47,
    "start_time": "2024-08-05T23:33:21.669Z"
   },
   {
    "duration": 53,
    "start_time": "2024-08-05T23:33:21.719Z"
   },
   {
    "duration": 16,
    "start_time": "2024-08-05T23:33:21.774Z"
   },
   {
    "duration": 105,
    "start_time": "2024-08-05T23:33:21.793Z"
   },
   {
    "duration": 17,
    "start_time": "2024-08-05T23:33:21.900Z"
   },
   {
    "duration": 49,
    "start_time": "2024-08-05T23:33:21.920Z"
   },
   {
    "duration": 18,
    "start_time": "2024-08-05T23:33:21.971Z"
   },
   {
    "duration": 14,
    "start_time": "2024-08-05T23:33:21.992Z"
   },
   {
    "duration": 27,
    "start_time": "2024-08-05T23:33:22.009Z"
   },
   {
    "duration": 51,
    "start_time": "2024-08-05T23:33:22.038Z"
   },
   {
    "duration": 20,
    "start_time": "2024-08-05T23:33:22.092Z"
   },
   {
    "duration": 54,
    "start_time": "2024-08-05T23:33:22.114Z"
   },
   {
    "duration": 28,
    "start_time": "2024-08-05T23:33:22.171Z"
   },
   {
    "duration": 72,
    "start_time": "2024-08-05T23:33:22.206Z"
   },
   {
    "duration": 176,
    "start_time": "2024-08-05T23:33:22.282Z"
   },
   {
    "duration": 4407,
    "start_time": "2024-08-05T23:33:22.461Z"
   },
   {
    "duration": 336,
    "start_time": "2024-08-05T23:33:26.872Z"
   },
   {
    "duration": 16,
    "start_time": "2024-08-05T23:33:27.211Z"
   },
   {
    "duration": 959,
    "start_time": "2024-08-05T23:33:27.229Z"
   },
   {
    "duration": 360,
    "start_time": "2024-08-05T23:33:28.192Z"
   },
   {
    "duration": 370,
    "start_time": "2024-08-05T23:33:28.555Z"
   },
   {
    "duration": 380,
    "start_time": "2024-08-05T23:33:28.928Z"
   },
   {
    "duration": 15,
    "start_time": "2024-08-05T23:33:29.311Z"
   },
   {
    "duration": 14,
    "start_time": "2024-08-05T23:33:29.328Z"
   }
  ],
  "colab": {
   "provenance": []
  },
  "kernelspec": {
   "display_name": "base",
   "language": "python",
   "name": "python3"
  },
  "language_info": {
   "codemirror_mode": {
    "name": "ipython",
    "version": 3
   },
   "file_extension": ".py",
   "mimetype": "text/x-python",
   "name": "python",
   "nbconvert_exporter": "python",
   "pygments_lexer": "ipython3",
   "version": "3.12.4"
  },
  "toc": {
   "base_numbering": 1,
   "nav_menu": {},
   "number_sections": true,
   "sideBar": true,
   "skip_h1_title": false,
   "title_cell": "Table of Contents",
   "title_sidebar": "Contents",
   "toc_cell": false,
   "toc_position": {
    "height": "calc(100% - 180px)",
    "left": "10px",
    "top": "150px",
    "width": "445.8px"
   },
   "toc_section_display": true,
   "toc_window_display": true
  }
 },
 "nbformat": 4,
 "nbformat_minor": 1
}
